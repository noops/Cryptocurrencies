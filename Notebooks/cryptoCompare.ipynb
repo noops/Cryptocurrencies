{
 "metadata": {
  "language_info": {
   "codemirror_mode": {
    "name": "ipython",
    "version": 3
   },
   "file_extension": ".py",
   "mimetype": "text/x-python",
   "name": "python",
   "nbconvert_exporter": "python",
   "pygments_lexer": "ipython3",
   "version": "3.7.7-final"
  },
  "orig_nbformat": 2,
  "kernelspec": {
   "name": "Python 3.7.7 64-bit ('PythonData': conda)",
   "display_name": "Python 3.7.7 64-bit ('PythonData': conda)",
   "metadata": {
    "interpreter": {
     "hash": "6629937ca33c91e24171fb9c2c6e8adc4c28b335a7e363e22452b0d874202ae3"
    }
   }
  }
 },
 "nbformat": 4,
 "nbformat_minor": 2,
 "cells": [
  {
   "source": [
    "## Objectives\n",
    " - prepare data for dimesion reduction using PCA and clustering via K-Means\n",
    " - predict clusters using K-Means\n",
    " - create plots and data tables to present results \n",
    " "
   ],
   "cell_type": "markdown",
   "metadata": {}
  },
  {
   "cell_type": "code",
   "execution_count": 236,
   "metadata": {},
   "outputs": [],
   "source": [
    "#imports\n",
    "import pandas as pd\n",
    "from sklearn.preprocessing import StandardScaler\n",
    "from sklearn.decomposition import PCA\n",
    "from sklearn.cluster import KMeans\n",
    "import hvplot.pandas\n",
    "import plotly.express as px \n",
    "from path import Path"
   ]
  },
  {
   "cell_type": "code",
   "execution_count": 237,
   "metadata": {},
   "outputs": [
    {
     "output_type": "execute_result",
     "data": {
      "text/plain": "  Unnamed: 0   CoinName Algorithm  IsTrading ProofType  TotalCoinsMined  \\\n0         42    42 Coin    Scrypt       True   PoW/PoS     4.199995e+01   \n1        365    365Coin       X11       True   PoW/PoS              NaN   \n2        404    404Coin    Scrypt       True   PoW/PoS     1.055185e+09   \n3        611  SixEleven   SHA-256       True       PoW              NaN   \n4        808        808   SHA-256       True   PoW/PoS     0.000000e+00   \n\n  TotalCoinSupply  \n0              42  \n1      2300000000  \n2       532000000  \n3          611000  \n4               0  ",
      "text/html": "<div>\n<style scoped>\n    .dataframe tbody tr th:only-of-type {\n        vertical-align: middle;\n    }\n\n    .dataframe tbody tr th {\n        vertical-align: top;\n    }\n\n    .dataframe thead th {\n        text-align: right;\n    }\n</style>\n<table border=\"1\" class=\"dataframe\">\n  <thead>\n    <tr style=\"text-align: right;\">\n      <th></th>\n      <th>Unnamed: 0</th>\n      <th>CoinName</th>\n      <th>Algorithm</th>\n      <th>IsTrading</th>\n      <th>ProofType</th>\n      <th>TotalCoinsMined</th>\n      <th>TotalCoinSupply</th>\n    </tr>\n  </thead>\n  <tbody>\n    <tr>\n      <th>0</th>\n      <td>42</td>\n      <td>42 Coin</td>\n      <td>Scrypt</td>\n      <td>True</td>\n      <td>PoW/PoS</td>\n      <td>4.199995e+01</td>\n      <td>42</td>\n    </tr>\n    <tr>\n      <th>1</th>\n      <td>365</td>\n      <td>365Coin</td>\n      <td>X11</td>\n      <td>True</td>\n      <td>PoW/PoS</td>\n      <td>NaN</td>\n      <td>2300000000</td>\n    </tr>\n    <tr>\n      <th>2</th>\n      <td>404</td>\n      <td>404Coin</td>\n      <td>Scrypt</td>\n      <td>True</td>\n      <td>PoW/PoS</td>\n      <td>1.055185e+09</td>\n      <td>532000000</td>\n    </tr>\n    <tr>\n      <th>3</th>\n      <td>611</td>\n      <td>SixEleven</td>\n      <td>SHA-256</td>\n      <td>True</td>\n      <td>PoW</td>\n      <td>NaN</td>\n      <td>611000</td>\n    </tr>\n    <tr>\n      <th>4</th>\n      <td>808</td>\n      <td>808</td>\n      <td>SHA-256</td>\n      <td>True</td>\n      <td>PoW/PoS</td>\n      <td>0.000000e+00</td>\n      <td>0</td>\n    </tr>\n  </tbody>\n</table>\n</div>"
     },
     "metadata": {},
     "execution_count": 237
    }
   ],
   "source": [
    "#load data\n",
    "file_path = Path(\"../Resources/crypto_data.csv\")\n",
    "crypto_df = pd.read_csv(file_path)\n",
    "crypto_df.head(5)"
   ]
  },
  {
   "source": [
    "- remove all currencies that aren't trading\n",
    "- remove all currencies that don't have a defined algo\n",
    "- remove the IsTrading column\n",
    "- remove all currencies with at least one null value \n",
    "- remove all currencies without coins mined\n",
    "- store the names of all currencies on a dataframe named coins_name, use cryptoDf.index as index \n",
    "- remove coinName column\n",
    "- create dummies variables for all text features, store resulting data on dataframe named X\n",
    "use standardScaler to standardize all data on X. do this before PCA and K-Means "
   ],
   "cell_type": "markdown",
   "metadata": {}
  },
  {
   "cell_type": "code",
   "execution_count": 238,
   "metadata": {},
   "outputs": [
    {
     "output_type": "execute_result",
     "data": {
      "text/plain": "  Unnamed: 0   CoinName Algorithm  IsTrading ProofType  TotalCoinsMined  \\\n0         42    42 Coin    Scrypt       True   PoW/PoS     4.199995e+01   \n1        365    365Coin       X11       True   PoW/PoS              NaN   \n2        404    404Coin    Scrypt       True   PoW/PoS     1.055185e+09   \n3        611  SixEleven   SHA-256       True       PoW              NaN   \n4        808        808   SHA-256       True   PoW/PoS     0.000000e+00   \n\n  TotalCoinSupply  \n0              42  \n1      2300000000  \n2       532000000  \n3          611000  \n4               0  ",
      "text/html": "<div>\n<style scoped>\n    .dataframe tbody tr th:only-of-type {\n        vertical-align: middle;\n    }\n\n    .dataframe tbody tr th {\n        vertical-align: top;\n    }\n\n    .dataframe thead th {\n        text-align: right;\n    }\n</style>\n<table border=\"1\" class=\"dataframe\">\n  <thead>\n    <tr style=\"text-align: right;\">\n      <th></th>\n      <th>Unnamed: 0</th>\n      <th>CoinName</th>\n      <th>Algorithm</th>\n      <th>IsTrading</th>\n      <th>ProofType</th>\n      <th>TotalCoinsMined</th>\n      <th>TotalCoinSupply</th>\n    </tr>\n  </thead>\n  <tbody>\n    <tr>\n      <th>0</th>\n      <td>42</td>\n      <td>42 Coin</td>\n      <td>Scrypt</td>\n      <td>True</td>\n      <td>PoW/PoS</td>\n      <td>4.199995e+01</td>\n      <td>42</td>\n    </tr>\n    <tr>\n      <th>1</th>\n      <td>365</td>\n      <td>365Coin</td>\n      <td>X11</td>\n      <td>True</td>\n      <td>PoW/PoS</td>\n      <td>NaN</td>\n      <td>2300000000</td>\n    </tr>\n    <tr>\n      <th>2</th>\n      <td>404</td>\n      <td>404Coin</td>\n      <td>Scrypt</td>\n      <td>True</td>\n      <td>PoW/PoS</td>\n      <td>1.055185e+09</td>\n      <td>532000000</td>\n    </tr>\n    <tr>\n      <th>3</th>\n      <td>611</td>\n      <td>SixEleven</td>\n      <td>SHA-256</td>\n      <td>True</td>\n      <td>PoW</td>\n      <td>NaN</td>\n      <td>611000</td>\n    </tr>\n    <tr>\n      <th>4</th>\n      <td>808</td>\n      <td>808</td>\n      <td>SHA-256</td>\n      <td>True</td>\n      <td>PoW/PoS</td>\n      <td>0.000000e+00</td>\n      <td>0</td>\n    </tr>\n  </tbody>\n</table>\n</div>"
     },
     "metadata": {},
     "execution_count": 238
    }
   ],
   "source": [
    "#remove all currencies that aren't trading\n",
    "crypto_df = crypto_df[crypto_df[\"IsTrading\"]==True]\n",
    "crypto_df.head()"
   ]
  },
  {
   "cell_type": "code",
   "execution_count": 239,
   "metadata": {
    "tags": []
   },
   "outputs": [
    {
     "output_type": "stream",
     "name": "stdout",
     "text": "ColumnUnnamed: 0 has 0 null values\nColumnCoinName has 0 null values\nColumnAlgorithm has 0 null values\nColumnProofType has 0 null values\nColumnTotalCoinsMined has 459 null values\nColumnTotalCoinSupply has 0 null values\n"
    }
   ],
   "source": [
    "#drop IsTrading column\n",
    "crypto_df = crypto_df.drop([\"IsTrading\"], axis=1)\n",
    "#check for remaining null values\n",
    "for column in crypto_df.columns:\n",
    "    print(f\"Column{column} has {crypto_df[column].isnull().sum()} null values\")"
   ]
  },
  {
   "cell_type": "code",
   "execution_count": 240,
   "metadata": {
    "tags": []
   },
   "outputs": [
    {
     "output_type": "stream",
     "name": "stdout",
     "text": "ColumnUnnamed: 0 has 0 null values\nColumnCoinName has 0 null values\nColumnAlgorithm has 0 null values\nColumnProofType has 0 null values\nColumnTotalCoinsMined has 0 null values\nColumnTotalCoinSupply has 0 null values\n"
    }
   ],
   "source": [
    "#drop currencies with null values\n",
    "crypto_df = crypto_df.dropna()\n",
    "for column in crypto_df.columns:\n",
    "    print(f\"Column{column} has {crypto_df[column].isnull().sum()} null values\")"
   ]
  },
  {
   "cell_type": "code",
   "execution_count": 241,
   "metadata": {},
   "outputs": [
    {
     "output_type": "execute_result",
     "data": {
      "text/plain": "  Unnamed: 0   CoinName Algorithm ProofType  TotalCoinsMined TotalCoinSupply\n0         42    42 Coin    Scrypt   PoW/PoS     4.199995e+01              42\n2        404    404Coin    Scrypt   PoW/PoS     1.055185e+09       532000000\n4        808        808   SHA-256   PoW/PoS     0.000000e+00               0\n5       1337  EliteCoin       X13   PoW/PoS     2.927942e+10    314159265359\n7        BTC    Bitcoin   SHA-256       PoW     1.792718e+07        21000000",
      "text/html": "<div>\n<style scoped>\n    .dataframe tbody tr th:only-of-type {\n        vertical-align: middle;\n    }\n\n    .dataframe tbody tr th {\n        vertical-align: top;\n    }\n\n    .dataframe thead th {\n        text-align: right;\n    }\n</style>\n<table border=\"1\" class=\"dataframe\">\n  <thead>\n    <tr style=\"text-align: right;\">\n      <th></th>\n      <th>Unnamed: 0</th>\n      <th>CoinName</th>\n      <th>Algorithm</th>\n      <th>ProofType</th>\n      <th>TotalCoinsMined</th>\n      <th>TotalCoinSupply</th>\n    </tr>\n  </thead>\n  <tbody>\n    <tr>\n      <th>0</th>\n      <td>42</td>\n      <td>42 Coin</td>\n      <td>Scrypt</td>\n      <td>PoW/PoS</td>\n      <td>4.199995e+01</td>\n      <td>42</td>\n    </tr>\n    <tr>\n      <th>2</th>\n      <td>404</td>\n      <td>404Coin</td>\n      <td>Scrypt</td>\n      <td>PoW/PoS</td>\n      <td>1.055185e+09</td>\n      <td>532000000</td>\n    </tr>\n    <tr>\n      <th>4</th>\n      <td>808</td>\n      <td>808</td>\n      <td>SHA-256</td>\n      <td>PoW/PoS</td>\n      <td>0.000000e+00</td>\n      <td>0</td>\n    </tr>\n    <tr>\n      <th>5</th>\n      <td>1337</td>\n      <td>EliteCoin</td>\n      <td>X13</td>\n      <td>PoW/PoS</td>\n      <td>2.927942e+10</td>\n      <td>314159265359</td>\n    </tr>\n    <tr>\n      <th>7</th>\n      <td>BTC</td>\n      <td>Bitcoin</td>\n      <td>SHA-256</td>\n      <td>PoW</td>\n      <td>1.792718e+07</td>\n      <td>21000000</td>\n    </tr>\n  </tbody>\n</table>\n</div>"
     },
     "metadata": {},
     "execution_count": 241
    }
   ],
   "source": [
    "crypto_df.head()"
   ]
  },
  {
   "cell_type": "code",
   "execution_count": 242,
   "metadata": {},
   "outputs": [
    {
     "output_type": "execute_result",
     "data": {
      "text/plain": "       CoinName Algorithm ProofType  TotalCoinsMined TotalCoinSupply\n42      42 Coin    Scrypt   PoW/PoS     4.199995e+01              42\n404     404Coin    Scrypt   PoW/PoS     1.055185e+09       532000000\n808         808   SHA-256   PoW/PoS     0.000000e+00               0\n1337  EliteCoin       X13   PoW/PoS     2.927942e+10    314159265359\nBTC     Bitcoin   SHA-256       PoW     1.792718e+07        21000000",
      "text/html": "<div>\n<style scoped>\n    .dataframe tbody tr th:only-of-type {\n        vertical-align: middle;\n    }\n\n    .dataframe tbody tr th {\n        vertical-align: top;\n    }\n\n    .dataframe thead th {\n        text-align: right;\n    }\n</style>\n<table border=\"1\" class=\"dataframe\">\n  <thead>\n    <tr style=\"text-align: right;\">\n      <th></th>\n      <th>CoinName</th>\n      <th>Algorithm</th>\n      <th>ProofType</th>\n      <th>TotalCoinsMined</th>\n      <th>TotalCoinSupply</th>\n    </tr>\n  </thead>\n  <tbody>\n    <tr>\n      <th>42</th>\n      <td>42 Coin</td>\n      <td>Scrypt</td>\n      <td>PoW/PoS</td>\n      <td>4.199995e+01</td>\n      <td>42</td>\n    </tr>\n    <tr>\n      <th>404</th>\n      <td>404Coin</td>\n      <td>Scrypt</td>\n      <td>PoW/PoS</td>\n      <td>1.055185e+09</td>\n      <td>532000000</td>\n    </tr>\n    <tr>\n      <th>808</th>\n      <td>808</td>\n      <td>SHA-256</td>\n      <td>PoW/PoS</td>\n      <td>0.000000e+00</td>\n      <td>0</td>\n    </tr>\n    <tr>\n      <th>1337</th>\n      <td>EliteCoin</td>\n      <td>X13</td>\n      <td>PoW/PoS</td>\n      <td>2.927942e+10</td>\n      <td>314159265359</td>\n    </tr>\n    <tr>\n      <th>BTC</th>\n      <td>Bitcoin</td>\n      <td>SHA-256</td>\n      <td>PoW</td>\n      <td>1.792718e+07</td>\n      <td>21000000</td>\n    </tr>\n  </tbody>\n</table>\n</div>"
     },
     "metadata": {},
     "execution_count": 242
    }
   ],
   "source": [
    "#reset index\n",
    "crypto_df = crypto_df.set_index(\"Unnamed: 0\")\n",
    "crypto_df.index.name = None\n",
    "crypto_df.head()"
   ]
  },
  {
   "cell_type": "code",
   "execution_count": 243,
   "metadata": {},
   "outputs": [
    {
     "output_type": "execute_result",
     "data": {
      "text/plain": "       CoinName\n42      42 Coin\n404     404Coin\n808         808\n1337  EliteCoin\nBTC     Bitcoin",
      "text/html": "<div>\n<style scoped>\n    .dataframe tbody tr th:only-of-type {\n        vertical-align: middle;\n    }\n\n    .dataframe tbody tr th {\n        vertical-align: top;\n    }\n\n    .dataframe thead th {\n        text-align: right;\n    }\n</style>\n<table border=\"1\" class=\"dataframe\">\n  <thead>\n    <tr style=\"text-align: right;\">\n      <th></th>\n      <th>CoinName</th>\n    </tr>\n  </thead>\n  <tbody>\n    <tr>\n      <th>42</th>\n      <td>42 Coin</td>\n    </tr>\n    <tr>\n      <th>404</th>\n      <td>404Coin</td>\n    </tr>\n    <tr>\n      <th>808</th>\n      <td>808</td>\n    </tr>\n    <tr>\n      <th>1337</th>\n      <td>EliteCoin</td>\n    </tr>\n    <tr>\n      <th>BTC</th>\n      <td>Bitcoin</td>\n    </tr>\n  </tbody>\n</table>\n</div>"
     },
     "metadata": {},
     "execution_count": 243
    }
   ],
   "source": [
    "#create coinName DF\n",
    "coins_name = pd.DataFrame(crypto_df[\"CoinName\"])\n",
    "coins_name.head()"
   ]
  },
  {
   "cell_type": "code",
   "execution_count": 244,
   "metadata": {},
   "outputs": [
    {
     "output_type": "execute_result",
     "data": {
      "text/plain": "     Algorithm ProofType  TotalCoinsMined TotalCoinSupply\n42      Scrypt   PoW/PoS     4.199995e+01              42\n404     Scrypt   PoW/PoS     1.055185e+09       532000000\n808    SHA-256   PoW/PoS     0.000000e+00               0\n1337       X13   PoW/PoS     2.927942e+10    314159265359\nBTC    SHA-256       PoW     1.792718e+07        21000000",
      "text/html": "<div>\n<style scoped>\n    .dataframe tbody tr th:only-of-type {\n        vertical-align: middle;\n    }\n\n    .dataframe tbody tr th {\n        vertical-align: top;\n    }\n\n    .dataframe thead th {\n        text-align: right;\n    }\n</style>\n<table border=\"1\" class=\"dataframe\">\n  <thead>\n    <tr style=\"text-align: right;\">\n      <th></th>\n      <th>Algorithm</th>\n      <th>ProofType</th>\n      <th>TotalCoinsMined</th>\n      <th>TotalCoinSupply</th>\n    </tr>\n  </thead>\n  <tbody>\n    <tr>\n      <th>42</th>\n      <td>Scrypt</td>\n      <td>PoW/PoS</td>\n      <td>4.199995e+01</td>\n      <td>42</td>\n    </tr>\n    <tr>\n      <th>404</th>\n      <td>Scrypt</td>\n      <td>PoW/PoS</td>\n      <td>1.055185e+09</td>\n      <td>532000000</td>\n    </tr>\n    <tr>\n      <th>808</th>\n      <td>SHA-256</td>\n      <td>PoW/PoS</td>\n      <td>0.000000e+00</td>\n      <td>0</td>\n    </tr>\n    <tr>\n      <th>1337</th>\n      <td>X13</td>\n      <td>PoW/PoS</td>\n      <td>2.927942e+10</td>\n      <td>314159265359</td>\n    </tr>\n    <tr>\n      <th>BTC</th>\n      <td>SHA-256</td>\n      <td>PoW</td>\n      <td>1.792718e+07</td>\n      <td>21000000</td>\n    </tr>\n  </tbody>\n</table>\n</div>"
     },
     "metadata": {},
     "execution_count": 244
    }
   ],
   "source": [
    "#drop coinName column from cryptoDf\n",
    "crypto_df = crypto_df.drop(columns=[\"CoinName\"], axis=1)\n",
    "crypto_df.head()"
   ]
  },
  {
   "cell_type": "code",
   "execution_count": 245,
   "metadata": {},
   "outputs": [
    {
     "output_type": "execute_result",
     "data": {
      "text/plain": "      TotalCoinsMined TotalCoinSupply  Algorithm_1GB AES Pattern Search  \\\n42       4.199995e+01              42                                 0   \n404      1.055185e+09       532000000                                 0   \n808      0.000000e+00               0                                 0   \n1337     2.927942e+10    314159265359                                 0   \nBTC      1.792718e+07        21000000                                 0   \n\n      Algorithm_536  Algorithm_Argon2  Algorithm_Argon2d  Algorithm_BLAKE256  \\\n42                0                 0                  0                   0   \n404               0                 0                  0                   0   \n808               0                 0                  0                   0   \n1337              0                 0                  0                   0   \nBTC               0                 0                  0                   0   \n\n      Algorithm_Blake  Algorithm_Blake2S  Algorithm_Blake2b  ...  \\\n42                  0                  0                  0  ...   \n404                 0                  0                  0  ...   \n808                 0                  0                  0  ...   \n1337                0                  0                  0  ...   \nBTC                 0                  0                  0  ...   \n\n      ProofType_PoW/PoS  ProofType_PoW/PoS   ProofType_PoW/PoW  \\\n42                    1                   0                  0   \n404                   1                   0                  0   \n808                   1                   0                  0   \n1337                  1                   0                  0   \nBTC                   0                   0                  0   \n\n      ProofType_PoW/nPoS  ProofType_Pos  ProofType_Proof of Authority  \\\n42                     0              0                             0   \n404                    0              0                             0   \n808                    0              0                             0   \n1337                   0              0                             0   \nBTC                    0              0                             0   \n\n      ProofType_Proof of Trust  ProofType_TPoS  \\\n42                           0               0   \n404                          0               0   \n808                          0               0   \n1337                         0               0   \nBTC                          0               0   \n\n      ProofType_Zero-Knowledge Proof  ProofType_dPoW/PoW  \n42                                 0                   0  \n404                                0                   0  \n808                                0                   0  \n1337                               0                   0  \nBTC                                0                   0  \n\n[5 rows x 109 columns]",
      "text/html": "<div>\n<style scoped>\n    .dataframe tbody tr th:only-of-type {\n        vertical-align: middle;\n    }\n\n    .dataframe tbody tr th {\n        vertical-align: top;\n    }\n\n    .dataframe thead th {\n        text-align: right;\n    }\n</style>\n<table border=\"1\" class=\"dataframe\">\n  <thead>\n    <tr style=\"text-align: right;\">\n      <th></th>\n      <th>TotalCoinsMined</th>\n      <th>TotalCoinSupply</th>\n      <th>Algorithm_1GB AES Pattern Search</th>\n      <th>Algorithm_536</th>\n      <th>Algorithm_Argon2</th>\n      <th>Algorithm_Argon2d</th>\n      <th>Algorithm_BLAKE256</th>\n      <th>Algorithm_Blake</th>\n      <th>Algorithm_Blake2S</th>\n      <th>Algorithm_Blake2b</th>\n      <th>...</th>\n      <th>ProofType_PoW/PoS</th>\n      <th>ProofType_PoW/PoS</th>\n      <th>ProofType_PoW/PoW</th>\n      <th>ProofType_PoW/nPoS</th>\n      <th>ProofType_Pos</th>\n      <th>ProofType_Proof of Authority</th>\n      <th>ProofType_Proof of Trust</th>\n      <th>ProofType_TPoS</th>\n      <th>ProofType_Zero-Knowledge Proof</th>\n      <th>ProofType_dPoW/PoW</th>\n    </tr>\n  </thead>\n  <tbody>\n    <tr>\n      <th>42</th>\n      <td>4.199995e+01</td>\n      <td>42</td>\n      <td>0</td>\n      <td>0</td>\n      <td>0</td>\n      <td>0</td>\n      <td>0</td>\n      <td>0</td>\n      <td>0</td>\n      <td>0</td>\n      <td>...</td>\n      <td>1</td>\n      <td>0</td>\n      <td>0</td>\n      <td>0</td>\n      <td>0</td>\n      <td>0</td>\n      <td>0</td>\n      <td>0</td>\n      <td>0</td>\n      <td>0</td>\n    </tr>\n    <tr>\n      <th>404</th>\n      <td>1.055185e+09</td>\n      <td>532000000</td>\n      <td>0</td>\n      <td>0</td>\n      <td>0</td>\n      <td>0</td>\n      <td>0</td>\n      <td>0</td>\n      <td>0</td>\n      <td>0</td>\n      <td>...</td>\n      <td>1</td>\n      <td>0</td>\n      <td>0</td>\n      <td>0</td>\n      <td>0</td>\n      <td>0</td>\n      <td>0</td>\n      <td>0</td>\n      <td>0</td>\n      <td>0</td>\n    </tr>\n    <tr>\n      <th>808</th>\n      <td>0.000000e+00</td>\n      <td>0</td>\n      <td>0</td>\n      <td>0</td>\n      <td>0</td>\n      <td>0</td>\n      <td>0</td>\n      <td>0</td>\n      <td>0</td>\n      <td>0</td>\n      <td>...</td>\n      <td>1</td>\n      <td>0</td>\n      <td>0</td>\n      <td>0</td>\n      <td>0</td>\n      <td>0</td>\n      <td>0</td>\n      <td>0</td>\n      <td>0</td>\n      <td>0</td>\n    </tr>\n    <tr>\n      <th>1337</th>\n      <td>2.927942e+10</td>\n      <td>314159265359</td>\n      <td>0</td>\n      <td>0</td>\n      <td>0</td>\n      <td>0</td>\n      <td>0</td>\n      <td>0</td>\n      <td>0</td>\n      <td>0</td>\n      <td>...</td>\n      <td>1</td>\n      <td>0</td>\n      <td>0</td>\n      <td>0</td>\n      <td>0</td>\n      <td>0</td>\n      <td>0</td>\n      <td>0</td>\n      <td>0</td>\n      <td>0</td>\n    </tr>\n    <tr>\n      <th>BTC</th>\n      <td>1.792718e+07</td>\n      <td>21000000</td>\n      <td>0</td>\n      <td>0</td>\n      <td>0</td>\n      <td>0</td>\n      <td>0</td>\n      <td>0</td>\n      <td>0</td>\n      <td>0</td>\n      <td>...</td>\n      <td>0</td>\n      <td>0</td>\n      <td>0</td>\n      <td>0</td>\n      <td>0</td>\n      <td>0</td>\n      <td>0</td>\n      <td>0</td>\n      <td>0</td>\n      <td>0</td>\n    </tr>\n  </tbody>\n</table>\n<p>5 rows × 109 columns</p>\n</div>"
     },
     "metadata": {},
     "execution_count": 245
    }
   ],
   "source": [
    "#create dummie variables for algorithm and proof type\n",
    "X = pd.get_dummies(crypto_df, columns=[\"Algorithm\", \"ProofType\"])\n",
    "X.head()"
   ]
  },
  {
   "cell_type": "code",
   "execution_count": 246,
   "metadata": {
    "tags": []
   },
   "outputs": [
    {
     "output_type": "stream",
     "name": "stdout",
     "text": "[[-0.10282804 -0.03823841 -0.03823596 -0.03823596 -0.03823596 -0.03823596\n  -0.05411338 -0.07664017 -0.03823596 -0.05411338 -0.05411338 -0.03823596\n  -0.03823596 -0.18216065 -0.05411338 -0.03823596 -0.03823596 -0.08574929\n  -0.03823596 -0.10160947 -0.06632365 -0.03823596 -0.03823596 -0.1642757\n  -0.03823596 -0.03823596 -0.13908716 -0.03823596 -0.03823596 -0.07664017\n  -0.03823596 -0.03823596 -0.03823596 -0.03823596 -0.06632365 -0.03823596\n  -0.07664017 -0.08574929 -0.07664017 -0.03823596 -0.03823596 -0.12775161\n  -0.1335313  -0.13908716 -0.03823596 -0.05411338 -0.03823596 -0.06632365\n  -0.1689039  -0.03823596 -0.03823596 -0.03823596 -0.07664017 -0.17342199\n  -0.33468341 -0.03823596 -0.08574929 -0.06632365 -0.05411338 -0.03823596\n   1.42042992 -0.06632365 -0.03823596 -0.03823596 -0.06632365 -0.06632365\n  -0.03823596 -0.03823596 -0.03823596 -0.03823596 -0.03823596 -0.03823596\n  -0.03823596 -0.41586681 -0.03823596 -0.19054822 -0.03823596 -0.10870529\n  -0.07664017 -0.09400279 -0.03823596 -0.03823596 -0.03823596 -0.03823596\n  -0.12171612 -0.03823596 -0.03823596 -0.03823596 -0.03823596 -0.03823596\n  -0.06632365 -0.42308595 -0.03823596 -0.05411338 -0.03823596 -0.03823596\n  -0.90921211 -0.03823596 -0.03823596  1.38379681 -0.03823596 -0.03823596\n  -0.03823596 -0.03823596 -0.03823596 -0.03823596 -0.03823596 -0.03823596\n  -0.03823596]]\n"
    }
   ],
   "source": [
    "#standardized data with StandardScaler\n",
    "X_scaled = StandardScaler().fit_transform(X)\n",
    "print(X_scaled[0:1])"
   ]
  },
  {
   "source": [
    "use PCA to reduce dimensions"
   ],
   "cell_type": "markdown",
   "metadata": {}
  },
  {
   "cell_type": "code",
   "execution_count": 247,
   "metadata": {},
   "outputs": [],
   "source": [
    "#initialized PCA model and get principal components\n",
    "pca = PCA(n_components=3)\n",
    "crypto_pca = pca.fit_transform(X_scaled)"
   ]
  },
  {
   "cell_type": "code",
   "execution_count": 248,
   "metadata": {},
   "outputs": [
    {
     "output_type": "execute_result",
     "data": {
      "text/plain": "          PC 1      PC 2      PC 3\n42   -0.208992  1.184306 -0.460000\n404  -0.194450  1.182384 -0.460585\n808  -0.176358  0.818071 -0.345441\n1337  0.301864  1.879153 -0.554624\nBTC  -0.237339 -1.435900  0.099833",
      "text/html": "<div>\n<style scoped>\n    .dataframe tbody tr th:only-of-type {\n        vertical-align: middle;\n    }\n\n    .dataframe tbody tr th {\n        vertical-align: top;\n    }\n\n    .dataframe thead th {\n        text-align: right;\n    }\n</style>\n<table border=\"1\" class=\"dataframe\">\n  <thead>\n    <tr style=\"text-align: right;\">\n      <th></th>\n      <th>PC 1</th>\n      <th>PC 2</th>\n      <th>PC 3</th>\n    </tr>\n  </thead>\n  <tbody>\n    <tr>\n      <th>42</th>\n      <td>-0.208992</td>\n      <td>1.184306</td>\n      <td>-0.460000</td>\n    </tr>\n    <tr>\n      <th>404</th>\n      <td>-0.194450</td>\n      <td>1.182384</td>\n      <td>-0.460585</td>\n    </tr>\n    <tr>\n      <th>808</th>\n      <td>-0.176358</td>\n      <td>0.818071</td>\n      <td>-0.345441</td>\n    </tr>\n    <tr>\n      <th>1337</th>\n      <td>0.301864</td>\n      <td>1.879153</td>\n      <td>-0.554624</td>\n    </tr>\n    <tr>\n      <th>BTC</th>\n      <td>-0.237339</td>\n      <td>-1.435900</td>\n      <td>0.099833</td>\n    </tr>\n  </tbody>\n</table>\n</div>"
     },
     "metadata": {},
     "execution_count": 248
    }
   ],
   "source": [
    "#transform PCA data to dataframe\n",
    "crypto_pca_df = pd.DataFrame(data=crypto_pca, columns=[\"PC 1\", \"PC 2\", \"PC 3\"], index=crypto_df.index)\n",
    "crypto_pca_df.head()"
   ]
  },
  {
   "source": [
    "- create an elbow curve to find best value for K using crypto_pca_df\n",
    "- run K-Means algo to predict clusters for crypto data, using crypto_pca_df\n",
    "- create a new dataframe named clustered_df that includes following columns: Algorithm, ProofType, TotalCoinsMined, TotalCoinSupply, PC 1, PC 2, PC 3, CoinName, Class"
   ],
   "cell_type": "markdown",
   "metadata": {}
  },
  {
   "cell_type": "code",
   "execution_count": 249,
   "metadata": {},
   "outputs": [
    {
     "output_type": "display_data",
     "data": {},
     "metadata": {}
    },
    {
     "output_type": "execute_result",
     "data": {
      "text/html": "<div id='6754'>\n\n\n\n\n\n  <div class=\"bk-root\" id=\"9456de66-fb75-4271-b344-32d76cebe80d\" data-root-id=\"6754\"></div>\n</div>\n<script type=\"application/javascript\">(function(root) {\n  function embed_document(root) {\n  var docs_json = {\"f42354b2-64dc-4cbe-a6df-6c448b613dd2\":{\"roots\":{\"references\":[{\"attributes\":{\"align\":null,\"below\":[{\"id\":\"6768\"}],\"center\":[{\"id\":\"6771\"},{\"id\":\"6775\"}],\"left\":[{\"id\":\"6772\"}],\"margin\":null,\"min_border_bottom\":10,\"min_border_left\":10,\"min_border_right\":10,\"min_border_top\":10,\"plot_height\":300,\"plot_width\":700,\"renderers\":[{\"id\":\"6795\"}],\"sizing_mode\":\"fixed\",\"title\":{\"id\":\"6760\"},\"toolbar\":{\"id\":\"6782\"},\"x_range\":{\"id\":\"6756\"},\"x_scale\":{\"id\":\"6764\"},\"y_range\":{\"id\":\"6757\"},\"y_scale\":{\"id\":\"6766\"}},\"id\":\"6759\",\"subtype\":\"Figure\",\"type\":\"Plot\"},{\"attributes\":{\"margin\":[5,5,5,5],\"name\":\"HSpacer15949\",\"sizing_mode\":\"stretch_width\"},\"id\":\"6818\",\"type\":\"Spacer\"},{\"attributes\":{\"data_source\":{\"id\":\"6789\"},\"glyph\":{\"id\":\"6792\"},\"hover_glyph\":null,\"muted_glyph\":{\"id\":\"6794\"},\"nonselection_glyph\":{\"id\":\"6793\"},\"selection_glyph\":null,\"view\":{\"id\":\"6796\"}},\"id\":\"6795\",\"type\":\"GlyphRenderer\"},{\"attributes\":{\"axis\":{\"id\":\"6772\"},\"dimension\":1,\"grid_line_color\":null,\"ticker\":null},\"id\":\"6775\",\"type\":\"Grid\"},{\"attributes\":{\"children\":[{\"id\":\"6755\"},{\"id\":\"6759\"},{\"id\":\"6818\"}],\"margin\":[0,0,0,0],\"name\":\"Row15944\",\"tags\":[\"embedded\"]},\"id\":\"6754\",\"type\":\"Row\"},{\"attributes\":{},\"id\":\"6773\",\"type\":\"BasicTicker\"},{\"attributes\":{\"margin\":[5,5,5,5],\"name\":\"HSpacer15948\",\"sizing_mode\":\"stretch_width\"},\"id\":\"6755\",\"type\":\"Spacer\"},{\"attributes\":{\"end\":10.0,\"reset_end\":10.0,\"reset_start\":1.0,\"start\":1.0,\"tags\":[[[\"k\",\"k\",null]]]},\"id\":\"6756\",\"type\":\"Range1d\"},{\"attributes\":{\"axis_label\":\"inertia\",\"bounds\":\"auto\",\"formatter\":{\"id\":\"6802\"},\"major_label_orientation\":\"horizontal\",\"ticker\":{\"id\":\"6773\"}},\"id\":\"6772\",\"type\":\"LinearAxis\"},{\"attributes\":{\"data\":{\"inertia\":{\"__ndarray__\":\"+T1iBazysEBvMt/9LhCoQAjoLEXWDJ1AKVW/HCp6iUCBcJSmgJZ4QNwJidxiFnNADBTKOPGkbEBuEZgvWttmQBq22mfFumJAoHVwei8BYEA=\",\"dtype\":\"float64\",\"order\":\"little\",\"shape\":[10]},\"k\":[1,2,3,4,5,6,7,8,9,10]},\"selected\":{\"id\":\"6790\"},\"selection_policy\":{\"id\":\"6809\"}},\"id\":\"6789\",\"type\":\"ColumnDataSource\"},{\"attributes\":{\"text\":\"Elbow Curve\",\"text_color\":{\"value\":\"black\"},\"text_font_size\":{\"value\":\"12pt\"}},\"id\":\"6760\",\"type\":\"Title\"},{\"attributes\":{\"bottom_units\":\"screen\",\"fill_alpha\":0.5,\"fill_color\":\"lightgrey\",\"left_units\":\"screen\",\"level\":\"overlay\",\"line_alpha\":1.0,\"line_color\":\"black\",\"line_dash\":[4,4],\"line_width\":2,\"right_units\":\"screen\",\"top_units\":\"screen\"},\"id\":\"6781\",\"type\":\"BoxAnnotation\"},{\"attributes\":{\"end\":4759.7354482957635,\"reset_end\":4759.7354482957635,\"reset_start\":-293.0264454578408,\"start\":-293.0264454578408,\"tags\":[[[\"inertia\",\"inertia\",null]]]},\"id\":\"6757\",\"type\":\"Range1d\"},{\"attributes\":{\"line_alpha\":0.1,\"line_color\":\"#1f77b3\",\"line_width\":2,\"x\":{\"field\":\"k\"},\"y\":{\"field\":\"inertia\"}},\"id\":\"6793\",\"type\":\"Line\"},{\"attributes\":{\"source\":{\"id\":\"6789\"}},\"id\":\"6796\",\"type\":\"CDSView\"},{\"attributes\":{\"active_drag\":\"auto\",\"active_inspect\":\"auto\",\"active_multi\":null,\"active_scroll\":\"auto\",\"active_tap\":\"auto\",\"tools\":[{\"id\":\"6758\"},{\"id\":\"6776\"},{\"id\":\"6777\"},{\"id\":\"6778\"},{\"id\":\"6779\"},{\"id\":\"6780\"}]},\"id\":\"6782\",\"type\":\"Toolbar\"},{\"attributes\":{\"ticks\":[1,2,3,4,5,6,7,8,9,10]},\"id\":\"6797\",\"type\":\"FixedTicker\"},{\"attributes\":{},\"id\":\"6776\",\"type\":\"SaveTool\"},{\"attributes\":{\"line_color\":\"#1f77b3\",\"line_width\":2,\"x\":{\"field\":\"k\"},\"y\":{\"field\":\"inertia\"}},\"id\":\"6792\",\"type\":\"Line\"},{\"attributes\":{},\"id\":\"6777\",\"type\":\"PanTool\"},{\"attributes\":{\"line_alpha\":0.2,\"line_color\":\"#1f77b3\",\"line_width\":2,\"x\":{\"field\":\"k\"},\"y\":{\"field\":\"inertia\"}},\"id\":\"6794\",\"type\":\"Line\"},{\"attributes\":{},\"id\":\"6790\",\"type\":\"Selection\"},{\"attributes\":{},\"id\":\"6778\",\"type\":\"WheelZoomTool\"},{\"attributes\":{\"overlay\":{\"id\":\"6781\"}},\"id\":\"6779\",\"type\":\"BoxZoomTool\"},{\"attributes\":{},\"id\":\"6764\",\"type\":\"LinearScale\"},{\"attributes\":{\"axis\":{\"id\":\"6768\"},\"grid_line_color\":null,\"ticker\":null},\"id\":\"6771\",\"type\":\"Grid\"},{\"attributes\":{},\"id\":\"6798\",\"type\":\"BasicTickFormatter\"},{\"attributes\":{},\"id\":\"6780\",\"type\":\"ResetTool\"},{\"attributes\":{},\"id\":\"6809\",\"type\":\"UnionRenderers\"},{\"attributes\":{\"callback\":null,\"renderers\":[{\"id\":\"6795\"}],\"tags\":[\"hv_created\"],\"tooltips\":[[\"k\",\"@{k}\"],[\"inertia\",\"@{inertia}\"]]},\"id\":\"6758\",\"type\":\"HoverTool\"},{\"attributes\":{},\"id\":\"6766\",\"type\":\"LinearScale\"},{\"attributes\":{\"axis_label\":\"k\",\"bounds\":\"auto\",\"formatter\":{\"id\":\"6798\"},\"major_label_orientation\":\"horizontal\",\"ticker\":{\"id\":\"6797\"}},\"id\":\"6768\",\"type\":\"LinearAxis\"},{\"attributes\":{},\"id\":\"6802\",\"type\":\"BasicTickFormatter\"}],\"root_ids\":[\"6754\"]},\"title\":\"Bokeh Application\",\"version\":\"2.1.0\"}};\n  var render_items = [{\"docid\":\"f42354b2-64dc-4cbe-a6df-6c448b613dd2\",\"root_ids\":[\"6754\"],\"roots\":{\"6754\":\"9456de66-fb75-4271-b344-32d76cebe80d\"}}];\n  root.Bokeh.embed.embed_items_notebook(docs_json, render_items);\n  }\nif (root.Bokeh !== undefined) {\n    embed_document(root);\n  } else {\n    var attempts = 0;\n    var timer = setInterval(function(root) {\n      if (root.Bokeh !== undefined) {\n        clearInterval(timer);\n        embed_document(root);\n      } else if (document.readyState == \"complete\") {\n        attempts++;\n        if (attempts > 100) {\n          clearInterval(timer);\n          console.log(\"Bokeh: ERROR: Unable to run BokehJS code because BokehJS library is missing\");\n        }\n      }\n    }, 10, root)\n  }\n})(window);</script>",
      "application/vnd.holoviews_exec.v0+json": "",
      "text/plain": ":Curve   [k]   (inertia)"
     },
     "metadata": {
      "application/vnd.holoviews_exec.v0+json": {
       "id": "6754"
      }
     },
     "execution_count": 249
    }
   ],
   "source": [
    "#create elbow curve\n",
    "inertia = []\n",
    "k = list(range(1,11))\n",
    "#loop through k values and find inertia\n",
    "for i in k:\n",
    "    km = KMeans(n_clusters=i, random_state=0)\n",
    "    km.fit(crypto_pca_df)\n",
    "    inertia.append(km.inertia_)\n",
    "#use dataframe to plot elbow curve\n",
    "elbow_data = {\"k\":k, \"inertia\": inertia}\n",
    "elbow_df = pd.DataFrame(elbow_data)\n",
    "elbow_df.hvplot.line(x=\"k\", y=\"inertia\", title=\"Elbow Curve\", xticks=k)"
   ]
  },
  {
   "source": [
    "based on the elbow curve 4 clusters appears to be the best choice"
   ],
   "cell_type": "markdown",
   "metadata": {}
  },
  {
   "cell_type": "code",
   "execution_count": 250,
   "metadata": {},
   "outputs": [],
   "source": [
    "#function to cluster and plot dataset\n",
    "def testClusterAmount(df, clusters):\n",
    "    df = df.copy()\n",
    "    #initialize model\n",
    "    model = KMeans(n_clusters=clusters, random_state=5)\n",
    "    #fit the model\n",
    "    model.fit(df)\n",
    "    #make predictions\n",
    "    predictions = model.predict(df)\n",
    "    df[\"class\"] = model.labels_\n",
    "    return df"
   ]
  },
  {
   "cell_type": "code",
   "execution_count": 251,
   "metadata": {},
   "outputs": [
    {
     "output_type": "execute_result",
     "data": {
      "text/plain": "          PC 1      PC 2      PC 3  class\n42   -0.208992  1.184306 -0.460000      0\n404  -0.194450  1.182384 -0.460585      0\n808  -0.176358  0.818071 -0.345441      0\n1337  0.301864  1.879153 -0.554624      0\nBTC  -0.237339 -1.435900  0.099833      3",
      "text/html": "<div>\n<style scoped>\n    .dataframe tbody tr th:only-of-type {\n        vertical-align: middle;\n    }\n\n    .dataframe tbody tr th {\n        vertical-align: top;\n    }\n\n    .dataframe thead th {\n        text-align: right;\n    }\n</style>\n<table border=\"1\" class=\"dataframe\">\n  <thead>\n    <tr style=\"text-align: right;\">\n      <th></th>\n      <th>PC 1</th>\n      <th>PC 2</th>\n      <th>PC 3</th>\n      <th>class</th>\n    </tr>\n  </thead>\n  <tbody>\n    <tr>\n      <th>42</th>\n      <td>-0.208992</td>\n      <td>1.184306</td>\n      <td>-0.460000</td>\n      <td>0</td>\n    </tr>\n    <tr>\n      <th>404</th>\n      <td>-0.194450</td>\n      <td>1.182384</td>\n      <td>-0.460585</td>\n      <td>0</td>\n    </tr>\n    <tr>\n      <th>808</th>\n      <td>-0.176358</td>\n      <td>0.818071</td>\n      <td>-0.345441</td>\n      <td>0</td>\n    </tr>\n    <tr>\n      <th>1337</th>\n      <td>0.301864</td>\n      <td>1.879153</td>\n      <td>-0.554624</td>\n      <td>0</td>\n    </tr>\n    <tr>\n      <th>BTC</th>\n      <td>-0.237339</td>\n      <td>-1.435900</td>\n      <td>0.099833</td>\n      <td>3</td>\n    </tr>\n  </tbody>\n</table>\n</div>"
     },
     "metadata": {},
     "execution_count": 251
    }
   ],
   "source": [
    "#use testClusterAmount for 4 clusters\n",
    "clustered_df = testClusterAmount(crypto_pca_df, 4)\n",
    "clustered_df.head()"
   ]
  },
  {
   "cell_type": "code",
   "execution_count": 252,
   "metadata": {},
   "outputs": [
    {
     "output_type": "execute_result",
     "data": {
      "text/plain": "     Algorithm ProofType  TotalCoinsMined TotalCoinSupply      PC 1      PC 2  \\\n42      Scrypt   PoW/PoS     4.199995e+01              42 -0.208992  1.184306   \n404     Scrypt   PoW/PoS     1.055185e+09       532000000 -0.194450  1.182384   \n808    SHA-256   PoW/PoS     0.000000e+00               0 -0.176358  0.818071   \n1337       X13   PoW/PoS     2.927942e+10    314159265359  0.301864  1.879153   \nBTC    SHA-256       PoW     1.792718e+07        21000000 -0.237339 -1.435900   \n\n          PC 3  class   CoinName  \n42   -0.460000      0    42 Coin  \n404  -0.460585      0    404Coin  \n808  -0.345441      0        808  \n1337 -0.554624      0  EliteCoin  \nBTC   0.099833      3    Bitcoin  ",
      "text/html": "<div>\n<style scoped>\n    .dataframe tbody tr th:only-of-type {\n        vertical-align: middle;\n    }\n\n    .dataframe tbody tr th {\n        vertical-align: top;\n    }\n\n    .dataframe thead th {\n        text-align: right;\n    }\n</style>\n<table border=\"1\" class=\"dataframe\">\n  <thead>\n    <tr style=\"text-align: right;\">\n      <th></th>\n      <th>Algorithm</th>\n      <th>ProofType</th>\n      <th>TotalCoinsMined</th>\n      <th>TotalCoinSupply</th>\n      <th>PC 1</th>\n      <th>PC 2</th>\n      <th>PC 3</th>\n      <th>class</th>\n      <th>CoinName</th>\n    </tr>\n  </thead>\n  <tbody>\n    <tr>\n      <th>42</th>\n      <td>Scrypt</td>\n      <td>PoW/PoS</td>\n      <td>4.199995e+01</td>\n      <td>42</td>\n      <td>-0.208992</td>\n      <td>1.184306</td>\n      <td>-0.460000</td>\n      <td>0</td>\n      <td>42 Coin</td>\n    </tr>\n    <tr>\n      <th>404</th>\n      <td>Scrypt</td>\n      <td>PoW/PoS</td>\n      <td>1.055185e+09</td>\n      <td>532000000</td>\n      <td>-0.194450</td>\n      <td>1.182384</td>\n      <td>-0.460585</td>\n      <td>0</td>\n      <td>404Coin</td>\n    </tr>\n    <tr>\n      <th>808</th>\n      <td>SHA-256</td>\n      <td>PoW/PoS</td>\n      <td>0.000000e+00</td>\n      <td>0</td>\n      <td>-0.176358</td>\n      <td>0.818071</td>\n      <td>-0.345441</td>\n      <td>0</td>\n      <td>808</td>\n    </tr>\n    <tr>\n      <th>1337</th>\n      <td>X13</td>\n      <td>PoW/PoS</td>\n      <td>2.927942e+10</td>\n      <td>314159265359</td>\n      <td>0.301864</td>\n      <td>1.879153</td>\n      <td>-0.554624</td>\n      <td>0</td>\n      <td>EliteCoin</td>\n    </tr>\n    <tr>\n      <th>BTC</th>\n      <td>SHA-256</td>\n      <td>PoW</td>\n      <td>1.792718e+07</td>\n      <td>21000000</td>\n      <td>-0.237339</td>\n      <td>-1.435900</td>\n      <td>0.099833</td>\n      <td>3</td>\n      <td>Bitcoin</td>\n    </tr>\n  </tbody>\n</table>\n</div>"
     },
     "metadata": {},
     "execution_count": 252
    }
   ],
   "source": [
    "#merge dataframes\n",
    "clustered_df = pd.concat([crypto_df, clustered_df, coins_name], axis=1)\n",
    "clustered_df.head()"
   ]
  },
  {
   "source": [
    "## visualizing the results"
   ],
   "cell_type": "markdown",
   "metadata": {}
  },
  {
   "cell_type": "code",
   "execution_count": 253,
   "metadata": {},
   "outputs": [
    {
     "output_type": "display_data",
     "data": {
      "application/vnd.plotly.v1+json": {
       "config": {
        "plotlyServerURL": "https://plot.ly"
       },
       "data": [
        {
         "customdata": [
          [
           "Scrypt"
          ],
          [
           "Scrypt"
          ],
          [
           "SHA-256"
          ],
          [
           "X13"
          ],
          [
           "X11"
          ],
          [
           "SHA-512"
          ],
          [
           "SHA-256"
          ],
          [
           "X11"
          ],
          [
           "SHA-256"
          ],
          [
           "X15"
          ],
          [
           "X13"
          ],
          [
           "X13"
          ],
          [
           "Scrypt"
          ],
          [
           "Scrypt"
          ],
          [
           "Scrypt"
          ],
          [
           "Scrypt"
          ],
          [
           "Scrypt"
          ],
          [
           "Scrypt"
          ],
          [
           "Scrypt"
          ],
          [
           "Multiple"
          ],
          [
           "Scrypt"
          ],
          [
           "Scrypt"
          ],
          [
           "SHA-256"
          ],
          [
           "Groestl"
          ],
          [
           "X11"
          ],
          [
           "PoS"
          ],
          [
           "X11"
          ],
          [
           "NIST5"
          ],
          [
           "Scrypt"
          ],
          [
           "X11"
          ],
          [
           "X15"
          ],
          [
           "Scrypt"
          ],
          [
           "X11"
          ],
          [
           "X11"
          ],
          [
           "X11"
          ],
          [
           "X13"
          ],
          [
           "X11"
          ],
          [
           "SHA3"
          ],
          [
           "Scrypt"
          ],
          [
           "SHA-256"
          ],
          [
           "Scrypt"
          ],
          [
           "X13"
          ],
          [
           "X13"
          ],
          [
           "NeoScrypt"
          ],
          [
           "Scrypt"
          ],
          [
           "Scrypt"
          ],
          [
           "Scrypt"
          ],
          [
           "X15"
          ],
          [
           "Scrypt"
          ],
          [
           "X11"
          ],
          [
           "X11"
          ],
          [
           "Multiple"
          ],
          [
           "PHI1612"
          ],
          [
           "X11"
          ],
          [
           "Scrypt"
          ],
          [
           "Scrypt"
          ],
          [
           "X13"
          ],
          [
           "Scrypt"
          ],
          [
           "Scrypt"
          ],
          [
           "X11"
          ],
          [
           "Multiple"
          ],
          [
           "X13"
          ],
          [
           "Scrypt"
          ],
          [
           "Scrypt"
          ],
          [
           "Shabal256"
          ],
          [
           "Counterparty"
          ],
          [
           "SHA-256"
          ],
          [
           "Scrypt"
          ],
          [
           "Groestl"
          ],
          [
           "Scrypt"
          ],
          [
           "X13"
          ],
          [
           "Scrypt"
          ],
          [
           "SHA-256"
          ],
          [
           "Scrypt"
          ],
          [
           "X13"
          ],
          [
           "X13"
          ],
          [
           "X11"
          ],
          [
           "X11"
          ],
          [
           "X15"
          ],
          [
           "Scrypt"
          ],
          [
           "Scrypt"
          ],
          [
           "Scrypt"
          ],
          [
           "X11"
          ],
          [
           "SHA3"
          ],
          [
           "Scrypt"
          ],
          [
           "QUAIT"
          ],
          [
           "vDPOS"
          ],
          [
           "X11"
          ],
          [
           "X11"
          ],
          [
           "Scrypt"
          ],
          [
           "X11"
          ],
          [
           "X13"
          ],
          [
           "SHA-256"
          ],
          [
           "X13"
          ],
          [
           "X15"
          ],
          [
           "BLAKE256"
          ],
          [
           "SHA-256"
          ],
          [
           "X11"
          ],
          [
           "SHA-256"
          ],
          [
           "Quark"
          ],
          [
           "NIST5"
          ],
          [
           "Blake"
          ],
          [
           "Scrypt"
          ],
          [
           "Scrypt"
          ],
          [
           "Scrypt"
          ],
          [
           "SHA-256"
          ],
          [
           "X11"
          ],
          [
           "Scrypt"
          ],
          [
           "SHA-256"
          ],
          [
           "Scrypt"
          ],
          [
           "PoS"
          ],
          [
           "X11"
          ],
          [
           "X11"
          ],
          [
           "X11"
          ],
          [
           "PoS"
          ],
          [
           "SHA-256"
          ],
          [
           "SHA-256"
          ],
          [
           "NIST5"
          ],
          [
           "X15"
          ],
          [
           "X11"
          ],
          [
           "NIST5"
          ],
          [
           "Scrypt"
          ],
          [
           "Scrypt"
          ],
          [
           "POS 3.0"
          ],
          [
           "Scrypt"
          ],
          [
           "Scrypt"
          ],
          [
           "Scrypt"
          ],
          [
           "X13"
          ],
          [
           "X11"
          ],
          [
           "X11"
          ],
          [
           "X11"
          ],
          [
           "Scrypt"
          ],
          [
           "SHA-256"
          ],
          [
           "X11"
          ],
          [
           "Scrypt"
          ],
          [
           "Scrypt"
          ],
          [
           "X11"
          ],
          [
           "Scrypt"
          ],
          [
           "Scrypt"
          ],
          [
           "SHA-256D"
          ],
          [
           "PoS"
          ],
          [
           "Scrypt"
          ],
          [
           "X11"
          ],
          [
           "PoS"
          ],
          [
           "X13"
          ],
          [
           "X14"
          ],
          [
           "PoS"
          ],
          [
           "SHA-256D"
          ],
          [
           "DPoS"
          ],
          [
           "X11"
          ],
          [
           "Scrypt"
          ],
          [
           "X13"
          ],
          [
           "X11"
          ],
          [
           "PoS"
          ],
          [
           "SHA-256D"
          ],
          [
           "Scrypt"
          ],
          [
           "Scrypt"
          ],
          [
           "Scrypt"
          ],
          [
           "PoS"
          ],
          [
           "X11"
          ],
          [
           "SHA-256"
          ],
          [
           "Scrypt"
          ],
          [
           "X11"
          ],
          [
           "Scrypt"
          ],
          [
           "Scrypt"
          ],
          [
           "X11"
          ],
          [
           "Scrypt"
          ],
          [
           "Scrypt"
          ],
          [
           "Scrypt"
          ],
          [
           "Scrypt"
          ],
          [
           "Quark"
          ],
          [
           "QuBit"
          ],
          [
           "X11"
          ],
          [
           "X13"
          ],
          [
           "PoS"
          ],
          [
           "Scrypt"
          ],
          [
           "SHA-256"
          ],
          [
           "X11"
          ],
          [
           "X11"
          ],
          [
           "Scrypt"
          ],
          [
           "Scrypt"
          ],
          [
           "Scrypt"
          ],
          [
           "Scrypt"
          ],
          [
           "X13"
          ],
          [
           "Scrypt"
          ],
          [
           "Scrypt"
          ],
          [
           "X11"
          ],
          [
           "Blake2S"
          ],
          [
           "X11"
          ],
          [
           "Scrypt"
          ],
          [
           "PoS"
          ],
          [
           "X11"
          ],
          [
           "PoS"
          ],
          [
           "X11"
          ],
          [
           "Scrypt"
          ],
          [
           "Scrypt"
          ],
          [
           "Scrypt"
          ],
          [
           "SHA-256"
          ],
          [
           "X11"
          ],
          [
           "Scrypt"
          ],
          [
           "PoS"
          ],
          [
           "Scrypt"
          ],
          [
           "X11"
          ],
          [
           "X15"
          ],
          [
           "SHA-256"
          ],
          [
           "POS 3.0"
          ],
          [
           "536"
          ],
          [
           "NIST5"
          ],
          [
           "NIST5"
          ],
          [
           "Skein"
          ],
          [
           "X13"
          ],
          [
           "X11"
          ],
          [
           "Scrypt"
          ],
          [
           "X13"
          ],
          [
           "SkunkHash v2 Raptor"
          ],
          [
           "Skein"
          ],
          [
           "X11"
          ],
          [
           "Scrypt"
          ],
          [
           "VeChainThor Authority"
          ],
          [
           "PoS"
          ],
          [
           "Scrypt"
          ],
          [
           "Scrypt"
          ],
          [
           "SHA-512"
          ],
          [
           "Ouroboros"
          ],
          [
           "X11"
          ],
          [
           "NeoScrypt"
          ],
          [
           "Scrypt"
          ],
          [
           "Lyra2REv2"
          ],
          [
           "Scrypt"
          ],
          [
           "SHA-256"
          ],
          [
           "NIST5"
          ],
          [
           "PHI1612"
          ],
          [
           "Scrypt"
          ],
          [
           "Quark"
          ],
          [
           "POS 2.0"
          ],
          [
           "Scrypt"
          ],
          [
           "SkunkHash"
          ],
          [
           "X11"
          ],
          [
           "Quark"
          ],
          [
           "SHA-256"
          ],
          [
           "Quark"
          ],
          [
           "X11"
          ],
          [
           "DPoS"
          ],
          [
           "NIST5"
          ],
          [
           "X13"
          ],
          [
           "Scrypt"
          ],
          [
           "NIST5"
          ],
          [
           "Quark"
          ],
          [
           "Scrypt"
          ],
          [
           "Scrypt"
          ],
          [
           "X11"
          ],
          [
           "SHA-256"
          ],
          [
           "Scrypt"
          ],
          [
           "Quark"
          ],
          [
           "Scrypt"
          ],
          [
           "Scrypt"
          ],
          [
           "X11"
          ],
          [
           "Scrypt"
          ],
          [
           "Scrypt"
          ],
          [
           "POS 3.0"
          ],
          [
           "Scrypt"
          ],
          [
           "Scrypt"
          ],
          [
           "X13"
          ],
          [
           "C11"
          ],
          [
           "X11"
          ],
          [
           "XEVAN"
          ],
          [
           "Scrypt"
          ],
          [
           "VBFT"
          ],
          [
           "NIST5"
          ],
          [
           "Scrypt"
          ],
          [
           "Scrypt"
          ],
          [
           "Scrypt"
          ],
          [
           "Equihash"
          ],
          [
           "Green Protocol"
          ],
          [
           "PoS"
          ],
          [
           "Scrypt"
          ],
          [
           "Scrypt"
          ],
          [
           "Semux BFT consensus"
          ],
          [
           "Scrypt"
          ],
          [
           "Quark"
          ],
          [
           "PoS"
          ],
          [
           "X16R"
          ],
          [
           "Scrypt"
          ],
          [
           "XEVAN"
          ],
          [
           "Scrypt"
          ],
          [
           "Scrypt"
          ],
          [
           "Scrypt"
          ],
          [
           "SHA-256D"
          ],
          [
           "Scrypt"
          ],
          [
           "X15"
          ],
          [
           "Scrypt"
          ],
          [
           "Quark"
          ],
          [
           "SHA-256"
          ],
          [
           "DPoS"
          ],
          [
           "X16R"
          ],
          [
           "Quark"
          ],
          [
           "Quark"
          ],
          [
           "Scrypt"
          ],
          [
           "Zhash"
          ],
          [
           "Lyra2REv2"
          ],
          [
           "Quark"
          ],
          [
           "Scrypt"
          ],
          [
           "Scrypt"
          ],
          [
           "X11"
          ],
          [
           "X11"
          ],
          [
           "Scrypt"
          ],
          [
           "PoS"
          ],
          [
           "Scrypt"
          ],
          [
           "Scrypt"
          ],
          [
           "Keccak"
          ],
          [
           "X11"
          ],
          [
           "Quark"
          ],
          [
           "Scrypt"
          ],
          [
           "SHA-512"
          ],
          [
           "NeoScrypt"
          ],
          [
           "XEVAN"
          ],
          [
           "XEVAN"
          ],
          [
           "X11"
          ],
          [
           "Quark"
          ],
          [
           "Quark"
          ],
          [
           "Scrypt"
          ],
          [
           "Quark"
          ],
          [
           "Quark"
          ],
          [
           "Scrypt"
          ],
          [
           "X11"
          ],
          [
           "Scrypt"
          ],
          [
           "XEVAN"
          ],
          [
           "SHA-256D"
          ],
          [
           "X11"
          ],
          [
           "X11"
          ],
          [
           "DPoS"
          ],
          [
           "X11"
          ],
          [
           "Scrypt"
          ],
          [
           "X11"
          ],
          [
           "QuBit"
          ],
          [
           "Scrypt"
          ],
          [
           "Scrypt"
          ],
          [
           "SHA-256"
          ],
          [
           "Scrypt"
          ],
          [
           "X11"
          ],
          [
           "Scrypt"
          ],
          [
           "SHA-256"
          ],
          [
           "X11"
          ],
          [
           "Scrypt"
          ],
          [
           "SHA-256"
          ],
          [
           "Scrypt"
          ],
          [
           "X11"
          ],
          [
           "Scrypt"
          ],
          [
           "PoS"
          ],
          [
           "X11"
          ],
          [
           "SHA-256"
          ],
          [
           "DPoS"
          ],
          [
           "Scrypt"
          ],
          [
           "Scrypt"
          ],
          [
           "NeoScrypt"
          ],
          [
           "Scrypt"
          ],
          [
           "X13"
          ],
          [
           "DPoS"
          ],
          [
           "DPoS"
          ],
          [
           "SHA-256"
          ],
          [
           "PoS"
          ],
          [
           "PoS"
          ],
          [
           "SHA-256"
          ],
          [
           "Scrypt"
          ],
          [
           "Scrypt"
          ]
         ],
         "hovertemplate": "<b>%{hovertext}</b><br><br>class=%{marker.color}<br>PC 1=%{x}<br>PC 2=%{y}<br>PC 3=%{z}<br>Algorithm=%{customdata[0]}<extra></extra>",
         "hovertext": [
          "42 Coin",
          "404Coin",
          "808",
          "EliteCoin",
          "Dash",
          "Bitshares",
          "BitcoinDark",
          "Bitstake",
          "PayCoin",
          "KoboCoin",
          "Aero Coin",
          "ApexCoin",
          "ArchCoin",
          "Aurora Coin",
          "BlueCoin",
          "EnergyCoin",
          "BitBar",
          "CashCoin",
          "CryptoBullion",
          "CinderCoin",
          "CoolCoin",
          "CasinoCoin",
          "eMark",
          "Diamond",
          "DarkCash",
          "Exclusive Coin",
          "Fuel2Coin",
          "FIBRE",
          "FlutterCoin",
          "GlyphCoin",
          "Halcyon",
          "HoboNickels",
          "HyperStake",
          "IOCoin",
          "JumBucks Coin",
          "JudgeCoin",
          "LibrexCoin",
          "MaxCoin",
          "MintCoin",
          "MazaCoin",
          "Nautilus Coin",
          "NavCoin",
          "OpalCoin",
          "Orbitcoin",
          "PotCoin",
          "PhoenixCoin",
          "Reddcoin",
          "ShieldCoin",
          "SilkCoin",
          "SuperCoin",
          "SyncCoin",
          "TeslaCoin",
          "TittieCoin",
          "TorCoin",
          "UnitaryStatus Dollar",
          "UltraCoin",
          "Utility Coin",
          "VeriCoin",
          "SocialXbotCoin",
          "X11 Coin",
          "Crypti",
          "StealthCoin",
          "XXXCoin",
          "ZCC Coin",
          "BurstCoin",
          "StorjCoin",
          "Neutron",
          "KryptCoin",
          "FairCoin",
          "RubyCoin",
          "Kore",
          "Dnotes",
          "MaieutiCoin",
          "8BIT Coin",
          "Sativa Coin",
          "AeroMe",
          "MasterTraderCoin",
          "Ucoin",
          "MaryJane Coin",
          "CyberCoin",
          "Vtorrent",
          "ViorCoin",
          "IslaCoin",
          "Nexus",
          "Singular",
          "Droidz",
          "CryptoCircuits",
          "Squall Coin",
          "Milllionaire Coin",
          "Diggits",
          "MapCoin",
          "Paycon",
          "Emercoin",
          "BlitzCoin",
          "EverGreenCoin",
          "Decred",
          "EDRCoin",
          "Hitcoin",
          "DubaiCoin",
          "BiosCrypto",
          "PWR Coin",
          "TrumpCoin",
          "BillaryCoin",
          "EthereumScrypt",
          "GPU Coin",
          "Universal Currency",
          "EuropeCoin",
          "ZeitCoin",
          "SwingCoin",
          "SafeExchangeCoin",
          "Nebuchadnezzar",
          "GIZMOcoin",
          "SecretCoin",
          "Ratecoin",
          "Digital Bullion Gold",
          "Revenu",
          "Clockcoin",
          "VIP Tokens",
          "OrlyCoin",
          "BitSend",
          "16BitCoin",
          "ChessCoin",
          "ReeCoin",
          "Let it Ride",
          "PutinCoin",
          "iBankCoin",
          "Frankywillcoin",
          "MudraCoin",
          "Lutetium Coin",
          "GoldBlocks",
          "WayCoin",
          "CarterCoin",
          "BitTokens",
          "MustangCoin",
          "ZoneCoin",
          "RootCoin",
          "PROUD Money",
          "BitCurrency",
          "Swiscoin",
          "BuzzCoin",
          "Opair",
          "PesoBit",
          "Halloween Coin",
          "CoffeeCoin",
          "RoyalCoin",
          "GanjaCoin V2",
          "TeamUP",
          "LanaCoin",
          "ARK",
          "InsaneCoin",
          "LuckChain",
          "EmberCoin",
          "XenixCoin",
          "FreeCoin",
          "NPCcoin",
          "PLNCoin",
          "Icobid",
          "AquariusCoin",
          "Creatio",
          "Eternity",
          "Eurocoin",
          "BitcoinFast",
          "Stakenet",
          "BitConnect Coin",
          "MoneyCoin",
          "Enigma",
          "Russiacoin",
          "PandaCoin",
          "GameUnits",
          "GAKHcoin",
          "Allsafe",
          "LiteCreed",
          "NeptuneClassic",
          "GoldenBird",
          "Ride My Car",
          "Klingon Empire Darsek",
          "Internet of People",
          "KushCoin",
          "Eryllium",
          "Printerium",
          "Impeach",
          "Zilbercoin",
          "FirstCoin",
          "FindCoin",
          "OpenChat",
          "RenosCoin",
          "VirtacoinPlus",
          "TajCoin",
          "Impact",
          "Universe",
          "Atmos",
          "HappyCoin",
          "MacronCoin",
          "Condensate",
          "Independent Money System",
          "ArgusCoin",
          "LomoCoin",
          "ProCurrency",
          "GoldReserve",
          "GrowthCoin",
          "Phreak",
          "Degas Coin",
          "ZSEcoin",
          "HTML5 Coin",
          "Ultimate Secure Cash",
          "QTUM",
          "Espers",
          "Denarius",
          "Virta Unique Coin",
          "Bitcoin Planet",
          "BritCoin",
          "Octanox",
          "Linda",
          "DeepOnion",
          "Signatum",
          "Cream",
          "Monoeci",
          "Draftcoin",
          "Vechain",
          "Stakecoin",
          "CoinonatX",
          "Ethereum Dark",
          "Obsidian",
          "Cardano",
          "Regalcoin",
          "TrezarCoin",
          "TerraNovaCoin",
          "Rupee",
          "WomenCoin",
          "Theresa May Coin",
          "NamoCoin",
          "LUXCoin",
          "Xios",
          "Bitcloud 2.0",
          "KekCoin",
          "BlackholeCoin",
          "AltCommunity Coin",
          "Pure",
          "Rupaya",
          "Infinity Economics",
          "Castle",
          "Magnet",
          "Lamden Tau",
          "Electra",
          "Bitcoin Diamond",
          "Cash & Back Coin",
          "Bulwark",
          "Kalkulus",
          "GermanCoin",
          "LiteCoin Ultra",
          "PhantomX",
          "HTML Coin",
          "Fantasy Cash",
          "Digiwage",
          "Trollcoin",
          "Litecoin Plus",
          "Monkey Project",
          "OP Coin",
          "Valorbit",
          "TokenPay",
          "My Big Coin",
          "Unified Society USDEX",
          "Tokyo Coin",
          "Stipend",
          "Pushi",
          "Ellerium",
          "Velox",
          "Ontology",
          "Bitspace",
          "Briacoin",
          "Ignition",
          "MedicCoin",
          "Zelcash",
          "Bitcoin Green",
          "Deviant Coin",
          "Abjcoin",
          "Profit Hunters Coin",
          "Semux",
          "BitBlocks",
          "Carebit",
          "Zealium",
          "Proton",
          "iDealCash",
          "Bitcoin Incognito",
          "HollyWoodCoin",
          "Swisscoin",
          "Xt3ch",
          "TheVig",
          "EmaratCoin",
          "Dekado",
          "Lynx",
          "Poseidon Quark",
          "BitcoinWSpectrum",
          "Muse",
          "Trivechain",
          "Dystem",
          "Giant",
          "Peony Coin",
          "SafeCoin",
          "Absolute Coin",
          "Vitae",
          "TPCash",
          "MUSDcoin",
          "ARENON",
          "EUNO",
          "MMOCoin",
          "Ketan",
          "Safe Trade Coin",
          "Mont Blanc",
          "XDNA",
          "PAXEX",
          "Apollon",
          "ThunderStake",
          "Kcash",
          "Traid",
          "Bettex coin",
          "BitMoney",
          "Junson Ming Chan Coin",
          "Zenad",
          "HerbCoin",
          "Oduwa",
          "Galilel",
          "Crypto Sports",
          "Credit",
          "Dash Platinum",
          "Nasdacoin",
          "Beetle Coin",
          "Titan Coin",
          "Award",
          "Insane Coin",
          "ALAX",
          "The Freedom Coin",
          "LiteDoge",
          "TruckCoin",
          "Ascension Coin",
          "OrangeCoin",
          "BitstarCoin",
          "NeosCoin",
          "HyperCoin",
          "PinkCoin",
          "AudioCoin",
          "IncaKoin",
          "Piggy Coin",
          "Genstake",
          "ParkByte",
          "XiaoMiCoin",
          "CapriCoin",
          " ClubCoin",
          "Radium",
          "Creditbit ",
          "OKCash",
          "Lisk",
          "HiCoin",
          "WhiteCoin",
          "FriendshipCoin",
          "The Hempcoin",
          "Triangles Coin",
          "EOS",
          "Oxycoin",
          "TigerCash",
          "Particl",
          "Nxt",
          "ZEPHYR",
          "Gapcoin",
          "BitcoinPlus"
         ],
         "legendgroup": "0",
         "marker": {
          "color": [
           0,
           0,
           0,
           0,
           0,
           0,
           0,
           0,
           0,
           0,
           0,
           0,
           0,
           0,
           0,
           0,
           0,
           0,
           0,
           0,
           0,
           0,
           0,
           0,
           0,
           0,
           0,
           0,
           0,
           0,
           0,
           0,
           0,
           0,
           0,
           0,
           0,
           0,
           0,
           0,
           0,
           0,
           0,
           0,
           0,
           0,
           0,
           0,
           0,
           0,
           0,
           0,
           0,
           0,
           0,
           0,
           0,
           0,
           0,
           0,
           0,
           0,
           0,
           0,
           0,
           0,
           0,
           0,
           0,
           0,
           0,
           0,
           0,
           0,
           0,
           0,
           0,
           0,
           0,
           0,
           0,
           0,
           0,
           0,
           0,
           0,
           0,
           0,
           0,
           0,
           0,
           0,
           0,
           0,
           0,
           0,
           0,
           0,
           0,
           0,
           0,
           0,
           0,
           0,
           0,
           0,
           0,
           0,
           0,
           0,
           0,
           0,
           0,
           0,
           0,
           0,
           0,
           0,
           0,
           0,
           0,
           0,
           0,
           0,
           0,
           0,
           0,
           0,
           0,
           0,
           0,
           0,
           0,
           0,
           0,
           0,
           0,
           0,
           0,
           0,
           0,
           0,
           0,
           0,
           0,
           0,
           0,
           0,
           0,
           0,
           0,
           0,
           0,
           0,
           0,
           0,
           0,
           0,
           0,
           0,
           0,
           0,
           0,
           0,
           0,
           0,
           0,
           0,
           0,
           0,
           0,
           0,
           0,
           0,
           0,
           0,
           0,
           0,
           0,
           0,
           0,
           0,
           0,
           0,
           0,
           0,
           0,
           0,
           0,
           0,
           0,
           0,
           0,
           0,
           0,
           0,
           0,
           0,
           0,
           0,
           0,
           0,
           0,
           0,
           0,
           0,
           0,
           0,
           0,
           0,
           0,
           0,
           0,
           0,
           0,
           0,
           0,
           0,
           0,
           0,
           0,
           0,
           0,
           0,
           0,
           0,
           0,
           0,
           0,
           0,
           0,
           0,
           0,
           0,
           0,
           0,
           0,
           0,
           0,
           0,
           0,
           0,
           0,
           0,
           0,
           0,
           0,
           0,
           0,
           0,
           0,
           0,
           0,
           0,
           0,
           0,
           0,
           0,
           0,
           0,
           0,
           0,
           0,
           0,
           0,
           0,
           0,
           0,
           0,
           0,
           0,
           0,
           0,
           0,
           0,
           0,
           0,
           0,
           0,
           0,
           0,
           0,
           0,
           0,
           0,
           0,
           0,
           0,
           0,
           0,
           0,
           0,
           0,
           0,
           0,
           0,
           0,
           0,
           0,
           0,
           0,
           0,
           0,
           0,
           0,
           0,
           0,
           0,
           0,
           0,
           0,
           0,
           0,
           0,
           0,
           0,
           0,
           0,
           0,
           0,
           0,
           0,
           0,
           0,
           0,
           0,
           0,
           0,
           0,
           0,
           0,
           0,
           0,
           0,
           0,
           0,
           0,
           0,
           0,
           0,
           0,
           0,
           0,
           0,
           0,
           0,
           0,
           0,
           0,
           0,
           0,
           0,
           0,
           0,
           0,
           0,
           0,
           0,
           0,
           0,
           0,
           0,
           0,
           0,
           0
          ],
          "coloraxis": "coloraxis",
          "symbol": "circle"
         },
         "mode": "markers",
         "name": "0",
         "scene": "scene",
         "showlegend": true,
         "type": "scatter3d",
         "x": [
          -0.20899193690141174,
          -0.19445027464450598,
          -0.17635817891516511,
          0.3018642418458707,
          -0.21505091160196096,
          0.16073720395978144,
          -0.17634041695353697,
          -0.21517537320587135,
          -0.04278840648295074,
          -0.10903027499967538,
          0.031765092855479085,
          -0.10163937006159467,
          -0.07558747459247579,
          -0.20874201493701222,
          -0.2002350639336716,
          -0.207295990274312,
          -0.20899135068690913,
          -0.20899193757055404,
          -0.20897761725727765,
          -0.16897173277416375,
          -0.07558747475169232,
          0.5490521916936982,
          -0.1763581789151632,
          -0.21474487267280368,
          -0.2151753732104806,
          0.0716044630912094,
          -0.08177091047487461,
          -0.17297657497718855,
          -0.23326421159514407,
          -0.21517537321672744,
          -0.10938227990636726,
          -0.20776173649951532,
          -0.0586389692601436,
          -0.21493212331142628,
          -0.2151753732096672,
          -0.10163937009130591,
          -0.21517537320530009,
          -0.18927740334110077,
          0.2178673552550533,
          -0.15411766242719963,
          -0.07536449554769468,
          -0.10072861371168336,
          -0.10143049788487911,
          -0.2243118537116283,
          -0.2059231895127359,
          -0.20797269363860751,
          0.19501035869539324,
          -0.10938227990827168,
          -0.20899193748211778,
          -0.08107210027462694,
          -0.215175356982981,
          -0.034461188153441374,
          0.0029365596937226015,
          -0.21515564066572632,
          -0.19384710746878098,
          -0.20829963857465994,
          -0.1016393700501672,
          -0.15906198999193646,
          -0.2089919374840224,
          -0.21507958275184955,
          -0.03418915440718554,
          -0.10118330037979435,
          -0.20899193757544202,
          -0.20695246337499693,
          0.1723475727600326,
          0.01202507352043902,
          -0.17581903702108284,
          -0.0755874745936129,
          -0.2140573400265115,
          -0.07521284095870823,
          -0.10161149817637549,
          -0.07318065081725207,
          -0.042953715996188566,
          -0.20897170893982697,
          -0.10154156751894872,
          -0.10163937007302203,
          -0.21517537322265046,
          -0.08173384161365463,
          -0.10938227990636726,
          -0.20899193748021316,
          -0.2088320110769216,
          -0.20899193748021316,
          -0.21515451261802088,
          -0.1597283963973496,
          -0.20899193748021316,
          -0.19340841735560563,
          -0.0285326831489839,
          -0.15372734499800758,
          -0.2151753732033956,
          -0.07420935952081388,
          -0.08177091028866222,
          -0.10132181651008078,
          -0.17576476722914972,
          0.0317650928614744,
          -0.1091958132976335,
          -0.03763175195391294,
          -0.17630760637482237,
          -0.06363348921173242,
          -0.1762874952120335,
          0.023755832522554306,
          -0.034207964201499304,
          -0.035476868204655884,
          -0.2088679245090108,
          -0.20899193748821268,
          -0.07502965470143534,
          -0.17635817931512437,
          -0.2150319497646832,
          0.43391857189079297,
          -0.17629785776301726,
          0.02740100786634414,
          0.07180181321961951,
          -0.21517537320358596,
          -0.21517537324339156,
          -0.21332105120833453,
          0.07152619018296727,
          -0.17634170362724588,
          -0.1761285470547519,
          -0.17182653243343957,
          -0.10938227997493183,
          -0.21483928252231738,
          -0.1729765750064734,
          -0.2089919376224215,
          -0.2089919381468149,
          0.042798186900096,
          -0.19778659193034848,
          -0.20892955960420637,
          -0.20761382243979254,
          0.03183399824943985,
          -0.07271669446885247,
          -0.21496088519429654,
          -0.08177091047487461,
          -0.20839706732164018,
          -0.17634997325742122,
          -0.21516631022246796,
          -0.20895635499838272,
          -0.20896520357444204,
          -0.21517539224915674,
          -0.07325021020277973,
          -0.09046879882455013,
          0.14395605537420256,
          0.07254646123803737,
          -0.2085299525039554,
          -0.21152780191372988,
          0.07357567922752628,
          0.0317995474536844,
          -0.27542539296749025,
          0.0717717516111211,
          -0.11093494081206892,
          6.900886486503244,
          -0.21492258816080825,
          -0.20899193938478927,
          1.1688839600533467,
          -0.215122269927524,
          0.07221524773174605,
          -0.12584838795156142,
          -0.20875642317311938,
          -0.2089919378611285,
          -0.20895817956075263,
          0.07180181321961951,
          -0.2150917288607284,
          -0.17618706453143057,
          -0.2087129515699288,
          -0.22025594199691342,
          -0.20883923241077304,
          -0.20884152546262458,
          -0.21516414610778567,
          -0.20887648101063547,
          0.3903965485591467,
          -0.2089440757972839,
          -0.20894624209329551,
          0.1573052424794857,
          -0.2330250872636439,
          -0.21517537367953946,
          -0.10163937090722626,
          0.07152619002107789,
          -0.20866166799083277,
          -0.17632336668294785,
          -0.2150973843441122,
          -0.21517537339385295,
          -0.20882902048418384,
          -0.2089876904602495,
          -0.07554719767780543,
          -0.1599435857991698,
          0.03196526203169298,
          -0.1952107870760051,
          -0.07509065905595025,
          -0.2149939755438994,
          -0.17057556036430496,
          -0.2136507591879515,
          -0.07558747477454736,
          0.07305776989661172,
          -0.21487878477734784,
          0.07705823891689158,
          -0.2134986840358621,
          -0.2089179474234237,
          -0.20897611230674046,
          -0.20898504880863503,
          -0.041568222613548964,
          -0.21493873184888415,
          -0.07152017155673013,
          0.07168316059338146,
          -0.20869758930038226,
          -0.2151753771906255,
          0.4509456960276849,
          -0.04281117636166046,
          0.04364448997353009,
          0.4217168295794436,
          -0.1729190885443658,
          -0.17210916088234304,
          -0.24688432841719035,
          -0.10134627129213507,
          -0.21517537321845226,
          -0.0843424617577604,
          -0.10133732832226851,
          0.15862430648508952,
          -0.24632581358728572,
          -0.21500215430008593,
          -0.07533027285103519,
          7.547896470970966,
          0.07158131470344886,
          -0.20872265953383376,
          -0.20893405664851555,
          0.12329974571581043,
          0.6369187973114264,
          -0.21507528898614153,
          -0.22183927066191791,
          -0.208976216868546,
          -0.053717901976556126,
          0.45883538559729,
          -0.1750896130106755,
          -0.16525137014796895,
          -0.15271096426395908,
          -0.208962312342465,
          0.024179072735577904,
          0.03256549545533838,
          -0.20876644278368459,
          -0.2843062350964447,
          -0.21517537321041744,
          0.15716029533714385,
          0.08107663750387634,
          4.173435835443993,
          -0.2146489528242626,
          6.903365556378655,
          0.21839638234320455,
          -0.09911006009927738,
          -0.2074625472533256,
          -0.039389550719992235,
          0.15739396542052267,
          -0.14130589943164565,
          -0.208875908700165,
          -0.2145528205735741,
          -0.1763583503270143,
          -0.20899193748897427,
          0.157536516299499,
          -0.2008469646861878,
          -0.2089574227816722,
          -0.08171017331333778,
          -0.20899194128936557,
          -0.3846580783949552,
          0.042548142417384895,
          -0.18411540285766043,
          -0.20575548576418176,
          0.03493887590712433,
          -0.19693456838151008,
          -0.21514549809556566,
          -0.15646048826762116,
          -0.07523509055185389,
          0.03439379315876032,
          -0.1727865625465923,
          -0.20898028362242152,
          -0.2089756460523002,
          -0.07190380552447626,
          -0.28378369312410423,
          -0.01781695788859408,
          0.07182767461935118,
          -0.20885577282927742,
          -0.20899193767067095,
          7.274993624114607,
          -0.20899193843250122,
          0.025681604843120206,
          0.07167881982268373,
          -0.029105746662975458,
          -0.18964103845634114,
          -0.0948724918840954,
          -0.07505405017410861,
          -0.06842420335729092,
          -0.07548232445270806,
          -0.12539031433763786,
          -0.20869427385039768,
          0.024439533963911388,
          1.8016998242276243,
          0.15719772750304106,
          -0.042157013977225176,
          2.883370544432178,
          -0.16206205594301362,
          0.15725789896626347,
          0.023837409941282948,
          -0.07557314657816722,
          -0.22585309639256695,
          -0.18726937376670064,
          0.15807059383767344,
          -0.20891746875954684,
          -0.20899193767067095,
          -0.08150535433776979,
          -0.21475131172483497,
          -0.07410236477926747,
          0.0716547284327186,
          -0.07558747616107862,
          -0.07558747469455504,
          -0.2261964268988349,
          -0.08170883135871962,
          0.023755832084864432,
          -0.19438458313979967,
          0.25194800388785493,
          -0.22435623798787338,
          -0.022968265162899616,
          -0.07312530295605638,
          0.15540166983821088,
          0.2459677809989948,
          0.02424247506825177,
          -0.20878828586125905,
          0.02400754542669152,
          0.1571869578729813,
          0.2158217245943128,
          -0.08176104771016077,
          -0.20870878280557414,
          -0.15372467033600704,
          -0.11349549436252168,
          -0.21496286540249926,
          -0.2148477131300649,
          6.913176487745795,
          -0.08177091033203145,
          0.002119911924151197,
          -0.21183242251313872,
          -0.23344166034019806,
          -0.20894319185823948,
          -0.20870836926206965,
          -0.0428931856563067,
          -0.20885920844619194,
          -0.20916191839609236,
          -0.1954763331222136,
          0.07087190395042565,
          -0.2083641692122371,
          -0.2081650683702547,
          -0.1763581789627777,
          -0.20341999131160066,
          -0.2124003411337128,
          -0.20756390892696525,
          0.07157885136396724,
          -0.10797473242530628,
          -0.1753290568902628,
          6.901049242617252,
          0.062227401404670764,
          -0.20551901098878714,
          -0.22434079742611607,
          -0.20899193805158603,
          -0.10163742997073477,
          6.91345961685194,
          6.91486305853739,
          -0.029172565591976778,
          0.0716541225276517,
          0.18920980679135402,
          4.000884124806771,
          -0.20878617093517032,
          -0.07558570606925763
         ],
         "y": [
          1.1843062246791476,
          1.1823837949180749,
          0.8180708013787981,
          1.8791525759038543,
          1.4504427072355195,
          1.6978484711831536,
          0.8180684534894714,
          1.4504591610445965,
          0.3083075456263566,
          2.0860401754052544,
          1.4227511919831142,
          1.9324925936361055,
          0.6745648233005387,
          1.184273184713195,
          1.183148548783469,
          1.1840820171866107,
          1.1843061471867278,
          1.1843062253649839,
          1.1843043316065127,
          0.5301538389872101,
          0.6745648243744016,
          0.6626610991681643,
          0.8180708013788003,
          1.0911597987526,
          1.450459161075683,
          1.0996163464537752,
          0.9407177606466337,
          1.7724376628224439,
          0.4276756657185025,
          1.4504591611178168,
          2.0860867067410274,
          1.1841435912684133,
          0.9376596710875501,
          1.4504270031889792,
          1.4504591610701982,
          1.9324925938364987,
          1.4504591610407431,
          2.5348322312088314,
          0.6357695151985469,
          0.8151305916552672,
          0.6745353450277644,
          1.9323721897729098,
          1.9324649802463874,
          0.6450597491302378,
          1.1839005355049648,
          1.1841714799416418,
          1.1308963235496448,
          2.086086706753874,
          1.1843062247685106,
          0.9406253752990537,
          1.450459158883539,
          0.02026621096026947,
          1.3359119013613685,
          1.4504565524733974,
          1.1823040684769073,
          1.1842147027328878,
          1.9324925935590305,
          0.4886151666333841,
          1.184306224781356,
          1.4504464974103433,
          0.02023024630252376,
          1.932432300248155,
          1.184306225397951,
          1.1840366148462147,
          1.515811961996543,
          1.0175352779126883,
          0.8179995266123234,
          0.6745648233082059,
          1.0910689055241523,
          0.6745152957879076,
          1.9324889089934134,
          0.6742466425358763,
          0.3083293997129905,
          1.184303550502687,
          1.9324796639972444,
          1.9324925937131794,
          1.4504591611577673,
          0.9407128590624774,
          2.0860867067410274,
          1.1843062247556646,
          1.184285082421274,
          1.1843062247556646,
          1.450456403217323,
          3.1443317729403795,
          1.1843062247556646,
          2.0554328493207072,
          1.0584539455257038,
          1.2189212903915827,
          1.4504591610278972,
          0.6743826348199647,
          0.9407177593906931,
          1.9324506129837595,
          0.8179923637762379,
          1.422751191942678,
          2.0860620558183944,
          1.0541406988447624,
          0.8180641158661851,
          1.430425359133092,
          0.8180614569859268,
          1.653497394201959,
          1.7540921784889112,
          -0.022157621688894322,
          1.1842898305249696,
          1.1843062248096168,
          0.6744910809869427,
          0.8180708040764042,
          1.450440205002202,
          0.6072083645939645,
          0.8180628273071476,
          0.7316239388921372,
          1.0995902566290345,
          1.4504591610291815,
          1.450459161297657,
          1.4502140169435707,
          1.0996266944756936,
          0.8180686261181959,
          0.818040450205296,
          1.7722856260531428,
          2.086086707203475,
          1.4504147309268483,
          1.7724376630199599,
          1.1843062257148125,
          1.1843062292516715,
          1.0978904791641098,
          1.1828248811383204,
          1.184297978835631,
          1.1841240364858014,
          1.4227420849846188,
          0.9395207824290575,
          1.4504308059193118,
          0.9407177606466337,
          1.1842275828796605,
          0.8180697168391189,
          1.4504579629217065,
          1.184301520945786,
          1.1843026904805394,
          1.450459289485234,
          0.6742558321270069,
          0.23645632733169014,
          2.0993707873159435,
          1.09949181337086,
          1.1842451494296722,
          1.4499769637926512,
          1.0993557482923928,
          1.422746636960534,
          2.039219248911408,
          1.09959423437193,
          2.13306772291316,
          0.888704998531705,
          1.4504257427239935,
          1.1843062376013977,
          1.7645269115360478,
          1.4504521407185103,
          1.0995356001480758,
          2.135039303697187,
          1.1842750897846448,
          1.1843062273248115,
          1.1843017624210073,
          1.0995902566290345,
          1.450448103836288,
          0.8180481799713059,
          1.1842693426831024,
          0.9679361708915143,
          1.1842860371966184,
          1.1842863481843442,
          1.4504576768466604,
          1.1842909629959604,
          0.6129612246976773,
          1.1842998975104058,
          1.1843001837770537,
          1.1437368301861572,
          1.119392199659223,
          1.450459164239331,
          1.9324925993396116,
          1.0996266955675815,
          1.1842625687740653,
          0.818066199397442,
          1.4504488508645244,
          1.4504591623124705,
          1.1842846870590094,
          1.1843056635674678,
          0.6745594990989843,
          0.387613168973935,
          1.4227247293175775,
          1.182484342057029,
          0.6744991435326947,
          1.450435181158559,
          2.090946260205699,
          1.4502576054302312,
          0.6745648245285505,
          1.0994242178137161,
          1.450419952711792,
          1.0988953515594058,
          1.4502375057065102,
          1.184296443391217,
          1.1843041329966737,
          1.1843053266536263,
          0.3081471792981723,
          1.45042787707737,
          0.6740271427901458,
          1.0996059428664278,
          1.1842673126675014,
          1.4504591879204407,
          2.0120113754806424,
          0.3083105582117032,
          1.0977785970643805,
          2.072343624173234,
          1.7724300631206054,
          1.7723229904699214,
          1.3432393044650788,
          1.9324538457023506,
          1.4504591611294506,
          1.1678279476577293,
          1.9324526632842625,
          1.250215303398509,
          1.343165467701848,
          1.4504362612666144,
          0.6745308207351366,
          0.46605957783967883,
          1.0996194074921268,
          1.1842706262871814,
          1.1842985728483306,
          1.7027977328841077,
          0.865029554450512,
          1.4504459300368084,
          0.6447328737593615,
          1.1843041466579085,
          0.2507010152468661,
          1.0960184489525815,
          0.8179030957209978,
          1.771416390596453,
          1.848593851402205,
          1.1843023085184359,
          1.653441443274674,
          1.1453050450082525,
          1.1842764140978148,
          0.7309900273402504,
          1.450459161075257,
          1.1437559932401915,
          0.2919324554434638,
          0.9150069848352472,
          1.4503895690279531,
          0.8883772653222957,
          1.7206977629586115,
          1.9321582164344484,
          1.1841040389928108,
          1.2626721265284468,
          1.1437251009011498,
          1.1753586265853442,
          1.1842908874109501,
          1.4503768589707802,
          0.8180719574948347,
          1.1843062248147553,
          1.143706256652895,
          1.1832294546056232,
          1.184301661894748,
          0.9407097300790392,
          1.184306250447132,
          2.369116031381152,
          1.097923535431357,
          0.31836016480252166,
          1.183878362370635,
          1.4223316215844504,
          1.1195401712558624,
          1.450455211794506,
          1.765127973522642,
          0.6745182387896995,
          1.0961751770251336,
          1.772412543425802,
          1.1843046841304374,
          1.1843040710596997,
          0.6740778410672013,
          0.30628221434454367,
          1.1825734184614543,
          1.0995868385573189,
          1.18428822389779,
          1.1843062260402384,
          0.7588835803669851,
          1.1843062311785315,
          1.653242805563497,
          1.0996065173545815,
          0.39792240883023644,
          1.1817480622043697,
          1.5335715983256628,
          0.6744943036601136,
          1.1657230212295822,
          0.6745509225920088,
          2.1349786585627974,
          1.184266874093995,
          1.5762901315888775,
          0.08394032915164922,
          1.1437510518754732,
          0.3082240753957673,
          1.1176179888639683,
          0.9076045641730406,
          1.1437430891676428,
          1.6534866093167324,
          0.6745631414879695,
          2.1526682713729417,
          0.7604618521346479,
          1.1436356502960006,
          1.1842963924377081,
          1.1843062260402384,
          0.9406826530342742,
          1.4504030998928723,
          0.6743684919189156,
          1.0996097039211135,
          0.6745648338802446,
          0.6745648239890297,
          0.7661208738957244,
          0.9407095536649108,
          1.6534973971540305,
          1.1823753303624924,
          2.765676886876564,
          0.6450656199453837,
          1.2553749696610397,
          1.6449551847882364,
          0.9093630760024882,
          1.4753436304192187,
          1.6534330595223985,
          1.1842793018740276,
          1.6534641172445177,
          1.1437524676241473,
          1.1281459619154741,
          0.9407164557583721,
          1.1842687922065156,
          1.764766298531891,
          2.1334062015875945,
          1.450431072366505,
          1.4504158440970976,
          0.8870802471220858,
          0.9407177596832039,
          1.1563972622387484,
          1.4500172163464105,
          1.1194472704495684,
          1.1842997830069866,
          1.184268737160655,
          0.30832139774699613,
          1.1842886777153103,
          1.4496641767265357,
          1.1825195674111026,
          0.7853864986921864,
          1.4495587190063466,
          1.1841969112156885,
          0.8180708016999437,
          1.1835696075086468,
          1.450092298928875,
          1.1841174385764948,
          1.0996197324880295,
          0.9013090513005502,
          0.8179347507376007,
          0.8886834822918545,
          0.6563455504397617,
          1.1838471007948266,
          0.6450635762567145,
          1.1843062286093848,
          1.9324923370782103,
          0.8870428043013053,
          0.8868572665395706,
          0.30650751701432905,
          1.0996097814869692,
          1.0794536922432751,
          0.07593662624044543,
          1.1842790251606359,
          0.6745645893042912
         ],
         "z": [
          -0.4599995238471803,
          -0.4605854213033465,
          -0.34544095569055683,
          -0.5546236348658462,
          -0.4453292945731593,
          -0.2368067644133973,
          -0.3454416714367346,
          -0.44532427982083683,
          -0.04051422075102467,
          -0.5930049311674592,
          -0.23343129432426873,
          -0.5383646897674766,
          -0.1550661284514661,
          -0.4600095934773856,
          -0.4603523451224236,
          -0.46006785486602103,
          -0.45999954746856286,
          -0.45999952404192374,
          -0.4600001008015434,
          -0.19626221382064096,
          -0.15506612883577445,
          -0.26310367211323155,
          -0.3454409556905536,
          -0.39547690382555917,
          -0.4453242798319619,
          0.008481297164988298,
          -0.1403908848267715,
          -0.5268077814150092,
          -0.23942227162494373,
          -0.4453242798470409,
          -0.5929907469780135,
          -0.460049090146438,
          -0.14132288840103144,
          -0.44533408064648555,
          -0.4453242798299989,
          -0.5383646898391924,
          -0.4453242798194576,
          -0.6415359525120187,
          -0.1668896534702807,
          -0.3463370548383884,
          -0.15507511245090183,
          -0.5384013848265942,
          -0.538373105363141,
          -0.32356238754020894,
          -0.46012316804770215,
          -0.46004059041513645,
          -0.4762770929814275,
          -0.5929907469826106,
          -0.459999523828461,
          -0.1404190399700555,
          -0.44532428046839845,
          0.10862661679392269,
          -0.16900568553024373,
          -0.4453250749010078,
          -0.4606097283733184,
          -0.46002741755676124,
          -0.5383646897398937,
          -0.13201771999895287,
          -0.45999952383305803,
          -0.44532813931293735,
          0.10861565680846422,
          -0.5383830651443666,
          -0.4599995240537218,
          -0.4600817005079402,
          -0.22024448383138182,
          -0.09196545045516848,
          -0.3454626784578541,
          -0.1550661284542101,
          -0.39550460503427337,
          -0.15508122265753038,
          -0.5383658127756208,
          -0.15516310352804794,
          -0.04050756024275735,
          -0.46000033884761055,
          -0.53836863032727,
          -0.5383646897950599,
          -0.4453242798613377,
          -0.14039237798633145,
          -0.5929907469780135,
          -0.4599995238238635,
          -0.4600059674774758,
          -0.4599995238238635,
          -0.4453251203041952,
          -0.638251953816363,
          -0.4599995238238635,
          -0.6496052189227576,
          -0.0038617091865208917,
          -0.2720833793131714,
          -0.4453242798148606,
          -0.15512165417855114,
          -0.14039088437730182,
          -0.5383774844546075,
          -0.3454648693863806,
          -0.23343129430979756,
          -0.5929982599867399,
          -0.34024321239686167,
          -0.34544299340066703,
          -0.45143014518681457,
          -0.34544380364142835,
          -0.3497715107809436,
          -0.5323988775028395,
          0.12340997313383972,
          -0.4600045205999746,
          -0.4599995238431719,
          -0.15508860440858965,
          -0.34544095665595775,
          -0.44533006025239463,
          -0.17559498903893217,
          -0.34544338626400745,
          -0.24208576014371674,
          0.008473345680159413,
          -0.44532427981532036,
          -0.44532427991140106,
          -0.4453989922519447,
          0.008484450771700321,
          -0.3454416205338107,
          -0.3454502101919852,
          -0.5268541179481993,
          -0.5929907471435109,
          -0.44533782182149056,
          -0.5268077814856947,
          -0.4599995241671186,
          -0.45999952543287054,
          0.0507168182298081,
          -0.4604510053262743,
          -0.46000203728458733,
          -0.46005504962635674,
          -0.23343407147865977,
          -0.14075568888943393,
          -0.4453329219385512,
          -0.1403908848267715,
          -0.46002349202944476,
          -0.34544128640108723,
          -0.445324644983487,
          -0.46000095756809717,
          -0.4600006009538803,
          -0.44532432578648795,
          -0.15516029858893682,
          -0.2057675612579101,
          -0.6466248076202423,
          0.008443342975474359,
          -0.4600181375606469,
          -0.4454712503318253,
          0.008401875134921718,
          -0.23343268250600258,
          -0.5558587800666349,
          0.00847455557256133,
          -0.6363549912124258,
          -0.2296841056474675,
          -0.44533446486256856,
          -0.4599995284210264,
          -0.589555074479923,
          -0.4453264194054763,
          0.008456687939411383,
          -0.6357541143734783,
          -0.4600090130600177,
          -0.4599995247432963,
          -0.46000088415320095,
          0.008473345680159413,
          -0.4453276501914184,
          -0.34544785011666646,
          -0.46001076453908857,
          -0.2810993994170238,
          -0.4600056765616661,
          -0.4600055870830595,
          -0.4453247321867115,
          -0.46000417632855595,
          -0.17384114186306643,
          -0.46000145226934214,
          -0.460001364942315,
          -0.04484395533864262,
          -0.42273347404624856,
          -0.4453242809641511,
          -0.5383646918086168,
          0.008484450380941205,
          -0.4600128329773959,
          -0.34544235840082604,
          -0.44532742209084614,
          -0.44532428027457693,
          -0.460006087970801,
          -0.45999969504214083,
          -0.1550677514203239,
          -0.1907096212422274,
          -0.23343935933243506,
          -0.4605547818487932,
          -0.15508614562306056,
          -0.44533158893612573,
          -0.5725242491043748,
          -0.44538570822261775,
          -0.1550661288909405,
          0.008422741779257023,
          -0.4453362300623927,
          0.008261558392908812,
          -0.44539183727250786,
          -0.46000250504038637,
          -0.4600001615661799,
          -0.4599998060477404,
          -0.04056373339951068,
          -0.445333814467462,
          -0.1552300125497368,
          0.00847812624072789,
          -0.4600113838334899,
          -0.44532428943902064,
          -0.6155672209472963,
          -0.040513304211514736,
          0.05068271970485898,
          -0.6278042854641716,
          -0.5268100976322659,
          -0.5268427307666944,
          -0.5025353010679426,
          -0.5383764990587937,
          -0.445324279851204,
          -0.4650219825921489,
          -0.5383768593261701,
          0.07325156819155208,
          -0.5025578040681862,
          -0.4453312589846745,
          -0.1550764913159024,
          5.699006534560182,
          0.008482229543762205,
          -0.46001037346890017,
          -0.4600018559075685,
          -0.23529836347685104,
          -0.04782847004496476,
          -0.44532831241261184,
          -0.3236620117011561,
          -0.4600001572931651,
          -0.03267863554842026,
          -0.486906926940785,
          -0.34549206767249857,
          -0.5271190415781207,
          -0.47304288014583334,
          -0.4600007175420347,
          -0.3497885643012607,
          0.015954261273231504,
          -0.4600086092510417,
          -0.34064524390919904,
          -0.4453242798318097,
          -0.044838115585106426,
          -0.04550488246156101,
          -0.1732519354858167,
          -0.4453454903775696,
          -0.22978399106847855,
          -0.5425766448256777,
          -0.5384665986017301,
          -0.46006114513631313,
          -0.2218817416332321,
          -0.04484753007884485,
          -0.46272688104206716,
          -0.4600041994154364,
          -0.4453493631819489,
          -0.34544136943519843,
          -0.4599995238450107,
          -0.04485327403287552,
          -0.4603276953680253,
          -0.4600009144668152,
          -0.1403933316053754,
          -0.45999953301818913,
          -0.8840129430343977,
          0.05072689275772202,
          -0.22051923946941485,
          -0.4601299240844791,
          -0.23355917223733597,
          -0.2899528450566889,
          -0.44532548362321767,
          -0.5161656652161486,
          -0.15508032678354755,
          0.08276434294756231,
          -0.5268154373955424,
          -0.4599999933809498,
          -0.46000018024163225,
          -0.15521454862564643,
          -0.11269245329855061,
          0.16042128368377875,
          0.008472303386270166,
          -0.4600050101445885,
          -0.45999952428358004,
          -0.29214928688547415,
          -0.45999952612244516,
          -0.34984910249751233,
          0.008478300900086227,
          0.006163610708278146,
          -0.4607792106516644,
          -0.3429304039597774,
          -0.15508762058421882,
          -0.46566315567814465,
          -0.15507036516199596,
          -0.6357725382685001,
          -0.46001151731741635,
          -0.2880741673477933,
          -0.29309785313716996,
          -0.04483962644390102,
          -0.040539660460138086,
          -0.10122030836285777,
          -0.29878784137637815,
          -0.04484204785943186,
          -0.34977479752878915,
          -0.15506678455715073,
          -0.5793230784018998,
          -0.33760610802679153,
          -0.04487479234200441,
          -0.46000252890088544,
          -0.45999952428358004,
          -0.14040158408134473,
          -0.4453413658178932,
          -0.15512596582837143,
          0.008479270953463076,
          -0.15506613223767493,
          -0.15506612869785957,
          -0.34115039551611825,
          -0.1403933860430172,
          -0.3497715118374154,
          -0.4605881497092294,
          -0.5982336303205089,
          -0.32356060042313417,
          -0.21123580564827218,
          -0.489703528320739,
          -0.14994675350881354,
          0.2036152435496586,
          -0.3497911181485475,
          -0.46000772920535926,
          -0.3497816524857402,
          -0.044839189551520026,
          -0.4771159488324967,
          -0.14039128182997795,
          -0.4600109327402404,
          -0.5162758955213794,
          -0.6362518127902023,
          -0.4453328438837537,
          -0.445337481636242,
          -0.23017928351971864,
          -0.14039088448198409,
          -0.46850554928586435,
          -0.4454589699182735,
          -0.42271668962202946,
          -0.4600014887579585,
          -0.46001094926321234,
          -0.04050999915573557,
          -0.46000487158067344,
          -0.44556656895915864,
          -0.46054412719251075,
          -0.35540205038862976,
          -0.4455987132359772,
          -0.46003283909848725,
          -0.3454409558054827,
          -0.4602240237716779,
          -0.44543608900410464,
          -0.4600570609613432,
          0.00848232903948717,
          -0.0996493726493371,
          -0.3454824203142907,
          -0.2296906633820688,
          -0.16061884452410385,
          -0.4601394521563467,
          -0.3235612216388662,
          -0.4599995252030126,
          -0.5383647679077754,
          -0.23019068633941353,
          -0.23024723210489528,
          -0.0410628182676775,
          0.00847929630701733,
          0.076633508510465,
          -0.17003189630563953,
          -0.460007815487712,
          -0.15506619963466028
         ]
        },
        {
         "customdata": [
          [
           "SHA-256"
          ],
          [
           "Ethash"
          ],
          [
           "Scrypt"
          ],
          [
           "CryptoNight-V7"
          ],
          [
           "Ethash"
          ],
          [
           "Equihash"
          ],
          [
           "Multiple"
          ],
          [
           "Scrypt"
          ],
          [
           "X11"
          ],
          [
           "SHA-256"
          ],
          [
           "Scrypt"
          ],
          [
           "SHA-256"
          ],
          [
           "Multiple"
          ],
          [
           "Scrypt"
          ],
          [
           "SHA-256"
          ],
          [
           "Scrypt"
          ],
          [
           "Scrypt"
          ],
          [
           "Quark"
          ],
          [
           "Groestl"
          ],
          [
           "Scrypt"
          ],
          [
           "X11"
          ],
          [
           "Scrypt"
          ],
          [
           "Scrypt"
          ],
          [
           "Scrypt"
          ],
          [
           "X11"
          ],
          [
           "Multiple"
          ],
          [
           "Scrypt"
          ],
          [
           "SHA-256"
          ],
          [
           "Scrypt"
          ],
          [
           "Scrypt"
          ],
          [
           "Scrypt"
          ],
          [
           "Scrypt"
          ],
          [
           "Scrypt"
          ],
          [
           "Scrypt"
          ],
          [
           "SHA-256"
          ],
          [
           "Scrypt"
          ],
          [
           "NeoScrypt"
          ],
          [
           "Scrypt"
          ],
          [
           "Scrypt"
          ],
          [
           "Scrypt"
          ],
          [
           "Multiple"
          ],
          [
           "Scrypt"
          ],
          [
           "SHA-256"
          ],
          [
           "Scrypt"
          ],
          [
           "Scrypt"
          ],
          [
           "Scrypt"
          ],
          [
           "Scrypt"
          ],
          [
           "Scrypt"
          ],
          [
           "HybridScryptHash256"
          ],
          [
           "Scrypt"
          ],
          [
           "SHA-256"
          ],
          [
           "Scrypt"
          ],
          [
           "SHA-256"
          ],
          [
           "Scrypt"
          ],
          [
           "Scrypt"
          ],
          [
           "Scrypt"
          ],
          [
           "Scrypt"
          ],
          [
           "Scrypt"
          ],
          [
           "Scrypt-n"
          ],
          [
           "Scrypt"
          ],
          [
           "SHA-256"
          ],
          [
           "SHA-256"
          ],
          [
           "SHA-256"
          ],
          [
           "SHA-256"
          ],
          [
           "SHA-256"
          ],
          [
           "SHA-256"
          ],
          [
           "X11"
          ],
          [
           "Scrypt"
          ],
          [
           "X11"
          ],
          [
           "Lyra2REv2"
          ],
          [
           "Scrypt"
          ],
          [
           "SHA-256"
          ],
          [
           "CryptoNight"
          ],
          [
           "CryptoNight"
          ],
          [
           "Scrypt"
          ],
          [
           "SHA-256"
          ],
          [
           "Scrypt"
          ],
          [
           "Scrypt"
          ],
          [
           "Scrypt"
          ],
          [
           "Scrypt"
          ],
          [
           "Scrypt"
          ],
          [
           "Momentum"
          ],
          [
           "Stanford Folding"
          ],
          [
           "Multiple"
          ],
          [
           "QuBit"
          ],
          [
           "Scrypt"
          ],
          [
           "Scrypt"
          ],
          [
           "SHA-256"
          ],
          [
           "M7 POW"
          ],
          [
           "Scrypt"
          ],
          [
           "X11"
          ],
          [
           "Scrypt"
          ],
          [
           "SHA-256"
          ],
          [
           "Scrypt"
          ],
          [
           "X11"
          ],
          [
           "X11"
          ],
          [
           "Lyra2RE"
          ],
          [
           "SHA-256"
          ],
          [
           "X11"
          ],
          [
           "Scrypt"
          ],
          [
           "Scrypt"
          ],
          [
           "Ethash"
          ],
          [
           "Blake2b"
          ],
          [
           "X11"
          ],
          [
           "SHA-256"
          ],
          [
           "Scrypt"
          ],
          [
           "Scrypt"
          ],
          [
           "1GB AES Pattern Search"
          ],
          [
           "Scrypt"
          ],
          [
           "CryptoNight"
          ],
          [
           "SHA-256"
          ],
          [
           "SHA-256"
          ],
          [
           "X11"
          ],
          [
           "Scrypt-n"
          ],
          [
           "X11"
          ],
          [
           "Scrypt"
          ],
          [
           "Dagger"
          ],
          [
           "Scrypt"
          ],
          [
           "CryptoNight-Lite"
          ],
          [
           "X11GOST"
          ],
          [
           "SHA-256"
          ],
          [
           "Scrypt"
          ],
          [
           "X11"
          ],
          [
           "SHA-256"
          ],
          [
           "Scrypt"
          ],
          [
           "X11"
          ],
          [
           "Equihash"
          ],
          [
           "CryptoNight"
          ],
          [
           "SHA-256"
          ],
          [
           "Multiple"
          ],
          [
           "Scrypt"
          ],
          [
           "SHA-256"
          ],
          [
           "Scrypt"
          ],
          [
           "Scrypt"
          ],
          [
           "Scrypt-n"
          ],
          [
           "Lyra2Z"
          ],
          [
           "SHA-256"
          ],
          [
           "Quark"
          ],
          [
           "Ethash"
          ],
          [
           "SHA-256"
          ],
          [
           "Equihash"
          ],
          [
           "Scrypt"
          ],
          [
           "Equihash"
          ],
          [
           "X11"
          ],
          [
           "X11"
          ],
          [
           "CryptoNight"
          ],
          [
           "Scrypt"
          ],
          [
           "CryptoNight"
          ],
          [
           "Lyra2RE"
          ],
          [
           "X11"
          ],
          [
           "X11"
          ],
          [
           "Scrypt"
          ],
          [
           "CryptoNight-V7"
          ],
          [
           "Keccak"
          ],
          [
           "Scrypt"
          ],
          [
           "X11"
          ],
          [
           "Equihash"
          ],
          [
           "Scrypt"
          ],
          [
           "Lyra2RE"
          ],
          [
           "Ethash"
          ],
          [
           "X11"
          ],
          [
           "Dagger-Hashimoto"
          ],
          [
           "Scrypt"
          ],
          [
           "NIST5"
          ],
          [
           "Scrypt"
          ],
          [
           "Scrypt"
          ],
          [
           "Scrypt"
          ],
          [
           "SHA-256"
          ],
          [
           "Scrypt"
          ],
          [
           "CryptoNight-V7"
          ],
          [
           "Argon2d"
          ],
          [
           "Blake2b"
          ],
          [
           "Cloverhash"
          ],
          [
           "CryptoNight"
          ],
          [
           "X11"
          ],
          [
           "Scrypt"
          ],
          [
           "Scrypt"
          ],
          [
           "X11"
          ],
          [
           "X11"
          ],
          [
           "CryptoNight"
          ],
          [
           "Time Travel"
          ],
          [
           "Scrypt"
          ],
          [
           "Keccak"
          ],
          [
           "X11"
          ],
          [
           "SHA-256"
          ],
          [
           "Scrypt"
          ],
          [
           "Scrypt"
          ],
          [
           "Scrypt"
          ],
          [
           "Scrypt"
          ],
          [
           "Scrypt"
          ],
          [
           "Scrypt"
          ],
          [
           "Scrypt"
          ],
          [
           "Scrypt"
          ],
          [
           "CryptoNight"
          ],
          [
           "Equihash"
          ],
          [
           "X11"
          ],
          [
           "NeoScrypt"
          ],
          [
           "Equihash"
          ],
          [
           "Dagger"
          ],
          [
           "Scrypt"
          ],
          [
           "X11"
          ],
          [
           "NeoScrypt"
          ],
          [
           "Scrypt"
          ],
          [
           "Ethash"
          ],
          [
           "Scrypt"
          ],
          [
           "NeoScrypt"
          ],
          [
           "Multiple"
          ],
          [
           "CryptoNight"
          ],
          [
           "CryptoNight"
          ],
          [
           "Ethash"
          ],
          [
           "X11"
          ],
          [
           "SHA-256"
          ],
          [
           "CryptoNight-V7"
          ],
          [
           "Scrypt"
          ],
          [
           "BLAKE256"
          ],
          [
           "X11"
          ],
          [
           "NeoScrypt"
          ],
          [
           "NeoScrypt"
          ],
          [
           "Scrypt"
          ],
          [
           "X11"
          ],
          [
           "SHA-256"
          ],
          [
           "C11"
          ],
          [
           "Ethash"
          ],
          [
           "CryptoNight"
          ],
          [
           "SkunkHash"
          ],
          [
           "CryptoNight"
          ],
          [
           "Equihash"
          ],
          [
           "Skein"
          ],
          [
           "Scrypt"
          ],
          [
           "Dagger"
          ],
          [
           "Lyra2REv2"
          ],
          [
           "Scrypt"
          ],
          [
           "Scrypt"
          ],
          [
           "Scrypt"
          ],
          [
           "NeoScrypt"
          ],
          [
           "Equihash"
          ],
          [
           "X11"
          ],
          [
           "Ethash"
          ],
          [
           "X11"
          ],
          [
           "CryptoNight"
          ],
          [
           "NeoScrypt"
          ],
          [
           "Scrypt"
          ],
          [
           "IMesh"
          ],
          [
           "Equihash"
          ],
          [
           "Equihash"
          ],
          [
           "Equihash"
          ],
          [
           "Lyra2Z"
          ],
          [
           "X11"
          ],
          [
           "CryptoNight"
          ],
          [
           "NIST5"
          ],
          [
           "Lyra2RE"
          ],
          [
           "Tribus"
          ],
          [
           "Lyra2Z"
          ],
          [
           "CryptoNight"
          ],
          [
           "CryptoNight Heavy"
          ],
          [
           "CryptoNight"
          ],
          [
           "Jump Consistent Hash"
          ],
          [
           "CryptoNight"
          ],
          [
           "X16R"
          ],
          [
           "HMQ1725"
          ],
          [
           "X11"
          ],
          [
           "Scrypt"
          ],
          [
           "CryptoNight-V7"
          ],
          [
           "Cryptonight-GPU"
          ],
          [
           "XEVAN"
          ],
          [
           "CryptoNight Heavy"
          ],
          [
           "Lyra2REv2"
          ],
          [
           "SHA-256"
          ],
          [
           "X11"
          ],
          [
           "X16R"
          ],
          [
           "Equihash"
          ],
          [
           "Quark"
          ],
          [
           "CryptoNight Heavy X"
          ],
          [
           "Lyra2Z"
          ],
          [
           "Ethash"
          ],
          [
           "SHA-256"
          ],
          [
           "Ethash"
          ],
          [
           "CryptoNight"
          ],
          [
           "SkunkHash"
          ],
          [
           "Argon2"
          ],
          [
           "Blake"
          ],
          [
           "Blake"
          ],
          [
           "SHA-256"
          ],
          [
           "Equihash"
          ],
          [
           "Exosis"
          ],
          [
           "Scrypt"
          ],
          [
           "Equihash"
          ],
          [
           "Equihash"
          ],
          [
           "QuBit"
          ],
          [
           "Equihash1927"
          ],
          [
           "SHA-256"
          ],
          [
           "SHA-256"
          ],
          [
           "X13"
          ],
          [
           "SHA-256"
          ],
          [
           "X11"
          ],
          [
           "Scrypt"
          ],
          [
           "NeoScrypt"
          ],
          [
           "Blake"
          ],
          [
           "CryptoNight"
          ],
          [
           "Scrypt"
          ],
          [
           "SHA-256"
          ],
          [
           "CryptoNight"
          ],
          [
           "Scrypt"
          ],
          [
           "Groestl"
          ],
          [
           "Scrypt"
          ],
          [
           "Scrypt"
          ],
          [
           "Scrypt"
          ],
          [
           "Multiple"
          ],
          [
           "Equihash+Scrypt"
          ],
          [
           "Ethash"
          ],
          [
           "Ethash"
          ],
          [
           "CryptoNight"
          ],
          [
           "Equihash"
          ]
         ],
         "hovertemplate": "<b>%{hovertext}</b><br><br>class=%{marker.color}<br>PC 1=%{x}<br>PC 2=%{y}<br>PC 3=%{z}<br>Algorithm=%{customdata[0]}<extra></extra>",
         "hovertext": [
          "Bitcoin",
          "Ethereum",
          "Litecoin",
          "Monero",
          "Ethereum Classic",
          "ZCash",
          "DigiByte",
          "ProsperCoin",
          "Spreadcoin",
          "ACoin",
          "Argentum",
          "BetaCoin",
          "MyriadCoin",
          "MoonCoin",
          "ZetaCoin",
          "SexCoin",
          "Quatloo",
          "QuarkCoin",
          "Riecoin",
          "Digitalcoin ",
          "LimeCoinX",
          "BitMark",
          "Catcoin",
          "CannaCoin",
          "CryptCoin",
          "Verge",
          "DarkShibe",
          "DevCoin",
          "EarthCoin",
          "E-Gulden",
          "Elacoin",
          "Einsteinium",
          "Emerald",
          "Flappy Coin",
          "FireRoosterCoin",
          "Franko",
          "FeatherCoin",
          "GrandCoin",
          "GlobalCoin",
          "GoldCoin",
          "HunterCoin",
          "Infinite Coin",
          "IXcoin",
          "KrugerCoin",
          "LuckyCoin",
          "Litebar ",
          "LitecoinDark",
          "MegaCoin",
          "MediterraneanCoin",
          "MinCoin",
          "NoirBits",
          "NobleCoin",
          "Namecoin",
          "NyanCoin",
          "RipOffCoin",
          "RonPaulCoin",
          "StableCoin",
          "SmartCoin",
          "SpainCoin",
          "SecureCoin",
          "SysCoin",
          "TigerCoin",
          "TerraCoin",
          "Umbrella",
          "UnbreakableCoin",
          "Unobtanium",
          "UroCoin",
          "ViaCoin",
          "VootCoin",
          "Vertcoin",
          "WorldCoin",
          "JouleCoin",
          "ByteCoin",
          "DigitalNote ",
          "MonaCoin",
          "Sling Coin",
          "Gulden",
          "PesetaCoin",
          "Wild Beast Coin",
          "Flo",
          "ArtByte",
          "BitCredit",
          "Folding Coin",
          "Unitus",
          "CypherPunkCoin",
          "OmniCron",
          "GreenCoin",
          "Unattanium",
          "Cryptonite",
          "Gridmaster",
          "ConSpiracy Coin ",
          "MasterCoin",
          "SoonCoin",
          "1Credit",
          "Quicksilver coin",
          "MarsCoin ",
          "Crypto",
          "Anarchists Prime",
          "BowsCoin",
          "Song Coin",
          "BitZeny",
          "Expanse",
          "Siacoin",
          "MindCoin",
          "I0coin",
          "DogeCoinDark",
          "Revolution VR",
          "HOdlcoin",
          "Gamecredits",
          "Dashcoin",
          "CarpeDiemCoin",
          "Phalanx",
          "SunShotCoin",
          "HempCoin",
          "Adzcoin",
          "VirtaCoin",
          "SoilCoin",
          "YoCoin",
          "AEON",
          "SibCoin",
          "Anti Bitcoin",
          "Francs",
          "BolivarCoin",
          "Clinton",
          "Omni",
          "PizzaCoin",
          "Komodo",
          "Karbo",
          "ZayedCoin",
          "Circuits of Value",
          "DopeCoin",
          "DollarCoin",
          "Shilling",
          "GBR Coin",
          "FujiCoin",
          "ZCoin",
          "LeaCoin",
          "Zurcoin",
          "Elementrem",
          "CashOut",
          "ZClassic",
          "KiloCoin",
          "Hush",
          "ArtexCoin",
          "Kurrent",
          "Cannabis Industry Coin",
          "OsmiumCoin",
          "Bikercoins",
          "HexxCoin",
          "MarxCoin",
          "PacCoin",
          "Solarflarecoin",
          "Citadel",
          "CreativeChain",
          "BeaverCoin",
          "VaultCoin",
          "Zero",
          "Canada eCoin",
          "Zoin",
          "Musicoin",
          "BnrtxCoin",
          "DubaiCoin",
          "EB3coin",
          "Coinonat",
          "Bitcoin Scrypt",
          "BenjiRolls",
          "ParallelCoin",
          "ILCoin",
          "EquiTrader",
          "Quantum Resistant Ledger",
          "Dynamic",
          "Nano",
          "ChanCoin",
          "Dinastycoin",
          "DigitalPrice",
          "Unify",
          "SocialCoin",
          "ArcticCoin",
          "DAS",
          "LeviarCoin",
          "Bitcore",
          "gCn Coin",
          "SmartCash",
          "Onix",
          "Bitcoin Cash",
          "CampusCoin",
          "Sojourn Coin",
          "NewYorkCoin",
          "LiteBitcoin",
          "FrazCoin",
          "Kronecoin",
          "AdCoin",
          "Linx",
          "Sumokoin",
          "BitcoinZ",
          "Elements",
          "VIVO Coin",
          "Bitcoin Gold",
          "Pirl",
          "eBoost",
          "Pura",
          "Innova",
          "Bitdeal",
          "Ellaism",
          "Sakuracoin",
          "GoByte",
          "SHIELD",
          "UltraNote",
          "BitCoal",
          "DaxxCoin",
          "AC3",
          "CHIPS",
          "Lethean",
          "PopularCoin",
          "Photon",
          "Sucre",
          "SparksPay",
          "GunCoin",
          "IrishCoin",
          "Pioneer Coin",
          "UnitedBitcoin",
          "Interzone",
          "1717 Masonic Commemorative Token",
          "TurtleCoin",
          "MUNcoin",
          "Niobio Cash",
          "Bitcoin Private",
          "Skeincoin",
          "ShareChain",
          "Travelflex",
          "KREDS",
          "BitFlip",
          "LottoCoin",
          "LeafCoin",
          "Cerberus",
          "Bitcoin Hush",
          "Crypto Improvement Fund",
          "Callisto Network",
          "Curium",
          "BitTube",
          "Dinero",
          "Poseidon",
          "Aidos Kuneen",
          "Snowgem",
          "Bitrolium",
          "Bitcoin Interest",
          "Alpenschillling",
          "FuturoCoin",
          "Monero Classic",
          "Jumpcoin",
          "Infinex",
          "KEYCO",
          "GINcoin",
          "PlatinCoin",
          "Loki",
          "Newton Coin",
          "MassGrid",
          "PluraCoin",
          "Motion",
          "PlusOneCoin",
          "Axe",
          "HexCoin",
          "Webchain",
          "Ryo",
          "Urals Coin",
          "Qwertycoin",
          "NIX",
          "Project Pai",
          "Azart",
          "Xchange",
          "CrypticCoin",
          "ZestCoin",
          "X-CASH",
          "Actinium",
          "ETHER-1",
          "Bitcoin SV",
          "Bitcoiin2Gen",
          "FREDEnergy",
          "C25 Coin",
          "Aquachain",
          "Universal Molecule",
          "Lithium",
          "Smart Bitcoin",
          "PirateCash",
          "Exosis",
          "Block-Logic",
          "Beam",
          "Bithereum",
          "SLICE",
          "Vidulum",
          "BlockStamp",
          "BLAST",
          "Bitcoin Rhodium",
          "GlobalToken",
          "Boolberry",
          "SolarCoin",
          "UFO Coin",
          "BlakeCoin",
          "FantomCoin ",
          "Crypto Escudo",
          "Crown Coin",
          "Quazar Coin",
          "SmileyCoin",
          "Groestlcoin",
          "Bata",
          "Pakcoin",
          "Dotcoin",
          "JoinCoin",
          "Vollar",
          "Reality Clash",
          "iOlite",
          "Beldex",
          "Horizen"
         ],
         "legendgroup": "3",
         "marker": {
          "color": [
           3,
           3,
           3,
           3,
           3,
           3,
           3,
           3,
           3,
           3,
           3,
           3,
           3,
           3,
           3,
           3,
           3,
           3,
           3,
           3,
           3,
           3,
           3,
           3,
           3,
           3,
           3,
           3,
           3,
           3,
           3,
           3,
           3,
           3,
           3,
           3,
           3,
           3,
           3,
           3,
           3,
           3,
           3,
           3,
           3,
           3,
           3,
           3,
           3,
           3,
           3,
           3,
           3,
           3,
           3,
           3,
           3,
           3,
           3,
           3,
           3,
           3,
           3,
           3,
           3,
           3,
           3,
           3,
           3,
           3,
           3,
           3,
           3,
           3,
           3,
           3,
           3,
           3,
           3,
           3,
           3,
           3,
           3,
           3,
           3,
           3,
           3,
           3,
           3,
           3,
           3,
           3,
           3,
           3,
           3,
           3,
           3,
           3,
           3,
           3,
           3,
           3,
           3,
           3,
           3,
           3,
           3,
           3,
           3,
           3,
           3,
           3,
           3,
           3,
           3,
           3,
           3,
           3,
           3,
           3,
           3,
           3,
           3,
           3,
           3,
           3,
           3,
           3,
           3,
           3,
           3,
           3,
           3,
           3,
           3,
           3,
           3,
           3,
           3,
           3,
           3,
           3,
           3,
           3,
           3,
           3,
           3,
           3,
           3,
           3,
           3,
           3,
           3,
           3,
           3,
           3,
           3,
           3,
           3,
           3,
           3,
           3,
           3,
           3,
           3,
           3,
           3,
           3,
           3,
           3,
           3,
           3,
           3,
           3,
           3,
           3,
           3,
           3,
           3,
           3,
           3,
           3,
           3,
           3,
           3,
           3,
           3,
           3,
           3,
           3,
           3,
           3,
           3,
           3,
           3,
           3,
           3,
           3,
           3,
           3,
           3,
           3,
           3,
           3,
           3,
           3,
           3,
           3,
           3,
           3,
           3,
           3,
           3,
           3,
           3,
           3,
           3,
           3,
           3,
           3,
           3,
           3,
           3,
           3,
           3,
           3,
           3,
           3,
           3,
           3,
           3,
           3,
           3,
           3,
           3,
           3,
           3,
           3,
           3,
           3,
           3,
           3,
           3,
           3,
           3,
           3,
           3,
           3,
           3,
           3,
           3,
           3,
           3,
           3,
           3,
           3,
           3,
           3,
           3,
           3,
           3,
           3,
           3,
           3,
           3,
           3,
           3,
           3,
           3,
           3,
           3,
           3,
           3,
           3,
           3,
           3,
           3,
           3,
           3,
           3,
           3,
           3,
           3,
           3,
           3,
           3,
           3,
           3,
           3,
           3,
           3,
           3,
           3,
           3,
           3,
           3,
           3,
           3,
           3,
           3,
           3,
           3,
           3,
           3,
           3,
           3,
           3,
           3,
           3,
           3,
           3,
           3,
           3
          ],
          "coloraxis": "coloraxis",
          "symbol": "diamond"
         },
         "mode": "markers",
         "name": "3",
         "scene": "scene",
         "showlegend": true,
         "type": "scatter3d",
         "x": [
          -0.23733949529185613,
          -0.30068313841189626,
          -0.26935155769268937,
          -0.28951184834813537,
          -0.30060492415323165,
          -0.3449103192072899,
          -0.07300930276948618,
          -0.2701408170273715,
          -0.2762500905248999,
          -0.23758655238404702,
          -0.27005210114186595,
          -0.2375865524419461,
          -0.20693402087682866,
          -0.2702210410905399,
          -0.23524094008555307,
          -0.26844335653510065,
          -0.27011891224581513,
          -0.03389554455273172,
          -0.2753359493407145,
          -0.2697594281217555,
          -0.27640374670922807,
          -0.2702203109985779,
          -0.27012081166384094,
          -0.2701554860909927,
          -0.27633488247552795,
          -0.010672849194536257,
          -0.2702203109499426,
          0.021138797253812274,
          -0.0974182585660753,
          -0.2699321404927674,
          -0.270220311088893,
          -0.2672040045752483,
          -0.2699516228253228,
          -0.27022050140366205,
          -0.2375865523859562,
          -0.27020456280165395,
          -0.28270891106081864,
          -0.2580360413142209,
          -0.2693152653160288,
          -0.26964620691058155,
          -0.2302001061028707,
          0.9782933873781081,
          -0.2372959168903475,
          -0.2681331883228627,
          -0.26995397203645316,
          -0.27020509181259444,
          -0.27022031110223105,
          -0.26969453250325226,
          -0.30673541595920706,
          -0.27014032233350327,
          -0.23758655247622856,
          -0.23761321938226426,
          -0.23738346784811268,
          -0.26560763279991584,
          -0.2702203109689047,
          -0.2702050944244446,
          -0.26988659831465667,
          -0.2698675998539486,
          -0.2771053391292007,
          -0.2702203109860459,
          -0.22982312739550476,
          -0.23698656519870054,
          -0.2372704762754536,
          -0.23758655238599918,
          -0.23755515700123367,
          -0.23758378358547635,
          -0.2763871085462381,
          -0.269901265018804,
          -0.27640374666923195,
          -0.24797625324893147,
          -0.268571989980455,
          -0.23704639001270114,
          2.409165155359431,
          -0.03230677944204217,
          -0.26928050994521124,
          -0.23758655238290427,
          -0.2645006891526344,
          -0.26832515952231895,
          -0.270217803894251,
          -0.2681218460261775,
          -0.2592982362979909,
          -0.21932367398809952,
          -0.27178428737406607,
          -0.22930276969068866,
          -0.2945823128439608,
          -0.27008056945558356,
          -0.20668452342432825,
          -0.23758655238099968,
          -0.28824348151822676,
          -0.27022031110603406,
          -0.27640374673208296,
          -0.27021177382655964,
          -0.2374148031566092,
          -0.27021927049026456,
          -0.27640374673208296,
          -0.2759596963018459,
          -0.3708851752747007,
          -0.23738331907405885,
          -0.27618512474843876,
          -0.2697715239871866,
          -0.26917825648094124,
          -0.30202251409355085,
          0.28822231142554,
          -0.27618507157812083,
          -0.23729718299421868,
          -0.27022034237155573,
          -0.2673262693611661,
          -0.31784604239137454,
          -0.26925788917528265,
          -0.1274874962240632,
          0.062015270772345865,
          -0.23758655240956827,
          -0.27640375095452824,
          -0.27710534855685237,
          -0.27578207458347387,
          -0.27022035094214825,
          -0.29476897944593483,
          -0.2702115400792117,
          -0.2233421075545164,
          -0.2896246805721043,
          -0.2375865524609919,
          -0.2701297576830316,
          -0.2762155777262936,
          -0.23758655238561108,
          -0.27021181558344537,
          -0.27638475743280055,
          -0.49744544033226507,
          -0.12737969407117566,
          -0.23750050508951107,
          -0.21641895599958572,
          -0.2686100494433425,
          -0.23746105138859455,
          -0.27006707561443516,
          -0.2702203111127002,
          -0.2771053390530176,
          -0.3070428106302945,
          -0.23758655619015187,
          -0.03747254114480472,
          -0.3018060086116098,
          -0.23758655257145736,
          -0.3449347050424328,
          -0.26751511775555475,
          -0.3450120662299759,
          -0.26504807811908193,
          -0.27555806926912235,
          -0.12747401626370072,
          -0.2702079902427453,
          -0.12735854478164957,
          -0.3710487104740712,
          -0.2764037468609085,
          -0.2690037053779634,
          -0.2702203109841414,
          -0.2895977304247608,
          -0.2874891925115763,
          -0.27017737910746986,
          -0.2759850008190834,
          -0.3449166778557357,
          -0.26884435391947853,
          -0.37081898404612484,
          -0.30216715195238086,
          -0.27640374706919296,
          -0.2719208496592155,
          -0.26933700110935055,
          -0.23406543917268383,
          -0.2702203109860459,
          -0.2699408830031348,
          -0.2702203109479543,
          -0.2194264781404205,
          -0.2700318757865526,
          -0.28879750425890177,
          -0.28104303195952857,
          -0.1660740397879433,
          -0.250460915967842,
          -0.10255095770265862,
          -0.27591949129323995,
          -0.269970414660624,
          -0.2701490931945205,
          -0.27604485299359377,
          -0.27636760031377394,
          -0.1272923303276672,
          -0.35212968612401063,
          1.9768664415098824,
          -0.2566055134046155,
          -0.2747158933375012,
          -0.2373385524591854,
          -0.2702203128696716,
          -0.2702136441360627,
          1.7005763859361394,
          -0.270220312850626,
          -0.27008657810332837,
          -0.26997977832713466,
          -0.2697704015633438,
          -0.2697556585563783,
          -0.12736420117057898,
          -0.2731908969720313,
          -0.23915528445634662,
          -0.28552719919151553,
          -0.34477499787173777,
          -0.2943791807305602,
          -0.26884233369657035,
          -0.2739890708960401,
          -0.2854967526436241,
          -0.2702203115174226,
          -0.3019913541827396,
          -0.27022031114622075,
          -0.28550423512496614,
          -0.22356130497025337,
          0.13823805961221478,
          -0.12742548102734763,
          -0.29498868117517985,
          -0.275296897835218,
          -0.2375865524209958,
          -0.2836679651528362,
          -0.21558905927556318,
          0.31566720720141295,
          -0.2763454656556379,
          -0.2854764645602482,
          -0.2814530506738898,
          -0.2695935022375227,
          -0.27628690866584205,
          -0.23730864170194857,
          -0.25815377399915174,
          -0.10751201634504562,
          0.6048387619796045,
          -0.3454682063208847,
          -0.12564175309138134,
          -0.3450120662299759,
          -0.3082064736740331,
          -0.13240880690396917,
          -0.29336849453350555,
          -0.23980923855339883,
          -0.27004878942244415,
          -0.07051746915895485,
          -0.27022035094214825,
          -0.2855846110337505,
          -0.3450120662299759,
          -0.27349182268285843,
          -0.29875477853739235,
          -0.2764037467111326,
          -0.1263843294898039,
          -0.2855846111642141,
          -0.27016421877248736,
          -0.2695621338658877,
          -0.3450120663501472,
          -0.3440287056266973,
          -0.3450120662324519,
          -0.3067703271800675,
          -0.27596548607943266,
          -0.1272667653816811,
          -0.23391458861208378,
          -0.3710043139266433,
          -0.2591370253392298,
          -0.3070508296077352,
          -0.12748633558053704,
          0.27289855407004343,
          0.4415982232414781,
          -0.23970433454682608,
          -0.11976886827740715,
          -0.223687288659172,
          -0.26422793387805243,
          -0.2763349369927051,
          -0.2702007877386681,
          -0.2895341901550356,
          -0.2805709668992763,
          -0.21749142113522715,
          1.644590822909365,
          -0.2486814863043726,
          -0.2086461365321627,
          -0.27633462209168014,
          -0.22366485462692662,
          -0.2866473639834503,
          -0.03747254096063224,
          -0.3333910379808308,
          -0.30695920644157937,
          -0.3021671511120205,
          -0.23733859483622852,
          -0.30216715127644983,
          -0.10175734400032099,
          -0.34553460856437623,
          -0.25721417549931724,
          -0.2300879542316585,
          -0.22989131853554856,
          -0.2375865524209953,
          -0.15019351629912456,
          -0.2525749519558018,
          -0.2697340471130524,
          -0.34452025154185956,
          -0.34466545941558124,
          -0.29449190170996564,
          -0.27303649493819737,
          -0.2375865525809802,
          -0.2368658831755142,
          -0.16285161554081487,
          -0.23642048668255028,
          -0.2764037467043714,
          -0.26945474700423794,
          -0.2328760519085648,
          -0.2297878344161549,
          -0.1274874962239741,
          -0.2594681103609828,
          -0.23726976609015443,
          -0.1274874962240632,
          0.13748105658576817,
          -0.2750086522674954,
          -0.27015068091289296,
          -0.2692599791987273,
          -0.2702203126411225,
          -0.23015417451560544,
          -0.30266063707741364,
          -0.3018296790453179,
          -0.3021671529905685,
          -0.11397890197755371,
          -0.3449115115353616
         ],
         "y": [
          -1.4359004819099033,
          -2.098434426941274,
          -1.0697472471999905,
          -2.1851346621914094,
          -2.0984447643759614,
          -1.9476698613587928,
          -1.7445654546660891,
          -1.0696429063510708,
          -0.8034997744840877,
          -1.4358678207188542,
          -1.0696546342247533,
          -1.4358678203283433,
          -1.7268605817997809,
          -1.069627464761124,
          -1.4361779131775843,
          -1.0698673110955572,
          -1.0696458012115189,
          -0.6009141110449817,
          -1.1628630742578263,
          -1.0696933263752704,
          -0.803479460820551,
          -1.069632397008258,
          -1.0696455510996277,
          -1.0696409671708864,
          -0.8034885648459915,
          -1.752806512884253,
          -1.0696323973362873,
          -1.4700715583088722,
          -1.0924769998447876,
          -1.0696704938009511,
          -1.0696323963991137,
          -1.0700311552445103,
          -1.069667918059588,
          -1.069631112789172,
          -1.435867820705977,
          -1.0696344791568224,
          -1.6092531743845795,
          -1.0712431639730962,
          -1.0697520453001546,
          -1.0697082941396703,
          -1.7237847840558898,
          -1.2346872323024898,
          -1.4359062430606215,
          -1.0699083157513944,
          -1.0696676076403662,
          -1.0696344093450327,
          -1.069632396309152,
          -1.0697019057818187,
          -2.2546101108051726,
          -1.06964297188911,
          -1.4358678200971202,
          -1.073942930336693,
          -1.435894668651147,
          -1.0702421982764545,
          -1.069632397208395,
          -1.0696344087522702,
          -1.0696765116828009,
          -1.069679025820493,
          -2.270540156726256,
          -1.069632397092783,
          -1.43689414966697,
          -1.43594713963744,
          -1.4359096060956669,
          -1.4358678207056867,
          -1.4358719702630829,
          -1.4358681867764933,
          -0.8034816606830211,
          -1.0696745755743808,
          -0.8034794610903111,
          -1.4935457121211067,
          -1.0698503053059023,
          -1.435939230704251,
          -2.607995769659965,
          -2.285230556734,
          -1.0697566395864977,
          -1.4358678207265614,
          -1.0703885214984779,
          -1.0698829380270425,
          -1.0696327287666447,
          -1.069909816553074,
          -1.0710763046013316,
          -2.126928763890009,
          -2.1333374616915304,
          -1.723903414230204,
          -1.13450294855302,
          -1.0696508714210269,
          -1.0780318279768684,
          -1.4358678207394073,
          -2.17259000611495,
          -1.0696323962835017,
          -0.803479460666402,
          -1.069633525978794,
          -1.4358905260614954,
          -1.0696313762699134,
          -0.803479460666402,
          -0.8035381650100009,
          -2.2673224529551965,
          -1.4358946879067929,
          -0.8035083630754088,
          -1.0696917252368277,
          -1.0697701558717498,
          -2.0982573586188105,
          -2.332534799475905,
          -0.8035083701675996,
          -1.43590607567919,
          -1.0696321854079371,
          -1.070014992729257,
          -2.2244635446748218,
          -1.0697596303629282,
          -2.2726476037602232,
          -1.4754755009261304,
          -1.4358678205467208,
          -0.8034794321874105,
          -2.2705400931398745,
          -0.8035616463095706,
          -1.0696321276021354,
          -2.1267073269023506,
          -1.0696335547682494,
          -2.142078728435389,
          -2.174468736755411,
          -1.435867820199886,
          -1.069644368430822,
          -0.803504337081235,
          -1.435867820708304,
          -1.069633520458489,
          -0.803481971190011,
          -1.1426217792009679,
          -2.2726618555240545,
          -1.4358791962386166,
          -1.7256066647248995,
          -1.0698452745936708,
          -1.4358844120844103,
          -1.0696526549981085,
          -1.069632396238542,
          -2.2705401572400854,
          -2.143596905714248,
          -1.4358677950479393,
          -0.600441226557048,
          -2.0982859809538725,
          -1.4358678194548342,
          -1.9476666375032403,
          -1.0699899033039402,
          -1.947656410201507,
          -0.8049806965960048,
          -0.8035912584408701,
          -2.2726493858054417,
          -1.0696340261496626,
          -2.272664651312977,
          -2.2673008339815652,
          -0.8034794597975169,
          -0.8044565017649664,
          -1.0696323971056292,
          -2.1851233060814383,
          -1.4878092386146082,
          -1.0696380729940516,
          -0.8035348075245167,
          -1.94766902078329,
          -1.0698143003387155,
          -2.267331204130372,
          -2.0982382316922568,
          -0.8034794583927074,
          -2.162227738163212,
          -1.0697491222911595,
          -0.4815194020969222,
          -1.069632397092783,
          -1.0696693378409503,
          -1.0696323973496975,
          -1.4382685869239265,
          -1.0696573079559064,
          -2.185229098568026,
          -2.2465212667386436,
          -2.272475920609109,
          -2.1580516208455887,
          -2.275944238431232,
          -0.8035434793477241,
          -1.0696654339020946,
          -1.0696418115453605,
          -0.8035269067871842,
          -0.8034842394718438,
          -2.2726734046293013,
          -2.166918883296075,
          -1.366699183837743,
          -1.491892060447058,
          -0.8037025847798804,
          -1.4359006065542428,
          -1.0696323843883526,
          -1.0696331464915643,
          -1.3301756117800065,
          -1.0696323845168099,
          -1.069650076856511,
          -1.069664195191774,
          -1.0696918750118323,
          -1.069693824066461,
          -2.2726639027225803,
          -1.9571510463708806,
          -0.8084037586681468,
          -1.6088805950208758,
          -1.9476877511065283,
          -2.126758857471432,
          -1.0698145674161728,
          -0.8037986815871193,
          -1.6088846198879294,
          -1.0696323935088237,
          -2.098261474707154,
          -1.0696323960124567,
          -1.6088836308553636,
          -1.7246624388900396,
          -2.307775976630385,
          -2.2726558023665633,
          -2.0991871194915044,
          -0.8036257817648318,
          -1.435867820469647,
          -2.185907222500425,
          -1.0768546937261767,
          -1.2545981218873499,
          -0.8034871657060171,
          -1.6088873023148629,
          -1.6094191995418634,
          -1.0697152619053532,
          -0.8034949070153805,
          -1.435904560825908,
          -1.1343996628238922,
          -0.35404396494971757,
          -2.3694499872679535,
          -1.5229573731392834,
          -2.2728916106473034,
          -1.947656410201507,
          -0.9106869218825149,
          -1.087851224348899,
          -2.1268924728912784,
          -1.494625394793149,
          -1.0696550723428542,
          -1.0960332755183924,
          -1.0696321276021354,
          -1.6088730050053077,
          -1.947656410201507,
          -0.8038644168935641,
          -2.098689278063342,
          -0.803479460807705,
          -2.272793432218929,
          -1.6088730041253752,
          -1.0696398125941626,
          -2.1542298594078457,
          -1.9476564093909932,
          -1.947786411797679,
          -1.9476564101848077,
          -2.143632925055679,
          -0.8035373987461788,
          -2.2726767848139797,
          -0.4815393451820792,
          -2.2673067030877614,
          -2.122984149558509,
          -2.1435958457268716,
          -2.272647749875533,
          -2.267230827813685,
          -2.3478795424080205,
          -2.0440809028329094,
          -2.2736680092526016,
          -1.3462815931302923,
          -2.236532435909872,
          -0.8034885576009311,
          -1.0696349780907128,
          -2.185131686521024,
          -2.0953471041472236,
          -0.4888367487433816,
          -2.4485689326717703,
          -1.4934524777727352,
          -1.4396937744065412,
          -0.8034885991810928,
          -1.3462845579722738,
          -1.9553722436227359,
          -0.6004412277992306,
          -2.2135497284598333,
          -2.1436079575646816,
          -2.0982382373602073,
          -1.4359006009519142,
          -2.0982382362511864,
          -2.276049079158386,
          -1.522948594763828,
          -2.1402385302695235,
          -1.7663577164087627,
          -1.7663837130421662,
          -1.4358678204696493,
          -0.20348374038869893,
          -2.259805586054606,
          -1.069696680890059,
          -1.9477214260290863,
          -1.9477022321821986,
          -1.134514899824045,
          -2.269350249182311,
          -1.435867819390605,
          -1.4359630938252304,
          -0.3214481606828924,
          -1.4360219748112086,
          -0.8034794608533076,
          -1.069732370961157,
          -1.6158411306089921,
          -1.7663973060071818,
          -2.2726476037608228,
          -1.0710538469148092,
          -1.4359096999835654,
          -2.2726476037602232,
          -1.1235306934079554,
          -1.1629063433126399,
          -1.069641602527433,
          -1.0697593528234957,
          -1.0696323859298404,
          -1.7237908567960956,
          -2.156750775215876,
          -2.0982828516974337,
          -2.0982382246900273,
          -2.274433449188619,
          -1.9476697037306676
         ],
         "z": [
          0.09983250595591614,
          0.26555180756408,
          -0.01475111109757432,
          0.2566608564423069,
          0.26554865526877364,
          0.33258686397140397,
          0.24268776375549958,
          -0.01471931092592404,
          -0.00004705496644459959,
          0.09984246017047106,
          -0.014722885559461614,
          0.09984246003071744,
          0.24808378441823586,
          -0.014717873314830944,
          0.09974795282641624,
          -0.01478770400989823,
          -0.014720193855979297,
          0.09536778403923567,
          0.04978083448320295,
          -0.014734677510823455,
          -0.0000408640430210063,
          -0.014716108082273362,
          -0.014720116957700171,
          -0.01471871986111671,
          -0.00004363862294873923,
          0.24017619995904163,
          -0.014716107964880112,
          0.0894181149081294,
          -0.021678501180483027,
          -0.014727718667057615,
          -0.014716108300270937,
          -0.014837638704451785,
          -0.014726933760022091,
          -0.014716567671755831,
          0.09984246016586289,
          -0.01471674251307938,
          0.12160695082992289,
          -0.015207028368394717,
          -0.014752573280437305,
          -0.01473923939470701,
          0.24902120237873485,
          -0.065020126863134,
          0.09983075014796508,
          -0.014800201002344927,
          -0.014726839052377674,
          -0.014716721152608692,
          -0.01471610833246576,
          -0.014737292177336818,
          0.28153833217209256,
          -0.014719330806114858,
          0.09984245994796843,
          -0.016029943339523907,
          0.09983427764467308,
          -0.014901957948371694,
          -0.014716108010649723,
          -0.014716721139217431,
          -0.0147295546674312,
          -0.014730319201132285,
          0.25714191104452766,
          -0.01471610805202414,
          0.09952966155000288,
          0.09981828600427102,
          0.09982972502749957,
          0.09984246016575904,
          0.0998411948594571,
          0.0998423486197163,
          -0.00004153430949642353,
          -0.014728962673450599,
          -0.00004086394648050036,
          0.10765629629303022,
          -0.014782521339641154,
          0.09982069640231966,
          0.17601719029464022,
          0.27438682354215305,
          -0.014753973765715108,
          0.09984246017322927,
          -0.01494656385255639,
          -0.014792465869378999,
          -0.014716208978848613,
          -0.014800657499641883,
          -0.015156171577341804,
          0.20284424988568178,
          0.0892228470604608,
          0.24898504818768696,
          0.022563191900035882,
          -0.014721738265416976,
          -0.017276061371137547,
          0.09984246017782654,
          0.2535946022121741,
          -0.014716108341645391,
          -0.000040864098186893444,
          -0.014716451925614469,
          0.09983554016881212,
          -0.014716579875024642,
          -0.000040864098186893444,
          -0.0000587552380542612,
          0.22056644521479912,
          0.09983427149733294,
          -0.00004967249317042721,
          -0.014734190916442442,
          -0.014758094315088207,
          0.26560577198103635,
          0.30613545690019583,
          -0.000049674612074560556,
          0.09983080116028235,
          -0.01471618380866847,
          -0.014832712140718953,
          0.29408786615182625,
          -0.014754885075552369,
          0.27822177587381425,
          0.08777116682516732,
          0.09984246010886931,
          -0.000040874290096660854,
          0.257141888288572,
          -0.00006591199467093627,
          -0.014716204495900756,
          0.28510259729374493,
          -0.014716462127440088,
          0.2988535524353826,
          0.32422522837075235,
          0.09984245998474565,
          -0.014719756510901617,
          -0.0000484455375199719,
          0.0998424601666958,
          -0.014716450243182758,
          -0.00004162915454710034,
          0.7003304481352378,
          0.27821743248006187,
          0.09983899321950618,
          0.24846594362745378,
          -0.01478098758828149,
          0.09983740359475636,
          -0.014722282067312643,
          -0.01471610835773553,
          0.2571419112284141,
          0.21610345843700465,
          0.09984245098350115,
          0.09551190460101264,
          0.26559704876201523,
          0.09984245971811025,
          0.3325878464958139,
          -0.014825149048372418,
          0.3325909634386933,
          -0.0004983950695417526,
          -0.00007493801739622974,
          0.2782212327437127,
          -0.014716604378962665,
          0.27821658028850205,
          0.22057303443690837,
          -0.000040864409138964584,
          -0.00033948479999041124,
          -0.014716108047427037,
          0.25666431583381066,
          0.10413561593547806,
          -0.014717837728612982,
          -0.000057740218882724336,
          0.3325871201850282,
          -0.014771546809907159,
          0.220563778527661,
          0.2656115975066007,
          -0.000040864911884809335,
          0.4213804205726165,
          -0.014751715896713999,
          -0.08152998670708247,
          -0.01471610805202414,
          -0.014727366492329594,
          -0.014716107960080771,
          0.09911076486861352,
          -0.014723700492270234,
          0.2566320744683074,
          0.21010975628515202,
          0.324439411363733,
          0.1798224182963071,
          0.2772170539307092,
          -0.00006037544251373338,
          -0.014726176562782403,
          -0.01471897772505362,
          -0.000055324334395860266,
          -0.000042320399809057864,
          0.27821391232071097,
          0.32697866160456557,
          -0.10525392918974964,
          0.10289126546657552,
          -0.00010887402139335891,
          0.09983246796844997,
          -0.014716112598618073,
          -0.01471642564242904,
          -0.09412105152306725,
          -0.01471611255264645,
          -0.014721496250010643,
          -0.014725799595829467,
          -0.014734235624528217,
          -0.014734829631833913,
          0.27821680789023506,
          0.32969713418431457,
          -0.0015416420962628707,
          0.1217205033118318,
          0.332581411768733,
          0.2850868914076447,
          -0.014771628206271628,
          -0.00013815476179631627,
          0.12171927651242397,
          -0.014716109334632622,
          0.2656045152941348,
          -0.014716108438645492,
          0.12171957804915723,
          0.24875371698934257,
          0.26751508776635713,
          0.2782192772607274,
          0.26532232667987504,
          -0.00008546232416205873,
          0.09984246008128606,
          0.25642539713663154,
          -0.016917267273090453,
          0.08833815179355044,
          -0.000043212226740451114,
          0.12171845920181722,
          0.12155635046410912,
          -0.014741362868753443,
          -0.00004557154871092058,
          0.09983126284449587,
          0.15533020141479814,
          0.12526068075146032,
          0.2487111031424882,
          0.10463549650661395,
          0.27814740795214926,
          0.3325909634386933,
          -0.05724810667267379,
          -0.02026868820477878,
          0.2850461703317927,
          0.10732723612120869,
          -0.014723018879059068,
          -0.022762378004443293,
          -0.014716204495900756,
          0.12172281645892058,
          0.3325909634386933,
          -0.00015818998311828875,
          0.26547408205299927,
          -0.00004086404761804616,
          0.27817732383378135,
          0.12172281614401485,
          -0.014718368051271845,
          0.36220634121395867,
          0.33259096314863074,
          0.3325513428402379,
          0.33259096343271694,
          0.21609247856308253,
          -0.000058522276528905493,
          0.27821288245539116,
          -0.08153606446702798,
          0.22057124558912483,
          0.28597247503448264,
          0.21610378157883658,
          0.2782217263924531,
          0.30498122266544014,
          0.25529200629325327,
          0.40448201603336914,
          0.2779107817165377,
          0.1465115645448783,
          0.3012749264790311,
          -0.00004363644043054778,
          -0.014716894664128611,
          0.25666174843189005,
          0.37797183921913186,
          -0.07089020508530434,
          0.24971380457026693,
          0.10768471026024924,
          0.09867641832547476,
          -0.00004364914673531313,
          0.14651066029592577,
          0.3302393684172265,
          0.09551190504555825,
          0.30663017325952796,
          0.21610008966612884,
          0.26561159953501684,
          0.09983246967585424,
          0.26561159913812654,
          0.2771850501953224,
          0.10463817195412428,
          0.27696793390219504,
          0.26375911678021746,
          0.26375119454730733,
          0.09984246008128735,
          0.19223346008118458,
          0.43159219346216143,
          -0.014735700467301875,
          0.33257114670929094,
          0.3325769983322752,
          0.0225595486971957,
          0.27376077073741073,
          0.09984245969512454,
          0.09981342355156958,
          -0.09308192369008991,
          0.09979547769169418,
          -0.000040864031298236735,
          -0.014747411636274167,
          0.11959912875203897,
          0.2637469924916492,
          0.27822177587402935,
          -0.015149327218201756,
          0.09982969641357725,
          0.27822177587381425,
          -0.031142949292187614,
          0.0497676473294456,
          -0.014718913427462826,
          -0.014754801324911809,
          -0.01471611204695856,
          0.2490193519423011,
          0.2658083399301714,
          0.26559800247036947,
          0.26561159500068,
          0.2776774975657175,
          0.3325869120112356
         ]
        },
        {
         "customdata": [
          [
           "Proof-of-BibleHash"
          ],
          [
           "SHA-256 + Hive"
          ],
          [
           "Proof-of-Authority"
          ],
          [
           "ECC 256K1"
          ],
          [
           "SHA3-256"
          ],
          [
           "Leased POS"
          ]
         ],
         "hovertemplate": "<b>%{hovertext}</b><br><br>class=%{marker.color}<br>PC 1=%{x}<br>PC 2=%{y}<br>PC 3=%{z}<br>Algorithm=%{customdata[0]}<extra></extra>",
         "hovertext": [
          "BiblePay",
          "LitecoinCash",
          "Poa Network",
          "Acute Angle Cloud",
          "Fiii",
          "Waves"
         ],
         "legendgroup": "1",
         "marker": {
          "color": [
           1,
           1,
           1,
           1,
           1,
           1
          ],
          "coloraxis": "coloraxis",
          "symbol": "square"
         },
         "mode": "markers",
         "name": "1",
         "scene": "scene",
         "showlegend": true,
         "type": "scatter3d",
         "x": [
          0.5984262701027293,
          0.042265871441201315,
          -0.0350559013811379,
          0.13666957782924374,
          -0.8014790712871153,
          -0.00873932814847829
         ],
         "y": [
          -0.4508459211560915,
          3.8697151165200716,
          3.891575699892123,
          3.8249200358440913,
          3.72381527402894,
          4.131980190584306
         ],
         "z": [
          21.735235989153786,
          14.147341147383658,
          8.312664343572628,
          15.404103349335898,
          12.897741438099427,
          11.480429061746353
         ]
        },
        {
         "customdata": [
          [
           "TRC10"
          ]
         ],
         "hovertemplate": "<b>%{hovertext}</b><br><br>class=%{marker.color}<br>PC 1=%{x}<br>PC 2=%{y}<br>PC 3=%{z}<br>Algorithm=%{customdata[0]}<extra></extra>",
         "hovertext": [
          "BitTorrent"
         ],
         "legendgroup": "2",
         "marker": {
          "color": [
           2
          ],
          "coloraxis": "coloraxis",
          "symbol": "x"
         },
         "mode": "markers",
         "name": "2",
         "scene": "scene",
         "showlegend": true,
         "type": "scatter3d",
         "x": [
          32.16242201681272
         ],
         "y": [
          -2.948229646099465
         ],
         "z": [
          -1.3506624984306723
         ]
        }
       ],
       "layout": {
        "coloraxis": {
         "colorbar": {
          "title": {
           "text": "class"
          }
         },
         "colorscale": [
          [
           0,
           "#0d0887"
          ],
          [
           0.1111111111111111,
           "#46039f"
          ],
          [
           0.2222222222222222,
           "#7201a8"
          ],
          [
           0.3333333333333333,
           "#9c179e"
          ],
          [
           0.4444444444444444,
           "#bd3786"
          ],
          [
           0.5555555555555556,
           "#d8576b"
          ],
          [
           0.6666666666666666,
           "#ed7953"
          ],
          [
           0.7777777777777778,
           "#fb9f3a"
          ],
          [
           0.8888888888888888,
           "#fdca26"
          ],
          [
           1,
           "#f0f921"
          ]
         ]
        },
        "legend": {
         "title": {
          "text": "class"
         },
         "tracegroupgap": 0,
         "x": 0,
         "y": 1
        },
        "margin": {
         "t": 60
        },
        "scene": {
         "domain": {
          "x": [
           0,
           1
          ],
          "y": [
           0,
           1
          ]
         },
         "xaxis": {
          "title": {
           "text": "PC 1"
          }
         },
         "yaxis": {
          "title": {
           "text": "PC 2"
          }
         },
         "zaxis": {
          "title": {
           "text": "PC 3"
          }
         }
        },
        "template": {
         "data": {
          "bar": [
           {
            "error_x": {
             "color": "#2a3f5f"
            },
            "error_y": {
             "color": "#2a3f5f"
            },
            "marker": {
             "line": {
              "color": "#E5ECF6",
              "width": 0.5
             }
            },
            "type": "bar"
           }
          ],
          "barpolar": [
           {
            "marker": {
             "line": {
              "color": "#E5ECF6",
              "width": 0.5
             }
            },
            "type": "barpolar"
           }
          ],
          "carpet": [
           {
            "aaxis": {
             "endlinecolor": "#2a3f5f",
             "gridcolor": "white",
             "linecolor": "white",
             "minorgridcolor": "white",
             "startlinecolor": "#2a3f5f"
            },
            "baxis": {
             "endlinecolor": "#2a3f5f",
             "gridcolor": "white",
             "linecolor": "white",
             "minorgridcolor": "white",
             "startlinecolor": "#2a3f5f"
            },
            "type": "carpet"
           }
          ],
          "choropleth": [
           {
            "colorbar": {
             "outlinewidth": 0,
             "ticks": ""
            },
            "type": "choropleth"
           }
          ],
          "contour": [
           {
            "colorbar": {
             "outlinewidth": 0,
             "ticks": ""
            },
            "colorscale": [
             [
              0,
              "#0d0887"
             ],
             [
              0.1111111111111111,
              "#46039f"
             ],
             [
              0.2222222222222222,
              "#7201a8"
             ],
             [
              0.3333333333333333,
              "#9c179e"
             ],
             [
              0.4444444444444444,
              "#bd3786"
             ],
             [
              0.5555555555555556,
              "#d8576b"
             ],
             [
              0.6666666666666666,
              "#ed7953"
             ],
             [
              0.7777777777777778,
              "#fb9f3a"
             ],
             [
              0.8888888888888888,
              "#fdca26"
             ],
             [
              1,
              "#f0f921"
             ]
            ],
            "type": "contour"
           }
          ],
          "contourcarpet": [
           {
            "colorbar": {
             "outlinewidth": 0,
             "ticks": ""
            },
            "type": "contourcarpet"
           }
          ],
          "heatmap": [
           {
            "colorbar": {
             "outlinewidth": 0,
             "ticks": ""
            },
            "colorscale": [
             [
              0,
              "#0d0887"
             ],
             [
              0.1111111111111111,
              "#46039f"
             ],
             [
              0.2222222222222222,
              "#7201a8"
             ],
             [
              0.3333333333333333,
              "#9c179e"
             ],
             [
              0.4444444444444444,
              "#bd3786"
             ],
             [
              0.5555555555555556,
              "#d8576b"
             ],
             [
              0.6666666666666666,
              "#ed7953"
             ],
             [
              0.7777777777777778,
              "#fb9f3a"
             ],
             [
              0.8888888888888888,
              "#fdca26"
             ],
             [
              1,
              "#f0f921"
             ]
            ],
            "type": "heatmap"
           }
          ],
          "heatmapgl": [
           {
            "colorbar": {
             "outlinewidth": 0,
             "ticks": ""
            },
            "colorscale": [
             [
              0,
              "#0d0887"
             ],
             [
              0.1111111111111111,
              "#46039f"
             ],
             [
              0.2222222222222222,
              "#7201a8"
             ],
             [
              0.3333333333333333,
              "#9c179e"
             ],
             [
              0.4444444444444444,
              "#bd3786"
             ],
             [
              0.5555555555555556,
              "#d8576b"
             ],
             [
              0.6666666666666666,
              "#ed7953"
             ],
             [
              0.7777777777777778,
              "#fb9f3a"
             ],
             [
              0.8888888888888888,
              "#fdca26"
             ],
             [
              1,
              "#f0f921"
             ]
            ],
            "type": "heatmapgl"
           }
          ],
          "histogram": [
           {
            "marker": {
             "colorbar": {
              "outlinewidth": 0,
              "ticks": ""
             }
            },
            "type": "histogram"
           }
          ],
          "histogram2d": [
           {
            "colorbar": {
             "outlinewidth": 0,
             "ticks": ""
            },
            "colorscale": [
             [
              0,
              "#0d0887"
             ],
             [
              0.1111111111111111,
              "#46039f"
             ],
             [
              0.2222222222222222,
              "#7201a8"
             ],
             [
              0.3333333333333333,
              "#9c179e"
             ],
             [
              0.4444444444444444,
              "#bd3786"
             ],
             [
              0.5555555555555556,
              "#d8576b"
             ],
             [
              0.6666666666666666,
              "#ed7953"
             ],
             [
              0.7777777777777778,
              "#fb9f3a"
             ],
             [
              0.8888888888888888,
              "#fdca26"
             ],
             [
              1,
              "#f0f921"
             ]
            ],
            "type": "histogram2d"
           }
          ],
          "histogram2dcontour": [
           {
            "colorbar": {
             "outlinewidth": 0,
             "ticks": ""
            },
            "colorscale": [
             [
              0,
              "#0d0887"
             ],
             [
              0.1111111111111111,
              "#46039f"
             ],
             [
              0.2222222222222222,
              "#7201a8"
             ],
             [
              0.3333333333333333,
              "#9c179e"
             ],
             [
              0.4444444444444444,
              "#bd3786"
             ],
             [
              0.5555555555555556,
              "#d8576b"
             ],
             [
              0.6666666666666666,
              "#ed7953"
             ],
             [
              0.7777777777777778,
              "#fb9f3a"
             ],
             [
              0.8888888888888888,
              "#fdca26"
             ],
             [
              1,
              "#f0f921"
             ]
            ],
            "type": "histogram2dcontour"
           }
          ],
          "mesh3d": [
           {
            "colorbar": {
             "outlinewidth": 0,
             "ticks": ""
            },
            "type": "mesh3d"
           }
          ],
          "parcoords": [
           {
            "line": {
             "colorbar": {
              "outlinewidth": 0,
              "ticks": ""
             }
            },
            "type": "parcoords"
           }
          ],
          "pie": [
           {
            "automargin": true,
            "type": "pie"
           }
          ],
          "scatter": [
           {
            "marker": {
             "colorbar": {
              "outlinewidth": 0,
              "ticks": ""
             }
            },
            "type": "scatter"
           }
          ],
          "scatter3d": [
           {
            "line": {
             "colorbar": {
              "outlinewidth": 0,
              "ticks": ""
             }
            },
            "marker": {
             "colorbar": {
              "outlinewidth": 0,
              "ticks": ""
             }
            },
            "type": "scatter3d"
           }
          ],
          "scattercarpet": [
           {
            "marker": {
             "colorbar": {
              "outlinewidth": 0,
              "ticks": ""
             }
            },
            "type": "scattercarpet"
           }
          ],
          "scattergeo": [
           {
            "marker": {
             "colorbar": {
              "outlinewidth": 0,
              "ticks": ""
             }
            },
            "type": "scattergeo"
           }
          ],
          "scattergl": [
           {
            "marker": {
             "colorbar": {
              "outlinewidth": 0,
              "ticks": ""
             }
            },
            "type": "scattergl"
           }
          ],
          "scattermapbox": [
           {
            "marker": {
             "colorbar": {
              "outlinewidth": 0,
              "ticks": ""
             }
            },
            "type": "scattermapbox"
           }
          ],
          "scatterpolar": [
           {
            "marker": {
             "colorbar": {
              "outlinewidth": 0,
              "ticks": ""
             }
            },
            "type": "scatterpolar"
           }
          ],
          "scatterpolargl": [
           {
            "marker": {
             "colorbar": {
              "outlinewidth": 0,
              "ticks": ""
             }
            },
            "type": "scatterpolargl"
           }
          ],
          "scatterternary": [
           {
            "marker": {
             "colorbar": {
              "outlinewidth": 0,
              "ticks": ""
             }
            },
            "type": "scatterternary"
           }
          ],
          "surface": [
           {
            "colorbar": {
             "outlinewidth": 0,
             "ticks": ""
            },
            "colorscale": [
             [
              0,
              "#0d0887"
             ],
             [
              0.1111111111111111,
              "#46039f"
             ],
             [
              0.2222222222222222,
              "#7201a8"
             ],
             [
              0.3333333333333333,
              "#9c179e"
             ],
             [
              0.4444444444444444,
              "#bd3786"
             ],
             [
              0.5555555555555556,
              "#d8576b"
             ],
             [
              0.6666666666666666,
              "#ed7953"
             ],
             [
              0.7777777777777778,
              "#fb9f3a"
             ],
             [
              0.8888888888888888,
              "#fdca26"
             ],
             [
              1,
              "#f0f921"
             ]
            ],
            "type": "surface"
           }
          ],
          "table": [
           {
            "cells": {
             "fill": {
              "color": "#EBF0F8"
             },
             "line": {
              "color": "white"
             }
            },
            "header": {
             "fill": {
              "color": "#C8D4E3"
             },
             "line": {
              "color": "white"
             }
            },
            "type": "table"
           }
          ]
         },
         "layout": {
          "annotationdefaults": {
           "arrowcolor": "#2a3f5f",
           "arrowhead": 0,
           "arrowwidth": 1
          },
          "coloraxis": {
           "colorbar": {
            "outlinewidth": 0,
            "ticks": ""
           }
          },
          "colorscale": {
           "diverging": [
            [
             0,
             "#8e0152"
            ],
            [
             0.1,
             "#c51b7d"
            ],
            [
             0.2,
             "#de77ae"
            ],
            [
             0.3,
             "#f1b6da"
            ],
            [
             0.4,
             "#fde0ef"
            ],
            [
             0.5,
             "#f7f7f7"
            ],
            [
             0.6,
             "#e6f5d0"
            ],
            [
             0.7,
             "#b8e186"
            ],
            [
             0.8,
             "#7fbc41"
            ],
            [
             0.9,
             "#4d9221"
            ],
            [
             1,
             "#276419"
            ]
           ],
           "sequential": [
            [
             0,
             "#0d0887"
            ],
            [
             0.1111111111111111,
             "#46039f"
            ],
            [
             0.2222222222222222,
             "#7201a8"
            ],
            [
             0.3333333333333333,
             "#9c179e"
            ],
            [
             0.4444444444444444,
             "#bd3786"
            ],
            [
             0.5555555555555556,
             "#d8576b"
            ],
            [
             0.6666666666666666,
             "#ed7953"
            ],
            [
             0.7777777777777778,
             "#fb9f3a"
            ],
            [
             0.8888888888888888,
             "#fdca26"
            ],
            [
             1,
             "#f0f921"
            ]
           ],
           "sequentialminus": [
            [
             0,
             "#0d0887"
            ],
            [
             0.1111111111111111,
             "#46039f"
            ],
            [
             0.2222222222222222,
             "#7201a8"
            ],
            [
             0.3333333333333333,
             "#9c179e"
            ],
            [
             0.4444444444444444,
             "#bd3786"
            ],
            [
             0.5555555555555556,
             "#d8576b"
            ],
            [
             0.6666666666666666,
             "#ed7953"
            ],
            [
             0.7777777777777778,
             "#fb9f3a"
            ],
            [
             0.8888888888888888,
             "#fdca26"
            ],
            [
             1,
             "#f0f921"
            ]
           ]
          },
          "colorway": [
           "#636efa",
           "#EF553B",
           "#00cc96",
           "#ab63fa",
           "#FFA15A",
           "#19d3f3",
           "#FF6692",
           "#B6E880",
           "#FF97FF",
           "#FECB52"
          ],
          "font": {
           "color": "#2a3f5f"
          },
          "geo": {
           "bgcolor": "white",
           "lakecolor": "white",
           "landcolor": "#E5ECF6",
           "showlakes": true,
           "showland": true,
           "subunitcolor": "white"
          },
          "hoverlabel": {
           "align": "left"
          },
          "hovermode": "closest",
          "mapbox": {
           "style": "light"
          },
          "paper_bgcolor": "white",
          "plot_bgcolor": "#E5ECF6",
          "polar": {
           "angularaxis": {
            "gridcolor": "white",
            "linecolor": "white",
            "ticks": ""
           },
           "bgcolor": "#E5ECF6",
           "radialaxis": {
            "gridcolor": "white",
            "linecolor": "white",
            "ticks": ""
           }
          },
          "scene": {
           "xaxis": {
            "backgroundcolor": "#E5ECF6",
            "gridcolor": "white",
            "gridwidth": 2,
            "linecolor": "white",
            "showbackground": true,
            "ticks": "",
            "zerolinecolor": "white"
           },
           "yaxis": {
            "backgroundcolor": "#E5ECF6",
            "gridcolor": "white",
            "gridwidth": 2,
            "linecolor": "white",
            "showbackground": true,
            "ticks": "",
            "zerolinecolor": "white"
           },
           "zaxis": {
            "backgroundcolor": "#E5ECF6",
            "gridcolor": "white",
            "gridwidth": 2,
            "linecolor": "white",
            "showbackground": true,
            "ticks": "",
            "zerolinecolor": "white"
           }
          },
          "shapedefaults": {
           "line": {
            "color": "#2a3f5f"
           }
          },
          "ternary": {
           "aaxis": {
            "gridcolor": "white",
            "linecolor": "white",
            "ticks": ""
           },
           "baxis": {
            "gridcolor": "white",
            "linecolor": "white",
            "ticks": ""
           },
           "bgcolor": "#E5ECF6",
           "caxis": {
            "gridcolor": "white",
            "linecolor": "white",
            "ticks": ""
           }
          },
          "title": {
           "x": 0.05
          },
          "xaxis": {
           "automargin": true,
           "gridcolor": "white",
           "linecolor": "white",
           "ticks": "",
           "title": {
            "standoff": 15
           },
           "zerolinecolor": "white",
           "zerolinewidth": 2
          },
          "yaxis": {
           "automargin": true,
           "gridcolor": "white",
           "linecolor": "white",
           "ticks": "",
           "title": {
            "standoff": 15
           },
           "zerolinecolor": "white",
           "zerolinewidth": 2
          }
         }
        },
        "width": 800
       }
      }
     },
     "metadata": {}
    }
   ],
   "source": [
    "#plot in 3d\n",
    "fig = px.scatter_3d(clustered_df, x=\"PC 1\", y=\"PC 2\", z=\"PC 3\", color=\"class\", symbol=\"class\", width=800, hover_name=\"CoinName\", hover_data=[\"Algorithm\"])\n",
    "fig.update_layout(legend=dict(x=0,y=1))\n",
    "fig.show()"
   ]
  },
  {
   "cell_type": "code",
   "execution_count": 254,
   "metadata": {},
   "outputs": [
    {
     "output_type": "display_data",
     "data": {},
     "metadata": {}
    },
    {
     "output_type": "execute_result",
     "data": {
      "text/html": "<div id='6855'>\n\n\n\n\n\n  <div class=\"bk-root\" id=\"7a6f6f86-10ad-432e-bb50-3411b3b18330\" data-root-id=\"6855\"></div>\n</div>\n<script type=\"application/javascript\">(function(root) {\n  function embed_document(root) {\n  var docs_json = {\"140cd5a0-4b0f-4bfa-a37f-b2bd78fa4804\":{\"roots\":{\"references\":[{\"attributes\":{\"editor\":{\"id\":\"6875\"},\"field\":\"TotalCoinSupply\",\"formatter\":{\"id\":\"6874\"},\"title\":\"TotalCoinSupply\"},\"id\":\"6876\",\"type\":\"TableColumn\"},{\"attributes\":{},\"id\":\"6892\",\"type\":\"UnionRenderers\"},{\"attributes\":{\"source\":{\"id\":\"6857\"}},\"id\":\"6890\",\"type\":\"CDSView\"},{\"attributes\":{\"editor\":{\"id\":\"6880\"},\"field\":\"TotalCoinsMined\",\"formatter\":{\"id\":\"6879\"},\"title\":\"TotalCoinsMined\"},\"id\":\"6881\",\"type\":\"TableColumn\"},{\"attributes\":{},\"id\":\"6865\",\"type\":\"StringEditor\"},{\"attributes\":{\"editor\":{\"id\":\"6885\"},\"field\":\"class\",\"formatter\":{\"id\":\"6884\"},\"title\":\"class\"},\"id\":\"6886\",\"type\":\"TableColumn\"},{\"attributes\":{},\"id\":\"6858\",\"type\":\"Selection\"},{\"attributes\":{},\"id\":\"6859\",\"type\":\"StringFormatter\"},{\"attributes\":{\"data\":{\"Algorithm\":[\"Scrypt\",\"Scrypt\",\"SHA-256\",\"X13\",\"SHA-256\",\"Ethash\",\"Scrypt\",\"X11\",\"CryptoNight-V7\",\"Ethash\",\"Equihash\",\"SHA-512\",\"Multiple\",\"SHA-256\",\"X11\",\"SHA-256\",\"Scrypt\",\"X15\",\"X11\",\"SHA-256\",\"X13\",\"X13\",\"Scrypt\",\"Scrypt\",\"Scrypt\",\"SHA-256\",\"Scrypt\",\"Multiple\",\"Scrypt\",\"SHA-256\",\"Scrypt\",\"Scrypt\",\"Scrypt\",\"Quark\",\"Groestl\",\"Scrypt\",\"X11\",\"Scrypt\",\"Scrypt\",\"Scrypt\",\"Scrypt\",\"Scrypt\",\"Scrypt\",\"Multiple\",\"Scrypt\",\"X11\",\"Scrypt\",\"SHA-256\",\"Groestl\",\"Multiple\",\"X11\",\"Scrypt\",\"SHA-256\",\"Scrypt\",\"Scrypt\",\"Scrypt\",\"Scrypt\",\"Scrypt\",\"PoS\",\"Scrypt\",\"X11\",\"NIST5\",\"SHA-256\",\"Scrypt\",\"Scrypt\",\"NeoScrypt\",\"Scrypt\",\"Scrypt\",\"Scrypt\",\"X11\",\"X15\",\"Scrypt\",\"Multiple\",\"X11\",\"Scrypt\",\"X11\",\"SHA-256\",\"X11\",\"X13\",\"Scrypt\",\"Scrypt\",\"Scrypt\",\"Scrypt\",\"X11\",\"SHA3\",\"Scrypt\",\"HybridScryptHash256\",\"Scrypt\",\"Scrypt\",\"SHA-256\",\"Scrypt\",\"X13\",\"SHA-256\",\"Scrypt\",\"SHA-256\",\"Scrypt\",\"X13\",\"NeoScrypt\",\"Scrypt\",\"Scrypt\",\"Scrypt\",\"Scrypt\",\"Scrypt\",\"Scrypt\",\"X15\",\"Scrypt\",\"Scrypt\",\"Scrypt-n\",\"Scrypt\",\"X11\",\"X11\",\"SHA-256\",\"Multiple\",\"SHA-256\",\"PHI1612\",\"X11\",\"SHA-256\",\"SHA-256\",\"SHA-256\",\"SHA-256\",\"X11\",\"Scrypt\",\"Scrypt\",\"X13\",\"Scrypt\",\"X11\",\"Scrypt\",\"Lyra2REv2\",\"Scrypt\",\"Scrypt\",\"X11\",\"Multiple\",\"SHA-256\",\"X13\",\"Scrypt\",\"Scrypt\",\"CryptoNight\",\"CryptoNight\",\"Shabal256\",\"Counterparty\",\"Scrypt\",\"SHA-256\",\"SHA-256\",\"Scrypt\",\"Groestl\",\"Scrypt\",\"Scrypt\",\"Scrypt\",\"X13\",\"Scrypt\",\"Scrypt\",\"Scrypt\",\"SHA-256\",\"Scrypt\",\"X13\",\"X13\",\"Scrypt\",\"X11\",\"Momentum\",\"Stanford Folding\",\"X11\",\"Multiple\",\"QuBit\",\"X15\",\"Scrypt\",\"Scrypt\",\"Scrypt\",\"Scrypt\",\"SHA-256\",\"M7 POW\",\"Scrypt\",\"X11\",\"Scrypt\",\"SHA-256\",\"Scrypt\",\"Scrypt\",\"X11\",\"X11\",\"SHA3\",\"X11\",\"Scrypt\",\"Lyra2RE\",\"SHA-256\",\"QUAIT\",\"X11\",\"vDPOS\",\"X11\",\"X11\",\"Scrypt\",\"Scrypt\",\"Scrypt\",\"Ethash\",\"X11\",\"X13\",\"Blake2b\",\"SHA-256\",\"X13\",\"X15\",\"X11\",\"SHA-256\",\"BLAKE256\",\"Scrypt\",\"Scrypt\",\"1GB AES Pattern Search\",\"SHA-256\",\"X11\",\"Scrypt\",\"CryptoNight\",\"SHA-256\",\"Quark\",\"SHA-256\",\"NIST5\",\"Blake\",\"Scrypt\",\"Scrypt\",\"SHA-256\",\"X11\",\"Scrypt\",\"Scrypt-n\",\"X11\",\"Scrypt\",\"Dagger\",\"Scrypt\",\"SHA-256\",\"CryptoNight-Lite\",\"X11GOST\",\"X11\",\"SHA-256\",\"Scrypt\",\"SHA-256\",\"Scrypt\",\"PoS\",\"Scrypt\",\"X11\",\"X11\",\"X11\",\"X11\",\"PoS\",\"SHA-256\",\"SHA-256\",\"SHA-256\",\"NIST5\",\"X15\",\"X11\",\"NIST5\",\"Scrypt\",\"Scrypt\",\"Scrypt\",\"POS 3.0\",\"Scrypt\",\"Scrypt\",\"Scrypt\",\"X13\",\"X11\",\"X11\",\"Equihash\",\"X11\",\"X11\",\"Scrypt\",\"CryptoNight\",\"SHA-256\",\"SHA-256\",\"X11\",\"Scrypt\",\"Multiple\",\"Scrypt\",\"Scrypt\",\"X11\",\"Scrypt\",\"SHA-256\",\"Scrypt\",\"Scrypt\",\"SHA-256D\",\"PoS\",\"Scrypt\",\"Scrypt\",\"X11\",\"Scrypt-n\",\"Lyra2Z\",\"SHA-256\",\"PoS\",\"X13\",\"Quark\",\"X14\",\"PoS\",\"SHA-256D\",\"Ethash\",\"SHA-256\",\"Equihash\",\"DPoS\",\"X11\",\"Scrypt\",\"Scrypt\",\"Equihash\",\"X11\",\"X13\",\"X11\",\"PoS\",\"SHA-256D\",\"Scrypt\",\"Scrypt\",\"Scrypt\",\"X11\",\"PoS\",\"X11\",\"SHA-256\",\"Scrypt\",\"X11\",\"Scrypt\",\"Scrypt\",\"X11\",\"CryptoNight\",\"Scrypt\",\"Scrypt\",\"Scrypt\",\"Scrypt\",\"Quark\",\"QuBit\",\"Scrypt\",\"CryptoNight\",\"X11\",\"Lyra2RE\",\"X13\",\"PoS\",\"Scrypt\",\"SHA-256\",\"X11\",\"X11\",\"X11\",\"Scrypt\",\"X11\",\"Scrypt\",\"Scrypt\",\"CryptoNight-V7\",\"Scrypt\",\"Scrypt\",\"Keccak\",\"Scrypt\",\"X13\",\"X11\",\"Equihash\",\"Scrypt\",\"Scrypt\",\"Lyra2RE\",\"Ethash\",\"X11\",\"Scrypt\",\"Dagger-Hashimoto\",\"X11\",\"Blake2S\",\"X11\",\"Scrypt\",\"Scrypt\",\"PoS\",\"X11\",\"NIST5\",\"PoS\",\"X11\",\"Scrypt\",\"Scrypt\",\"Scrypt\",\"Scrypt\",\"SHA-256\",\"X11\",\"Scrypt\",\"Scrypt\",\"Scrypt\",\"SHA-256\",\"PoS\",\"Scrypt\",\"X11\",\"X15\",\"SHA-256\",\"Scrypt\",\"POS 3.0\",\"CryptoNight-V7\",\"536\",\"Argon2d\",\"Blake2b\",\"Cloverhash\",\"CryptoNight\",\"NIST5\",\"X11\",\"NIST5\",\"Skein\",\"Scrypt\",\"X13\",\"Scrypt\",\"X11\",\"X11\",\"X11\",\"Scrypt\",\"CryptoNight\",\"X13\",\"Time Travel\",\"Scrypt\",\"Keccak\",\"SkunkHash v2 Raptor\",\"X11\",\"Skein\",\"SHA-256\",\"X11\",\"Scrypt\",\"Scrypt\",\"VeChainThor Authority\",\"Scrypt\",\"PoS\",\"Scrypt\",\"Scrypt\",\"Scrypt\",\"Scrypt\",\"Scrypt\",\"Scrypt\",\"Scrypt\",\"Scrypt\",\"CryptoNight\",\"SHA-512\",\"Ouroboros\",\"X11\",\"Equihash\",\"NeoScrypt\",\"X11\",\"Scrypt\",\"NeoScrypt\",\"Lyra2REv2\",\"Equihash\",\"Scrypt\",\"SHA-256\",\"NIST5\",\"PHI1612\",\"Dagger\",\"Scrypt\",\"Quark\",\"Scrypt\",\"POS 2.0\",\"Scrypt\",\"SkunkHash\",\"X11\",\"Quark\",\"SHA-256\",\"X11\",\"NeoScrypt\",\"Scrypt\",\"Ethash\",\"Scrypt\",\"NeoScrypt\",\"Quark\",\"X11\",\"DPoS\",\"NIST5\",\"X13\",\"Multiple\",\"Scrypt\",\"CryptoNight\",\"CryptoNight\",\"Ethash\",\"NIST5\",\"Quark\",\"X11\",\"SHA-256\",\"CryptoNight-V7\",\"Scrypt\",\"Scrypt\",\"Scrypt\",\"X11\",\"SHA-256\",\"BLAKE256\",\"X11\",\"Scrypt\",\"NeoScrypt\",\"Quark\",\"NeoScrypt\",\"Scrypt\",\"Scrypt\",\"Scrypt\",\"X11\",\"X11\",\"SHA-256\",\"C11\",\"Scrypt\",\"Scrypt\",\"POS 3.0\",\"Ethash\",\"Scrypt\",\"CryptoNight\",\"SkunkHash\",\"Scrypt\",\"CryptoNight\",\"Equihash\",\"Skein\",\"Scrypt\",\"Dagger\",\"Lyra2REv2\",\"X13\",\"Proof-of-BibleHash\",\"SHA-256 + Hive\",\"Scrypt\",\"Scrypt\",\"Scrypt\",\"NeoScrypt\",\"Equihash\",\"X11\",\"C11\",\"Proof-of-Authority\",\"X11\",\"XEVAN\",\"Scrypt\",\"VBFT\",\"Ethash\",\"X11\",\"CryptoNight\",\"NeoScrypt\",\"Scrypt\",\"IMesh\",\"NIST5\",\"Equihash\",\"Scrypt\",\"Scrypt\",\"Equihash\",\"Equihash\",\"Scrypt\",\"Lyra2Z\",\"Equihash\",\"Green Protocol\",\"PoS\",\"Scrypt\",\"Scrypt\",\"Semux BFT consensus\",\"Scrypt\",\"X11\",\"Quark\",\"PoS\",\"CryptoNight\",\"X16R\",\"Scrypt\",\"NIST5\",\"Lyra2RE\",\"XEVAN\",\"Tribus\",\"Scrypt\",\"Lyra2Z\",\"CryptoNight\",\"CryptoNight Heavy\",\"CryptoNight\",\"Scrypt\",\"Scrypt\",\"Jump Consistent Hash\",\"SHA-256D\",\"CryptoNight\",\"Scrypt\",\"X15\",\"Scrypt\",\"Quark\",\"SHA-256\",\"DPoS\",\"X16R\",\"HMQ1725\",\"X11\",\"X16R\",\"Quark\",\"Quark\",\"Scrypt\",\"Zhash\",\"Lyra2REv2\",\"Quark\",\"Scrypt\",\"Scrypt\",\"CryptoNight-V7\",\"Cryptonight-GPU\",\"Scrypt\",\"XEVAN\",\"CryptoNight Heavy\",\"X11\",\"X11\",\"Scrypt\",\"PoS\",\"Lyra2REv2\",\"Scrypt\",\"SHA-256\",\"Scrypt\",\"Keccak\",\"X11\",\"X11\",\"Quark\",\"Scrypt\",\"SHA-512\",\"X16R\",\"ECC 256K1\",\"NeoScrypt\",\"Equihash\",\"XEVAN\",\"Quark\",\"CryptoNight Heavy X\",\"Lyra2Z\",\"Ethash\",\"SHA-256\",\"XEVAN\",\"Ethash\",\"X11\",\"CryptoNight\",\"Quark\",\"SkunkHash\",\"Quark\",\"Argon2\",\"Blake\",\"Blake\",\"SHA-256\",\"Equihash\",\"Exosis\",\"Scrypt\",\"Scrypt\",\"Equihash\",\"Quark\",\"Equihash\",\"Quark\",\"Scrypt\",\"QuBit\",\"X11\",\"Scrypt\",\"Equihash1927\",\"XEVAN\",\"SHA-256D\",\"X11\",\"SHA-256\",\"SHA-256\",\"X13\",\"SHA-256\",\"X11\",\"DPoS\",\"X11\",\"Scrypt\",\"X11\",\"Scrypt\",\"X11\",\"NeoScrypt\",\"QuBit\",\"Scrypt\",\"Blake\",\"Scrypt\",\"SHA-256\",\"Scrypt\",\"X11\",\"CryptoNight\",\"Scrypt\",\"Scrypt\",\"SHA-256\",\"X11\",\"SHA-256\",\"Scrypt\",\"CryptoNight\",\"Scrypt\",\"SHA-256\",\"Scrypt\",\"Groestl\",\"X11\",\"Scrypt\",\"PoS\",\"Scrypt\",\"Scrypt\",\"X11\",\"SHA-256\",\"DPoS\",\"Scrypt\",\"Scrypt\",\"Scrypt\",\"NeoScrypt\",\"Scrypt\",\"SHA3-256\",\"Multiple\",\"X13\",\"Equihash+Scrypt\",\"DPoS\",\"Ethash\",\"DPoS\",\"Ethash\",\"SHA-256\",\"Leased POS\",\"PoS\",\"TRC10\",\"PoS\",\"SHA-256\",\"Scrypt\",\"CryptoNight\",\"Equihash\",\"Scrypt\"],\"CoinName\":[\"42 Coin\",\"404Coin\",\"808\",\"EliteCoin\",\"Bitcoin\",\"Ethereum\",\"Litecoin\",\"Dash\",\"Monero\",\"Ethereum Classic\",\"ZCash\",\"Bitshares\",\"DigiByte\",\"BitcoinDark\",\"Bitstake\",\"PayCoin\",\"ProsperCoin\",\"KoboCoin\",\"Spreadcoin\",\"ACoin\",\"Aero Coin\",\"ApexCoin\",\"ArchCoin\",\"Argentum\",\"Aurora Coin\",\"BetaCoin\",\"BlueCoin\",\"MyriadCoin\",\"MoonCoin\",\"ZetaCoin\",\"SexCoin\",\"Quatloo\",\"EnergyCoin\",\"QuarkCoin\",\"Riecoin\",\"Digitalcoin \",\"LimeCoinX\",\"BitBar\",\"BitMark\",\"CashCoin\",\"Catcoin\",\"CryptoBullion\",\"CannaCoin\",\"CinderCoin\",\"CoolCoin\",\"CryptCoin\",\"CasinoCoin\",\"eMark\",\"Diamond\",\"Verge\",\"DarkCash\",\"DarkShibe\",\"DevCoin\",\"EarthCoin\",\"E-Gulden\",\"Elacoin\",\"Einsteinium\",\"Emerald\",\"Exclusive Coin\",\"Flappy Coin\",\"Fuel2Coin\",\"FIBRE\",\"FireRoosterCoin\",\"FlutterCoin\",\"Franko\",\"FeatherCoin\",\"GrandCoin\",\"GlobalCoin\",\"GoldCoin\",\"GlyphCoin\",\"Halcyon\",\"HoboNickels\",\"HunterCoin\",\"HyperStake\",\"Infinite Coin\",\"IOCoin\",\"IXcoin\",\"JumBucks Coin\",\"JudgeCoin\",\"KrugerCoin\",\"LuckyCoin\",\"Litebar \",\"LitecoinDark\",\"LibrexCoin\",\"MaxCoin\",\"MegaCoin\",\"MediterraneanCoin\",\"MintCoin\",\"MinCoin\",\"MazaCoin\",\"Nautilus Coin\",\"NavCoin\",\"NoirBits\",\"NobleCoin\",\"Namecoin\",\"NyanCoin\",\"OpalCoin\",\"Orbitcoin\",\"PotCoin\",\"PhoenixCoin\",\"Reddcoin\",\"RipOffCoin\",\"RonPaulCoin\",\"StableCoin\",\"ShieldCoin\",\"SilkCoin\",\"SmartCoin\",\"SpainCoin\",\"SecureCoin\",\"SuperCoin\",\"SyncCoin\",\"SysCoin\",\"TeslaCoin\",\"TigerCoin\",\"TittieCoin\",\"TorCoin\",\"TerraCoin\",\"Umbrella\",\"UnbreakableCoin\",\"Unobtanium\",\"UroCoin\",\"UnitaryStatus Dollar\",\"UltraCoin\",\"Utility Coin\",\"ViaCoin\",\"VootCoin\",\"VeriCoin\",\"Vertcoin\",\"WorldCoin\",\"SocialXbotCoin\",\"X11 Coin\",\"Crypti\",\"JouleCoin\",\"StealthCoin\",\"XXXCoin\",\"ZCC Coin\",\"ByteCoin\",\"DigitalNote \",\"BurstCoin\",\"StorjCoin\",\"MonaCoin\",\"Neutron\",\"Sling Coin\",\"KryptCoin\",\"FairCoin\",\"Gulden\",\"RubyCoin\",\"PesetaCoin\",\"Kore\",\"Wild Beast Coin\",\"Dnotes\",\"Flo\",\"MaieutiCoin\",\"8BIT Coin\",\"Sativa Coin\",\"AeroMe\",\"ArtByte\",\"MasterTraderCoin\",\"BitCredit\",\"Folding Coin\",\"Ucoin\",\"Unitus\",\"CypherPunkCoin\",\"MaryJane Coin\",\"OmniCron\",\"CyberCoin\",\"Vtorrent\",\"GreenCoin\",\"Unattanium\",\"Cryptonite\",\"Gridmaster\",\"ConSpiracy Coin \",\"MasterCoin\",\"SoonCoin\",\"1Credit\",\"ViorCoin\",\"IslaCoin\",\"Quicksilver coin\",\"Nexus\",\"MarsCoin \",\"Singular\",\"Crypto\",\"Anarchists Prime\",\"Droidz\",\"BowsCoin\",\"CryptoCircuits\",\"Squall Coin\",\"Milllionaire Coin\",\"Song Coin\",\"BitZeny\",\"Diggits\",\"Expanse\",\"MapCoin\",\"Paycon\",\"Siacoin\",\"Emercoin\",\"BlitzCoin\",\"EverGreenCoin\",\"MindCoin\",\"I0coin\",\"Decred\",\"DogeCoinDark\",\"Revolution VR\",\"HOdlcoin\",\"EDRCoin\",\"Hitcoin\",\"Gamecredits\",\"Dashcoin\",\"DubaiCoin\",\"BiosCrypto\",\"CarpeDiemCoin\",\"PWR Coin\",\"TrumpCoin\",\"BillaryCoin\",\"EthereumScrypt\",\"Phalanx\",\"SunShotCoin\",\"GPU Coin\",\"HempCoin\",\"Adzcoin\",\"VirtaCoin\",\"SoilCoin\",\"YoCoin\",\"Universal Currency\",\"AEON\",\"SibCoin\",\"EuropeCoin\",\"Anti Bitcoin\",\"ZeitCoin\",\"SwingCoin\",\"SafeExchangeCoin\",\"Nebuchadnezzar\",\"Francs\",\"BolivarCoin\",\"GIZMOcoin\",\"SecretCoin\",\"Ratecoin\",\"Digital Bullion Gold\",\"Revenu\",\"Clinton\",\"Clockcoin\",\"VIP Tokens\",\"OrlyCoin\",\"BitSend\",\"16BitCoin\",\"ChessCoin\",\"ReeCoin\",\"Omni\",\"Let it Ride\",\"PutinCoin\",\"iBankCoin\",\"Frankywillcoin\",\"MudraCoin\",\"PizzaCoin\",\"Lutetium Coin\",\"Komodo\",\"GoldBlocks\",\"WayCoin\",\"CarterCoin\",\"Karbo\",\"BitTokens\",\"ZayedCoin\",\"MustangCoin\",\"ZoneCoin\",\"Circuits of Value\",\"RootCoin\",\"DopeCoin\",\"PROUD Money\",\"BitCurrency\",\"DollarCoin\",\"Swiscoin\",\"Shilling\",\"BuzzCoin\",\"Opair\",\"PesoBit\",\"GBR Coin\",\"Halloween Coin\",\"FujiCoin\",\"ZCoin\",\"LeaCoin\",\"CoffeeCoin\",\"RoyalCoin\",\"Zurcoin\",\"GanjaCoin V2\",\"TeamUP\",\"LanaCoin\",\"Elementrem\",\"CashOut\",\"ZClassic\",\"ARK\",\"InsaneCoin\",\"LuckChain\",\"KiloCoin\",\"Hush\",\"ArtexCoin\",\"EmberCoin\",\"XenixCoin\",\"FreeCoin\",\"NPCcoin\",\"PLNCoin\",\"Icobid\",\"AquariusCoin\",\"Kurrent\",\"Creatio\",\"Eternity\",\"Eurocoin\",\"BitcoinFast\",\"Stakenet\",\"BitConnect Coin\",\"MoneyCoin\",\"Enigma\",\"Cannabis Industry Coin\",\"Russiacoin\",\"PandaCoin\",\"GameUnits\",\"GAKHcoin\",\"Allsafe\",\"LiteCreed\",\"OsmiumCoin\",\"Bikercoins\",\"NeptuneClassic\",\"HexxCoin\",\"GoldenBird\",\"Ride My Car\",\"Klingon Empire Darsek\",\"Internet of People\",\"KushCoin\",\"Eryllium\",\"MarxCoin\",\"Printerium\",\"PacCoin\",\"Impeach\",\"Solarflarecoin\",\"Citadel\",\"Zilbercoin\",\"FirstCoin\",\"CreativeChain\",\"BeaverCoin\",\"FindCoin\",\"VaultCoin\",\"Zero\",\"OpenChat\",\"Canada eCoin\",\"Zoin\",\"Musicoin\",\"BnrtxCoin\",\"RenosCoin\",\"DubaiCoin\",\"VirtacoinPlus\",\"TajCoin\",\"Impact\",\"EB3coin\",\"Universe\",\"Atmos\",\"HappyCoin\",\"Coinonat\",\"MacronCoin\",\"Condensate\",\"Independent Money System\",\"ArgusCoin\",\"LomoCoin\",\"Bitcoin Scrypt\",\"ProCurrency\",\"GoldReserve\",\"BenjiRolls\",\"ParallelCoin\",\"GrowthCoin\",\"ILCoin\",\"Phreak\",\"Degas Coin\",\"ZSEcoin\",\"HTML5 Coin\",\"Ultimate Secure Cash\",\"EquiTrader\",\"QTUM\",\"Quantum Resistant Ledger\",\"Espers\",\"Dynamic\",\"Nano\",\"ChanCoin\",\"Dinastycoin\",\"Denarius\",\"DigitalPrice\",\"Virta Unique Coin\",\"Bitcoin Planet\",\"Unify\",\"BritCoin\",\"SocialCoin\",\"Octanox\",\"ArcticCoin\",\"DAS\",\"Linda\",\"LeviarCoin\",\"DeepOnion\",\"Bitcore\",\"gCn Coin\",\"SmartCash\",\"Signatum\",\"Onix\",\"Cream\",\"Bitcoin Cash\",\"Monoeci\",\"CampusCoin\",\"Draftcoin\",\"Vechain\",\"Sojourn Coin\",\"Stakecoin\",\"NewYorkCoin\",\"LiteBitcoin\",\"FrazCoin\",\"Kronecoin\",\"AdCoin\",\"Linx\",\"CoinonatX\",\"Ethereum Dark\",\"Sumokoin\",\"Obsidian\",\"Cardano\",\"Regalcoin\",\"BitcoinZ\",\"TrezarCoin\",\"Elements\",\"TerraNovaCoin\",\"VIVO Coin\",\"Rupee\",\"Bitcoin Gold\",\"WomenCoin\",\"Theresa May Coin\",\"NamoCoin\",\"LUXCoin\",\"Pirl\",\"Xios\",\"Bitcloud 2.0\",\"eBoost\",\"KekCoin\",\"BlackholeCoin\",\"AltCommunity Coin\",\"Pure\",\"Rupaya\",\"Infinity Economics\",\"Pura\",\"Innova\",\"Bitdeal\",\"Ellaism\",\"Sakuracoin\",\"GoByte\",\"Castle\",\"Magnet\",\"Lamden Tau\",\"Electra\",\"Bitcoin Diamond\",\"SHIELD\",\"Cash & Back Coin\",\"UltraNote\",\"BitCoal\",\"DaxxCoin\",\"Bulwark\",\"Kalkulus\",\"AC3\",\"CHIPS\",\"Lethean\",\"GermanCoin\",\"LiteCoin Ultra\",\"PopularCoin\",\"PhantomX\",\"HTML Coin\",\"Photon\",\"Sucre\",\"Fantasy Cash\",\"SparksPay\",\"Digiwage\",\"GunCoin\",\"IrishCoin\",\"Trollcoin\",\"Litecoin Plus\",\"Monkey Project\",\"Pioneer Coin\",\"UnitedBitcoin\",\"Interzone\",\"OP Coin\",\"Valorbit\",\"TokenPay\",\"1717 Masonic Commemorative Token\",\"My Big Coin\",\"TurtleCoin\",\"MUNcoin\",\"Unified Society USDEX\",\"Niobio Cash\",\"Bitcoin Private\",\"Skeincoin\",\"ShareChain\",\"Travelflex\",\"KREDS\",\"Tokyo Coin\",\"BiblePay\",\"LitecoinCash\",\"BitFlip\",\"LottoCoin\",\"LeafCoin\",\"Cerberus\",\"Bitcoin Hush\",\"Crypto Improvement Fund\",\"Stipend\",\"Poa Network\",\"Pushi\",\"Ellerium\",\"Velox\",\"Ontology\",\"Callisto Network\",\"Curium\",\"BitTube\",\"Dinero\",\"Poseidon\",\"Aidos Kuneen\",\"Bitspace\",\"Snowgem\",\"Briacoin\",\"Ignition\",\"Bitrolium\",\"Bitcoin Interest\",\"MedicCoin\",\"Alpenschillling\",\"Zelcash\",\"Bitcoin Green\",\"Deviant Coin\",\"Abjcoin\",\"Profit Hunters Coin\",\"Semux\",\"BitBlocks\",\"FuturoCoin\",\"Carebit\",\"Zealium\",\"Monero Classic\",\"Proton\",\"iDealCash\",\"Jumpcoin\",\"Infinex\",\"Bitcoin Incognito\",\"KEYCO\",\"HollyWoodCoin\",\"GINcoin\",\"PlatinCoin\",\"Loki\",\"Newton Coin\",\"Swisscoin\",\"Xt3ch\",\"MassGrid\",\"TheVig\",\"PluraCoin\",\"EmaratCoin\",\"Dekado\",\"Lynx\",\"Poseidon Quark\",\"BitcoinWSpectrum\",\"Muse\",\"Motion\",\"PlusOneCoin\",\"Axe\",\"Trivechain\",\"Dystem\",\"Giant\",\"Peony Coin\",\"SafeCoin\",\"Absolute Coin\",\"Vitae\",\"HexCoin\",\"TPCash\",\"Webchain\",\"Ryo\",\"MUSDcoin\",\"Urals Coin\",\"Qwertycoin\",\"ARENON\",\"EUNO\",\"MMOCoin\",\"Ketan\",\"NIX\",\"Safe Trade Coin\",\"Project Pai\",\"Mont Blanc\",\"XDNA\",\"PAXEX\",\"Azart\",\"Apollon\",\"ThunderStake\",\"Kcash\",\"Xchange\",\"Acute Angle Cloud\",\"Traid\",\"CrypticCoin\",\"Bettex coin\",\"ZestCoin\",\"X-CASH\",\"Actinium\",\"ETHER-1\",\"Bitcoin SV\",\"BitMoney\",\"Bitcoiin2Gen\",\"Junson Ming Chan Coin\",\"FREDEnergy\",\"Zenad\",\"C25 Coin\",\"HerbCoin\",\"Aquachain\",\"Universal Molecule\",\"Lithium\",\"Smart Bitcoin\",\"PirateCash\",\"Exosis\",\"Block-Logic\",\"Oduwa\",\"Beam\",\"Galilel\",\"Bithereum\",\"Crypto Sports\",\"Credit\",\"SLICE\",\"Dash Platinum\",\"Nasdacoin\",\"Vidulum\",\"Beetle Coin\",\"Titan Coin\",\"Award\",\"BlockStamp\",\"BLAST\",\"Bitcoin Rhodium\",\"GlobalToken\",\"Insane Coin\",\"ALAX\",\"The Freedom Coin\",\"LiteDoge\",\"Boolberry\",\"SolarCoin\",\"TruckCoin\",\"UFO Coin\",\"Ascension Coin\",\"OrangeCoin\",\"BlakeCoin\",\"BitstarCoin\",\"NeosCoin\",\"HyperCoin\",\"PinkCoin\",\"FantomCoin \",\"Crypto Escudo\",\"AudioCoin\",\"IncaKoin\",\"Piggy Coin\",\"Crown Coin\",\"Genstake\",\"Quazar Coin\",\"SmileyCoin\",\"ParkByte\",\"XiaoMiCoin\",\"Groestlcoin\",\"CapriCoin\",\" ClubCoin\",\"Radium\",\"Bata\",\"Pakcoin\",\"Creditbit \",\"OKCash\",\"Lisk\",\"HiCoin\",\"WhiteCoin\",\"Dotcoin\",\"FriendshipCoin\",\"The Hempcoin\",\"Fiii\",\"JoinCoin\",\"Triangles Coin\",\"Vollar\",\"EOS\",\"Reality Clash\",\"Oxycoin\",\"iOlite\",\"TigerCash\",\"Waves\",\"Particl\",\"BitTorrent\",\"Nxt\",\"ZEPHYR\",\"Gapcoin\",\"Beldex\",\"Horizen\",\"BitcoinPlus\"],\"ProofType\":[\"PoW/PoS\",\"PoW/PoS\",\"PoW/PoS\",\"PoW/PoS\",\"PoW\",\"PoW\",\"PoW\",\"PoW/PoS\",\"PoW\",\"PoW\",\"PoW\",\"PoS\",\"PoW\",\"PoW/PoS\",\"PoW/PoS\",\"PoS\",\"PoW\",\"PoW/PoS\",\"PoW\",\"PoW\",\"PoS\",\"PoW/PoS\",\"PoS\",\"PoW\",\"PoW/PoS\",\"PoW\",\"PoW/PoS\",\"PoW\",\"PoW\",\"PoW\",\"PoW\",\"PoW\",\"PoW/PoS\",\"PoW\",\"PoW\",\"PoW\",\"PoW\",\"PoW/PoS\",\"PoW\",\"PoW/PoS\",\"PoW\",\"PoW/PoS\",\"PoW\",\"PoW/PoS\",\"PoS\",\"PoW\",\"PoC\",\"PoW/PoS\",\"PoW/PoS\",\"PoW\",\"PoW/PoS\",\"PoW\",\"PoW\",\"PoW\",\"PoW\",\"PoW\",\"PoW\",\"PoW\",\"PoS\",\"PoW\",\"PoS\",\"PoW/PoS\",\"PoW\",\"PoS/PoW/PoT\",\"PoW\",\"PoW\",\"PoW\",\"PoW\",\"PoW\",\"PoW/PoS\",\"PoW/PoS\",\"PoW/PoS\",\"PoW\",\"PoS\",\"PoW\",\"PoW/PoS\",\"PoW\",\"PoW/PoS\",\"PoW/PoS\",\"PoW\",\"PoW\",\"PoW\",\"PoW\",\"PoW/PoS\",\"PoW/PoS\",\"PoW\",\"PoW\",\"PoS\",\"PoW\",\"PoW/PoS\",\"PoS\",\"PoW/PoS\",\"PoW\",\"PoW\",\"PoW\",\"PoW\",\"PoW/PoS\",\"PoW/PoS\",\"PoW/PoS\",\"PoW/PoS\",\"PoW/PoS\",\"PoW\",\"PoW\",\"PoW\",\"PoW/PoS\",\"PoW/PoS\",\"PoW\",\"PoW\",\"PoW\",\"PoS\",\"PoW/PoS\",\"PoW\",\"PoS\",\"PoW\",\"PoS\",\"PoW/PoS\",\"PoW\",\"PoW\",\"PoW\",\"PoW\",\"PoW\",\"PoW/PoS\",\"PoW/PoS\",\"PoW/PoS\",\"PoW\",\"PoW\",\"PoST\",\"PoW\",\"PoW\",\"PoW/PoS\",\"PoW/PoS\",\"PoS\",\"PoW\",\"PoW/PoS\",\"PoW/PoS\",\"PoW/PoS\",\"PoW\",\"PoW\",\"PoC\",\"PoS\",\"PoW\",\"PoW/PoS\",\"PoW\",\"PoS\",\"PoW/PoS\",\"PoW\",\"PoS\",\"PoW\",\"PoW/PoS\",\"PoW\",\"PoS\",\"PoW\",\"PoS\",\"PoW/PoS\",\"PoW/PoS\",\"PoW/PoS\",\"PoW\",\"PoW/PoS\",\"PoW\",\"PoW\",\"PoS\",\"PoW\",\"PoW\",\"PoW/PoS\",\"PoW\",\"PoW/PoS\",\"PoW/PoS\",\"PoW\",\"PoW\",\"PoW\",\"PoW\",\"PoW\",\"PoW\",\"PoW\",\"PoW\",\"PoW/PoS\",\"PoW/PoS\",\"PoW\",\"PoW/nPoS\",\"PoW\",\"PoW/PoS\",\"PoW\",\"PoW\",\"PoW/PoS\",\"PoW\",\"PoS\",\"PoS/PoW\",\"PoW/PoS\",\"PoW\",\"PoW\",\"PoS\",\"PoW\",\"PoS\",\"PoW/PoS\",\"PoW\",\"PoW/PoS\",\"PoS\",\"PoW/PoS\",\"PoW\",\"PoW\",\"PoW/PoS\",\"PoW\",\"PoW\",\"PoW\",\"PoW/PoS\",\"PoW/PoS\",\"PoW\",\"PoW\",\"PoW/PoS\",\"PoW/PoS\",\"PoW\",\"PoW/PoS\",\"PoS\",\"PoW/PoS\",\"PoW/PoS\",\"PoW\",\"PoW\",\"PoS\",\"PoW\",\"PoW\",\"PoW\",\"PoW\",\"PoW\",\"PoW/PoS\",\"PoW\",\"PoW\",\"PoW/PoS\",\"PoW\",\"PoS\",\"PoW/PoS\",\"PoC\",\"PoS\",\"PoW\",\"PoW\",\"PoW/PoS\",\"PoW/PoS\",\"PoW/PoS\",\"PoS\",\"PoW/PoS\",\"PoW\",\"PoW/PoS\",\"PoW/PoS\",\"PoW/PoS\",\"PoW/PoS\",\"PoW/PoS\",\"PoW/PoS\",\"PoW/PoS\",\"PoW\",\"PoS\",\"PoW/PoS\",\"PoW/PoS\",\"PoW/PoS\",\"PoS\",\"PoW\",\"PoS\",\"dPoW/PoW\",\"PoW/PoS\",\"PoS\",\"PoW/PoS\",\"PoW\",\"PoW/PoS\",\"PoW\",\"PoW/PoS\",\"PoW/PoS\",\"PoW\",\"PoW/PoS\",\"PoW\",\"PoW/PoS\",\"PoS\",\"PoW\",\"PoW/PoW\",\"PoW\",\"PoW/PoS\",\"PoS\",\"PoW/PoS\",\"PoW\",\"PoW/PoS\",\"PoW\",\"PoW\",\"PoW\",\"PoS\",\"PoS\",\"PoW\",\"PoW/PoS\",\"PoS\",\"PoW/PoS\",\"PoW\",\"PoW\",\"PoW\",\"DPoS\",\"PoW/PoS\",\"PoW/PoS\",\"PoW\",\"PoW\",\"PoW\",\"PoW/PoS\",\"PoW/PoS\",\"PoS\",\"PoW/PoS\",\"PoW/PoS\",\"PoW/PoS\",\"PoW/PoS\",\"PoW\",\"PoS\",\"PoW/PoS\",\"PoW/PoS\",\"PoW/PoS\",\"TPoS\",\"PoW/PoS\",\"PoW/PoS\",\"PoW/PoS\",\"PoW\",\"PoW/PoS\",\"PoS\",\"PoW/PoS\",\"PoW/PoS\",\"PoS\",\"PoW/PoS\",\"PoW\",\"PoW\",\"PoW/PoS\",\"PoW\",\"PoW/PoS\",\"PoS\",\"PoW/PoS\",\"PoW/PoS\",\"PoW/PoS\",\"PoW/PoS\",\"PoW\",\"PoW/PoS\",\"PoW\",\"PoW/PoS\",\"PoW\",\"PoW\",\"PoS\",\"PoW/PoS \",\"PoW\",\"PoW\",\"PoS\",\"PoW\",\"PoW\",\"PoW/PoS\",\"PoW\",\"PoW\",\"PoW\",\"PoW\",\"PoS\",\"PoW\",\"PoW/PoS\",\"PoW/PoS\",\"PoW/PoS\",\"PoW\",\"PoS\",\"PoS\",\"PoW/PoS\",\"PoW\",\"PoS\",\"PoW/PoS\",\"PoW/PoS\",\"PoW/PoS\",\"PoW/PoS\",\"PoW\",\"PoS\",\"PoW/PoS\",\"PoW\",\"PoW\",\"PoS\",\"PoW\",\"PoS\",\"PoW/PoS\",\"PoW/PoS\",\"PoW/PoS\",\"PoS\",\"PoW\",\"PoS\",\"PoW\",\"PoW/PoS\",\"PoW\",\"PoW\",\"PoW\",\"PoW\",\"PoW/PoS\",\"PoW\",\"PoW/PoS\",\"PoW/PoS\",\"PoW\",\"PoW/PoS\",\"PoW\",\"PoW/PoS\",\"PoW\",\"PoW\",\"PoW/PoS\",\"PoW\",\"PoW/PoS\",\"PoW\",\"PoW\",\"PoW\",\"PoS\",\"PoW\",\"PoW/PoS\",\"PoW\",\"PoW/PoS\",\"PoW\",\"PoS\",\"Proof of Authority\",\"PoW\",\"PoS\",\"PoW\",\"PoW\",\"PoW\",\"PoW\",\"PoW\",\"PoW\",\"PoW/PoS\",\"PoW/PoS\",\"PoW\",\"PoS\",\"PoS\",\"PoW/PoS\",\"PoW\",\"PoW/PoS\",\"PoW\",\"PoW/PoS\",\"PoW\",\"PoS\",\"PoW\",\"PoW/PoS\",\"PoW/PoS\",\"PoW/PoS\",\"PoW/PoS\",\"PoW\",\"PoW/PoS\",\"PoW/PoS\",\"PoW\",\"PoS\",\"PoW/PoS\",\"PoW/PoS\",\"PoW/PoS\",\"PoS\",\"PoS\",\"PoW\",\"PoW\",\"PoW\",\"PoW\",\"PoW\",\"PoW\",\"DPoS\",\"PoW/PoS\",\"DPoS\",\"PoW/PoS\",\"PoW/PoS\",\"PoW\",\"PoW/PoS\",\"PoW\",\"PoW\",\"PoW\",\"PoS\",\"PoS\",\"PoW\",\"PoW\",\"PoW\",\"PoW/PoS\",\"PoW/PoS\",\"PoW\",\"PoW/PoS\",\"PoW/PoS\",\"PoW\",\"PoW\",\"PoW/PoS\",\"PoW\",\"PoS\",\"PoW\",\"PoW\",\"PoW/PoS\",\"PoW/PoS\",\"PoS\",\"PoW\",\"PoW\",\"PoW\",\"PoW/PoS\",\"PoW/PoS\",\"PoS\",\"PoS\",\"PoW and PoS\",\"PoW\",\"PoW\",\"PoW/PoS\",\"PoW\",\"PoW\",\"PoW\",\"PoW\",\"PoW\",\"PoW\",\"PoS\",\"POBh\",\"PoW + Hive\",\"PoW\",\"PoW\",\"PoW\",\"PoW\",\"PoW\",\"PoW\",\"PoW/PoS\",\"PoA\",\"PoW/PoS\",\"PoW/PoS\",\"PoS\",\"PoS\",\"PoW\",\"PoW\",\"PoW\",\"PoW\",\"PoW\",\"PoW\",\"PoW/PoS\",\"PoW\",\"PoW/PoS\",\"PoW/PoS\",\"PoW\",\"PoW\",\"PoS\",\"PoW\",\"PoW/PoS\",\"PoS\",\"PoS\",\"PoW/PoS\",\"PoW/PoS\",\"DPoS\",\"PoW/PoS\",\"PoW\",\"PoW/PoS\",\"PoS\",\"PoW\",\"PoS\",\"PoW/PoS\",\"PoW\",\"PoW\",\"PoS/PoW\",\"PoW\",\"PoS\",\"PoW\",\"PoW\",\"PoW\",\"PoW\",\"PoW/PoS\",\"PoS\",\"PoW\",\"PoW/PoS\",\"PoW\",\"PoW/PoS\",\"PoS\",\"HPoW\",\"PoS\",\"PoS\",\"PoS\",\"PoW\",\"PoW\",\"PoW\",\"PoW/PoS\",\"PoS\",\"PoW/PoS\",\"PoS\",\"PoW/PoS\",\"PoW/PoS\",\"PoS\",\"PoW\",\"PoW/PoS\",\"PoW\",\"PoW\",\"PoW/PoS\",\"PoW\",\"PoW\",\"PoS\",\"PoW/PoS\",\"PoS\",\"PoS\",\"PoW\",\"PoS\",\"PoW\",\"PoS\",\"PoW/PoS\",\"PoS\",\"PoW\",\"PoW/PoS\",\"PoW/PoS\",\"Zero-Knowledge Proof\",\"PoW\",\"DPOS\",\"PoW/PoS\",\"PoW\",\"PoS\",\"PoW\",\"PoW\",\"PoW\",\"PoW\",\"PoW\",\"Pos\",\"PoW\",\"PoS\",\"PoW\",\"POS / MN\",\"PoW\",\"PoW/PoS\",\"PoW\",\"PoW\",\"PoW\",\"PoW\",\"PoS\",\"PoW\",\"PoW\",\"PoW/PoS\",\"PoW\",\"PoW/PoS\",\"PoW\",\"PoS\",\"PoW/PoS\",\"PoW\",\"PoS\",\"PoW/PoS\",\"PoW\",\"PoW/PoS\",\"PoW/PoS\",\"PoW/PoS\",\"PoW\",\"PoW\",\"PoW\",\"PoW\",\"PoW/PoS\",\"DPoS\",\"PoS\",\"PoW/PoS\",\"PoW\",\"PoW\",\"PoW/PoS\",\"PoW\",\"PoW/PoS\",\"PoW/PoS\",\"PoW\",\"PoW/PoS\",\"PoS\",\"PoW/PoS\",\"PoW/PoS\",\"PoW\",\"PoW\",\"PoW/PoS\",\"PoW/PoS\",\"PoW/PoS\",\"PoW\",\"PoW/PoS\",\"PoW\",\"PoW\",\"PoW/PoS\",\"PoW/PoS\",\"PoW\",\"PoW/PoS\",\"PoW/PoS\",\"PoS\",\"PoW\",\"PoW\",\"Proof of Trust\",\"PoW/PoS\",\"DPoS\",\"PoS\",\"PoW/PoS\",\"PoW\",\"PoW/PoS\",\"PoW/PoS\",\"DPoC\",\"PoW\",\"PoW/PoS\",\"PoW\",\"DPoS\",\"PoW\",\"DPoS\",\"PoW\",\"PoS\",\"LPoS\",\"PoS\",\"DPoS\",\"PoS/LPoS\",\"DPoS\",\"PoW/PoS\",\"PoW\",\"PoW\",\"PoS\"],\"TotalCoinSupply\":[\"42\",\"532000000\",\"0\",\"314159265359\",\"21000000\",\"0\",\"84000000\",\"22000000\",\"0\",\"210000000\",\"21000000\",\"3600570502\",\"21000000000\",\"22000000\",\"1300000\",\"12500000\",\"21000000\",\"350000000\",\"20000000\",\"1600000\",\"7000000\",\"6000000\",\"16403135\",\"64000000\",\"16768584\",\"32000000\",\"0\",\"2000000000\",\"384000000000\",\"169795588\",\"250000000\",\"100000000\",\"0\",\"247000000\",\"84000000\",\"48166000\",\"21000000 \",\"500000\",\"27580000\",\"47433600\",\"21000000 \",\"1000000\",\"13140000\",\"114000000\",\"100000000\",\"18000000\",\"40000000000\",\"0\",\"4380000\",\"16555000000\",\"3720000\",\"2043962\",\"21000000000\",\"13500000000\",\"21000000 \",\"75000000\",\"299792458\",\"32000000\",\"0\",\"100000000000\",\"100000000\",\"624000\",\"2602410\",\"0\",\"11235813\",\"336000000\",\"1420609614\",\"70000000\",\"72245700\",\"7000000\",\"0\",\"120000000\",\"42000000\",\"0\",\"90600000000\",\"22000000\",\"21000000\",\"3293010\",\"21600000\",\"265420800\",\"20000000\",\"1350000\",\"82003200\",\"1000000\",\"100000000\",\"42000000\",\"200000000\",\"0\",\"10000000\",\"2419200000\",\"16180000\",\"0\",\"50000000\",\"15000000000\",\"21000000\",\"337000000\",\"0\",\"3770000\",\"420000000\",\"98000000\",\"0\",\"12000000\",\"21000000\",\"250000000\",\"1000000\",\"1000000\",\"51200000\",\"50000000\",\"21000000\",\"0\",\"1000\",\"888000000\",\"100000000\",\"47011968\",\"2300000000\",\"10000000\",\"42000000\",\"2625000\",\"80000000\",\"250000\",\"0\",\"1600000000\",\"100000000\",\"0\",\"23000000\",\"0\",\"0\",\"84000000\",\"265420800\",\"2000000\",\"5500000\",\"0\",\"45000000\",\"0\",\"50000000\",\"1000000000\",\"184467440735\",\"10000000000\",\"2158812800\",\"500000000\",\"105120000\",\"68000000\",\"1000000\",\"17000000\",\"0\",\"1680000000\",\"0\",\"166386000\",\"12000000\",\"2628000\",\"500000000\",\"160000000\",\"2014\",\"0\",\"10000000\",\"12000000\",\"1000000000\",\"10110000\",\"210000000\",\"1000000000\",\"20000000\",\"0\",\"0\",\"0\",\"3371337\",\"0\",\"20000000\",\"10000000000\",\"0\",\"1840000000\",\"84000000\",\"33000000\",\"619478\",\"21000000\",\"92000000000\",\"0\",\"0\",\"33000000\",\"78000000\",\"33000000\",\"0\",\"65789100\",\"53760000\",\"5060000\",\"21000000\",\"0\",\"0\",\"0\",\"210240000\",\"250000000\",\"100000000\",\"16906397\",\"2228921.184\",\"50000000\",\"0\",\"1000000000\",\"3852156\",\"26298000\",\"16000000\",\"21000000\",\"21000000\",\"16500000000\",\"210000000\",\"81962100\",\"22000000\",\"26550000000\",\"84000000\",\"18446744\",\"10500000\",\"20190463.54969237\",\"21626280000 \",\"0\",\"12000000\",\"42000000\",\"4200000\",\"15000000\",\"2250000000\",\"221052632\",\"5000000000\",\"84000000\",\"21000000000\",\"30000000\",\"168351300\",\"210000000\",\"18400000\",\"24000000\",\"384000000\",\"42000000\",\" 99000000000\",\"40000000\",\"2147483647\",\"20000000\",\"20000000\",\"25000000\",\"100000\",\"21000000\",\"75000000\",\"15000000\",\"222725000\",\"2421227\",\"525000000\",\"90000000\",\"36000000\",\"139000000\",\"16000000\",\"74666667\",\"350000000\",\"616448\",\"33500000\",\"2000000000\",\"44333333\",\"100000000\",\"200000000\",\"25000000\",\"657000000\",\"200000000\",\"50000000\",\"100000000\",\"90000000\",\"10000000\",\"21000000\",\"9736000\",\"3000000\",\"21000000\",\"1200000000\",\"0\",\"200000000\",\"10000000000\",\"0\",\"10638298\",\"3100000000\",\"30000000\",\"20000000000\",\"74000000\",\"0\",\"87500000\",\"1500000000\",\"10000000\",\"21400000\",\"2000000000\",\"39999898\",\"2500124\",\"126000000\",\"100000000\",\"301000000\",\"7506000000\",\"26205539\",\"100000000\",\"21000000\",\"125000000\",\"30000000\",\"1000000000\",\"10000000000\",\"21000000\",\"500000000\",\"850000000\",\"3853326.77707314\",\"50000000\",\"7000000000\",\"38540000 \",\"200000000 \",\"42000000\",\"228000000\",\"20000000\",\"60000000\",\"20000000\",\"33000000\",\"76500000\",\"28000000\",\"650659833\",\"5000000\",\"21000000\",\"144000000\",\"32514916898\",\"13000000\",\"3315789\",\"15000000\",\"78835200\",\"2714286\",\"25000000\",\"250000000\",\"9999999\",\"450000000\",\"100000000\",\"500000000\",\"21000000\",\"9354000\",\"100000000\",\"100640000\",\"20000000\",\"100000000000\",\"21933333\",\"20000000\",\"185000000\",\"55000000\",\"110000000\",\"115000000\",\"3360000\",\"14524851.4827\",\"1000000000\",\"17000000\",\"1000000000\",\"100000000 \",\"21000000\",\"454898394\",\"210000000\",\"34426423\",\"2232901\",\"100000000\",\"36900000\",\"110000000\",\"4000000000\",\"112000000\",\"110290030\",\"100000000\",\"48252000\",\"400000000\",\"500000000\",\"21212121\",\"28600000\",\"1000000000\",\"21000000\",\"75000000000\",\"40000000\",\"35520400\",\"1000000\",\"2000000000\",\"2500000000\",\"30000000\",\"105000000\",\"2093500000\",\"90000000000\",\"200084200\",\"72000000\",\"100000000\",\"105000000\",\"50000000000\",\"0\",\"340282367\",\"30000000\",\"2000000000\",\"10000000\",\"100000000\",\"120000000\",\"100000000\",\"19276800\",\"30000000\",\" 75000000\",\"7905634\",\"60000000\",\"18900000\",\"50000000000\",\"54000000\",\"18898187.6216583\",\"21000000\",\"200000000000\",\"5000000000\",\"137500000\",\"1100000000\",\"100000000\",\"21000000\",\"9507271\",\"1010000000\",\"17405891.19707116\",\"86712634466\",\"10500000000\",\"61599965\",\"0\",\"1000000000\",\"20000000\",\"84000000\",\"100000000\",\"100000000\",\"48252000\",\"4200000\",\"88888888\",\"91388946\",\"45000000000\",\"27000000\",\"21000000000\",\"400000000\",\"1800000000\",\"15733333\",\"27000000\",\"24000000\",\"21000000\",\"25000000000\",\"100000000\",\"1200000000\",\"60000000\",\"156306732.71\",\"21000000\",\"200000000\",\"100000000\",\"21000000\",\"14788275.991\",\"5000000\",\"3686860\",\"75000000\",\"9000000000\",\"350000000\",\"45000000\",\"300000000\",\"280000000\",\"105100000\",\"31800000\",\"50000000 \",\"144000000\",\"500000000\",\"30000000000\",\"210000000\",\"660000000\",\"210000000\",\"85000000000\",\"12500000\",\"10000000000\",\"27716121\",\"20000000\",\"550000000\",\"21000000\",\"999481516\",\"50000000000\",\"150000000\",\"4999999999\",\"50000000\",\"90000000000\",\" 90000000000\",\"19800000\",\"4600000\",\"21000000\",\"120000000\",\"500000000\",\"64000000\",\"900000000\",\"4000000\",\"21000000\",\"23000000\",\"20166000\",\"23000000\",\"2000000000\",\"92233720000000000\",\"25000000\",\"1618033\",\"30000000\",\"1000000000000\",\"16600000\",\"232000000\",\"336000000\",\"21000000\",\"17000000\",\"10000000000\",\"100000000\",\"1100000000\",\"800000000\",\"5200000000\",\"840000000\",\"40000000\",\"18406979840\",\"21000000000\",\"31500000\",\"21000000\",\"500000000\",\"19340594\",\"252460800\",\"25000000\",\"60000000\",\"124000000\",\"1000000000\",\"6500000000\",\"22000000\",\"1000000000\",\"100000000\",\"21000000\",\"25000000\",\"50000000\",\"84096000\",\"3000000\",\"5000000\",\"70000000\",\"22300000\",\"500000000\",\"300000000\",\"210000000\",\"21000000\",\"88000000\",\"30000000\",\"100000000\",\"100000000\",\"500000000\",\"100000000\",\"200000000\",\"80000000\",\"18400000\",\"45000000\",\"5121951220\",\"21000000\",\"26280000\",\"21000000\",\"18000000\",\"26000000\",\"10500000\",\"600000518\",\"150000000\",\"184000000000\",\"10200000000\",\"44000000\",\"168000000\",\"100000000\",\"1000000000\",\"84000000\",\"90000000\",\"92000000000\",\"650000000 \",\"100262205\",\"18081806 \",\"22075700\",\"21000000\",\"21000000\",\"82546564\",\"21000000\",\"5151000\",\"16880000000\",\"36000000\",\"52500000\",\"100000000\",\"22105263\",\"1000000000\",\"1750000000\",\"88188888\",\"100000000\",\"210000000\",\"184470000000\",\"55000000\",\"50000000\",\"260000000\",\"210000000\",\"175000000\",\"840000000\",\"2100000000\",\"70000000\",\"366000000\",\"100000000\",\"25000000\",\"250000000\",\"18000000000\",\"1000000000\",\"100000000\",\"1000000000\",\"252000000\",\"7600000000\",\"50000000\",\"29300000\",\"100000000000\",\"84000000\",\"13666237\",\"21000000\",\"70000000000\",\"100000000\",\"0\",\"8080000000\",\"46000000\",\"6100000\",\"54000000\",\"42000000\",\"105120001.44\",\"25228800\",\"20999764\",\"105000000\",\"21000000\",\"120000000\",\"21000000\",\"262800000\",\"19035999\",\"30886000\",\"13370000\",\"74800000000\",\"100000000\",\"19700000\",\"84000000\",\"100000000\",\"500000000\",\"5000000000\",\"420000000\",\"105000000\",\"64000000\",\"2100000\",\"168000000\",\"30000000\",\"1000000000\",\"25000000\",\"35000000000\",\"18450000\",\"98100000000\",\"0\",\"4000000000\",\"0\",\"200000000\",\"7000000000\",\"54256119\",\"21000000\",\"0\",\"500000000\",\"18400000\",\"1000000000\",\"10500000000\",\"190000000\",\"1000000000\",\"42000000\",\"15000000\",\"18446744\",\"50000000000\",\"25000000\",\"400000000\",\"105000000\",\"208000000\",\"160000000\",\"9000000\",\"5000000\",\"182000000\",\"16504333\",\"105000000\",\"159918400\",\"10008835635\",\"300000000\",\"890000000\",\"60168145\",\"300000000\",\"5000000000\",\"2800000\",\"120000\",\"2100000000\",\"0\",\"24487944\",\"0\",\"1000000000\",\"1000000000\",\"100000000\",\"8634140\",\"990000000000\",\"1000000000\",\"2000000000\",\"250000000\",\"1400222610\",\"21000000\",\"1000000\"],\"TotalCoinsMined\":{\"__ndarray__\":\"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\",\"dtype\":\"float64\",\"order\":\"little\",\"shape\":[685]},\"class\":{\"__ndarray__\":\"AAAAAAAAAAAAAAAAAAAAAAMAAAADAAAAAwAAAAAAAAADAAAAAwAAAAMAAAAAAAAAAwAAAAAAAAAAAAAAAAAAAAMAAAAAAAAAAwAAAAMAAAAAAAAAAAAAAAAAAAADAAAAAAAAAAMAAAAAAAAAAwAAAAMAAAADAAAAAwAAAAMAAAAAAAAAAwAAAAMAAAADAAAAAwAAAAAAAAADAAAAAAAAAAMAAAAAAAAAAwAAAAAAAAAAAAAAAwAAAAAAAAAAAAAAAAAAAAMAAAAAAAAAAwAAAAMAAAADAAAAAwAAAAMAAAADAAAAAwAAAAAAAAADAAAAAAAAAAAAAAADAAAAAAAAAAMAAAADAAAAAwAAAAMAAAADAAAAAAAAAAAAAAAAAAAAAwAAAAAAAAADAAAAAAAAAAMAAAAAAAAAAAAAAAMAAAADAAAAAwAAAAMAAAAAAAAAAAAAAAMAAAADAAAAAAAAAAMAAAAAAAAAAAAAAAAAAAADAAAAAwAAAAMAAAADAAAAAAAAAAAAAAAAAAAAAAAAAAAAAAADAAAAAwAAAAMAAAAAAAAAAAAAAAMAAAADAAAAAwAAAAAAAAAAAAAAAwAAAAAAAAADAAAAAAAAAAAAAAADAAAAAwAAAAMAAAADAAAAAwAAAAAAAAAAAAAAAAAAAAMAAAADAAAAAAAAAAMAAAADAAAAAAAAAAAAAAAAAAAAAwAAAAAAAAAAAAAAAAAAAAMAAAADAAAAAAAAAAAAAAADAAAAAAAAAAMAAAAAAAAAAAAAAAMAAAAAAAAAAwAAAAAAAAADAAAAAAAAAAMAAAAAAAAAAAAAAAAAAAAAAAAAAwAAAAAAAAADAAAAAwAAAAAAAAADAAAAAwAAAAAAAAADAAAAAAAAAAAAAAADAAAAAwAAAAMAAAADAAAAAwAAAAMAAAADAAAAAwAAAAAAAAAAAAAAAwAAAAAAAAADAAAAAAAAAAMAAAADAAAAAAAAAAMAAAAAAAAAAAAAAAAAAAADAAAAAwAAAAAAAAADAAAAAAAAAAAAAAADAAAAAAAAAAAAAAAAAAAAAwAAAAMAAAAAAAAAAwAAAAMAAAADAAAAAAAAAAAAAAADAAAAAwAAAAAAAAAAAAAAAwAAAAAAAAAAAAAAAAAAAAAAAAADAAAAAwAAAAAAAAADAAAAAwAAAAMAAAADAAAAAwAAAAAAAAADAAAAAwAAAAAAAAADAAAAAAAAAAAAAAAAAAAAAAAAAAMAAAADAAAAAAAAAAAAAAAAAAAAAAAAAAAAAAADAAAAAAAAAAAAAAAAAAAAAAAAAAAAAAAAAAAAAAAAAAMAAAAAAAAAAAAAAAAAAAAAAAAAAAAAAAMAAAAAAAAAAwAAAAAAAAAAAAAAAAAAAAMAAAAAAAAAAwAAAAAAAAAAAAAAAwAAAAAAAAADAAAAAAAAAAAAAAADAAAAAAAAAAMAAAAAAAAAAAAAAAAAAAADAAAAAAAAAAMAAAADAAAAAwAAAAAAAAAAAAAAAwAAAAAAAAAAAAAAAAAAAAMAAAADAAAAAwAAAAAAAAAAAAAAAAAAAAMAAAADAAAAAwAAAAAAAAAAAAAAAAAAAAAAAAAAAAAAAAAAAAAAAAADAAAAAAAAAAAAAAAAAAAAAAAAAAAAAAAAAAAAAAAAAAAAAAADAAAAAAAAAAAAAAAAAAAAAAAAAAAAAAAAAAAAAwAAAAMAAAAAAAAAAwAAAAAAAAAAAAAAAAAAAAAAAAAAAAAAAAAAAAMAAAAAAAAAAwAAAAAAAAADAAAAAwAAAAAAAAAAAAAAAwAAAAMAAAAAAAAAAwAAAAMAAAAAAAAAAwAAAAMAAAADAAAAAwAAAAAAAAADAAAAAAAAAAAAAAAAAAAAAwAAAAAAAAAAAAAAAAAAAAMAAAAAAAAAAAAAAAAAAAAAAAAAAAAAAAMAAAAAAAAAAAAAAAMAAAADAAAAAAAAAAMAAAAAAAAAAAAAAAAAAAAAAAAAAAAAAAMAAAAAAAAAAwAAAAAAAAADAAAAAwAAAAMAAAADAAAAAAAAAAMAAAAAAAAAAAAAAAMAAAAAAAAAAwAAAAAAAAADAAAAAwAAAAAAAAADAAAAAAAAAAMAAAADAAAAAwAAAAAAAAADAAAAAAAAAAMAAAAAAAAAAwAAAAAAAAAAAAAAAwAAAAAAAAADAAAAAwAAAAMAAAADAAAAAwAAAAMAAAAAAAAAAAAAAAMAAAAAAAAAAAAAAAAAAAADAAAAAAAAAAMAAAAAAAAAAwAAAAAAAAADAAAAAAAAAAAAAAAAAAAAAAAAAAMAAAAAAAAAAAAAAAMAAAAAAAAAAAAAAAAAAAAAAAAAAAAAAAAAAAADAAAAAwAAAAMAAAADAAAAAwAAAAMAAAAAAAAAAAAAAAAAAAAAAAAAAAAAAAMAAAAAAAAAAwAAAAMAAAADAAAAAAAAAAAAAAADAAAAAwAAAAMAAAAAAAAAAAAAAAMAAAAAAAAAAAAAAAMAAAADAAAAAAAAAAMAAAAAAAAAAwAAAAMAAAAAAAAAAAAAAAAAAAADAAAAAwAAAAMAAAAAAAAAAAAAAAAAAAADAAAAAAAAAAMAAAADAAAAAAAAAAMAAAADAAAAAwAAAAMAAAADAAAAAwAAAAAAAAABAAAAAQAAAAMAAAADAAAAAwAAAAMAAAADAAAAAwAAAAAAAAABAAAAAAAAAAAAAAAAAAAAAAAAAAMAAAADAAAAAwAAAAMAAAADAAAAAwAAAAAAAAADAAAAAAAAAAAAAAADAAAAAwAAAAAAAAADAAAAAAAAAAAAAAAAAAAAAAAAAAAAAAAAAAAAAAAAAAMAAAAAAAAAAAAAAAMAAAAAAAAAAAAAAAMAAAADAAAAAAAAAAMAAAAAAAAAAwAAAAMAAAADAAAAAwAAAAAAAAAAAAAAAwAAAAAAAAADAAAAAAAAAAAAAAAAAAAAAAAAAAAAAAAAAAAAAwAAAAMAAAADAAAAAAAAAAAAAAAAAAAAAAAAAAAAAAAAAAAAAAAAAAMAAAAAAAAAAwAAAAMAAAAAAAAAAwAAAAMAAAAAAAAAAAAAAAAAAAAAAAAAAwAAAAAAAAADAAAAAAAAAAAAAAAAAAAAAwAAAAAAAAAAAAAAAAAAAAMAAAABAAAAAAAAAAMAAAAAAAAAAwAAAAMAAAADAAAAAwAAAAMAAAAAAAAAAwAAAAAAAAADAAAAAAAAAAMAAAAAAAAAAwAAAAMAAAADAAAAAwAAAAMAAAADAAAAAwAAAAAAAAADAAAAAAAAAAMAAAAAAAAAAAAAAAMAAAAAAAAAAAAAAAMAAAAAAAAAAAAAAAAAAAADAAAAAwAAAAMAAAADAAAAAAAAAAAAAAAAAAAAAAAAAAMAAAADAAAAAAAAAAMAAAAAAAAAAAAAAAMAAAAAAAAAAAAAAAAAAAAAAAAAAwAAAAMAAAAAAAAAAAAAAAAAAAADAAAAAAAAAAMAAAADAAAAAAAAAAAAAAADAAAAAAAAAAAAAAAAAAAAAwAAAAMAAAAAAAAAAAAAAAAAAAAAAAAAAAAAAAMAAAAAAAAAAAAAAAEAAAADAAAAAAAAAAMAAAAAAAAAAwAAAAAAAAADAAAAAAAAAAEAAAAAAAAAAgAAAAAAAAAAAAAAAAAAAAMAAAADAAAAAAAAAA==\",\"dtype\":\"int32\",\"order\":\"little\",\"shape\":[685]}},\"selected\":{\"id\":\"6858\"},\"selection_policy\":{\"id\":\"6892\"}},\"id\":\"6857\",\"type\":\"ColumnDataSource\"},{\"attributes\":{\"columns\":[{\"id\":\"6861\"},{\"id\":\"6866\"},{\"id\":\"6871\"},{\"id\":\"6876\"},{\"id\":\"6881\"},{\"id\":\"6886\"}],\"height\":300,\"reorderable\":false,\"source\":{\"id\":\"6857\"},\"view\":{\"id\":\"6890\"},\"width\":700},\"id\":\"6889\",\"type\":\"DataTable\"},{\"attributes\":{},\"id\":\"6880\",\"type\":\"NumberEditor\"},{\"attributes\":{},\"id\":\"6884\",\"type\":\"NumberFormatter\"},{\"attributes\":{\"format\":\"0,0.0[00000]\"},\"id\":\"6879\",\"type\":\"NumberFormatter\"},{\"attributes\":{\"editor\":{\"id\":\"6865\"},\"field\":\"Algorithm\",\"formatter\":{\"id\":\"6864\"},\"title\":\"Algorithm\"},\"id\":\"6866\",\"type\":\"TableColumn\"},{\"attributes\":{},\"id\":\"6860\",\"type\":\"StringEditor\"},{\"attributes\":{\"children\":[{\"id\":\"6856\"},{\"id\":\"6889\"},{\"id\":\"6895\"}],\"margin\":[0,0,0,0],\"name\":\"Row16112\",\"tags\":[\"embedded\"]},\"id\":\"6855\",\"type\":\"Row\"},{\"attributes\":{\"margin\":[5,5,5,5],\"name\":\"HSpacer16116\",\"sizing_mode\":\"stretch_width\"},\"id\":\"6856\",\"type\":\"Spacer\"},{\"attributes\":{},\"id\":\"6870\",\"type\":\"StringEditor\"},{\"attributes\":{},\"id\":\"6885\",\"type\":\"IntEditor\"},{\"attributes\":{\"editor\":{\"id\":\"6870\"},\"field\":\"ProofType\",\"formatter\":{\"id\":\"6869\"},\"title\":\"ProofType\"},\"id\":\"6871\",\"type\":\"TableColumn\"},{\"attributes\":{},\"id\":\"6869\",\"type\":\"StringFormatter\"},{\"attributes\":{},\"id\":\"6874\",\"type\":\"StringFormatter\"},{\"attributes\":{},\"id\":\"6875\",\"type\":\"StringEditor\"},{\"attributes\":{\"margin\":[5,5,5,5],\"name\":\"HSpacer16117\",\"sizing_mode\":\"stretch_width\"},\"id\":\"6895\",\"type\":\"Spacer\"},{\"attributes\":{},\"id\":\"6864\",\"type\":\"StringFormatter\"},{\"attributes\":{\"editor\":{\"id\":\"6860\"},\"field\":\"CoinName\",\"formatter\":{\"id\":\"6859\"},\"title\":\"CoinName\"},\"id\":\"6861\",\"type\":\"TableColumn\"}],\"root_ids\":[\"6855\"]},\"title\":\"Bokeh Application\",\"version\":\"2.1.0\"}};\n  var render_items = [{\"docid\":\"140cd5a0-4b0f-4bfa-a37f-b2bd78fa4804\",\"root_ids\":[\"6855\"],\"roots\":{\"6855\":\"7a6f6f86-10ad-432e-bb50-3411b3b18330\"}}];\n  root.Bokeh.embed.embed_items_notebook(docs_json, render_items);\n  }\nif (root.Bokeh !== undefined) {\n    embed_document(root);\n  } else {\n    var attempts = 0;\n    var timer = setInterval(function(root) {\n      if (root.Bokeh !== undefined) {\n        clearInterval(timer);\n        embed_document(root);\n      } else if (document.readyState == \"complete\") {\n        attempts++;\n        if (attempts > 100) {\n          clearInterval(timer);\n          console.log(\"Bokeh: ERROR: Unable to run BokehJS code because BokehJS library is missing\");\n        }\n      }\n    }, 10, root)\n  }\n})(window);</script>",
      "application/vnd.holoviews_exec.v0+json": "",
      "text/plain": ":Table   [CoinName,Algorithm,ProofType,TotalCoinSupply,TotalCoinsMined,class]"
     },
     "metadata": {
      "application/vnd.holoviews_exec.v0+json": {
       "id": "6855"
      }
     },
     "execution_count": 254
    }
   ],
   "source": [
    "clustered_df.hvplot.table(columns=[\"CoinName\", \"Algorithm\", \"ProofType\", \"TotalCoinSupply\", \"TotalCoinsMined\", \"class\"])"
   ]
  },
  {
   "cell_type": "code",
   "execution_count": 272,
   "metadata": {
    "tags": []
   },
   "outputs": [
    {
     "output_type": "display_data",
     "data": {},
     "metadata": {}
    },
    {
     "output_type": "execute_result",
     "data": {
      "text/html": "<div id='8971'>\n\n\n\n\n\n  <div class=\"bk-root\" id=\"9359549a-3d8a-4af2-9350-d5c03927ea55\" data-root-id=\"8971\"></div>\n</div>\n<script type=\"application/javascript\">(function(root) {\n  function embed_document(root) {\n  var docs_json = {\"9fae7b2d-8742-4279-9fb8-fe85fa1acd32\":{\"roots\":{\"references\":[{\"attributes\":{},\"id\":\"8986\",\"type\":\"CategoricalScale\"},{\"attributes\":{\"fill_alpha\":{\"value\":0.2},\"fill_color\":{\"value\":\"#2ba02b\"},\"line_alpha\":{\"value\":0.2},\"line_color\":{\"value\":\"#2ba02b\"},\"size\":{\"units\":\"screen\",\"value\":99.49817653804763},\"x\":{\"field\":\"TotalCoinsMined\"},\"y\":{\"field\":\"TotalCoinSupply\"}},\"id\":\"9054\",\"type\":\"Scatter\"},{\"attributes\":{\"end\":10326.7042876769,\"reset_end\":10326.7042876769,\"reset_start\":-485.99692876008453,\"start\":-485.99692876008453,\"tags\":[[[\"TotalCoinsMined\",\"TotalCoinsMined\",null]]]},\"id\":\"8973\",\"type\":\"Range1d\"},{\"attributes\":{\"fill_color\":{\"value\":\"#ff7e0e\"},\"line_color\":{\"value\":\"#ff7e0e\"},\"size\":{\"field\":\"size\",\"units\":\"screen\"},\"x\":{\"field\":\"TotalCoinsMined\"},\"y\":{\"field\":\"TotalCoinSupply\"}},\"id\":\"9033\",\"type\":\"Scatter\"},{\"attributes\":{\"label\":{\"value\":\"0\"},\"renderers\":[{\"id\":\"9018\"}]},\"id\":\"9029\",\"type\":\"LegendItem\"},{\"attributes\":{\"label\":{\"value\":\"3\"},\"renderers\":[{\"id\":\"9076\"}]},\"id\":\"9092\",\"type\":\"LegendItem\"},{\"attributes\":{\"fill_alpha\":{\"value\":0.1},\"fill_color\":{\"value\":\"#ff7e0e\"},\"line_alpha\":{\"value\":0.1},\"line_color\":{\"value\":\"#ff7e0e\"},\"size\":{\"field\":\"size\",\"units\":\"screen\"},\"x\":{\"field\":\"TotalCoinsMined\"},\"y\":{\"field\":\"TotalCoinSupply\"}},\"id\":\"9034\",\"type\":\"Scatter\"},{\"attributes\":{\"fill_alpha\":{\"value\":0.1},\"fill_color\":{\"value\":\"#d62628\"},\"line_alpha\":{\"value\":0.1},\"line_color\":{\"value\":\"#d62628\"},\"size\":{\"field\":\"size\",\"units\":\"screen\"},\"x\":{\"field\":\"TotalCoinsMined\"},\"y\":{\"field\":\"TotalCoinSupply\"}},\"id\":\"9074\",\"type\":\"Scatter\"},{\"attributes\":{},\"id\":\"8999\",\"type\":\"ResetTool\"},{\"attributes\":{},\"id\":\"9050\",\"type\":\"Selection\"},{\"attributes\":{\"fill_alpha\":{\"value\":0.2},\"fill_color\":{\"value\":\"#1f77b3\"},\"line_alpha\":{\"value\":0.2},\"line_color\":{\"value\":\"#1f77b3\"},\"size\":{\"field\":\"size\",\"units\":\"screen\"},\"x\":{\"field\":\"TotalCoinsMined\"},\"y\":{\"field\":\"TotalCoinSupply\"}},\"id\":\"9017\",\"type\":\"Scatter\"},{\"attributes\":{\"source\":{\"id\":\"9049\"}},\"id\":\"9056\",\"type\":\"CDSView\"},{\"attributes\":{},\"id\":\"8989\",\"type\":\"BasicTicker\"},{\"attributes\":{\"callback\":null,\"renderers\":[{\"id\":\"9018\"},{\"id\":\"9036\"},{\"id\":\"9055\"},{\"id\":\"9076\"}],\"tags\":[\"hv_created\"],\"tooltips\":[[\"class\",\"@{class}\"],[\"TotalCoinsMined\",\"@{TotalCoinsMined}\"],[\"TotalCoinSupply\",\"@{TotalCoinSupply}\"],[\"CoinName\",\"@{CoinName}\"]]},\"id\":\"8975\",\"type\":\"HoverTool\"},{\"attributes\":{\"bottom_units\":\"screen\",\"fill_alpha\":0.5,\"fill_color\":\"lightgrey\",\"left_units\":\"screen\",\"level\":\"overlay\",\"line_alpha\":1.0,\"line_color\":\"black\",\"line_dash\":[4,4],\"line_width\":2,\"right_units\":\"screen\",\"top_units\":\"screen\"},\"id\":\"9000\",\"type\":\"BoxAnnotation\"},{\"attributes\":{\"axis\":{\"id\":\"8992\"},\"dimension\":1,\"grid_line_color\":null,\"ticker\":null},\"id\":\"8994\",\"type\":\"Grid\"},{\"attributes\":{\"source\":{\"id\":\"9012\"}},\"id\":\"9019\",\"type\":\"CDSView\"},{\"attributes\":{\"data\":{\"CoinName\":[\"BiblePay\",\"LitecoinCash\",\"Poa Network\",\"Acute Angle Cloud\",\"Fiii\",\"Waves\"],\"TotalCoinSupply\":[\"5200000000\",\"840000000\",\"252460800\",\"1000000000\",\"5000000000\",\"100000000\"],\"TotalCoinsMined\":{\"__ndarray__\":\"euAK6424MUDlMB/7CIkZQPrMYRC7WwBAAAAAAAAAJEAZ6wbiApdNwAAAAAAAAPA/\",\"dtype\":\"float64\",\"order\":\"little\",\"shape\":[6]},\"class\":[1,1,1,1,1,1],\"size\":{\"__ndarray__\":\"I7FFF6fWEEDr4kwShjYEQA46G34f4fY/U1vaOlhMCUAAAAAAAAD4/wAAAAAAAPA/\",\"dtype\":\"float64\",\"order\":\"little\",\"shape\":[6]}},\"selected\":{\"id\":\"9031\"},\"selection_policy\":{\"id\":\"9046\"}},\"id\":\"9030\",\"type\":\"ColumnDataSource\"},{\"attributes\":{\"data_source\":{\"id\":\"9030\"},\"glyph\":{\"id\":\"9033\"},\"hover_glyph\":null,\"muted_glyph\":{\"id\":\"9035\"},\"nonselection_glyph\":{\"id\":\"9034\"},\"selection_glyph\":null,\"view\":{\"id\":\"9037\"}},\"id\":\"9036\",\"type\":\"GlyphRenderer\"},{\"attributes\":{\"fill_color\":{\"value\":\"#1f77b3\"},\"line_color\":{\"value\":\"#1f77b3\"},\"size\":{\"field\":\"size\",\"units\":\"screen\"},\"x\":{\"field\":\"TotalCoinsMined\"},\"y\":{\"field\":\"TotalCoinSupply\"}},\"id\":\"9015\",\"type\":\"Scatter\"},{\"attributes\":{\"data\":{\"CoinName\":[\"42 Coin\",\"404Coin\",\"808\",\"EliteCoin\",\"Dash\",\"Bitshares\",\"BitcoinDark\",\"Bitstake\",\"PayCoin\",\"KoboCoin\",\"Aero Coin\",\"ApexCoin\",\"ArchCoin\",\"Aurora Coin\",\"BlueCoin\",\"EnergyCoin\",\"BitBar\",\"CashCoin\",\"CryptoBullion\",\"CinderCoin\",\"CoolCoin\",\"CasinoCoin\",\"eMark\",\"Diamond\",\"DarkCash\",\"Exclusive Coin\",\"Fuel2Coin\",\"FIBRE\",\"FlutterCoin\",\"GlyphCoin\",\"Halcyon\",\"HoboNickels\",\"HyperStake\",\"IOCoin\",\"JumBucks Coin\",\"JudgeCoin\",\"LibrexCoin\",\"MaxCoin\",\"MintCoin\",\"MazaCoin\",\"Nautilus Coin\",\"NavCoin\",\"OpalCoin\",\"Orbitcoin\",\"PotCoin\",\"PhoenixCoin\",\"Reddcoin\",\"ShieldCoin\",\"SilkCoin\",\"SuperCoin\",\"SyncCoin\",\"TeslaCoin\",\"TittieCoin\",\"TorCoin\",\"UnitaryStatus Dollar\",\"UltraCoin\",\"Utility Coin\",\"VeriCoin\",\"SocialXbotCoin\",\"X11 Coin\",\"Crypti\",\"StealthCoin\",\"XXXCoin\",\"ZCC Coin\",\"BurstCoin\",\"StorjCoin\",\"Neutron\",\"KryptCoin\",\"FairCoin\",\"RubyCoin\",\"Kore\",\"Dnotes\",\"MaieutiCoin\",\"8BIT Coin\",\"Sativa Coin\",\"AeroMe\",\"MasterTraderCoin\",\"Ucoin\",\"MaryJane Coin\",\"CyberCoin\",\"Vtorrent\",\"ViorCoin\",\"IslaCoin\",\"Nexus\",\"Singular\",\"Droidz\",\"CryptoCircuits\",\"Squall Coin\",\"Milllionaire Coin\",\"Diggits\",\"MapCoin\",\"Paycon\",\"Emercoin\",\"BlitzCoin\",\"EverGreenCoin\",\"Decred\",\"EDRCoin\",\"Hitcoin\",\"DubaiCoin\",\"BiosCrypto\",\"PWR Coin\",\"TrumpCoin\",\"BillaryCoin\",\"EthereumScrypt\",\"GPU Coin\",\"Universal Currency\",\"EuropeCoin\",\"ZeitCoin\",\"SwingCoin\",\"SafeExchangeCoin\",\"Nebuchadnezzar\",\"GIZMOcoin\",\"SecretCoin\",\"Ratecoin\",\"Digital Bullion Gold\",\"Revenu\",\"Clockcoin\",\"VIP Tokens\",\"OrlyCoin\",\"BitSend\",\"16BitCoin\",\"ChessCoin\",\"ReeCoin\",\"Let it Ride\",\"PutinCoin\",\"iBankCoin\",\"Frankywillcoin\",\"MudraCoin\",\"Lutetium Coin\",\"GoldBlocks\",\"WayCoin\",\"CarterCoin\",\"BitTokens\",\"MustangCoin\",\"ZoneCoin\",\"RootCoin\",\"PROUD Money\",\"BitCurrency\",\"Swiscoin\",\"BuzzCoin\",\"Opair\",\"PesoBit\",\"Halloween Coin\",\"CoffeeCoin\",\"RoyalCoin\",\"GanjaCoin V2\",\"TeamUP\",\"LanaCoin\",\"ARK\",\"InsaneCoin\",\"LuckChain\",\"EmberCoin\",\"XenixCoin\",\"FreeCoin\",\"NPCcoin\",\"PLNCoin\",\"Icobid\",\"AquariusCoin\",\"Creatio\",\"Eternity\",\"Eurocoin\",\"BitcoinFast\",\"Stakenet\",\"BitConnect Coin\",\"MoneyCoin\",\"Enigma\",\"Russiacoin\",\"PandaCoin\",\"GameUnits\",\"GAKHcoin\",\"Allsafe\",\"LiteCreed\",\"NeptuneClassic\",\"GoldenBird\",\"Ride My Car\",\"Klingon Empire Darsek\",\"Internet of People\",\"KushCoin\",\"Eryllium\",\"Printerium\",\"Impeach\",\"Zilbercoin\",\"FirstCoin\",\"FindCoin\",\"OpenChat\",\"RenosCoin\",\"VirtacoinPlus\",\"TajCoin\",\"Impact\",\"Universe\",\"Atmos\",\"HappyCoin\",\"MacronCoin\",\"Condensate\",\"Independent Money System\",\"ArgusCoin\",\"LomoCoin\",\"ProCurrency\",\"GoldReserve\",\"GrowthCoin\",\"Phreak\",\"Degas Coin\",\"ZSEcoin\",\"HTML5 Coin\",\"Ultimate Secure Cash\",\"QTUM\",\"Espers\",\"Denarius\",\"Virta Unique Coin\",\"Bitcoin Planet\",\"BritCoin\",\"Octanox\",\"Linda\",\"DeepOnion\",\"Signatum\",\"Cream\",\"Monoeci\",\"Draftcoin\",\"Vechain\",\"Stakecoin\",\"CoinonatX\",\"Ethereum Dark\",\"Obsidian\",\"Cardano\",\"Regalcoin\",\"TrezarCoin\",\"TerraNovaCoin\",\"Rupee\",\"WomenCoin\",\"Theresa May Coin\",\"NamoCoin\",\"LUXCoin\",\"Xios\",\"Bitcloud 2.0\",\"KekCoin\",\"BlackholeCoin\",\"AltCommunity Coin\",\"Pure\",\"Rupaya\",\"Infinity Economics\",\"Castle\",\"Magnet\",\"Lamden Tau\",\"Electra\",\"Bitcoin Diamond\",\"Cash & Back Coin\",\"Bulwark\",\"Kalkulus\",\"GermanCoin\",\"LiteCoin Ultra\",\"PhantomX\",\"HTML Coin\",\"Fantasy Cash\",\"Digiwage\",\"Trollcoin\",\"Litecoin Plus\",\"Monkey Project\",\"OP Coin\",\"Valorbit\",\"TokenPay\",\"My Big Coin\",\"Unified Society USDEX\",\"Tokyo Coin\",\"Stipend\",\"Pushi\",\"Ellerium\",\"Velox\",\"Ontology\",\"Bitspace\",\"Briacoin\",\"Ignition\",\"MedicCoin\",\"Zelcash\",\"Bitcoin Green\",\"Deviant Coin\",\"Abjcoin\",\"Profit Hunters Coin\",\"Semux\",\"BitBlocks\",\"Carebit\",\"Zealium\",\"Proton\",\"iDealCash\",\"Bitcoin Incognito\",\"HollyWoodCoin\",\"Swisscoin\",\"Xt3ch\",\"TheVig\",\"EmaratCoin\",\"Dekado\",\"Lynx\",\"Poseidon Quark\",\"BitcoinWSpectrum\",\"Muse\",\"Trivechain\",\"Dystem\",\"Giant\",\"Peony Coin\",\"SafeCoin\",\"Absolute Coin\",\"Vitae\",\"TPCash\",\"MUSDcoin\",\"ARENON\",\"EUNO\",\"MMOCoin\",\"Ketan\",\"Safe Trade Coin\",\"Mont Blanc\",\"XDNA\",\"PAXEX\",\"Apollon\",\"ThunderStake\",\"Kcash\",\"Traid\",\"Bettex coin\",\"BitMoney\",\"Junson Ming Chan Coin\",\"Zenad\",\"HerbCoin\",\"Oduwa\",\"Galilel\",\"Crypto Sports\",\"Credit\",\"Dash Platinum\",\"Nasdacoin\",\"Beetle Coin\",\"Titan Coin\",\"Award\",\"Insane Coin\",\"ALAX\",\"The Freedom Coin\",\"LiteDoge\",\"TruckCoin\",\"Ascension Coin\",\"OrangeCoin\",\"BitstarCoin\",\"NeosCoin\",\"HyperCoin\",\"PinkCoin\",\"AudioCoin\",\"IncaKoin\",\"Piggy Coin\",\"Genstake\",\"ParkByte\",\"XiaoMiCoin\",\"CapriCoin\",\" ClubCoin\",\"Radium\",\"Creditbit \",\"OKCash\",\"Lisk\",\"HiCoin\",\"WhiteCoin\",\"FriendshipCoin\",\"The Hempcoin\",\"Triangles Coin\",\"EOS\",\"Oxycoin\",\"TigerCash\",\"Particl\",\"Nxt\",\"ZEPHYR\",\"Gapcoin\",\"BitcoinPlus\"],\"TotalCoinSupply\":[\"42\",\"532000000\",\"0\",\"314159265359\",\"22000000\",\"3600570502\",\"22000000\",\"1300000\",\"12500000\",\"350000000\",\"7000000\",\"6000000\",\"16403135\",\"16768584\",\"0\",\"0\",\"500000\",\"47433600\",\"1000000\",\"114000000\",\"100000000\",\"40000000000\",\"0\",\"4380000\",\"3720000\",\"0\",\"100000000\",\"624000\",\"0\",\"7000000\",\"0\",\"120000000\",\"0\",\"22000000\",\"3293010\",\"21600000\",\"1000000\",\"100000000\",\"0\",\"2419200000\",\"16180000\",\"0\",\"0\",\"3770000\",\"420000000\",\"98000000\",\"0\",\"1000000\",\"1000000\",\"0\",\"1000\",\"100000000\",\"2300000000\",\"10000000\",\"1600000000\",\"100000000\",\"0\",\"0\",\"2000000\",\"5500000\",\"0\",\"0\",\"50000000\",\"1000000000\",\"2158812800\",\"500000000\",\"68000000\",\"17000000\",\"0\",\"0\",\"12000000\",\"500000000\",\"2014\",\"0\",\"10000000\",\"12000000\",\"10110000\",\"20000000\",\"0\",\"0\",\"20000000\",\"0\",\"0\",\"78000000\",\"0\",\"5060000\",\"0\",\"0\",\"0\",\"100000000\",\"2228921.184\",\"50000000\",\"1000000000\",\"3852156\",\"26298000\",\"21000000\",\"22000000\",\"26550000000\",\"10500000\",\"20190463.54969237\",\"0\",\"12000000\",\"42000000\",\"4200000\",\"221052632\",\"210000000\",\"384000000\",\" 99000000000\",\"40000000\",\"2147483647\",\"20000000\",\"100000\",\"21000000\",\"75000000\",\"15000000\",\"222725000\",\"525000000\",\"90000000\",\"36000000\",\"139000000\",\"16000000\",\"74666667\",\"350000000\",\"33500000\",\"2000000000\",\"44333333\",\"100000000\",\"200000000\",\"657000000\",\"50000000\",\"100000000\",\"90000000\",\"21000000\",\"3000000\",\"21000000\",\"0\",\"10000000000\",\"0\",\"3100000000\",\"20000000000\",\"74000000\",\"0\",\"1500000000\",\"39999898\",\"2500124\",\"100000000\",\"301000000\",\"7506000000\",\"125000000\",\"30000000\",\"1000000000\",\"850000000\",\"3853326.77707314\",\"50000000\",\"7000000000\",\"38540000 \",\"200000000 \",\"42000000\",\"20000000\",\"60000000\",\"20000000\",\"33000000\",\"76500000\",\"28000000\",\"650659833\",\"5000000\",\"144000000\",\"32514916898\",\"13000000\",\"3315789\",\"15000000\",\"78835200\",\"250000000\",\"450000000\",\"100000000\",\"500000000\",\"21000000\",\"9354000\",\"100000000\",\"20000000\",\"21933333\",\"55000000\",\"110000000\",\"14524851.4827\",\"1000000000\",\"34426423\",\"100000000\",\"36900000\",\"110000000\",\"112000000\",\"110290030\",\"100000000\",\"400000000\",\"500000000\",\"21212121\",\"28600000\",\"1000000000\",\"75000000000\",\"40000000\",\"2000000000\",\"30000000\",\"105000000\",\"2093500000\",\"90000000000\",\"200084200\",\"100000000\",\"50000000000\",\"10000000\",\"120000000\",\"100000000\",\"30000000\",\"7905634\",\"50000000000\",\"18898187.6216583\",\"137500000\",\"100000000\",\"9507271\",\"17405891.19707116\",\"86712634466\",\"61599965\",\"48252000\",\"4200000\",\"91388946\",\"45000000000\",\"27000000\",\"400000000\",\"15733333\",\"24000000\",\"25000000000\",\"100000000\",\"1200000000\",\"60000000\",\"21000000\",\"200000000\",\"21000000\",\"14788275.991\",\"5000000\",\"3686860\",\"75000000\",\"9000000000\",\"50000000 \",\"144000000\",\"500000000\",\"30000000000\",\"210000000\",\"210000000\",\"27716121\",\"20000000\",\"50000000000\",\"150000000\",\"50000000\",\"90000000000\",\"4600000\",\"120000000\",\"900000000\",\"4000000\",\"21000000\",\"2000000000\",\"92233720000000000\",\"25000000\",\"30000000\",\"232000000\",\"800000000\",\"19340594\",\"25000000\",\"60000000\",\"124000000\",\"1000000000\",\"50000000\",\"3000000\",\"5000000\",\"500000000\",\"210000000\",\"21000000\",\"88000000\",\"30000000\",\"100000000\",\"100000000\",\"500000000\",\"200000000\",\"80000000\",\"45000000\",\"5121951220\",\"21000000\",\"26000000\",\"10200000000\",\"44000000\",\"100000000\",\"84000000\",\"90000000\",\"92000000000\",\"650000000 \",\"100262205\",\"18081806 \",\"82546564\",\"21000000\",\"5151000\",\"16880000000\",\"36000000\",\"52500000\",\"100000000\",\"1000000000\",\"100000000\",\"55000000\",\"50000000\",\"260000000\",\"210000000\",\"840000000\",\"70000000\",\"366000000\",\"100000000\",\"250000000\",\"18000000000\",\"1000000000\",\"252000000\",\"50000000\",\"70000000000\",\"0\",\"46000000\",\"54000000\",\"21000000\",\"19035999\",\"13370000\",\"74800000000\",\"19700000\",\"84000000\",\"500000000\",\"5000000000\",\"420000000\",\"30000000\",\"1000000000\",\"25000000\",\"35000000000\",\"0\",\"0\",\"200000000\",\"54256119\",\"21000000\",\"0\",\"500000000\",\"10500000000\",\"190000000\",\"1000000000\",\"15000000\",\"25000000\",\"400000000\",\"208000000\",\"160000000\",\"9000000\",\"16504333\",\"105000000\",\"159918400\",\"10008835635\",\"300000000\",\"60168145\",\"300000000\",\"120000\",\"0\",\"0\",\"1000000000\",\"8634140\",\"1000000000\",\"2000000000\",\"250000000\",\"1000000\"],\"TotalCoinsMined\":{\"__ndarray__\":\"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\",\"dtype\":\"float64\",\"order\":\"little\",\"shape\":[365]},\"class\":[0,0,0,0,0,0,0,0,0,0,0,0,0,0,0,0,0,0,0,0,0,0,0,0,0,0,0,0,0,0,0,0,0,0,0,0,0,0,0,0,0,0,0,0,0,0,0,0,0,0,0,0,0,0,0,0,0,0,0,0,0,0,0,0,0,0,0,0,0,0,0,0,0,0,0,0,0,0,0,0,0,0,0,0,0,0,0,0,0,0,0,0,0,0,0,0,0,0,0,0,0,0,0,0,0,0,0,0,0,0,0,0,0,0,0,0,0,0,0,0,0,0,0,0,0,0,0,0,0,0,0,0,0,0,0,0,0,0,0,0,0,0,0,0,0,0,0,0,0,0,0,0,0,0,0,0,0,0,0,0,0,0,0,0,0,0,0,0,0,0,0,0,0,0,0,0,0,0,0,0,0,0,0,0,0,0,0,0,0,0,0,0,0,0,0,0,0,0,0,0,0,0,0,0,0,0,0,0,0,0,0,0,0,0,0,0,0,0,0,0,0,0,0,0,0,0,0,0,0,0,0,0,0,0,0,0,0,0,0,0,0,0,0,0,0,0,0,0,0,0,0,0,0,0,0,0,0,0,0,0,0,0,0,0,0,0,0,0,0,0,0,0,0,0,0,0,0,0,0,0,0,0,0,0,0,0,0,0,0,0,0,0,0,0,0,0,0,0,0,0,0,0,0,0,0,0,0,0,0,0,0,0,0,0,0,0,0,0,0,0,0,0,0,0,0,0,0,0,0,0,0,0,0,0,0,0,0,0,0,0,0,0,0,0,0,0,0,0,0,0,0,0,0,0,0,0,0,0,0,0,0,0,0,0,0],\"size\":{\"__ndarray__\":\"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\",\"dtype\":\"float64\",\"order\":\"little\",\"shape\":[365]}},\"selected\":{\"id\":\"9013\"},\"selection_policy\":{\"id\":\"9026\"}},\"id\":\"9012\",\"type\":\"ColumnDataSource\"},{\"attributes\":{\"label\":{\"value\":\"1\"},\"renderers\":[{\"id\":\"9036\"}]},\"id\":\"9048\",\"type\":\"LegendItem\"},{\"attributes\":{},\"id\":\"8997\",\"type\":\"WheelZoomTool\"},{\"attributes\":{},\"id\":\"9026\",\"type\":\"UnionRenderers\"},{\"attributes\":{\"source\":{\"id\":\"9030\"}},\"id\":\"9037\",\"type\":\"CDSView\"},{\"attributes\":{},\"id\":\"9010\",\"type\":\"CategoricalTickFormatter\"},{\"attributes\":{},\"id\":\"9013\",\"type\":\"Selection\"},{\"attributes\":{},\"id\":\"9031\",\"type\":\"Selection\"},{\"attributes\":{\"label\":{\"value\":\"2\"},\"renderers\":[{\"id\":\"9055\"}]},\"id\":\"9069\",\"type\":\"LegendItem\"},{\"attributes\":{},\"id\":\"9071\",\"type\":\"Selection\"},{\"attributes\":{\"align\":null,\"below\":[{\"id\":\"8988\"}],\"center\":[{\"id\":\"8991\"},{\"id\":\"8994\"}],\"left\":[{\"id\":\"8992\"}],\"margin\":null,\"min_border_bottom\":10,\"min_border_left\":10,\"min_border_right\":10,\"min_border_top\":10,\"plot_height\":300,\"plot_width\":700,\"renderers\":[{\"id\":\"9018\"},{\"id\":\"9036\"},{\"id\":\"9055\"},{\"id\":\"9076\"}],\"right\":[{\"id\":\"9028\"}],\"sizing_mode\":\"fixed\",\"title\":{\"id\":\"8980\"},\"toolbar\":{\"id\":\"9001\"},\"x_range\":{\"id\":\"8973\"},\"x_scale\":{\"id\":\"8984\"},\"y_range\":{\"id\":\"8974\"},\"y_scale\":{\"id\":\"8986\"}},\"id\":\"8979\",\"subtype\":\"Figure\",\"type\":\"Plot\"},{\"attributes\":{\"data_source\":{\"id\":\"9049\"},\"glyph\":{\"id\":\"9052\"},\"hover_glyph\":null,\"muted_glyph\":{\"id\":\"9054\"},\"nonselection_glyph\":{\"id\":\"9053\"},\"selection_glyph\":null,\"view\":{\"id\":\"9056\"}},\"id\":\"9055\",\"type\":\"GlyphRenderer\"},{\"attributes\":{},\"id\":\"8984\",\"type\":\"LinearScale\"},{\"attributes\":{\"fill_color\":{\"value\":\"#2ba02b\"},\"line_color\":{\"value\":\"#2ba02b\"},\"size\":{\"units\":\"screen\",\"value\":99.49817653804763},\"x\":{\"field\":\"TotalCoinsMined\"},\"y\":{\"field\":\"TotalCoinSupply\"}},\"id\":\"9052\",\"type\":\"Scatter\"},{\"attributes\":{},\"id\":\"9067\",\"type\":\"UnionRenderers\"},{\"attributes\":{\"margin\":[5,5,5,5],\"name\":\"HSpacer22309\",\"sizing_mode\":\"stretch_width\"},\"id\":\"8972\",\"type\":\"Spacer\"},{\"attributes\":{\"margin\":[5,5,5,5],\"name\":\"HSpacer22310\",\"sizing_mode\":\"stretch_width\"},\"id\":\"9219\",\"type\":\"Spacer\"},{\"attributes\":{\"data_source\":{\"id\":\"9070\"},\"glyph\":{\"id\":\"9073\"},\"hover_glyph\":null,\"muted_glyph\":{\"id\":\"9075\"},\"nonselection_glyph\":{\"id\":\"9074\"},\"selection_glyph\":null,\"view\":{\"id\":\"9077\"}},\"id\":\"9076\",\"type\":\"GlyphRenderer\"},{\"attributes\":{\"fill_alpha\":{\"value\":0.2},\"fill_color\":{\"value\":\"#ff7e0e\"},\"line_alpha\":{\"value\":0.2},\"line_color\":{\"value\":\"#ff7e0e\"},\"size\":{\"field\":\"size\",\"units\":\"screen\"},\"x\":{\"field\":\"TotalCoinsMined\"},\"y\":{\"field\":\"TotalCoinSupply\"}},\"id\":\"9035\",\"type\":\"Scatter\"},{\"attributes\":{\"data_source\":{\"id\":\"9012\"},\"glyph\":{\"id\":\"9015\"},\"hover_glyph\":null,\"muted_glyph\":{\"id\":\"9017\"},\"nonselection_glyph\":{\"id\":\"9016\"},\"selection_glyph\":null,\"view\":{\"id\":\"9019\"}},\"id\":\"9018\",\"type\":\"GlyphRenderer\"},{\"attributes\":{\"source\":{\"id\":\"9070\"}},\"id\":\"9077\",\"type\":\"CDSView\"},{\"attributes\":{},\"id\":\"8996\",\"type\":\"PanTool\"},{\"attributes\":{\"click_policy\":\"mute\",\"items\":[{\"id\":\"9029\"},{\"id\":\"9048\"},{\"id\":\"9069\"},{\"id\":\"9092\"}],\"location\":[0,0],\"title\":\"class\"},\"id\":\"9028\",\"type\":\"Legend\"},{\"attributes\":{\"fill_alpha\":{\"value\":0.2},\"fill_color\":{\"value\":\"#d62628\"},\"line_alpha\":{\"value\":0.2},\"line_color\":{\"value\":\"#d62628\"},\"size\":{\"field\":\"size\",\"units\":\"screen\"},\"x\":{\"field\":\"TotalCoinsMined\"},\"y\":{\"field\":\"TotalCoinSupply\"}},\"id\":\"9075\",\"type\":\"Scatter\"},{\"attributes\":{\"fill_alpha\":{\"value\":0.1},\"fill_color\":{\"value\":\"#1f77b3\"},\"line_alpha\":{\"value\":0.1},\"line_color\":{\"value\":\"#1f77b3\"},\"size\":{\"field\":\"size\",\"units\":\"screen\"},\"x\":{\"field\":\"TotalCoinsMined\"},\"y\":{\"field\":\"TotalCoinSupply\"}},\"id\":\"9016\",\"type\":\"Scatter\"},{\"attributes\":{\"axis_label\":\"TotalCoinsMined\",\"bounds\":\"auto\",\"formatter\":{\"id\":\"9008\"},\"major_label_orientation\":\"horizontal\",\"ticker\":{\"id\":\"8989\"}},\"id\":\"8988\",\"type\":\"LinearAxis\"},{\"attributes\":{\"fill_color\":{\"value\":\"#d62628\"},\"line_color\":{\"value\":\"#d62628\"},\"size\":{\"field\":\"size\",\"units\":\"screen\"},\"x\":{\"field\":\"TotalCoinsMined\"},\"y\":{\"field\":\"TotalCoinSupply\"}},\"id\":\"9073\",\"type\":\"Scatter\"},{\"attributes\":{\"data\":{\"CoinName\":[\"Bitcoin\",\"Ethereum\",\"Litecoin\",\"Monero\",\"Ethereum Classic\",\"ZCash\",\"DigiByte\",\"ProsperCoin\",\"Spreadcoin\",\"ACoin\",\"Argentum\",\"BetaCoin\",\"MyriadCoin\",\"MoonCoin\",\"ZetaCoin\",\"SexCoin\",\"Quatloo\",\"QuarkCoin\",\"Riecoin\",\"Digitalcoin \",\"LimeCoinX\",\"BitMark\",\"Catcoin\",\"CannaCoin\",\"CryptCoin\",\"Verge\",\"DarkShibe\",\"DevCoin\",\"EarthCoin\",\"E-Gulden\",\"Elacoin\",\"Einsteinium\",\"Emerald\",\"Flappy Coin\",\"FireRoosterCoin\",\"Franko\",\"FeatherCoin\",\"GrandCoin\",\"GlobalCoin\",\"GoldCoin\",\"HunterCoin\",\"Infinite Coin\",\"IXcoin\",\"KrugerCoin\",\"LuckyCoin\",\"Litebar \",\"LitecoinDark\",\"MegaCoin\",\"MediterraneanCoin\",\"MinCoin\",\"NoirBits\",\"NobleCoin\",\"Namecoin\",\"NyanCoin\",\"RipOffCoin\",\"RonPaulCoin\",\"StableCoin\",\"SmartCoin\",\"SpainCoin\",\"SecureCoin\",\"SysCoin\",\"TigerCoin\",\"TerraCoin\",\"Umbrella\",\"UnbreakableCoin\",\"Unobtanium\",\"UroCoin\",\"ViaCoin\",\"VootCoin\",\"Vertcoin\",\"WorldCoin\",\"JouleCoin\",\"ByteCoin\",\"DigitalNote \",\"MonaCoin\",\"Sling Coin\",\"Gulden\",\"PesetaCoin\",\"Wild Beast Coin\",\"Flo\",\"ArtByte\",\"BitCredit\",\"Folding Coin\",\"Unitus\",\"CypherPunkCoin\",\"OmniCron\",\"GreenCoin\",\"Unattanium\",\"Cryptonite\",\"Gridmaster\",\"ConSpiracy Coin \",\"MasterCoin\",\"SoonCoin\",\"1Credit\",\"Quicksilver coin\",\"MarsCoin \",\"Crypto\",\"Anarchists Prime\",\"BowsCoin\",\"Song Coin\",\"BitZeny\",\"Expanse\",\"Siacoin\",\"MindCoin\",\"I0coin\",\"DogeCoinDark\",\"Revolution VR\",\"HOdlcoin\",\"Gamecredits\",\"Dashcoin\",\"CarpeDiemCoin\",\"Phalanx\",\"SunShotCoin\",\"HempCoin\",\"Adzcoin\",\"VirtaCoin\",\"SoilCoin\",\"YoCoin\",\"AEON\",\"SibCoin\",\"Anti Bitcoin\",\"Francs\",\"BolivarCoin\",\"Clinton\",\"Omni\",\"PizzaCoin\",\"Komodo\",\"Karbo\",\"ZayedCoin\",\"Circuits of Value\",\"DopeCoin\",\"DollarCoin\",\"Shilling\",\"GBR Coin\",\"FujiCoin\",\"ZCoin\",\"LeaCoin\",\"Zurcoin\",\"Elementrem\",\"CashOut\",\"ZClassic\",\"KiloCoin\",\"Hush\",\"ArtexCoin\",\"Kurrent\",\"Cannabis Industry Coin\",\"OsmiumCoin\",\"Bikercoins\",\"HexxCoin\",\"MarxCoin\",\"PacCoin\",\"Solarflarecoin\",\"Citadel\",\"CreativeChain\",\"BeaverCoin\",\"VaultCoin\",\"Zero\",\"Canada eCoin\",\"Zoin\",\"Musicoin\",\"BnrtxCoin\",\"DubaiCoin\",\"EB3coin\",\"Coinonat\",\"Bitcoin Scrypt\",\"BenjiRolls\",\"ParallelCoin\",\"ILCoin\",\"EquiTrader\",\"Quantum Resistant Ledger\",\"Dynamic\",\"Nano\",\"ChanCoin\",\"Dinastycoin\",\"DigitalPrice\",\"Unify\",\"SocialCoin\",\"ArcticCoin\",\"DAS\",\"LeviarCoin\",\"Bitcore\",\"gCn Coin\",\"SmartCash\",\"Onix\",\"Bitcoin Cash\",\"CampusCoin\",\"Sojourn Coin\",\"NewYorkCoin\",\"LiteBitcoin\",\"FrazCoin\",\"Kronecoin\",\"AdCoin\",\"Linx\",\"Sumokoin\",\"BitcoinZ\",\"Elements\",\"VIVO Coin\",\"Bitcoin Gold\",\"Pirl\",\"eBoost\",\"Pura\",\"Innova\",\"Bitdeal\",\"Ellaism\",\"Sakuracoin\",\"GoByte\",\"SHIELD\",\"UltraNote\",\"BitCoal\",\"DaxxCoin\",\"AC3\",\"CHIPS\",\"Lethean\",\"PopularCoin\",\"Photon\",\"Sucre\",\"SparksPay\",\"GunCoin\",\"IrishCoin\",\"Pioneer Coin\",\"UnitedBitcoin\",\"Interzone\",\"1717 Masonic Commemorative Token\",\"TurtleCoin\",\"MUNcoin\",\"Niobio Cash\",\"Bitcoin Private\",\"Skeincoin\",\"ShareChain\",\"Travelflex\",\"KREDS\",\"BitFlip\",\"LottoCoin\",\"LeafCoin\",\"Cerberus\",\"Bitcoin Hush\",\"Crypto Improvement Fund\",\"Callisto Network\",\"Curium\",\"BitTube\",\"Dinero\",\"Poseidon\",\"Aidos Kuneen\",\"Snowgem\",\"Bitrolium\",\"Bitcoin Interest\",\"Alpenschillling\",\"FuturoCoin\",\"Monero Classic\",\"Jumpcoin\",\"Infinex\",\"KEYCO\",\"GINcoin\",\"PlatinCoin\",\"Loki\",\"Newton Coin\",\"MassGrid\",\"PluraCoin\",\"Motion\",\"PlusOneCoin\",\"Axe\",\"HexCoin\",\"Webchain\",\"Ryo\",\"Urals Coin\",\"Qwertycoin\",\"NIX\",\"Project Pai\",\"Azart\",\"Xchange\",\"CrypticCoin\",\"ZestCoin\",\"X-CASH\",\"Actinium\",\"ETHER-1\",\"Bitcoin SV\",\"Bitcoiin2Gen\",\"FREDEnergy\",\"C25 Coin\",\"Aquachain\",\"Universal Molecule\",\"Lithium\",\"Smart Bitcoin\",\"PirateCash\",\"Exosis\",\"Block-Logic\",\"Beam\",\"Bithereum\",\"SLICE\",\"Vidulum\",\"BlockStamp\",\"BLAST\",\"Bitcoin Rhodium\",\"GlobalToken\",\"Boolberry\",\"SolarCoin\",\"UFO Coin\",\"BlakeCoin\",\"FantomCoin \",\"Crypto Escudo\",\"Crown Coin\",\"Quazar Coin\",\"SmileyCoin\",\"Groestlcoin\",\"Bata\",\"Pakcoin\",\"Dotcoin\",\"JoinCoin\",\"Vollar\",\"Reality Clash\",\"iOlite\",\"Beldex\",\"Horizen\"],\"TotalCoinSupply\":[\"21000000\",\"0\",\"84000000\",\"0\",\"210000000\",\"21000000\",\"21000000000\",\"21000000\",\"20000000\",\"1600000\",\"64000000\",\"32000000\",\"2000000000\",\"384000000000\",\"169795588\",\"250000000\",\"100000000\",\"247000000\",\"84000000\",\"48166000\",\"21000000 \",\"27580000\",\"21000000 \",\"13140000\",\"18000000\",\"16555000000\",\"2043962\",\"21000000000\",\"13500000000\",\"21000000 \",\"75000000\",\"299792458\",\"32000000\",\"100000000000\",\"2602410\",\"11235813\",\"336000000\",\"1420609614\",\"70000000\",\"72245700\",\"42000000\",\"90600000000\",\"21000000\",\"265420800\",\"20000000\",\"1350000\",\"82003200\",\"42000000\",\"200000000\",\"10000000\",\"50000000\",\"15000000000\",\"21000000\",\"337000000\",\"12000000\",\"21000000\",\"250000000\",\"51200000\",\"50000000\",\"21000000\",\"888000000\",\"47011968\",\"42000000\",\"2625000\",\"80000000\",\"250000\",\"0\",\"23000000\",\"0\",\"84000000\",\"265420800\",\"45000000\",\"184467440735\",\"10000000000\",\"105120000\",\"1000000\",\"1680000000\",\"166386000\",\"2628000\",\"160000000\",\"1000000000\",\"210000000\",\"1000000000\",\"0\",\"0\",\"3371337\",\"10000000000\",\"0\",\"1840000000\",\"84000000\",\"33000000\",\"619478\",\"21000000\",\"92000000000\",\"33000000\",\"33000000\",\"65789100\",\"53760000\",\"21000000\",\"210240000\",\"250000000\",\"16906397\",\"0\",\"16000000\",\"21000000\",\"16500000000\",\"210000000\",\"81962100\",\"84000000\",\"18446744\",\"21626280000 \",\"15000000\",\"2250000000\",\"5000000000\",\"84000000\",\"21000000000\",\"30000000\",\"168351300\",\"18400000\",\"24000000\",\"42000000\",\"20000000\",\"25000000\",\"2421227\",\"616448\",\"25000000\",\"200000000\",\"10000000\",\"9736000\",\"1200000000\",\"200000000\",\"10638298\",\"30000000\",\"87500000\",\"10000000\",\"21400000\",\"2000000000\",\"126000000\",\"26205539\",\"100000000\",\"21000000\",\"10000000000\",\"21000000\",\"500000000\",\"228000000\",\"21000000\",\"2714286\",\"25000000\",\"9999999\",\"100640000\",\"100000000000\",\"20000000\",\"185000000\",\"115000000\",\"3360000\",\"1000000000\",\"17000000\",\"100000000 \",\"21000000\",\"454898394\",\"210000000\",\"2232901\",\"4000000000\",\"48252000\",\"21000000\",\"35520400\",\"1000000\",\"2500000000\",\"72000000\",\"105000000\",\"0\",\"340282367\",\"30000000\",\"2000000000\",\"100000000\",\"19276800\",\" 75000000\",\"60000000\",\"18900000\",\"54000000\",\"21000000\",\"200000000000\",\"5000000000\",\"1100000000\",\"21000000\",\"1010000000\",\"10500000000\",\"0\",\"1000000000\",\"20000000\",\"84000000\",\"100000000\",\"100000000\",\"88888888\",\"21000000000\",\"1800000000\",\"27000000\",\"21000000\",\"156306732.71\",\"100000000\",\"350000000\",\"45000000\",\"300000000\",\"280000000\",\"105100000\",\"31800000\",\"660000000\",\"85000000000\",\"12500000\",\"10000000000\",\"550000000\",\"21000000\",\"999481516\",\"4999999999\",\" 90000000000\",\"19800000\",\"21000000\",\"500000000\",\"64000000\",\"23000000\",\"20166000\",\"23000000\",\"1618033\",\"1000000000000\",\"16600000\",\"336000000\",\"21000000\",\"17000000\",\"10000000000\",\"100000000\",\"1100000000\",\"40000000\",\"18406979840\",\"21000000000\",\"31500000\",\"21000000\",\"500000000\",\"6500000000\",\"22000000\",\"1000000000\",\"100000000\",\"21000000\",\"25000000\",\"84096000\",\"70000000\",\"22300000\",\"300000000\",\"100000000\",\"18400000\",\"21000000\",\"26280000\",\"18000000\",\"10500000\",\"600000518\",\"150000000\",\"184000000000\",\"168000000\",\"1000000000\",\"22075700\",\"21000000\",\"21000000\",\"22105263\",\"1750000000\",\"88188888\",\"210000000\",\"184470000000\",\"175000000\",\"2100000000\",\"25000000\",\"100000000\",\"7600000000\",\"29300000\",\"100000000000\",\"84000000\",\"13666237\",\"21000000\",\"100000000\",\"8080000000\",\"6100000\",\"42000000\",\"105120001.44\",\"25228800\",\"20999764\",\"105000000\",\"21000000\",\"120000000\",\"262800000\",\"30886000\",\"100000000\",\"100000000\",\"105000000\",\"64000000\",\"2100000\",\"168000000\",\"18450000\",\"98100000000\",\"4000000000\",\"7000000000\",\"18400000\",\"1000000000\",\"42000000\",\"18446744\",\"50000000000\",\"105000000\",\"5000000\",\"182000000\",\"890000000\",\"2800000\",\"2100000000\",\"24487944\",\"1000000000\",\"1400222610\",\"21000000\"],\"TotalCoinsMined\":{\"__ndarray__\":\"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\",\"dtype\":\"float64\",\"order\":\"little\",\"shape\":[313]},\"class\":[3,3,3,3,3,3,3,3,3,3,3,3,3,3,3,3,3,3,3,3,3,3,3,3,3,3,3,3,3,3,3,3,3,3,3,3,3,3,3,3,3,3,3,3,3,3,3,3,3,3,3,3,3,3,3,3,3,3,3,3,3,3,3,3,3,3,3,3,3,3,3,3,3,3,3,3,3,3,3,3,3,3,3,3,3,3,3,3,3,3,3,3,3,3,3,3,3,3,3,3,3,3,3,3,3,3,3,3,3,3,3,3,3,3,3,3,3,3,3,3,3,3,3,3,3,3,3,3,3,3,3,3,3,3,3,3,3,3,3,3,3,3,3,3,3,3,3,3,3,3,3,3,3,3,3,3,3,3,3,3,3,3,3,3,3,3,3,3,3,3,3,3,3,3,3,3,3,3,3,3,3,3,3,3,3,3,3,3,3,3,3,3,3,3,3,3,3,3,3,3,3,3,3,3,3,3,3,3,3,3,3,3,3,3,3,3,3,3,3,3,3,3,3,3,3,3,3,3,3,3,3,3,3,3,3,3,3,3,3,3,3,3,3,3,3,3,3,3,3,3,3,3,3,3,3,3,3,3,3,3,3,3,3,3,3,3,3,3,3,3,3,3,3,3,3,3,3,3,3,3,3,3,3,3,3,3,3,3,3,3,3,3,3,3,3,3,3,3,3,3,3,3,3,3,3,3,3,3,3,3,3,3,3],\"size\":{\"__ndarray__\":\"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\",\"dtype\":\"float64\",\"order\":\"little\",\"shape\":[313]}},\"selected\":{\"id\":\"9071\"},\"selection_policy\":{\"id\":\"9090\"}},\"id\":\"9070\",\"type\":\"ColumnDataSource\"},{\"attributes\":{\"overlay\":{\"id\":\"9000\"}},\"id\":\"8998\",\"type\":\"BoxZoomTool\"},{\"attributes\":{\"text\":\"\",\"text_color\":{\"value\":\"black\"},\"text_font_size\":{\"value\":\"12pt\"}},\"id\":\"8980\",\"type\":\"Title\"},{\"attributes\":{\"active_drag\":\"auto\",\"active_inspect\":\"auto\",\"active_multi\":null,\"active_scroll\":\"auto\",\"active_tap\":\"auto\",\"tools\":[{\"id\":\"8975\"},{\"id\":\"8995\"},{\"id\":\"8996\"},{\"id\":\"8997\"},{\"id\":\"8998\"},{\"id\":\"8999\"}]},\"id\":\"9001\",\"type\":\"Toolbar\"},{\"attributes\":{\"children\":[{\"id\":\"8972\"},{\"id\":\"8979\"},{\"id\":\"9219\"}],\"margin\":[0,0,0,0],\"name\":\"Row22305\",\"tags\":[\"embedded\"]},\"id\":\"8971\",\"type\":\"Row\"},{\"attributes\":{\"axis_label\":\"TotalCoinSupply\",\"bounds\":\"auto\",\"formatter\":{\"id\":\"9010\"},\"major_label_orientation\":\"horizontal\",\"ticker\":{\"id\":\"8993\"}},\"id\":\"8992\",\"type\":\"CategoricalAxis\"},{\"attributes\":{\"data\":{\"CoinName\":[\"BitTorrent\"],\"TotalCoinSupply\":[\"990000000000\"],\"TotalCoinsMined\":{\"__ndarray__\":\"C7KejfFVw0A=\",\"dtype\":\"float64\",\"order\":\"little\",\"shape\":[1]},\"class\":[2]},\"selected\":{\"id\":\"9050\"},\"selection_policy\":{\"id\":\"9067\"}},\"id\":\"9049\",\"type\":\"ColumnDataSource\"},{\"attributes\":{\"axis\":{\"id\":\"8988\"},\"grid_line_color\":null,\"ticker\":null},\"id\":\"8991\",\"type\":\"Grid\"},{\"attributes\":{\"fill_alpha\":{\"value\":0.1},\"fill_color\":{\"value\":\"#2ba02b\"},\"line_alpha\":{\"value\":0.1},\"line_color\":{\"value\":\"#2ba02b\"},\"size\":{\"units\":\"screen\",\"value\":99.49817653804763},\"x\":{\"field\":\"TotalCoinsMined\"},\"y\":{\"field\":\"TotalCoinSupply\"}},\"id\":\"9053\",\"type\":\"Scatter\"},{\"attributes\":{},\"id\":\"9046\",\"type\":\"UnionRenderers\"},{\"attributes\":{\"factors\":[\"42\",\"532000000\",\"0\",\"314159265359\",\"22000000\",\"3600570502\",\"1300000\",\"12500000\",\"350000000\",\"7000000\",\"6000000\",\"16403135\",\"16768584\",\"500000\",\"47433600\",\"1000000\",\"114000000\",\"100000000\",\"40000000000\",\"4380000\",\"3720000\",\"624000\",\"120000000\",\"3293010\",\"21600000\",\"2419200000\",\"16180000\",\"3770000\",\"420000000\",\"98000000\",\"1000\",\"2300000000\",\"10000000\",\"1600000000\",\"2000000\",\"5500000\",\"50000000\",\"1000000000\",\"2158812800\",\"500000000\",\"68000000\",\"17000000\",\"12000000\",\"2014\",\"10110000\",\"20000000\",\"78000000\",\"5060000\",\"2228921.184\",\"3852156\",\"26298000\",\"21000000\",\"26550000000\",\"10500000\",\"20190463.54969237\",\"42000000\",\"4200000\",\"221052632\",\"210000000\",\"384000000\",\" 99000000000\",\"40000000\",\"2147483647\",\"100000\",\"75000000\",\"15000000\",\"222725000\",\"525000000\",\"90000000\",\"36000000\",\"139000000\",\"16000000\",\"74666667\",\"33500000\",\"2000000000\",\"44333333\",\"200000000\",\"657000000\",\"3000000\",\"10000000000\",\"3100000000\",\"20000000000\",\"74000000\",\"1500000000\",\"39999898\",\"2500124\",\"301000000\",\"7506000000\",\"125000000\",\"30000000\",\"850000000\",\"3853326.77707314\",\"7000000000\",\"38540000 \",\"200000000 \",\"60000000\",\"33000000\",\"76500000\",\"28000000\",\"650659833\",\"5000000\",\"144000000\",\"32514916898\",\"13000000\",\"3315789\",\"78835200\",\"250000000\",\"450000000\",\"9354000\",\"21933333\",\"55000000\",\"110000000\",\"14524851.4827\",\"34426423\",\"36900000\",\"112000000\",\"110290030\",\"400000000\",\"21212121\",\"28600000\",\"75000000000\",\"105000000\",\"2093500000\",\"90000000000\",\"200084200\",\"50000000000\",\"7905634\",\"18898187.6216583\",\"137500000\",\"9507271\",\"17405891.19707116\",\"86712634466\",\"61599965\",\"48252000\",\"91388946\",\"45000000000\",\"27000000\",\"15733333\",\"24000000\",\"25000000000\",\"1200000000\",\"14788275.991\",\"3686860\",\"9000000000\",\"50000000 \",\"30000000000\",\"27716121\",\"150000000\",\"4600000\",\"900000000\",\"4000000\",\"92233720000000000\",\"25000000\",\"232000000\",\"800000000\",\"19340594\",\"124000000\",\"88000000\",\"80000000\",\"45000000\",\"5121951220\",\"26000000\",\"10200000000\",\"44000000\",\"84000000\",\"92000000000\",\"650000000 \",\"100262205\",\"18081806 \",\"82546564\",\"5151000\",\"16880000000\",\"52500000\",\"260000000\",\"840000000\",\"70000000\",\"366000000\",\"18000000000\",\"252000000\",\"70000000000\",\"46000000\",\"54000000\",\"19035999\",\"13370000\",\"74800000000\",\"19700000\",\"5000000000\",\"35000000000\",\"54256119\",\"10500000000\",\"190000000\",\"208000000\",\"160000000\",\"9000000\",\"16504333\",\"159918400\",\"10008835635\",\"300000000\",\"60168145\",\"120000\",\"8634140\",\"5200000000\",\"252460800\",\"990000000000\",\"21000000000\",\"1600000\",\"64000000\",\"32000000\",\"384000000000\",\"169795588\",\"247000000\",\"48166000\",\"21000000 \",\"27580000\",\"13140000\",\"18000000\",\"16555000000\",\"2043962\",\"13500000000\",\"299792458\",\"100000000000\",\"2602410\",\"11235813\",\"336000000\",\"1420609614\",\"72245700\",\"90600000000\",\"265420800\",\"1350000\",\"82003200\",\"15000000000\",\"337000000\",\"51200000\",\"888000000\",\"47011968\",\"2625000\",\"250000\",\"23000000\",\"184467440735\",\"105120000\",\"1680000000\",\"166386000\",\"2628000\",\"3371337\",\"1840000000\",\"619478\",\"65789100\",\"53760000\",\"210240000\",\"16906397\",\"16500000000\",\"81962100\",\"18446744\",\"21626280000 \",\"2250000000\",\"168351300\",\"18400000\",\"2421227\",\"616448\",\"9736000\",\"10638298\",\"87500000\",\"21400000\",\"126000000\",\"26205539\",\"228000000\",\"2714286\",\"9999999\",\"100640000\",\"185000000\",\"115000000\",\"3360000\",\"100000000 \",\"454898394\",\"2232901\",\"4000000000\",\"35520400\",\"2500000000\",\"72000000\",\"340282367\",\"19276800\",\" 75000000\",\"18900000\",\"200000000000\",\"1100000000\",\"1010000000\",\"88888888\",\"1800000000\",\"156306732.71\",\"280000000\",\"105100000\",\"31800000\",\"660000000\",\"85000000000\",\"550000000\",\"999481516\",\"4999999999\",\" 90000000000\",\"19800000\",\"20166000\",\"1618033\",\"1000000000000\",\"16600000\",\"18406979840\",\"31500000\",\"6500000000\",\"84096000\",\"22300000\",\"26280000\",\"600000518\",\"184000000000\",\"168000000\",\"22075700\",\"22105263\",\"1750000000\",\"88188888\",\"184470000000\",\"175000000\",\"2100000000\",\"7600000000\",\"29300000\",\"13666237\",\"8080000000\",\"6100000\",\"105120001.44\",\"25228800\",\"20999764\",\"262800000\",\"30886000\",\"2100000\",\"18450000\",\"98100000000\",\"182000000\",\"890000000\",\"2800000\",\"24487944\",\"1400222610\"],\"tags\":[[[\"TotalCoinSupply\",\"TotalCoinSupply\",null]]]},\"id\":\"8974\",\"type\":\"FactorRange\"},{\"attributes\":{},\"id\":\"8993\",\"type\":\"CategoricalTicker\"},{\"attributes\":{},\"id\":\"8995\",\"type\":\"SaveTool\"},{\"attributes\":{},\"id\":\"9090\",\"type\":\"UnionRenderers\"},{\"attributes\":{},\"id\":\"9008\",\"type\":\"BasicTickFormatter\"}],\"root_ids\":[\"8971\"]},\"title\":\"Bokeh Application\",\"version\":\"2.1.0\"}};\n  var render_items = [{\"docid\":\"9fae7b2d-8742-4279-9fb8-fe85fa1acd32\",\"root_ids\":[\"8971\"],\"roots\":{\"8971\":\"9359549a-3d8a-4af2-9350-d5c03927ea55\"}}];\n  root.Bokeh.embed.embed_items_notebook(docs_json, render_items);\n  }\nif (root.Bokeh !== undefined) {\n    embed_document(root);\n  } else {\n    var attempts = 0;\n    var timer = setInterval(function(root) {\n      if (root.Bokeh !== undefined) {\n        clearInterval(timer);\n        embed_document(root);\n      } else if (document.readyState == \"complete\") {\n        attempts++;\n        if (attempts > 100) {\n          clearInterval(timer);\n          console.log(\"Bokeh: ERROR: Unable to run BokehJS code because BokehJS library is missing\");\n        }\n      }\n    }, 10, root)\n  }\n})(window);</script>",
      "application/vnd.holoviews_exec.v0+json": "",
      "text/plain": ":NdOverlay   [class]\n   :Scatter   [TotalCoinsMined]   (TotalCoinSupply,CoinName)"
     },
     "metadata": {
      "application/vnd.holoviews_exec.v0+json": {
       "id": "8971"
      }
     },
     "execution_count": 272
    }
   ],
   "source": [
    "#need to standardize data before graphing. divide everything by 1000? 10000? \n",
    "clustered_df.hvplot.scatter(x=\"TotalCoinsMined\", y=\"TotalCoinSupply\", hover_cols=[\"CoinName\"], by=\"class\", size=\"TotalCoinsMined\")"
   ]
  },
  {
   "cell_type": "code",
   "execution_count": 275,
   "metadata": {},
   "outputs": [
    {
     "output_type": "display_data",
     "data": {
      "application/vnd.plotly.v1+json": {
       "config": {
        "plotlyServerURL": "https://plot.ly"
       },
       "data": [
        {
         "customdata": [
          [
           "Scrypt"
          ],
          [
           "Scrypt"
          ],
          [
           "SHA-256"
          ],
          [
           "X13"
          ],
          [
           "SHA-256"
          ],
          [
           "Ethash"
          ],
          [
           "Scrypt"
          ],
          [
           "X11"
          ],
          [
           "CryptoNight-V7"
          ],
          [
           "Ethash"
          ],
          [
           "Equihash"
          ],
          [
           "SHA-512"
          ],
          [
           "Multiple"
          ],
          [
           "SHA-256"
          ],
          [
           "X11"
          ],
          [
           "SHA-256"
          ],
          [
           "Scrypt"
          ],
          [
           "X15"
          ],
          [
           "X11"
          ],
          [
           "SHA-256"
          ],
          [
           "X13"
          ],
          [
           "X13"
          ],
          [
           "Scrypt"
          ],
          [
           "Scrypt"
          ],
          [
           "Scrypt"
          ],
          [
           "SHA-256"
          ],
          [
           "Scrypt"
          ],
          [
           "Multiple"
          ],
          [
           "Scrypt"
          ],
          [
           "SHA-256"
          ],
          [
           "Scrypt"
          ],
          [
           "Scrypt"
          ],
          [
           "Scrypt"
          ],
          [
           "Quark"
          ],
          [
           "Groestl"
          ],
          [
           "Scrypt"
          ],
          [
           "X11"
          ],
          [
           "Scrypt"
          ],
          [
           "Scrypt"
          ],
          [
           "Scrypt"
          ],
          [
           "Scrypt"
          ],
          [
           "Scrypt"
          ],
          [
           "Scrypt"
          ],
          [
           "Multiple"
          ],
          [
           "Scrypt"
          ],
          [
           "X11"
          ],
          [
           "Scrypt"
          ],
          [
           "SHA-256"
          ],
          [
           "Groestl"
          ],
          [
           "Multiple"
          ],
          [
           "X11"
          ],
          [
           "Scrypt"
          ],
          [
           "SHA-256"
          ],
          [
           "Scrypt"
          ],
          [
           "Scrypt"
          ],
          [
           "Scrypt"
          ],
          [
           "Scrypt"
          ],
          [
           "Scrypt"
          ],
          [
           "PoS"
          ],
          [
           "Scrypt"
          ],
          [
           "X11"
          ],
          [
           "NIST5"
          ],
          [
           "SHA-256"
          ],
          [
           "Scrypt"
          ],
          [
           "Scrypt"
          ],
          [
           "NeoScrypt"
          ],
          [
           "Scrypt"
          ],
          [
           "Scrypt"
          ],
          [
           "Scrypt"
          ],
          [
           "X11"
          ],
          [
           "X15"
          ],
          [
           "Scrypt"
          ],
          [
           "Multiple"
          ],
          [
           "X11"
          ],
          [
           "Scrypt"
          ],
          [
           "X11"
          ],
          [
           "SHA-256"
          ],
          [
           "X11"
          ],
          [
           "X13"
          ],
          [
           "Scrypt"
          ],
          [
           "Scrypt"
          ],
          [
           "Scrypt"
          ],
          [
           "Scrypt"
          ],
          [
           "X11"
          ],
          [
           "SHA3"
          ],
          [
           "Scrypt"
          ],
          [
           "HybridScryptHash256"
          ],
          [
           "Scrypt"
          ],
          [
           "Scrypt"
          ],
          [
           "SHA-256"
          ],
          [
           "Scrypt"
          ],
          [
           "X13"
          ],
          [
           "SHA-256"
          ],
          [
           "Scrypt"
          ],
          [
           "SHA-256"
          ],
          [
           "Scrypt"
          ],
          [
           "X13"
          ],
          [
           "NeoScrypt"
          ],
          [
           "Scrypt"
          ],
          [
           "Scrypt"
          ],
          [
           "Scrypt"
          ],
          [
           "Scrypt"
          ],
          [
           "Scrypt"
          ],
          [
           "Scrypt"
          ],
          [
           "X15"
          ],
          [
           "Scrypt"
          ],
          [
           "Scrypt"
          ],
          [
           "Scrypt-n"
          ],
          [
           "Scrypt"
          ],
          [
           "X11"
          ],
          [
           "X11"
          ],
          [
           "SHA-256"
          ],
          [
           "Multiple"
          ],
          [
           "SHA-256"
          ],
          [
           "PHI1612"
          ],
          [
           "X11"
          ],
          [
           "SHA-256"
          ],
          [
           "SHA-256"
          ],
          [
           "SHA-256"
          ],
          [
           "SHA-256"
          ],
          [
           "X11"
          ],
          [
           "Scrypt"
          ],
          [
           "Scrypt"
          ],
          [
           "X13"
          ],
          [
           "Scrypt"
          ],
          [
           "X11"
          ],
          [
           "Scrypt"
          ],
          [
           "Lyra2REv2"
          ],
          [
           "Scrypt"
          ],
          [
           "Scrypt"
          ],
          [
           "X11"
          ],
          [
           "Multiple"
          ],
          [
           "SHA-256"
          ],
          [
           "X13"
          ],
          [
           "Scrypt"
          ],
          [
           "Scrypt"
          ],
          [
           "CryptoNight"
          ],
          [
           "CryptoNight"
          ],
          [
           "Shabal256"
          ],
          [
           "Counterparty"
          ],
          [
           "Scrypt"
          ],
          [
           "SHA-256"
          ],
          [
           "SHA-256"
          ],
          [
           "Scrypt"
          ],
          [
           "Groestl"
          ],
          [
           "Scrypt"
          ],
          [
           "Scrypt"
          ],
          [
           "Scrypt"
          ],
          [
           "X13"
          ],
          [
           "Scrypt"
          ],
          [
           "Scrypt"
          ],
          [
           "Scrypt"
          ],
          [
           "SHA-256"
          ],
          [
           "Scrypt"
          ],
          [
           "X13"
          ],
          [
           "X13"
          ],
          [
           "Scrypt"
          ],
          [
           "X11"
          ],
          [
           "Momentum"
          ],
          [
           "Stanford Folding"
          ],
          [
           "X11"
          ],
          [
           "Multiple"
          ],
          [
           "QuBit"
          ],
          [
           "X15"
          ],
          [
           "Scrypt"
          ],
          [
           "Scrypt"
          ],
          [
           "Scrypt"
          ],
          [
           "Scrypt"
          ],
          [
           "SHA-256"
          ],
          [
           "M7 POW"
          ],
          [
           "Scrypt"
          ],
          [
           "X11"
          ],
          [
           "Scrypt"
          ],
          [
           "SHA-256"
          ],
          [
           "Scrypt"
          ],
          [
           "Scrypt"
          ],
          [
           "X11"
          ],
          [
           "X11"
          ],
          [
           "SHA3"
          ],
          [
           "X11"
          ],
          [
           "Scrypt"
          ],
          [
           "Lyra2RE"
          ],
          [
           "SHA-256"
          ],
          [
           "QUAIT"
          ],
          [
           "X11"
          ],
          [
           "vDPOS"
          ],
          [
           "X11"
          ],
          [
           "X11"
          ],
          [
           "Scrypt"
          ],
          [
           "Scrypt"
          ],
          [
           "Scrypt"
          ],
          [
           "Ethash"
          ],
          [
           "X11"
          ],
          [
           "X13"
          ],
          [
           "Blake2b"
          ],
          [
           "SHA-256"
          ],
          [
           "X13"
          ],
          [
           "X15"
          ],
          [
           "X11"
          ],
          [
           "SHA-256"
          ],
          [
           "BLAKE256"
          ],
          [
           "Scrypt"
          ],
          [
           "Scrypt"
          ],
          [
           "1GB AES Pattern Search"
          ],
          [
           "SHA-256"
          ],
          [
           "X11"
          ],
          [
           "Scrypt"
          ],
          [
           "CryptoNight"
          ],
          [
           "SHA-256"
          ],
          [
           "Quark"
          ],
          [
           "SHA-256"
          ],
          [
           "NIST5"
          ],
          [
           "Blake"
          ],
          [
           "Scrypt"
          ],
          [
           "Scrypt"
          ],
          [
           "SHA-256"
          ],
          [
           "X11"
          ],
          [
           "Scrypt"
          ],
          [
           "Scrypt-n"
          ],
          [
           "X11"
          ],
          [
           "Scrypt"
          ],
          [
           "Dagger"
          ],
          [
           "Scrypt"
          ],
          [
           "SHA-256"
          ],
          [
           "CryptoNight-Lite"
          ],
          [
           "X11GOST"
          ],
          [
           "X11"
          ],
          [
           "SHA-256"
          ],
          [
           "Scrypt"
          ],
          [
           "SHA-256"
          ],
          [
           "Scrypt"
          ],
          [
           "PoS"
          ],
          [
           "Scrypt"
          ],
          [
           "X11"
          ],
          [
           "X11"
          ],
          [
           "X11"
          ],
          [
           "X11"
          ],
          [
           "PoS"
          ],
          [
           "SHA-256"
          ],
          [
           "SHA-256"
          ],
          [
           "SHA-256"
          ],
          [
           "NIST5"
          ],
          [
           "X15"
          ],
          [
           "X11"
          ],
          [
           "NIST5"
          ],
          [
           "Scrypt"
          ],
          [
           "Scrypt"
          ],
          [
           "Scrypt"
          ],
          [
           "POS 3.0"
          ],
          [
           "Scrypt"
          ],
          [
           "Scrypt"
          ],
          [
           "Scrypt"
          ],
          [
           "X13"
          ],
          [
           "X11"
          ],
          [
           "X11"
          ],
          [
           "Equihash"
          ],
          [
           "X11"
          ],
          [
           "X11"
          ],
          [
           "Scrypt"
          ],
          [
           "CryptoNight"
          ],
          [
           "SHA-256"
          ],
          [
           "SHA-256"
          ],
          [
           "X11"
          ],
          [
           "Scrypt"
          ],
          [
           "Multiple"
          ],
          [
           "Scrypt"
          ],
          [
           "Scrypt"
          ],
          [
           "X11"
          ],
          [
           "Scrypt"
          ],
          [
           "SHA-256"
          ],
          [
           "Scrypt"
          ],
          [
           "Scrypt"
          ],
          [
           "SHA-256D"
          ],
          [
           "PoS"
          ],
          [
           "Scrypt"
          ],
          [
           "Scrypt"
          ],
          [
           "X11"
          ],
          [
           "Scrypt-n"
          ],
          [
           "Lyra2Z"
          ],
          [
           "SHA-256"
          ],
          [
           "PoS"
          ],
          [
           "X13"
          ],
          [
           "Quark"
          ],
          [
           "X14"
          ],
          [
           "PoS"
          ],
          [
           "SHA-256D"
          ],
          [
           "Ethash"
          ],
          [
           "SHA-256"
          ],
          [
           "Equihash"
          ],
          [
           "DPoS"
          ],
          [
           "X11"
          ],
          [
           "Scrypt"
          ],
          [
           "Scrypt"
          ],
          [
           "Equihash"
          ],
          [
           "X11"
          ],
          [
           "X13"
          ],
          [
           "X11"
          ],
          [
           "PoS"
          ],
          [
           "SHA-256D"
          ],
          [
           "Scrypt"
          ],
          [
           "Scrypt"
          ],
          [
           "Scrypt"
          ],
          [
           "X11"
          ],
          [
           "PoS"
          ],
          [
           "X11"
          ],
          [
           "SHA-256"
          ],
          [
           "Scrypt"
          ],
          [
           "X11"
          ],
          [
           "Scrypt"
          ],
          [
           "Scrypt"
          ],
          [
           "X11"
          ],
          [
           "CryptoNight"
          ],
          [
           "Scrypt"
          ],
          [
           "Scrypt"
          ],
          [
           "Scrypt"
          ],
          [
           "Scrypt"
          ],
          [
           "Quark"
          ],
          [
           "QuBit"
          ],
          [
           "Scrypt"
          ],
          [
           "CryptoNight"
          ],
          [
           "X11"
          ],
          [
           "Lyra2RE"
          ],
          [
           "X13"
          ],
          [
           "PoS"
          ],
          [
           "Scrypt"
          ],
          [
           "SHA-256"
          ],
          [
           "X11"
          ],
          [
           "X11"
          ],
          [
           "X11"
          ],
          [
           "Scrypt"
          ],
          [
           "X11"
          ],
          [
           "Scrypt"
          ],
          [
           "Scrypt"
          ],
          [
           "CryptoNight-V7"
          ],
          [
           "Scrypt"
          ],
          [
           "Scrypt"
          ],
          [
           "Keccak"
          ],
          [
           "Scrypt"
          ],
          [
           "X13"
          ],
          [
           "X11"
          ],
          [
           "Equihash"
          ],
          [
           "Scrypt"
          ],
          [
           "Scrypt"
          ],
          [
           "Lyra2RE"
          ],
          [
           "Ethash"
          ],
          [
           "X11"
          ],
          [
           "Scrypt"
          ],
          [
           "Dagger-Hashimoto"
          ],
          [
           "X11"
          ],
          [
           "Blake2S"
          ],
          [
           "X11"
          ],
          [
           "Scrypt"
          ],
          [
           "Scrypt"
          ],
          [
           "PoS"
          ],
          [
           "X11"
          ],
          [
           "NIST5"
          ],
          [
           "PoS"
          ],
          [
           "X11"
          ],
          [
           "Scrypt"
          ],
          [
           "Scrypt"
          ],
          [
           "Scrypt"
          ],
          [
           "Scrypt"
          ],
          [
           "SHA-256"
          ],
          [
           "X11"
          ],
          [
           "Scrypt"
          ],
          [
           "Scrypt"
          ],
          [
           "Scrypt"
          ],
          [
           "SHA-256"
          ],
          [
           "PoS"
          ],
          [
           "Scrypt"
          ],
          [
           "X11"
          ],
          [
           "X15"
          ],
          [
           "SHA-256"
          ],
          [
           "Scrypt"
          ],
          [
           "POS 3.0"
          ],
          [
           "CryptoNight-V7"
          ],
          [
           "536"
          ],
          [
           "Argon2d"
          ],
          [
           "Blake2b"
          ],
          [
           "Cloverhash"
          ],
          [
           "CryptoNight"
          ],
          [
           "NIST5"
          ],
          [
           "X11"
          ],
          [
           "NIST5"
          ],
          [
           "Skein"
          ],
          [
           "Scrypt"
          ],
          [
           "X13"
          ],
          [
           "Scrypt"
          ],
          [
           "X11"
          ],
          [
           "X11"
          ],
          [
           "X11"
          ],
          [
           "Scrypt"
          ],
          [
           "CryptoNight"
          ],
          [
           "X13"
          ],
          [
           "Time Travel"
          ],
          [
           "Scrypt"
          ],
          [
           "Keccak"
          ],
          [
           "SkunkHash v2 Raptor"
          ],
          [
           "X11"
          ],
          [
           "Skein"
          ],
          [
           "SHA-256"
          ],
          [
           "X11"
          ],
          [
           "Scrypt"
          ],
          [
           "Scrypt"
          ],
          [
           "VeChainThor Authority"
          ],
          [
           "Scrypt"
          ],
          [
           "PoS"
          ],
          [
           "Scrypt"
          ],
          [
           "Scrypt"
          ],
          [
           "Scrypt"
          ],
          [
           "Scrypt"
          ],
          [
           "Scrypt"
          ],
          [
           "Scrypt"
          ],
          [
           "Scrypt"
          ],
          [
           "Scrypt"
          ],
          [
           "CryptoNight"
          ],
          [
           "SHA-512"
          ],
          [
           "Ouroboros"
          ],
          [
           "X11"
          ],
          [
           "Equihash"
          ],
          [
           "NeoScrypt"
          ],
          [
           "X11"
          ],
          [
           "Scrypt"
          ],
          [
           "NeoScrypt"
          ],
          [
           "Lyra2REv2"
          ],
          [
           "Equihash"
          ],
          [
           "Scrypt"
          ],
          [
           "SHA-256"
          ],
          [
           "NIST5"
          ],
          [
           "PHI1612"
          ],
          [
           "Dagger"
          ],
          [
           "Scrypt"
          ],
          [
           "Quark"
          ],
          [
           "Scrypt"
          ],
          [
           "POS 2.0"
          ],
          [
           "Scrypt"
          ],
          [
           "SkunkHash"
          ],
          [
           "X11"
          ],
          [
           "Quark"
          ],
          [
           "SHA-256"
          ],
          [
           "X11"
          ],
          [
           "NeoScrypt"
          ],
          [
           "Scrypt"
          ],
          [
           "Ethash"
          ],
          [
           "Scrypt"
          ],
          [
           "NeoScrypt"
          ],
          [
           "Quark"
          ],
          [
           "X11"
          ],
          [
           "DPoS"
          ],
          [
           "NIST5"
          ],
          [
           "X13"
          ],
          [
           "Multiple"
          ],
          [
           "Scrypt"
          ],
          [
           "CryptoNight"
          ],
          [
           "CryptoNight"
          ],
          [
           "Ethash"
          ],
          [
           "NIST5"
          ],
          [
           "Quark"
          ],
          [
           "X11"
          ],
          [
           "SHA-256"
          ],
          [
           "CryptoNight-V7"
          ],
          [
           "Scrypt"
          ],
          [
           "Scrypt"
          ],
          [
           "Scrypt"
          ],
          [
           "X11"
          ],
          [
           "SHA-256"
          ],
          [
           "BLAKE256"
          ],
          [
           "X11"
          ],
          [
           "Scrypt"
          ],
          [
           "NeoScrypt"
          ],
          [
           "Quark"
          ],
          [
           "NeoScrypt"
          ],
          [
           "Scrypt"
          ],
          [
           "Scrypt"
          ],
          [
           "Scrypt"
          ],
          [
           "X11"
          ],
          [
           "X11"
          ],
          [
           "SHA-256"
          ],
          [
           "C11"
          ],
          [
           "Scrypt"
          ],
          [
           "Scrypt"
          ],
          [
           "POS 3.0"
          ],
          [
           "Ethash"
          ],
          [
           "Scrypt"
          ],
          [
           "CryptoNight"
          ],
          [
           "SkunkHash"
          ],
          [
           "Scrypt"
          ],
          [
           "CryptoNight"
          ],
          [
           "Equihash"
          ],
          [
           "Skein"
          ],
          [
           "Scrypt"
          ],
          [
           "Dagger"
          ],
          [
           "Lyra2REv2"
          ],
          [
           "X13"
          ],
          [
           "Proof-of-BibleHash"
          ],
          [
           "SHA-256 + Hive"
          ],
          [
           "Scrypt"
          ],
          [
           "Scrypt"
          ],
          [
           "Scrypt"
          ],
          [
           "NeoScrypt"
          ],
          [
           "Equihash"
          ],
          [
           "X11"
          ],
          [
           "C11"
          ],
          [
           "Proof-of-Authority"
          ],
          [
           "X11"
          ],
          [
           "XEVAN"
          ],
          [
           "Scrypt"
          ],
          [
           "VBFT"
          ],
          [
           "Ethash"
          ],
          [
           "X11"
          ],
          [
           "CryptoNight"
          ],
          [
           "NeoScrypt"
          ],
          [
           "Scrypt"
          ],
          [
           "IMesh"
          ],
          [
           "NIST5"
          ],
          [
           "Equihash"
          ],
          [
           "Scrypt"
          ],
          [
           "Scrypt"
          ],
          [
           "Equihash"
          ],
          [
           "Equihash"
          ],
          [
           "Scrypt"
          ],
          [
           "Lyra2Z"
          ],
          [
           "Equihash"
          ],
          [
           "Green Protocol"
          ],
          [
           "PoS"
          ],
          [
           "Scrypt"
          ],
          [
           "Scrypt"
          ],
          [
           "Semux BFT consensus"
          ],
          [
           "Scrypt"
          ],
          [
           "X11"
          ],
          [
           "Quark"
          ],
          [
           "PoS"
          ],
          [
           "CryptoNight"
          ],
          [
           "X16R"
          ],
          [
           "Scrypt"
          ],
          [
           "NIST5"
          ],
          [
           "Lyra2RE"
          ],
          [
           "XEVAN"
          ],
          [
           "Tribus"
          ],
          [
           "Scrypt"
          ],
          [
           "Lyra2Z"
          ],
          [
           "CryptoNight"
          ],
          [
           "CryptoNight Heavy"
          ],
          [
           "CryptoNight"
          ],
          [
           "Scrypt"
          ],
          [
           "Scrypt"
          ],
          [
           "Jump Consistent Hash"
          ],
          [
           "SHA-256D"
          ],
          [
           "CryptoNight"
          ],
          [
           "Scrypt"
          ],
          [
           "X15"
          ],
          [
           "Scrypt"
          ],
          [
           "Quark"
          ],
          [
           "SHA-256"
          ],
          [
           "DPoS"
          ],
          [
           "X16R"
          ],
          [
           "HMQ1725"
          ],
          [
           "X11"
          ],
          [
           "X16R"
          ],
          [
           "Quark"
          ],
          [
           "Quark"
          ],
          [
           "Scrypt"
          ],
          [
           "Zhash"
          ],
          [
           "Lyra2REv2"
          ],
          [
           "Quark"
          ],
          [
           "Scrypt"
          ],
          [
           "Scrypt"
          ],
          [
           "CryptoNight-V7"
          ],
          [
           "Cryptonight-GPU"
          ],
          [
           "Scrypt"
          ],
          [
           "XEVAN"
          ],
          [
           "CryptoNight Heavy"
          ],
          [
           "X11"
          ],
          [
           "X11"
          ],
          [
           "Scrypt"
          ],
          [
           "PoS"
          ],
          [
           "Lyra2REv2"
          ],
          [
           "Scrypt"
          ],
          [
           "SHA-256"
          ],
          [
           "Scrypt"
          ],
          [
           "Keccak"
          ],
          [
           "X11"
          ],
          [
           "X11"
          ],
          [
           "Quark"
          ],
          [
           "Scrypt"
          ],
          [
           "SHA-512"
          ],
          [
           "X16R"
          ],
          [
           "ECC 256K1"
          ],
          [
           "NeoScrypt"
          ],
          [
           "Equihash"
          ],
          [
           "XEVAN"
          ],
          [
           "Quark"
          ],
          [
           "CryptoNight Heavy X"
          ],
          [
           "Lyra2Z"
          ],
          [
           "Ethash"
          ],
          [
           "SHA-256"
          ],
          [
           "XEVAN"
          ],
          [
           "Ethash"
          ],
          [
           "X11"
          ],
          [
           "CryptoNight"
          ],
          [
           "Quark"
          ],
          [
           "SkunkHash"
          ],
          [
           "Quark"
          ],
          [
           "Argon2"
          ],
          [
           "Blake"
          ],
          [
           "Blake"
          ],
          [
           "SHA-256"
          ],
          [
           "Equihash"
          ],
          [
           "Exosis"
          ],
          [
           "Scrypt"
          ],
          [
           "Scrypt"
          ],
          [
           "Equihash"
          ],
          [
           "Quark"
          ],
          [
           "Equihash"
          ],
          [
           "Quark"
          ],
          [
           "Scrypt"
          ],
          [
           "QuBit"
          ],
          [
           "X11"
          ],
          [
           "Scrypt"
          ],
          [
           "Equihash1927"
          ],
          [
           "XEVAN"
          ],
          [
           "SHA-256D"
          ],
          [
           "X11"
          ],
          [
           "SHA-256"
          ],
          [
           "SHA-256"
          ],
          [
           "X13"
          ],
          [
           "SHA-256"
          ],
          [
           "X11"
          ],
          [
           "DPoS"
          ],
          [
           "X11"
          ],
          [
           "Scrypt"
          ],
          [
           "X11"
          ],
          [
           "Scrypt"
          ],
          [
           "X11"
          ],
          [
           "NeoScrypt"
          ],
          [
           "QuBit"
          ],
          [
           "Scrypt"
          ],
          [
           "Blake"
          ],
          [
           "Scrypt"
          ],
          [
           "SHA-256"
          ],
          [
           "Scrypt"
          ],
          [
           "X11"
          ],
          [
           "CryptoNight"
          ],
          [
           "Scrypt"
          ],
          [
           "Scrypt"
          ],
          [
           "SHA-256"
          ],
          [
           "X11"
          ],
          [
           "SHA-256"
          ],
          [
           "Scrypt"
          ],
          [
           "CryptoNight"
          ],
          [
           "Scrypt"
          ],
          [
           "SHA-256"
          ],
          [
           "Scrypt"
          ],
          [
           "Groestl"
          ],
          [
           "X11"
          ],
          [
           "Scrypt"
          ],
          [
           "PoS"
          ],
          [
           "Scrypt"
          ],
          [
           "Scrypt"
          ],
          [
           "X11"
          ],
          [
           "SHA-256"
          ],
          [
           "DPoS"
          ],
          [
           "Scrypt"
          ],
          [
           "Scrypt"
          ],
          [
           "Scrypt"
          ],
          [
           "NeoScrypt"
          ],
          [
           "Scrypt"
          ],
          [
           "SHA3-256"
          ],
          [
           "Multiple"
          ],
          [
           "X13"
          ],
          [
           "Equihash+Scrypt"
          ],
          [
           "DPoS"
          ],
          [
           "Ethash"
          ],
          [
           "DPoS"
          ],
          [
           "Ethash"
          ],
          [
           "SHA-256"
          ],
          [
           "Leased POS"
          ],
          [
           "PoS"
          ],
          [
           "TRC10"
          ],
          [
           "PoS"
          ],
          [
           "SHA-256"
          ],
          [
           "Scrypt"
          ],
          [
           "CryptoNight"
          ],
          [
           "Equihash"
          ],
          [
           "Scrypt"
          ]
         ],
         "hovertemplate": "<b>%{hovertext}</b><br><br>TotalCoinsMined=%{x}<br>TotalCoinSupply=%{y}<br>Algorithm=%{customdata[0]}<br>class=%{marker.color}<extra></extra>",
         "hovertext": [
          "42 Coin",
          "404Coin",
          "808",
          "EliteCoin",
          "Bitcoin",
          "Ethereum",
          "Litecoin",
          "Dash",
          "Monero",
          "Ethereum Classic",
          "ZCash",
          "Bitshares",
          "DigiByte",
          "BitcoinDark",
          "Bitstake",
          "PayCoin",
          "ProsperCoin",
          "KoboCoin",
          "Spreadcoin",
          "ACoin",
          "Aero Coin",
          "ApexCoin",
          "ArchCoin",
          "Argentum",
          "Aurora Coin",
          "BetaCoin",
          "BlueCoin",
          "MyriadCoin",
          "MoonCoin",
          "ZetaCoin",
          "SexCoin",
          "Quatloo",
          "EnergyCoin",
          "QuarkCoin",
          "Riecoin",
          "Digitalcoin ",
          "LimeCoinX",
          "BitBar",
          "BitMark",
          "CashCoin",
          "Catcoin",
          "CryptoBullion",
          "CannaCoin",
          "CinderCoin",
          "CoolCoin",
          "CryptCoin",
          "CasinoCoin",
          "eMark",
          "Diamond",
          "Verge",
          "DarkCash",
          "DarkShibe",
          "DevCoin",
          "EarthCoin",
          "E-Gulden",
          "Elacoin",
          "Einsteinium",
          "Emerald",
          "Exclusive Coin",
          "Flappy Coin",
          "Fuel2Coin",
          "FIBRE",
          "FireRoosterCoin",
          "FlutterCoin",
          "Franko",
          "FeatherCoin",
          "GrandCoin",
          "GlobalCoin",
          "GoldCoin",
          "GlyphCoin",
          "Halcyon",
          "HoboNickels",
          "HunterCoin",
          "HyperStake",
          "Infinite Coin",
          "IOCoin",
          "IXcoin",
          "JumBucks Coin",
          "JudgeCoin",
          "KrugerCoin",
          "LuckyCoin",
          "Litebar ",
          "LitecoinDark",
          "LibrexCoin",
          "MaxCoin",
          "MegaCoin",
          "MediterraneanCoin",
          "MintCoin",
          "MinCoin",
          "MazaCoin",
          "Nautilus Coin",
          "NavCoin",
          "NoirBits",
          "NobleCoin",
          "Namecoin",
          "NyanCoin",
          "OpalCoin",
          "Orbitcoin",
          "PotCoin",
          "PhoenixCoin",
          "Reddcoin",
          "RipOffCoin",
          "RonPaulCoin",
          "StableCoin",
          "ShieldCoin",
          "SilkCoin",
          "SmartCoin",
          "SpainCoin",
          "SecureCoin",
          "SuperCoin",
          "SyncCoin",
          "SysCoin",
          "TeslaCoin",
          "TigerCoin",
          "TittieCoin",
          "TorCoin",
          "TerraCoin",
          "Umbrella",
          "UnbreakableCoin",
          "Unobtanium",
          "UroCoin",
          "UnitaryStatus Dollar",
          "UltraCoin",
          "Utility Coin",
          "ViaCoin",
          "VootCoin",
          "VeriCoin",
          "Vertcoin",
          "WorldCoin",
          "SocialXbotCoin",
          "X11 Coin",
          "Crypti",
          "JouleCoin",
          "StealthCoin",
          "XXXCoin",
          "ZCC Coin",
          "ByteCoin",
          "DigitalNote ",
          "BurstCoin",
          "StorjCoin",
          "MonaCoin",
          "Neutron",
          "Sling Coin",
          "KryptCoin",
          "FairCoin",
          "Gulden",
          "RubyCoin",
          "PesetaCoin",
          "Kore",
          "Wild Beast Coin",
          "Dnotes",
          "Flo",
          "MaieutiCoin",
          "8BIT Coin",
          "Sativa Coin",
          "AeroMe",
          "ArtByte",
          "MasterTraderCoin",
          "BitCredit",
          "Folding Coin",
          "Ucoin",
          "Unitus",
          "CypherPunkCoin",
          "MaryJane Coin",
          "OmniCron",
          "CyberCoin",
          "Vtorrent",
          "GreenCoin",
          "Unattanium",
          "Cryptonite",
          "Gridmaster",
          "ConSpiracy Coin ",
          "MasterCoin",
          "SoonCoin",
          "1Credit",
          "ViorCoin",
          "IslaCoin",
          "Quicksilver coin",
          "Nexus",
          "MarsCoin ",
          "Singular",
          "Crypto",
          "Anarchists Prime",
          "Droidz",
          "BowsCoin",
          "CryptoCircuits",
          "Squall Coin",
          "Milllionaire Coin",
          "Song Coin",
          "BitZeny",
          "Diggits",
          "Expanse",
          "MapCoin",
          "Paycon",
          "Siacoin",
          "Emercoin",
          "BlitzCoin",
          "EverGreenCoin",
          "MindCoin",
          "I0coin",
          "Decred",
          "DogeCoinDark",
          "Revolution VR",
          "HOdlcoin",
          "EDRCoin",
          "Hitcoin",
          "Gamecredits",
          "Dashcoin",
          "DubaiCoin",
          "BiosCrypto",
          "CarpeDiemCoin",
          "PWR Coin",
          "TrumpCoin",
          "BillaryCoin",
          "EthereumScrypt",
          "Phalanx",
          "SunShotCoin",
          "GPU Coin",
          "HempCoin",
          "Adzcoin",
          "VirtaCoin",
          "SoilCoin",
          "YoCoin",
          "Universal Currency",
          "AEON",
          "SibCoin",
          "EuropeCoin",
          "Anti Bitcoin",
          "ZeitCoin",
          "SwingCoin",
          "SafeExchangeCoin",
          "Nebuchadnezzar",
          "Francs",
          "BolivarCoin",
          "GIZMOcoin",
          "SecretCoin",
          "Ratecoin",
          "Digital Bullion Gold",
          "Revenu",
          "Clinton",
          "Clockcoin",
          "VIP Tokens",
          "OrlyCoin",
          "BitSend",
          "16BitCoin",
          "ChessCoin",
          "ReeCoin",
          "Omni",
          "Let it Ride",
          "PutinCoin",
          "iBankCoin",
          "Frankywillcoin",
          "MudraCoin",
          "PizzaCoin",
          "Lutetium Coin",
          "Komodo",
          "GoldBlocks",
          "WayCoin",
          "CarterCoin",
          "Karbo",
          "BitTokens",
          "ZayedCoin",
          "MustangCoin",
          "ZoneCoin",
          "Circuits of Value",
          "RootCoin",
          "DopeCoin",
          "PROUD Money",
          "BitCurrency",
          "DollarCoin",
          "Swiscoin",
          "Shilling",
          "BuzzCoin",
          "Opair",
          "PesoBit",
          "GBR Coin",
          "Halloween Coin",
          "FujiCoin",
          "ZCoin",
          "LeaCoin",
          "CoffeeCoin",
          "RoyalCoin",
          "Zurcoin",
          "GanjaCoin V2",
          "TeamUP",
          "LanaCoin",
          "Elementrem",
          "CashOut",
          "ZClassic",
          "ARK",
          "InsaneCoin",
          "LuckChain",
          "KiloCoin",
          "Hush",
          "ArtexCoin",
          "EmberCoin",
          "XenixCoin",
          "FreeCoin",
          "NPCcoin",
          "PLNCoin",
          "Icobid",
          "AquariusCoin",
          "Kurrent",
          "Creatio",
          "Eternity",
          "Eurocoin",
          "BitcoinFast",
          "Stakenet",
          "BitConnect Coin",
          "MoneyCoin",
          "Enigma",
          "Cannabis Industry Coin",
          "Russiacoin",
          "PandaCoin",
          "GameUnits",
          "GAKHcoin",
          "Allsafe",
          "LiteCreed",
          "OsmiumCoin",
          "Bikercoins",
          "NeptuneClassic",
          "HexxCoin",
          "GoldenBird",
          "Ride My Car",
          "Klingon Empire Darsek",
          "Internet of People",
          "KushCoin",
          "Eryllium",
          "MarxCoin",
          "Printerium",
          "PacCoin",
          "Impeach",
          "Solarflarecoin",
          "Citadel",
          "Zilbercoin",
          "FirstCoin",
          "CreativeChain",
          "BeaverCoin",
          "FindCoin",
          "VaultCoin",
          "Zero",
          "OpenChat",
          "Canada eCoin",
          "Zoin",
          "Musicoin",
          "BnrtxCoin",
          "RenosCoin",
          "DubaiCoin",
          "VirtacoinPlus",
          "TajCoin",
          "Impact",
          "EB3coin",
          "Universe",
          "Atmos",
          "HappyCoin",
          "Coinonat",
          "MacronCoin",
          "Condensate",
          "Independent Money System",
          "ArgusCoin",
          "LomoCoin",
          "Bitcoin Scrypt",
          "ProCurrency",
          "GoldReserve",
          "BenjiRolls",
          "ParallelCoin",
          "GrowthCoin",
          "ILCoin",
          "Phreak",
          "Degas Coin",
          "ZSEcoin",
          "HTML5 Coin",
          "Ultimate Secure Cash",
          "EquiTrader",
          "QTUM",
          "Quantum Resistant Ledger",
          "Espers",
          "Dynamic",
          "Nano",
          "ChanCoin",
          "Dinastycoin",
          "Denarius",
          "DigitalPrice",
          "Virta Unique Coin",
          "Bitcoin Planet",
          "Unify",
          "BritCoin",
          "SocialCoin",
          "Octanox",
          "ArcticCoin",
          "DAS",
          "Linda",
          "LeviarCoin",
          "DeepOnion",
          "Bitcore",
          "gCn Coin",
          "SmartCash",
          "Signatum",
          "Onix",
          "Cream",
          "Bitcoin Cash",
          "Monoeci",
          "CampusCoin",
          "Draftcoin",
          "Vechain",
          "Sojourn Coin",
          "Stakecoin",
          "NewYorkCoin",
          "LiteBitcoin",
          "FrazCoin",
          "Kronecoin",
          "AdCoin",
          "Linx",
          "CoinonatX",
          "Ethereum Dark",
          "Sumokoin",
          "Obsidian",
          "Cardano",
          "Regalcoin",
          "BitcoinZ",
          "TrezarCoin",
          "Elements",
          "TerraNovaCoin",
          "VIVO Coin",
          "Rupee",
          "Bitcoin Gold",
          "WomenCoin",
          "Theresa May Coin",
          "NamoCoin",
          "LUXCoin",
          "Pirl",
          "Xios",
          "Bitcloud 2.0",
          "eBoost",
          "KekCoin",
          "BlackholeCoin",
          "AltCommunity Coin",
          "Pure",
          "Rupaya",
          "Infinity Economics",
          "Pura",
          "Innova",
          "Bitdeal",
          "Ellaism",
          "Sakuracoin",
          "GoByte",
          "Castle",
          "Magnet",
          "Lamden Tau",
          "Electra",
          "Bitcoin Diamond",
          "SHIELD",
          "Cash & Back Coin",
          "UltraNote",
          "BitCoal",
          "DaxxCoin",
          "Bulwark",
          "Kalkulus",
          "AC3",
          "CHIPS",
          "Lethean",
          "GermanCoin",
          "LiteCoin Ultra",
          "PopularCoin",
          "PhantomX",
          "HTML Coin",
          "Photon",
          "Sucre",
          "Fantasy Cash",
          "SparksPay",
          "Digiwage",
          "GunCoin",
          "IrishCoin",
          "Trollcoin",
          "Litecoin Plus",
          "Monkey Project",
          "Pioneer Coin",
          "UnitedBitcoin",
          "Interzone",
          "OP Coin",
          "Valorbit",
          "TokenPay",
          "1717 Masonic Commemorative Token",
          "My Big Coin",
          "TurtleCoin",
          "MUNcoin",
          "Unified Society USDEX",
          "Niobio Cash",
          "Bitcoin Private",
          "Skeincoin",
          "ShareChain",
          "Travelflex",
          "KREDS",
          "Tokyo Coin",
          "BiblePay",
          "LitecoinCash",
          "BitFlip",
          "LottoCoin",
          "LeafCoin",
          "Cerberus",
          "Bitcoin Hush",
          "Crypto Improvement Fund",
          "Stipend",
          "Poa Network",
          "Pushi",
          "Ellerium",
          "Velox",
          "Ontology",
          "Callisto Network",
          "Curium",
          "BitTube",
          "Dinero",
          "Poseidon",
          "Aidos Kuneen",
          "Bitspace",
          "Snowgem",
          "Briacoin",
          "Ignition",
          "Bitrolium",
          "Bitcoin Interest",
          "MedicCoin",
          "Alpenschillling",
          "Zelcash",
          "Bitcoin Green",
          "Deviant Coin",
          "Abjcoin",
          "Profit Hunters Coin",
          "Semux",
          "BitBlocks",
          "FuturoCoin",
          "Carebit",
          "Zealium",
          "Monero Classic",
          "Proton",
          "iDealCash",
          "Jumpcoin",
          "Infinex",
          "Bitcoin Incognito",
          "KEYCO",
          "HollyWoodCoin",
          "GINcoin",
          "PlatinCoin",
          "Loki",
          "Newton Coin",
          "Swisscoin",
          "Xt3ch",
          "MassGrid",
          "TheVig",
          "PluraCoin",
          "EmaratCoin",
          "Dekado",
          "Lynx",
          "Poseidon Quark",
          "BitcoinWSpectrum",
          "Muse",
          "Motion",
          "PlusOneCoin",
          "Axe",
          "Trivechain",
          "Dystem",
          "Giant",
          "Peony Coin",
          "SafeCoin",
          "Absolute Coin",
          "Vitae",
          "HexCoin",
          "TPCash",
          "Webchain",
          "Ryo",
          "MUSDcoin",
          "Urals Coin",
          "Qwertycoin",
          "ARENON",
          "EUNO",
          "MMOCoin",
          "Ketan",
          "NIX",
          "Safe Trade Coin",
          "Project Pai",
          "Mont Blanc",
          "XDNA",
          "PAXEX",
          "Azart",
          "Apollon",
          "ThunderStake",
          "Kcash",
          "Xchange",
          "Acute Angle Cloud",
          "Traid",
          "CrypticCoin",
          "Bettex coin",
          "ZestCoin",
          "X-CASH",
          "Actinium",
          "ETHER-1",
          "Bitcoin SV",
          "BitMoney",
          "Bitcoiin2Gen",
          "Junson Ming Chan Coin",
          "FREDEnergy",
          "Zenad",
          "C25 Coin",
          "HerbCoin",
          "Aquachain",
          "Universal Molecule",
          "Lithium",
          "Smart Bitcoin",
          "PirateCash",
          "Exosis",
          "Block-Logic",
          "Oduwa",
          "Beam",
          "Galilel",
          "Bithereum",
          "Crypto Sports",
          "Credit",
          "SLICE",
          "Dash Platinum",
          "Nasdacoin",
          "Vidulum",
          "Beetle Coin",
          "Titan Coin",
          "Award",
          "BlockStamp",
          "BLAST",
          "Bitcoin Rhodium",
          "GlobalToken",
          "Insane Coin",
          "ALAX",
          "The Freedom Coin",
          "LiteDoge",
          "Boolberry",
          "SolarCoin",
          "TruckCoin",
          "UFO Coin",
          "Ascension Coin",
          "OrangeCoin",
          "BlakeCoin",
          "BitstarCoin",
          "NeosCoin",
          "HyperCoin",
          "PinkCoin",
          "FantomCoin ",
          "Crypto Escudo",
          "AudioCoin",
          "IncaKoin",
          "Piggy Coin",
          "Crown Coin",
          "Genstake",
          "Quazar Coin",
          "SmileyCoin",
          "ParkByte",
          "XiaoMiCoin",
          "Groestlcoin",
          "CapriCoin",
          " ClubCoin",
          "Radium",
          "Bata",
          "Pakcoin",
          "Creditbit ",
          "OKCash",
          "Lisk",
          "HiCoin",
          "WhiteCoin",
          "Dotcoin",
          "FriendshipCoin",
          "The Hempcoin",
          "Fiii",
          "JoinCoin",
          "Triangles Coin",
          "Vollar",
          "EOS",
          "Reality Clash",
          "Oxycoin",
          "iOlite",
          "TigerCash",
          "Waves",
          "Particl",
          "BitTorrent",
          "Nxt",
          "ZEPHYR",
          "Gapcoin",
          "Beldex",
          "Horizen",
          "BitcoinPlus"
         ],
         "legendgroup": "",
         "marker": {
          "color": [
           0,
           0,
           0,
           0,
           3,
           3,
           3,
           0,
           3,
           3,
           3,
           0,
           3,
           0,
           0,
           0,
           3,
           0,
           3,
           3,
           0,
           0,
           0,
           3,
           0,
           3,
           0,
           3,
           3,
           3,
           3,
           3,
           0,
           3,
           3,
           3,
           3,
           0,
           3,
           0,
           3,
           0,
           3,
           0,
           0,
           3,
           0,
           0,
           0,
           3,
           0,
           3,
           3,
           3,
           3,
           3,
           3,
           3,
           0,
           3,
           0,
           0,
           3,
           0,
           3,
           3,
           3,
           3,
           3,
           0,
           0,
           0,
           3,
           0,
           3,
           0,
           3,
           0,
           0,
           3,
           3,
           3,
           3,
           0,
           0,
           3,
           3,
           0,
           3,
           0,
           0,
           0,
           3,
           3,
           3,
           3,
           0,
           0,
           0,
           0,
           0,
           3,
           3,
           3,
           0,
           0,
           3,
           3,
           3,
           0,
           0,
           3,
           0,
           3,
           0,
           0,
           3,
           3,
           3,
           3,
           3,
           0,
           0,
           0,
           3,
           3,
           0,
           3,
           3,
           0,
           0,
           0,
           3,
           0,
           0,
           0,
           3,
           3,
           0,
           0,
           3,
           0,
           3,
           0,
           0,
           3,
           0,
           3,
           0,
           3,
           0,
           3,
           0,
           0,
           0,
           0,
           3,
           0,
           3,
           3,
           0,
           3,
           3,
           0,
           3,
           0,
           0,
           3,
           3,
           3,
           3,
           3,
           3,
           3,
           3,
           0,
           0,
           3,
           0,
           3,
           0,
           3,
           3,
           0,
           3,
           0,
           0,
           0,
           3,
           3,
           0,
           3,
           0,
           0,
           3,
           0,
           0,
           0,
           3,
           3,
           0,
           3,
           3,
           3,
           0,
           0,
           3,
           3,
           0,
           0,
           3,
           0,
           0,
           0,
           0,
           3,
           3,
           0,
           3,
           3,
           3,
           3,
           3,
           0,
           3,
           3,
           0,
           3,
           0,
           0,
           0,
           0,
           3,
           3,
           0,
           0,
           0,
           0,
           0,
           3,
           0,
           0,
           0,
           0,
           0,
           0,
           0,
           3,
           0,
           0,
           0,
           0,
           0,
           3,
           0,
           3,
           0,
           0,
           0,
           3,
           0,
           3,
           0,
           0,
           3,
           0,
           3,
           0,
           0,
           3,
           0,
           3,
           0,
           0,
           0,
           3,
           0,
           3,
           3,
           3,
           0,
           0,
           3,
           0,
           0,
           0,
           3,
           3,
           3,
           0,
           0,
           0,
           3,
           3,
           3,
           0,
           0,
           0,
           0,
           0,
           0,
           0,
           3,
           0,
           0,
           0,
           0,
           0,
           0,
           0,
           0,
           3,
           0,
           0,
           0,
           0,
           0,
           0,
           3,
           3,
           0,
           3,
           0,
           0,
           0,
           0,
           0,
           0,
           3,
           0,
           3,
           0,
           3,
           3,
           0,
           0,
           3,
           3,
           0,
           3,
           3,
           0,
           3,
           3,
           3,
           3,
           0,
           3,
           0,
           0,
           0,
           3,
           0,
           0,
           0,
           3,
           0,
           0,
           0,
           0,
           0,
           3,
           0,
           0,
           3,
           3,
           0,
           3,
           0,
           0,
           0,
           0,
           0,
           3,
           0,
           3,
           0,
           3,
           3,
           3,
           3,
           0,
           3,
           0,
           0,
           3,
           0,
           3,
           0,
           3,
           3,
           0,
           3,
           0,
           3,
           3,
           3,
           0,
           3,
           0,
           3,
           0,
           3,
           0,
           0,
           3,
           0,
           3,
           3,
           3,
           3,
           3,
           3,
           0,
           0,
           3,
           0,
           0,
           0,
           3,
           0,
           3,
           0,
           3,
           0,
           3,
           0,
           0,
           0,
           0,
           3,
           0,
           0,
           3,
           0,
           0,
           0,
           0,
           0,
           0,
           3,
           3,
           3,
           3,
           3,
           3,
           0,
           0,
           0,
           0,
           0,
           3,
           0,
           3,
           3,
           3,
           0,
           0,
           3,
           3,
           3,
           0,
           0,
           3,
           0,
           0,
           3,
           3,
           0,
           3,
           0,
           3,
           3,
           0,
           0,
           0,
           3,
           3,
           3,
           0,
           0,
           0,
           3,
           0,
           3,
           3,
           0,
           3,
           3,
           3,
           3,
           3,
           3,
           0,
           1,
           1,
           3,
           3,
           3,
           3,
           3,
           3,
           0,
           1,
           0,
           0,
           0,
           0,
           3,
           3,
           3,
           3,
           3,
           3,
           0,
           3,
           0,
           0,
           3,
           3,
           0,
           3,
           0,
           0,
           0,
           0,
           0,
           0,
           0,
           3,
           0,
           0,
           3,
           0,
           0,
           3,
           3,
           0,
           3,
           0,
           3,
           3,
           3,
           3,
           0,
           0,
           3,
           0,
           3,
           0,
           0,
           0,
           0,
           0,
           0,
           3,
           3,
           3,
           0,
           0,
           0,
           0,
           0,
           0,
           0,
           3,
           0,
           3,
           3,
           0,
           3,
           3,
           0,
           0,
           0,
           0,
           3,
           0,
           3,
           0,
           0,
           0,
           3,
           0,
           0,
           0,
           3,
           1,
           0,
           3,
           0,
           3,
           3,
           3,
           3,
           3,
           0,
           3,
           0,
           3,
           0,
           3,
           0,
           3,
           3,
           3,
           3,
           3,
           3,
           3,
           0,
           3,
           0,
           3,
           0,
           0,
           3,
           0,
           0,
           3,
           0,
           0,
           0,
           3,
           3,
           3,
           3,
           0,
           0,
           0,
           0,
           3,
           3,
           0,
           3,
           0,
           0,
           3,
           0,
           0,
           0,
           0,
           3,
           3,
           0,
           0,
           0,
           3,
           0,
           3,
           3,
           0,
           0,
           3,
           0,
           0,
           0,
           3,
           3,
           0,
           0,
           0,
           0,
           0,
           3,
           0,
           0,
           1,
           3,
           0,
           3,
           0,
           3,
           0,
           3,
           0,
           1,
           0,
           2,
           0,
           0,
           0,
           3,
           3,
           0
          ],
          "coloraxis": "coloraxis",
          "symbol": "circle"
         },
         "mode": "markers",
         "name": "",
         "orientation": "h",
         "showlegend": false,
         "type": "scatter",
         "x": [
          4.1999953830000003e-7,
          10.5518490204,
          0,
          292.794246225027,
          0.17927175,
          1.076842226865,
          0.6303924330000489,
          0.0903129437563393,
          0.17201143144913097,
          1.13359703,
          0.0738305625,
          27.4157,
          114.06219141,
          0.01288862,
          0,
          0.11995334884732799,
          0.0576831,
          0.255425355881841,
          0.111497339976203,
          0,
          0,
          0,
          0,
          0.12205795444954902,
          0.18135099992959,
          0,
          6.354239,
          16.8825425,
          8.8e-7,
          1.70204389754849,
          1.28940951183046,
          0.073577947925,
          1.2306280112877301,
          2.5955716491477,
          0.49548585141291707,
          0.334429883440364,
          0,
          0.00042579476901,
          0,
          0,
          0.0721995664626131,
          0.0103911665144562,
          0.0470387951824446,
          0,
          0,
          0.049969862057529096,
          399.99997299856796,
          0,
          0.0330448774735637,
          159.29530669120598,
          0,
          0,
          187.738575,
          125.39015186821997,
          0.209104788062499,
          0,
          2.18871896499999,
          0.1949678631025,
          0.05679705,
          0,
          0,
          0,
          0,
          4.6182990532893,
          0.0114273214912776,
          2.0866909300773,
          8.84125802,
          0.6567272047087479,
          0.416586479999715,
          0,
          0,
          0.89266933684704,
          0,
          16.785200907713,
          905.957530186314,
          0.176509139743456,
          0.21089348999000004,
          0,
          0,
          1.5144764980000003,
          0.1932631914375,
          0.011043442293810199,
          0,
          0,
          0.61445805,
          0.38151999993099706,
          0.40431856899999996,
          212.93925445496902,
          0.05804204887949161,
          16.1383609999999,
          0.1618,
          0.6608709620771078,
          0,
          23.6606630576482,
          0.14736400000000002,
          3.3470922348313796,
          0.151563643306548,
          0.03220616279225,
          2.22677226014206,
          0.7395927462499999,
          293.155671690888,
          0,
          0.011041574216989099,
          0.24215181725,
          0,
          0,
          0.25593737135504396,
          0,
          0,
          0.507076617493518,
          0.000011769999999999999,
          5.63336541299966,
          0.8026046373313961,
          0.43536800000000003,
          16.223264904633602,
          0.0143185100002479,
          0.22935396,
          0,
          0.0227815,
          0.0020091179151896,
          0.0120731,
          10.989525925999999,
          0.50235211141939,
          0,
          0.231508921679687,
          0,
          0.320211084136696,
          0.5117372381663471,
          1.19606941,
          0,
          0.069508310970606,
          1,
          0.39195739362088,
          0.330937254123502,
          0,
          1.47990237978331,
          1840.66828814,
          69.06587610382921,
          18.130339199999998,
          0.51173144,
          0.681946748711679,
          0.39121694,
          0,
          0,
          0.53193831,
          4.1503242,
          0.271844903918338,
          1.3751765441397,
          0.020224648869729998,
          0.001819192435974,
          1.7464611393465501,
          1.5227066486064802,
          0,
          0.01467841,
          0.07096834,
          0,
          7.925372500000001,
          0,
          0,
          7.1941698999999995,
          0.02689812,
          0.6511330200000001,
          0.06365285,
          0,
          0.10140044443029302,
          0,
          0.11604721999999999,
          46.10340640890001,
          0,
          7.0850652,
          0,
          0,
          0.00619478,
          0.12462619999999999,
          0.0008821300000000001,
          0,
          0.01513704,
          0,
          0.6365721999999999,
          0.32221574820996,
          0,
          0.13742738,
          0.147472000002,
          0.0856803835935056,
          0.158638375,
          0,
          0.0032920001638999997,
          0,
          0.325653,
          0.756145,
          1,
          0.10495278000000001,
          0,
          0.23042604,
          330.9829653,
          0.43059794804778,
          0,
          0.135305564180753,
          0.15867695,
          0.20997476865023104,
          0.10365046928166098,
          0,
          2.1,
          0.11448949,
          0.0366969184494672,
          109.96318099,
          0.698361,
          0,
          0.05129014,
          0,
          217.39971929,
          100.694490319252,
          0,
          0.089987432411911,
          0,
          0,
          0,
          0.40477042,
          0,
          0.45110324,
          0,
          0.05702048,
          0.0063646255983338005,
          0,
          0,
          0.17263355,
          0.10407269788186801,
          0,
          369.712360468073,
          0.0437708160953993,
          21.47483647,
          0.2,
          0.0657080765677618,
          0.136540824987998,
          0,
          0,
          1.3455494115118998,
          0,
          0.011955249999999999,
          0,
          0.1666282,
          0.8345040300000001,
          0,
          0.24387724501082797,
          0,
          0,
          0,
          0.00616448,
          0.385898086658096,
          8.13092338575672,
          0.04526324,
          1,
          0.05,
          0.013779169999999999,
          6.57,
          1.15898131,
          0.15563873,
          0,
          0.431655,
          0.0782243272439746,
          0.00595429,
          0.0624384,
          0.0065763634549789,
          0.0258197,
          10,
          0.01939889,
          1.1684522800000001,
          0,
          1.69598616,
          0.09106713999999999,
          6.652000569999999,
          0.11119200000000001,
          195.77787259,
          0.7403380679496829,
          0.33522957000000003,
          0,
          2.64678458288619,
          0,
          0.0756828124956067,
          0,
          1.48716816,
          0.02500124,
          0,
          1,
          0.178186821654,
          10.821626355368302,
          0.26205539,
          0,
          0.056135500000000005,
          1.08202084,
          0.18342813000000002,
          0,
          1.96297971,
          0,
          8.24,
          921.92822723,
          0.0385332677707314,
          0.5,
          0,
          0.170896,
          0,
          0.024495774153316798,
          0.6136481300000001,
          0.2,
          0.0606948207721352,
          0.12416554,
          0.20244023640728,
          0.75590369,
          0.11080722376958099,
          0.10914418000000001,
          0.00814671,
          0.009781449999999999,
          0.08377873,
          338.131438218337,
          0.034729829999999996,
          0.033157889999999995,
          0.105177727391666,
          0.30227750000000003,
          0.00894026,
          0.09357088,
          0,
          0.01876146443596,
          0,
          0,
          0.23965372000000001,
          0.025260784752544795,
          0.0565909695728771,
          0,
          0,
          0.11821728000000001,
          5.36982074,
          0.00308179,
          0,
          0.10969318522954,
          0.029226139642490802,
          1.1,
          0,
          0.03115258,
          0.145248514827,
          0.3038554,
          0.06921653899808909,
          10,
          0.998434083158479,
          0.18545757499999999,
          0,
          0,
          0.36050365,
          0.02232901,
          0.13162749085802697,
          0.12184195925849499,
          1.10630387850471,
          0.64096052,
          0,
          1.11135836889,
          0.215213220099142,
          0.101232,
          4.01421401,
          1.21665451643876,
          0.05368934,
          0.01148324,
          0.005,
          0,
          1.00545745,
          0.17171382000000002,
          0.20276099146524,
          0,
          2.9513546636187797,
          13.177475,
          0.11390225974277197,
          0.21358764000000002,
          0,
          406.5902,
          0.10343113000000001,
          0.13673406432526802,
          1,
          0.690360168340164,
          228.01882870999998,
          0.197842246512734,
          1.33248297,
          0.18407259088588301,
          18.09467143,
          0.04171382,
          0.35138975,
          0.6294207500000001,
          0.06804362,
          0.18133195000000002,
          0.21268092000000002,
          0.05167775,
          0,
          0.260423643735553,
          0.026228859999999996,
          90.4493094324243,
          0.14161803,
          0.21917018049283601,
          0.178018651605478,
          1630.550975,
          22.4100914922257,
          1.0797276599999999,
          1.22475638389743,
          0.473318024774238,
          0.17995589646908203,
          0.125692625359307,
          0,
          0.186632973489799,
          554.547348,
          0.00485214,
          0.04,
          1430.0666974168698,
          0,
          0.09704041999999999,
          0.174537494042601,
          0.32646731063036,
          0.33716525999999997,
          0.19539588000000002,
          0.042,
          0.08946653,
          0.25,
          259.27070538,
          0.0726240204264803,
          52.115532580151395,
          1.826384,
          27.0285566885288,
          0.0114073491680375,
          0.041659675749963904,
          0.24,
          0.17202361088994,
          484.59472454,
          0.920508,
          5.6056322,
          0.0830577531777569,
          0.3398698,
          0.02149688,
          0.30711550529404197,
          0.9999000149346601,
          0.12330806305169999,
          0.16362544992,
          0,
          0,
          0,
          89.99999989999999,
          1.7521585899999998,
          0.0637525904,
          0,
          0.12756367,
          0,
          0.058323068750000005,
          0,
          0.381985948342105,
          2.88090567493887,
          283.99150208000003,
          1.8353402488980701,
          4.81730566566176,
          1.1097697729338,
          192.81821413492403,
          0.045,
          5.2089178,
          0.132471788807286,
          0.16955764902064002,
          0.8031620700000001,
          0,
          4.41250233377,
          49.1150026941,
          0.08419402321,
          39.6420124887125,
          0.451742141078625,
          0,
          300.89671530522804,
          0.0422904050393462,
          0,
          0.07847417333558239,
          0.2729968,
          2.9979795300000003,
          0.454830493398182,
          5.91022748,
          0.02504486227718,
          0.04407252,
          0.0847810433969947,
          0.20165999999999998,
          0.1191658809471,
          0,
          0,
          0.20445861534425103,
          0.01618033,
          0.09399342528398469,
          531.3983521377,
          0.0481833898949984,
          2.3484626578215697,
          1.33932467774108,
          0,
          0,
          100,
          1.07325266027783,
          6.4379591154009495,
          2.30298925,
          17.7209154988818,
          6.3838233220851395,
          0.12446100002779999,
          144.91014421,
          0,
          0,
          0,
          2.11297638500483,
          0.11251342187902101,
          2.04479039,
          0.021678271000000002,
          0.0041927538,
          0.255700131348022,
          6.508486250000001,
          2.47612453,
          0,
          0.800490829057215,
          0,
          0.040702121493016,
          0.25,
          0.13787854627778098,
          0,
          0.0084563781347436,
          0.011821535,
          0.71355477,
          0,
          2.672976763125,
          0.27340501651478305,
          0,
          0.098036913618195,
          0.218765868530324,
          0.09880502371788939,
          0,
          0.01231147,
          0,
          0.318014611867843,
          1.39739596506702,
          0.11075254092999601,
          0.16016864,
          0.044038,
          14.041575294602598,
          0.21069346252259802,
          0.0509768971077377,
          0.10904963092345499,
          0.00795447,
          0.38706809466534997,
          0.0698639970430446,
          0.000843,
          0.19153632,
          412.94520016999996,
          102,
          0.076300000154,
          1.3586241603989802,
          0.332381837225834,
          5.60085952404637,
          0.21599339672800003,
          0.30284196369129,
          778.720597878998,
          0.027162649530283103,
          0.57811001000889,
          0.18194936,
          0.0812586502097646,
          0.0864540616776286,
          0.0499303069736615,
          0.36923120620593397,
          0.0708239224744494,
          0.059194897681352304,
          0.010420124522773501,
          0,
          0.133326179413708,
          0.6605387762561059,
          0.0141666306600024,
          0.0540380249590733,
          0.155801993087496,
          0.048908969999999996,
          0,
          0.147461530962884,
          995.531105288022,
          0.19269509940000001,
          0.307711259760867,
          1.07763867917675,
          0.0932713159708692,
          0,
          0,
          21,
          0,
          0.046725138443237495,
          0.045046390000000006,
          0.050158813731538895,
          0,
          10.599540804343901,
          10,
          0.0975375361515394,
          10,
          0,
          42.351115039999996,
          0.0678740518013774,
          0,
          0,
          0.13634849999999998,
          0,
          0.179925146469233,
          2.08515864367343,
          0,
          172.09923728326598,
          18.6705487328397,
          0,
          0,
          0.353121857437239,
          0,
          0.0157828131341127,
          0.15846721248274695,
          0,
          0.13475920000000002,
          0.0040609192499999995,
          0.35284717173946,
          0.14777549394076403,
          0.3568752,
          0.18265011248600602,
          0.251507875,
          0.0193470167524713,
          308.25710000029596,
          0.129257904226959,
          0.007156594423794099,
          0.205465282059957,
          0,
          1.98938144363399,
          8.96361168,
          0.15420234538933597,
          0,
          0.5229383662779579,
          0.011702925000000001,
          0.846130999999955,
          0.23775960320751402,
          10,
          0,
          153.188870810146,
          0,
          0.5556507638635251,
          2.4257410522384,
          38.24685012,
          0,
          0.0353715,
          0.233567901494191,
          0.20576532000000003,
          0.0439225824647793,
          0.0963119999309942,
          4.363536244903121,
          0,
          7.802107,
          9.8073252897974,
          179.39725045334,
          4.94240666028571,
          0.22986929085424698,
          0.6,
          0,
          295.839893229213,
          0,
          4.04316475545465,
          0.7329820388736621,
          2.01364327427503,
          1.03621876167052,
          0.0382124574150193,
          0.050525559198154504,
          0.696844554387001,
          0.169010166609755,
          0.746760649488608,
          1.2001214,
          100.00244677700199,
          2.5200556419257003,
          0,
          0.0112038500502,
          0,
          -59.179775479677296,
          0.033329225000000004,
          0.0014077775336500003,
          1,
          10.205445230721999,
          0.244879440958204,
          11.2238228337,
          0,
          10,
          1,
          0.092831375558676,
          9899.887134396491,
          10,
          19.999999953055998,
          0.14931046154660502,
          9.80222595,
          0.072965375,
          0.0012832699633965
         ],
         "xaxis": "x",
         "y": [
          "42",
          "532000000",
          "0",
          "314159265359",
          "21000000",
          "0",
          "84000000",
          "22000000",
          "0",
          "210000000",
          "21000000",
          "3600570502",
          "21000000000",
          "22000000",
          "1300000",
          "12500000",
          "21000000",
          "350000000",
          "20000000",
          "1600000",
          "7000000",
          "6000000",
          "16403135",
          "64000000",
          "16768584",
          "32000000",
          "0",
          "2000000000",
          "384000000000",
          "169795588",
          "250000000",
          "100000000",
          "0",
          "247000000",
          "84000000",
          "48166000",
          "21000000 ",
          "500000",
          "27580000",
          "47433600",
          "21000000 ",
          "1000000",
          "13140000",
          "114000000",
          "100000000",
          "18000000",
          "40000000000",
          "0",
          "4380000",
          "16555000000",
          "3720000",
          "2043962",
          "21000000000",
          "13500000000",
          "21000000 ",
          "75000000",
          "299792458",
          "32000000",
          "0",
          "100000000000",
          "100000000",
          "624000",
          "2602410",
          "0",
          "11235813",
          "336000000",
          "1420609614",
          "70000000",
          "72245700",
          "7000000",
          "0",
          "120000000",
          "42000000",
          "0",
          "90600000000",
          "22000000",
          "21000000",
          "3293010",
          "21600000",
          "265420800",
          "20000000",
          "1350000",
          "82003200",
          "1000000",
          "100000000",
          "42000000",
          "200000000",
          "0",
          "10000000",
          "2419200000",
          "16180000",
          "0",
          "50000000",
          "15000000000",
          "21000000",
          "337000000",
          "0",
          "3770000",
          "420000000",
          "98000000",
          "0",
          "12000000",
          "21000000",
          "250000000",
          "1000000",
          "1000000",
          "51200000",
          "50000000",
          "21000000",
          "0",
          "1000",
          "888000000",
          "100000000",
          "47011968",
          "2300000000",
          "10000000",
          "42000000",
          "2625000",
          "80000000",
          "250000",
          "0",
          "1600000000",
          "100000000",
          "0",
          "23000000",
          "0",
          "0",
          "84000000",
          "265420800",
          "2000000",
          "5500000",
          "0",
          "45000000",
          "0",
          "50000000",
          "1000000000",
          "184467440735",
          "10000000000",
          "2158812800",
          "500000000",
          "105120000",
          "68000000",
          "1000000",
          "17000000",
          "0",
          "1680000000",
          "0",
          "166386000",
          "12000000",
          "2628000",
          "500000000",
          "160000000",
          "2014",
          "0",
          "10000000",
          "12000000",
          "1000000000",
          "10110000",
          "210000000",
          "1000000000",
          "20000000",
          "0",
          "0",
          "0",
          "3371337",
          "0",
          "20000000",
          "10000000000",
          "0",
          "1840000000",
          "84000000",
          "33000000",
          "619478",
          "21000000",
          "92000000000",
          "0",
          "0",
          "33000000",
          "78000000",
          "33000000",
          "0",
          "65789100",
          "53760000",
          "5060000",
          "21000000",
          "0",
          "0",
          "0",
          "210240000",
          "250000000",
          "100000000",
          "16906397",
          "2228921.184",
          "50000000",
          "0",
          "1000000000",
          "3852156",
          "26298000",
          "16000000",
          "21000000",
          "21000000",
          "16500000000",
          "210000000",
          "81962100",
          "22000000",
          "26550000000",
          "84000000",
          "18446744",
          "10500000",
          "20190463.54969237",
          "21626280000 ",
          "0",
          "12000000",
          "42000000",
          "4200000",
          "15000000",
          "2250000000",
          "221052632",
          "5000000000",
          "84000000",
          "21000000000",
          "30000000",
          "168351300",
          "210000000",
          "18400000",
          "24000000",
          "384000000",
          "42000000",
          " 99000000000",
          "40000000",
          "2147483647",
          "20000000",
          "20000000",
          "25000000",
          "100000",
          "21000000",
          "75000000",
          "15000000",
          "222725000",
          "2421227",
          "525000000",
          "90000000",
          "36000000",
          "139000000",
          "16000000",
          "74666667",
          "350000000",
          "616448",
          "33500000",
          "2000000000",
          "44333333",
          "100000000",
          "200000000",
          "25000000",
          "657000000",
          "200000000",
          "50000000",
          "100000000",
          "90000000",
          "10000000",
          "21000000",
          "9736000",
          "3000000",
          "21000000",
          "1200000000",
          "0",
          "200000000",
          "10000000000",
          "0",
          "10638298",
          "3100000000",
          "30000000",
          "20000000000",
          "74000000",
          "0",
          "87500000",
          "1500000000",
          "10000000",
          "21400000",
          "2000000000",
          "39999898",
          "2500124",
          "126000000",
          "100000000",
          "301000000",
          "7506000000",
          "26205539",
          "100000000",
          "21000000",
          "125000000",
          "30000000",
          "1000000000",
          "10000000000",
          "21000000",
          "500000000",
          "850000000",
          "3853326.77707314",
          "50000000",
          "7000000000",
          "38540000 ",
          "200000000 ",
          "42000000",
          "228000000",
          "20000000",
          "60000000",
          "20000000",
          "33000000",
          "76500000",
          "28000000",
          "650659833",
          "5000000",
          "21000000",
          "144000000",
          "32514916898",
          "13000000",
          "3315789",
          "15000000",
          "78835200",
          "2714286",
          "25000000",
          "250000000",
          "9999999",
          "450000000",
          "100000000",
          "500000000",
          "21000000",
          "9354000",
          "100000000",
          "100640000",
          "20000000",
          "100000000000",
          "21933333",
          "20000000",
          "185000000",
          "55000000",
          "110000000",
          "115000000",
          "3360000",
          "14524851.4827",
          "1000000000",
          "17000000",
          "1000000000",
          "100000000 ",
          "21000000",
          "454898394",
          "210000000",
          "34426423",
          "2232901",
          "100000000",
          "36900000",
          "110000000",
          "4000000000",
          "112000000",
          "110290030",
          "100000000",
          "48252000",
          "400000000",
          "500000000",
          "21212121",
          "28600000",
          "1000000000",
          "21000000",
          "75000000000",
          "40000000",
          "35520400",
          "1000000",
          "2000000000",
          "2500000000",
          "30000000",
          "105000000",
          "2093500000",
          "90000000000",
          "200084200",
          "72000000",
          "100000000",
          "105000000",
          "50000000000",
          "0",
          "340282367",
          "30000000",
          "2000000000",
          "10000000",
          "100000000",
          "120000000",
          "100000000",
          "19276800",
          "30000000",
          " 75000000",
          "7905634",
          "60000000",
          "18900000",
          "50000000000",
          "54000000",
          "18898187.6216583",
          "21000000",
          "200000000000",
          "5000000000",
          "137500000",
          "1100000000",
          "100000000",
          "21000000",
          "9507271",
          "1010000000",
          "17405891.19707116",
          "86712634466",
          "10500000000",
          "61599965",
          "0",
          "1000000000",
          "20000000",
          "84000000",
          "100000000",
          "100000000",
          "48252000",
          "4200000",
          "88888888",
          "91388946",
          "45000000000",
          "27000000",
          "21000000000",
          "400000000",
          "1800000000",
          "15733333",
          "27000000",
          "24000000",
          "21000000",
          "25000000000",
          "100000000",
          "1200000000",
          "60000000",
          "156306732.71",
          "21000000",
          "200000000",
          "100000000",
          "21000000",
          "14788275.991",
          "5000000",
          "3686860",
          "75000000",
          "9000000000",
          "350000000",
          "45000000",
          "300000000",
          "280000000",
          "105100000",
          "31800000",
          "50000000 ",
          "144000000",
          "500000000",
          "30000000000",
          "210000000",
          "660000000",
          "210000000",
          "85000000000",
          "12500000",
          "10000000000",
          "27716121",
          "20000000",
          "550000000",
          "21000000",
          "999481516",
          "50000000000",
          "150000000",
          "4999999999",
          "50000000",
          "90000000000",
          " 90000000000",
          "19800000",
          "4600000",
          "21000000",
          "120000000",
          "500000000",
          "64000000",
          "900000000",
          "4000000",
          "21000000",
          "23000000",
          "20166000",
          "23000000",
          "2000000000",
          "92233720000000000",
          "25000000",
          "1618033",
          "30000000",
          "1000000000000",
          "16600000",
          "232000000",
          "336000000",
          "21000000",
          "17000000",
          "10000000000",
          "100000000",
          "1100000000",
          "800000000",
          "5200000000",
          "840000000",
          "40000000",
          "18406979840",
          "21000000000",
          "31500000",
          "21000000",
          "500000000",
          "19340594",
          "252460800",
          "25000000",
          "60000000",
          "124000000",
          "1000000000",
          "6500000000",
          "22000000",
          "1000000000",
          "100000000",
          "21000000",
          "25000000",
          "50000000",
          "84096000",
          "3000000",
          "5000000",
          "70000000",
          "22300000",
          "500000000",
          "300000000",
          "210000000",
          "21000000",
          "88000000",
          "30000000",
          "100000000",
          "100000000",
          "500000000",
          "100000000",
          "200000000",
          "80000000",
          "18400000",
          "45000000",
          "5121951220",
          "21000000",
          "26280000",
          "21000000",
          "18000000",
          "26000000",
          "10500000",
          "600000518",
          "150000000",
          "184000000000",
          "10200000000",
          "44000000",
          "168000000",
          "100000000",
          "1000000000",
          "84000000",
          "90000000",
          "92000000000",
          "650000000 ",
          "100262205",
          "18081806 ",
          "22075700",
          "21000000",
          "21000000",
          "82546564",
          "21000000",
          "5151000",
          "16880000000",
          "36000000",
          "52500000",
          "100000000",
          "22105263",
          "1000000000",
          "1750000000",
          "88188888",
          "100000000",
          "210000000",
          "184470000000",
          "55000000",
          "50000000",
          "260000000",
          "210000000",
          "175000000",
          "840000000",
          "2100000000",
          "70000000",
          "366000000",
          "100000000",
          "25000000",
          "250000000",
          "18000000000",
          "1000000000",
          "100000000",
          "1000000000",
          "252000000",
          "7600000000",
          "50000000",
          "29300000",
          "100000000000",
          "84000000",
          "13666237",
          "21000000",
          "70000000000",
          "100000000",
          "0",
          "8080000000",
          "46000000",
          "6100000",
          "54000000",
          "42000000",
          "105120001.44",
          "25228800",
          "20999764",
          "105000000",
          "21000000",
          "120000000",
          "21000000",
          "262800000",
          "19035999",
          "30886000",
          "13370000",
          "74800000000",
          "100000000",
          "19700000",
          "84000000",
          "100000000",
          "500000000",
          "5000000000",
          "420000000",
          "105000000",
          "64000000",
          "2100000",
          "168000000",
          "30000000",
          "1000000000",
          "25000000",
          "35000000000",
          "18450000",
          "98100000000",
          "0",
          "4000000000",
          "0",
          "200000000",
          "7000000000",
          "54256119",
          "21000000",
          "0",
          "500000000",
          "18400000",
          "1000000000",
          "10500000000",
          "190000000",
          "1000000000",
          "42000000",
          "15000000",
          "18446744",
          "50000000000",
          "25000000",
          "400000000",
          "105000000",
          "208000000",
          "160000000",
          "9000000",
          "5000000",
          "182000000",
          "16504333",
          "105000000",
          "159918400",
          "10008835635",
          "300000000",
          "890000000",
          "60168145",
          "300000000",
          "5000000000",
          "2800000",
          "120000",
          "2100000000",
          "0",
          "24487944",
          "0",
          "1000000000",
          "1000000000",
          "100000000",
          "8634140",
          "990000000000",
          "1000000000",
          "2000000000",
          "250000000",
          "1400222610",
          "21000000",
          "1000000"
         ],
         "yaxis": "y"
        }
       ],
       "layout": {
        "coloraxis": {
         "colorbar": {
          "title": {
           "text": "class"
          }
         },
         "colorscale": [
          [
           0,
           "#0d0887"
          ],
          [
           0.1111111111111111,
           "#46039f"
          ],
          [
           0.2222222222222222,
           "#7201a8"
          ],
          [
           0.3333333333333333,
           "#9c179e"
          ],
          [
           0.4444444444444444,
           "#bd3786"
          ],
          [
           0.5555555555555556,
           "#d8576b"
          ],
          [
           0.6666666666666666,
           "#ed7953"
          ],
          [
           0.7777777777777778,
           "#fb9f3a"
          ],
          [
           0.8888888888888888,
           "#fdca26"
          ],
          [
           1,
           "#f0f921"
          ]
         ]
        },
        "legend": {
         "tracegroupgap": 0
        },
        "margin": {
         "t": 60
        },
        "template": {
         "data": {
          "bar": [
           {
            "error_x": {
             "color": "#2a3f5f"
            },
            "error_y": {
             "color": "#2a3f5f"
            },
            "marker": {
             "line": {
              "color": "#E5ECF6",
              "width": 0.5
             }
            },
            "type": "bar"
           }
          ],
          "barpolar": [
           {
            "marker": {
             "line": {
              "color": "#E5ECF6",
              "width": 0.5
             }
            },
            "type": "barpolar"
           }
          ],
          "carpet": [
           {
            "aaxis": {
             "endlinecolor": "#2a3f5f",
             "gridcolor": "white",
             "linecolor": "white",
             "minorgridcolor": "white",
             "startlinecolor": "#2a3f5f"
            },
            "baxis": {
             "endlinecolor": "#2a3f5f",
             "gridcolor": "white",
             "linecolor": "white",
             "minorgridcolor": "white",
             "startlinecolor": "#2a3f5f"
            },
            "type": "carpet"
           }
          ],
          "choropleth": [
           {
            "colorbar": {
             "outlinewidth": 0,
             "ticks": ""
            },
            "type": "choropleth"
           }
          ],
          "contour": [
           {
            "colorbar": {
             "outlinewidth": 0,
             "ticks": ""
            },
            "colorscale": [
             [
              0,
              "#0d0887"
             ],
             [
              0.1111111111111111,
              "#46039f"
             ],
             [
              0.2222222222222222,
              "#7201a8"
             ],
             [
              0.3333333333333333,
              "#9c179e"
             ],
             [
              0.4444444444444444,
              "#bd3786"
             ],
             [
              0.5555555555555556,
              "#d8576b"
             ],
             [
              0.6666666666666666,
              "#ed7953"
             ],
             [
              0.7777777777777778,
              "#fb9f3a"
             ],
             [
              0.8888888888888888,
              "#fdca26"
             ],
             [
              1,
              "#f0f921"
             ]
            ],
            "type": "contour"
           }
          ],
          "contourcarpet": [
           {
            "colorbar": {
             "outlinewidth": 0,
             "ticks": ""
            },
            "type": "contourcarpet"
           }
          ],
          "heatmap": [
           {
            "colorbar": {
             "outlinewidth": 0,
             "ticks": ""
            },
            "colorscale": [
             [
              0,
              "#0d0887"
             ],
             [
              0.1111111111111111,
              "#46039f"
             ],
             [
              0.2222222222222222,
              "#7201a8"
             ],
             [
              0.3333333333333333,
              "#9c179e"
             ],
             [
              0.4444444444444444,
              "#bd3786"
             ],
             [
              0.5555555555555556,
              "#d8576b"
             ],
             [
              0.6666666666666666,
              "#ed7953"
             ],
             [
              0.7777777777777778,
              "#fb9f3a"
             ],
             [
              0.8888888888888888,
              "#fdca26"
             ],
             [
              1,
              "#f0f921"
             ]
            ],
            "type": "heatmap"
           }
          ],
          "heatmapgl": [
           {
            "colorbar": {
             "outlinewidth": 0,
             "ticks": ""
            },
            "colorscale": [
             [
              0,
              "#0d0887"
             ],
             [
              0.1111111111111111,
              "#46039f"
             ],
             [
              0.2222222222222222,
              "#7201a8"
             ],
             [
              0.3333333333333333,
              "#9c179e"
             ],
             [
              0.4444444444444444,
              "#bd3786"
             ],
             [
              0.5555555555555556,
              "#d8576b"
             ],
             [
              0.6666666666666666,
              "#ed7953"
             ],
             [
              0.7777777777777778,
              "#fb9f3a"
             ],
             [
              0.8888888888888888,
              "#fdca26"
             ],
             [
              1,
              "#f0f921"
             ]
            ],
            "type": "heatmapgl"
           }
          ],
          "histogram": [
           {
            "marker": {
             "colorbar": {
              "outlinewidth": 0,
              "ticks": ""
             }
            },
            "type": "histogram"
           }
          ],
          "histogram2d": [
           {
            "colorbar": {
             "outlinewidth": 0,
             "ticks": ""
            },
            "colorscale": [
             [
              0,
              "#0d0887"
             ],
             [
              0.1111111111111111,
              "#46039f"
             ],
             [
              0.2222222222222222,
              "#7201a8"
             ],
             [
              0.3333333333333333,
              "#9c179e"
             ],
             [
              0.4444444444444444,
              "#bd3786"
             ],
             [
              0.5555555555555556,
              "#d8576b"
             ],
             [
              0.6666666666666666,
              "#ed7953"
             ],
             [
              0.7777777777777778,
              "#fb9f3a"
             ],
             [
              0.8888888888888888,
              "#fdca26"
             ],
             [
              1,
              "#f0f921"
             ]
            ],
            "type": "histogram2d"
           }
          ],
          "histogram2dcontour": [
           {
            "colorbar": {
             "outlinewidth": 0,
             "ticks": ""
            },
            "colorscale": [
             [
              0,
              "#0d0887"
             ],
             [
              0.1111111111111111,
              "#46039f"
             ],
             [
              0.2222222222222222,
              "#7201a8"
             ],
             [
              0.3333333333333333,
              "#9c179e"
             ],
             [
              0.4444444444444444,
              "#bd3786"
             ],
             [
              0.5555555555555556,
              "#d8576b"
             ],
             [
              0.6666666666666666,
              "#ed7953"
             ],
             [
              0.7777777777777778,
              "#fb9f3a"
             ],
             [
              0.8888888888888888,
              "#fdca26"
             ],
             [
              1,
              "#f0f921"
             ]
            ],
            "type": "histogram2dcontour"
           }
          ],
          "mesh3d": [
           {
            "colorbar": {
             "outlinewidth": 0,
             "ticks": ""
            },
            "type": "mesh3d"
           }
          ],
          "parcoords": [
           {
            "line": {
             "colorbar": {
              "outlinewidth": 0,
              "ticks": ""
             }
            },
            "type": "parcoords"
           }
          ],
          "pie": [
           {
            "automargin": true,
            "type": "pie"
           }
          ],
          "scatter": [
           {
            "marker": {
             "colorbar": {
              "outlinewidth": 0,
              "ticks": ""
             }
            },
            "type": "scatter"
           }
          ],
          "scatter3d": [
           {
            "line": {
             "colorbar": {
              "outlinewidth": 0,
              "ticks": ""
             }
            },
            "marker": {
             "colorbar": {
              "outlinewidth": 0,
              "ticks": ""
             }
            },
            "type": "scatter3d"
           }
          ],
          "scattercarpet": [
           {
            "marker": {
             "colorbar": {
              "outlinewidth": 0,
              "ticks": ""
             }
            },
            "type": "scattercarpet"
           }
          ],
          "scattergeo": [
           {
            "marker": {
             "colorbar": {
              "outlinewidth": 0,
              "ticks": ""
             }
            },
            "type": "scattergeo"
           }
          ],
          "scattergl": [
           {
            "marker": {
             "colorbar": {
              "outlinewidth": 0,
              "ticks": ""
             }
            },
            "type": "scattergl"
           }
          ],
          "scattermapbox": [
           {
            "marker": {
             "colorbar": {
              "outlinewidth": 0,
              "ticks": ""
             }
            },
            "type": "scattermapbox"
           }
          ],
          "scatterpolar": [
           {
            "marker": {
             "colorbar": {
              "outlinewidth": 0,
              "ticks": ""
             }
            },
            "type": "scatterpolar"
           }
          ],
          "scatterpolargl": [
           {
            "marker": {
             "colorbar": {
              "outlinewidth": 0,
              "ticks": ""
             }
            },
            "type": "scatterpolargl"
           }
          ],
          "scatterternary": [
           {
            "marker": {
             "colorbar": {
              "outlinewidth": 0,
              "ticks": ""
             }
            },
            "type": "scatterternary"
           }
          ],
          "surface": [
           {
            "colorbar": {
             "outlinewidth": 0,
             "ticks": ""
            },
            "colorscale": [
             [
              0,
              "#0d0887"
             ],
             [
              0.1111111111111111,
              "#46039f"
             ],
             [
              0.2222222222222222,
              "#7201a8"
             ],
             [
              0.3333333333333333,
              "#9c179e"
             ],
             [
              0.4444444444444444,
              "#bd3786"
             ],
             [
              0.5555555555555556,
              "#d8576b"
             ],
             [
              0.6666666666666666,
              "#ed7953"
             ],
             [
              0.7777777777777778,
              "#fb9f3a"
             ],
             [
              0.8888888888888888,
              "#fdca26"
             ],
             [
              1,
              "#f0f921"
             ]
            ],
            "type": "surface"
           }
          ],
          "table": [
           {
            "cells": {
             "fill": {
              "color": "#EBF0F8"
             },
             "line": {
              "color": "white"
             }
            },
            "header": {
             "fill": {
              "color": "#C8D4E3"
             },
             "line": {
              "color": "white"
             }
            },
            "type": "table"
           }
          ]
         },
         "layout": {
          "annotationdefaults": {
           "arrowcolor": "#2a3f5f",
           "arrowhead": 0,
           "arrowwidth": 1
          },
          "coloraxis": {
           "colorbar": {
            "outlinewidth": 0,
            "ticks": ""
           }
          },
          "colorscale": {
           "diverging": [
            [
             0,
             "#8e0152"
            ],
            [
             0.1,
             "#c51b7d"
            ],
            [
             0.2,
             "#de77ae"
            ],
            [
             0.3,
             "#f1b6da"
            ],
            [
             0.4,
             "#fde0ef"
            ],
            [
             0.5,
             "#f7f7f7"
            ],
            [
             0.6,
             "#e6f5d0"
            ],
            [
             0.7,
             "#b8e186"
            ],
            [
             0.8,
             "#7fbc41"
            ],
            [
             0.9,
             "#4d9221"
            ],
            [
             1,
             "#276419"
            ]
           ],
           "sequential": [
            [
             0,
             "#0d0887"
            ],
            [
             0.1111111111111111,
             "#46039f"
            ],
            [
             0.2222222222222222,
             "#7201a8"
            ],
            [
             0.3333333333333333,
             "#9c179e"
            ],
            [
             0.4444444444444444,
             "#bd3786"
            ],
            [
             0.5555555555555556,
             "#d8576b"
            ],
            [
             0.6666666666666666,
             "#ed7953"
            ],
            [
             0.7777777777777778,
             "#fb9f3a"
            ],
            [
             0.8888888888888888,
             "#fdca26"
            ],
            [
             1,
             "#f0f921"
            ]
           ],
           "sequentialminus": [
            [
             0,
             "#0d0887"
            ],
            [
             0.1111111111111111,
             "#46039f"
            ],
            [
             0.2222222222222222,
             "#7201a8"
            ],
            [
             0.3333333333333333,
             "#9c179e"
            ],
            [
             0.4444444444444444,
             "#bd3786"
            ],
            [
             0.5555555555555556,
             "#d8576b"
            ],
            [
             0.6666666666666666,
             "#ed7953"
            ],
            [
             0.7777777777777778,
             "#fb9f3a"
            ],
            [
             0.8888888888888888,
             "#fdca26"
            ],
            [
             1,
             "#f0f921"
            ]
           ]
          },
          "colorway": [
           "#636efa",
           "#EF553B",
           "#00cc96",
           "#ab63fa",
           "#FFA15A",
           "#19d3f3",
           "#FF6692",
           "#B6E880",
           "#FF97FF",
           "#FECB52"
          ],
          "font": {
           "color": "#2a3f5f"
          },
          "geo": {
           "bgcolor": "white",
           "lakecolor": "white",
           "landcolor": "#E5ECF6",
           "showlakes": true,
           "showland": true,
           "subunitcolor": "white"
          },
          "hoverlabel": {
           "align": "left"
          },
          "hovermode": "closest",
          "mapbox": {
           "style": "light"
          },
          "paper_bgcolor": "white",
          "plot_bgcolor": "#E5ECF6",
          "polar": {
           "angularaxis": {
            "gridcolor": "white",
            "linecolor": "white",
            "ticks": ""
           },
           "bgcolor": "#E5ECF6",
           "radialaxis": {
            "gridcolor": "white",
            "linecolor": "white",
            "ticks": ""
           }
          },
          "scene": {
           "xaxis": {
            "backgroundcolor": "#E5ECF6",
            "gridcolor": "white",
            "gridwidth": 2,
            "linecolor": "white",
            "showbackground": true,
            "ticks": "",
            "zerolinecolor": "white"
           },
           "yaxis": {
            "backgroundcolor": "#E5ECF6",
            "gridcolor": "white",
            "gridwidth": 2,
            "linecolor": "white",
            "showbackground": true,
            "ticks": "",
            "zerolinecolor": "white"
           },
           "zaxis": {
            "backgroundcolor": "#E5ECF6",
            "gridcolor": "white",
            "gridwidth": 2,
            "linecolor": "white",
            "showbackground": true,
            "ticks": "",
            "zerolinecolor": "white"
           }
          },
          "shapedefaults": {
           "line": {
            "color": "#2a3f5f"
           }
          },
          "ternary": {
           "aaxis": {
            "gridcolor": "white",
            "linecolor": "white",
            "ticks": ""
           },
           "baxis": {
            "gridcolor": "white",
            "linecolor": "white",
            "ticks": ""
           },
           "bgcolor": "#E5ECF6",
           "caxis": {
            "gridcolor": "white",
            "linecolor": "white",
            "ticks": ""
           }
          },
          "title": {
           "x": 0.05
          },
          "xaxis": {
           "automargin": true,
           "gridcolor": "white",
           "linecolor": "white",
           "ticks": "",
           "title": {
            "standoff": 15
           },
           "zerolinecolor": "white",
           "zerolinewidth": 2
          },
          "yaxis": {
           "automargin": true,
           "gridcolor": "white",
           "linecolor": "white",
           "ticks": "",
           "title": {
            "standoff": 15
           },
           "zerolinecolor": "white",
           "zerolinewidth": 2
          }
         }
        },
        "width": 800,
        "xaxis": {
         "anchor": "y",
         "domain": [
          0,
          1
         ],
         "title": {
          "text": "TotalCoinsMined"
         }
        },
        "yaxis": {
         "anchor": "x",
         "domain": [
          0,
          1
         ],
         "title": {
          "text": "TotalCoinSupply"
         }
        }
       }
      }
     },
     "metadata": {}
    }
   ],
   "source": [
    "#plot in 3d\n",
    "fig = px.scatter(clustered_df, x=\"TotalCoinsMined\", y=\"TotalCoinSupply\", color=\"class\", width=800, hover_name=\"CoinName\", hover_data=[\"Algorithm\"])\n",
    "fig.show()"
   ]
  },
  {
   "cell_type": "code",
   "execution_count": null,
   "metadata": {},
   "outputs": [],
   "source": []
  }
 ]
}