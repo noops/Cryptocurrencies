{
 "metadata": {
  "language_info": {
   "codemirror_mode": {
    "name": "ipython",
    "version": 3
   },
   "file_extension": ".py",
   "mimetype": "text/x-python",
   "name": "python",
   "nbconvert_exporter": "python",
   "pygments_lexer": "ipython3",
   "version": "3.7.7-final"
  },
  "orig_nbformat": 2,
  "kernelspec": {
   "name": "Python 3.7.7 64-bit ('PythonData': conda)",
   "display_name": "Python 3.7.7 64-bit ('PythonData': conda)",
   "metadata": {
    "interpreter": {
     "hash": "6629937ca33c91e24171fb9c2c6e8adc4c28b335a7e363e22452b0d874202ae3"
    }
   }
  }
 },
 "nbformat": 4,
 "nbformat_minor": 2,
 "cells": [
  {
   "cell_type": "code",
   "execution_count": 2,
   "metadata": {},
   "outputs": [],
   "source": [
    "import pandas as pd\n",
    "from sklearn.preprocessing import StandardScaler\n",
    "from sklearn.decomposition import PCA\n",
    "from sklearn.cluster import KMeans\n",
    "import hvplot.pandas\n",
    "from path import Path"
   ]
  },
  {
   "cell_type": "code",
   "execution_count": 3,
   "metadata": {},
   "outputs": [
    {
     "output_type": "execute_result",
     "data": {
      "text/plain": "   sepal_length  petal_length  sepal_width  petal_width\n0           5.1           1.4          3.5          0.2\n1           4.9           1.4          3.0          0.2\n2           4.7           1.3          3.2          0.2\n3           4.6           1.5          3.1          0.2\n4           5.0           1.4          3.6          0.2",
      "text/html": "<div>\n<style scoped>\n    .dataframe tbody tr th:only-of-type {\n        vertical-align: middle;\n    }\n\n    .dataframe tbody tr th {\n        vertical-align: top;\n    }\n\n    .dataframe thead th {\n        text-align: right;\n    }\n</style>\n<table border=\"1\" class=\"dataframe\">\n  <thead>\n    <tr style=\"text-align: right;\">\n      <th></th>\n      <th>sepal_length</th>\n      <th>petal_length</th>\n      <th>sepal_width</th>\n      <th>petal_width</th>\n    </tr>\n  </thead>\n  <tbody>\n    <tr>\n      <th>0</th>\n      <td>5.1</td>\n      <td>1.4</td>\n      <td>3.5</td>\n      <td>0.2</td>\n    </tr>\n    <tr>\n      <th>1</th>\n      <td>4.9</td>\n      <td>1.4</td>\n      <td>3.0</td>\n      <td>0.2</td>\n    </tr>\n    <tr>\n      <th>2</th>\n      <td>4.7</td>\n      <td>1.3</td>\n      <td>3.2</td>\n      <td>0.2</td>\n    </tr>\n    <tr>\n      <th>3</th>\n      <td>4.6</td>\n      <td>1.5</td>\n      <td>3.1</td>\n      <td>0.2</td>\n    </tr>\n    <tr>\n      <th>4</th>\n      <td>5.0</td>\n      <td>1.4</td>\n      <td>3.6</td>\n      <td>0.2</td>\n    </tr>\n  </tbody>\n</table>\n</div>"
     },
     "metadata": {},
     "execution_count": 3
    }
   ],
   "source": [
    "#load data\n",
    "filePath = Path(\"../Resources/newIrisData.csv\")\n",
    "irisDF = pd.read_csv(filePath)\n",
    "irisDF.head()"
   ]
  },
  {
   "cell_type": "code",
   "execution_count": 4,
   "metadata": {
    "tags": []
   },
   "outputs": [
    {
     "output_type": "stream",
     "name": "stdout",
     "text": "[[-0.90068117 -1.3412724   1.03205722 -1.31297673]\n [-1.14301691 -1.3412724  -0.1249576  -1.31297673]\n [-1.38535265 -1.39813811  0.33784833 -1.31297673]\n [-1.50652052 -1.2844067   0.10644536 -1.31297673]\n [-1.02184904 -1.3412724   1.26346019 -1.31297673]]\n"
    }
   ],
   "source": [
    "#standardize data using StandardScaler\n",
    "irisScaled = StandardScaler().fit_transform(irisDF)\n",
    "print(irisScaled[0:5])"
   ]
  },
  {
   "source": [
    "#initialize PCA model\n",
    "pca = PCA(n_components=2)\n",
    "#get two principal components for the iris data\n",
    "irisPca = pca.fit_transform(irisScaled)"
   ],
   "cell_type": "code",
   "metadata": {},
   "execution_count": 9,
   "outputs": []
  },
  {
   "cell_type": "code",
   "execution_count": 8,
   "metadata": {},
   "outputs": [
    {
     "output_type": "execute_result",
     "data": {
      "text/plain": "   principal component 1  principal component 2\n0              -2.264542               0.505704\n1              -2.086426              -0.655405\n2              -2.367950              -0.318477\n3              -2.304197              -0.575368\n4              -2.388777               0.674767",
      "text/html": "<div>\n<style scoped>\n    .dataframe tbody tr th:only-of-type {\n        vertical-align: middle;\n    }\n\n    .dataframe tbody tr th {\n        vertical-align: top;\n    }\n\n    .dataframe thead th {\n        text-align: right;\n    }\n</style>\n<table border=\"1\" class=\"dataframe\">\n  <thead>\n    <tr style=\"text-align: right;\">\n      <th></th>\n      <th>principal component 1</th>\n      <th>principal component 2</th>\n    </tr>\n  </thead>\n  <tbody>\n    <tr>\n      <th>0</th>\n      <td>-2.264542</td>\n      <td>0.505704</td>\n    </tr>\n    <tr>\n      <th>1</th>\n      <td>-2.086426</td>\n      <td>-0.655405</td>\n    </tr>\n    <tr>\n      <th>2</th>\n      <td>-2.367950</td>\n      <td>-0.318477</td>\n    </tr>\n    <tr>\n      <th>3</th>\n      <td>-2.304197</td>\n      <td>-0.575368</td>\n    </tr>\n    <tr>\n      <th>4</th>\n      <td>-2.388777</td>\n      <td>0.674767</td>\n    </tr>\n  </tbody>\n</table>\n</div>"
     },
     "metadata": {},
     "execution_count": 8
    }
   ],
   "source": [
    "#transform PCA data to dataframe\n",
    "irisPcaDf = pd.DataFrame(data=irisPca, columns=[\"principal component 1\", \"principal component 2\"])\n",
    "irisPcaDf.head()"
   ]
  },
  {
   "cell_type": "code",
   "execution_count": 10,
   "metadata": {},
   "outputs": [
    {
     "output_type": "execute_result",
     "data": {
      "text/plain": "array([0.72770452, 0.23030523])"
     },
     "metadata": {},
     "execution_count": 10
    }
   ],
   "source": [
    "#fetch explained variance \n",
    "pca.explained_variance_ratio_"
   ]
  },
  {
   "source": [
    "first principal component contains 72.77% of variance, and second contains 23.03%. together they contain 95.8% of the information "
   ],
   "cell_type": "markdown",
   "metadata": {}
  },
  {
   "cell_type": "code",
   "execution_count": 11,
   "metadata": {},
   "outputs": [
    {
     "output_type": "display_data",
     "data": {},
     "metadata": {}
    },
    {
     "output_type": "execute_result",
     "data": {
      "text/html": "<div id='1001'>\n\n\n\n\n\n  <div class=\"bk-root\" id=\"10a57df0-76ea-4237-ba13-b2aee84a7391\" data-root-id=\"1001\"></div>\n</div>\n<script type=\"application/javascript\">(function(root) {\n  function embed_document(root) {\n  var docs_json = {\"999de057-c4c0-40e5-816b-42ceed6929ca\":{\"roots\":{\"references\":[{\"attributes\":{\"margin\":[5,5,5,5],\"name\":\"HSpacer01526\",\"sizing_mode\":\"stretch_width\"},\"id\":\"1065\",\"type\":\"Spacer\"},{\"attributes\":{\"line_color\":\"#1f77b3\",\"line_width\":2,\"x\":{\"field\":\"k\"},\"y\":{\"field\":\"inertia\"}},\"id\":\"1039\",\"type\":\"Line\"},{\"attributes\":{\"source\":{\"id\":\"1036\"}},\"id\":\"1043\",\"type\":\"CDSView\"},{\"attributes\":{\"overlay\":{\"id\":\"1028\"}},\"id\":\"1026\",\"type\":\"BoxZoomTool\"},{\"attributes\":{\"active_drag\":\"auto\",\"active_inspect\":\"auto\",\"active_multi\":null,\"active_scroll\":\"auto\",\"active_tap\":\"auto\",\"tools\":[{\"id\":\"1005\"},{\"id\":\"1023\"},{\"id\":\"1024\"},{\"id\":\"1025\"},{\"id\":\"1026\"},{\"id\":\"1027\"}]},\"id\":\"1029\",\"type\":\"Toolbar\"},{\"attributes\":{},\"id\":\"1055\",\"type\":\"UnionRenderers\"},{\"attributes\":{\"callback\":null,\"renderers\":[{\"id\":\"1042\"}],\"tags\":[\"hv_created\"],\"tooltips\":[[\"k\",\"@{k}\"],[\"inertia\",\"@{inertia}\"]]},\"id\":\"1005\",\"type\":\"HoverTool\"},{\"attributes\":{\"line_alpha\":0.2,\"line_color\":\"#1f77b3\",\"line_width\":2,\"x\":{\"field\":\"k\"},\"y\":{\"field\":\"inertia\"}},\"id\":\"1041\",\"type\":\"Line\"},{\"attributes\":{},\"id\":\"1020\",\"type\":\"BasicTicker\"},{\"attributes\":{\"axis\":{\"id\":\"1019\"},\"dimension\":1,\"grid_line_color\":null,\"ticker\":null},\"id\":\"1022\",\"type\":\"Grid\"},{\"attributes\":{},\"id\":\"1050\",\"type\":\"BasicTickFormatter\"},{\"attributes\":{\"axis_label\":\"inertia\",\"bounds\":\"auto\",\"formatter\":{\"id\":\"1050\"},\"major_label_orientation\":\"horizontal\",\"ticker\":{\"id\":\"1020\"}},\"id\":\"1019\",\"type\":\"LinearAxis\"},{\"attributes\":{\"margin\":[5,5,5,5],\"name\":\"HSpacer01525\",\"sizing_mode\":\"stretch_width\"},\"id\":\"1002\",\"type\":\"Spacer\"},{\"attributes\":{},\"id\":\"1011\",\"type\":\"LinearScale\"},{\"attributes\":{\"axis_label\":\"k\",\"bounds\":\"auto\",\"formatter\":{\"id\":\"1046\"},\"major_label_orientation\":\"horizontal\",\"ticker\":{\"id\":\"1044\"}},\"id\":\"1015\",\"type\":\"LinearAxis\"},{\"attributes\":{},\"id\":\"1037\",\"type\":\"Selection\"},{\"attributes\":{\"line_alpha\":0.1,\"line_color\":\"#1f77b3\",\"line_width\":2,\"x\":{\"field\":\"k\"},\"y\":{\"field\":\"inertia\"}},\"id\":\"1040\",\"type\":\"Line\"},{\"attributes\":{},\"id\":\"1027\",\"type\":\"ResetTool\"},{\"attributes\":{\"children\":[{\"id\":\"1002\"},{\"id\":\"1006\"},{\"id\":\"1065\"}],\"margin\":[0,0,0,0],\"name\":\"Row01521\",\"tags\":[\"embedded\"]},\"id\":\"1001\",\"type\":\"Row\"},{\"attributes\":{\"end\":629.4464234300625,\"reset_end\":629.4464234300625,\"reset_start\":-26.24043170399354,\"start\":-26.24043170399354,\"tags\":[[[\"inertia\",\"inertia\",null]]]},\"id\":\"1004\",\"type\":\"Range1d\"},{\"attributes\":{},\"id\":\"1023\",\"type\":\"SaveTool\"},{\"attributes\":{\"data_source\":{\"id\":\"1036\"},\"glyph\":{\"id\":\"1039\"},\"hover_glyph\":null,\"muted_glyph\":{\"id\":\"1041\"},\"nonselection_glyph\":{\"id\":\"1040\"},\"selection_glyph\":null,\"view\":{\"id\":\"1043\"}},\"id\":\"1042\",\"type\":\"GlyphRenderer\"},{\"attributes\":{\"ticks\":[1,2,3,4,5,6,7,8,9,10]},\"id\":\"1044\",\"type\":\"FixedTicker\"},{\"attributes\":{},\"id\":\"1024\",\"type\":\"PanTool\"},{\"attributes\":{\"data\":{\"inertia\":{\"__ndarray__\":\"YzafYnL2gUAqbWBmntZoQJ2mqsr9Bl1Afu/4E2huVkDc0qR94pNQQO3j3qojokxAhRm84Hb7R0COL3dCGh9EQL5sY3u0F0BAI+rHi29mPEA=\",\"dtype\":\"float64\",\"order\":\"little\",\"shape\":[10]},\"k\":[1,2,3,4,5,6,7,8,9,10]},\"selected\":{\"id\":\"1037\"},\"selection_policy\":{\"id\":\"1055\"}},\"id\":\"1036\",\"type\":\"ColumnDataSource\"},{\"attributes\":{\"align\":null,\"below\":[{\"id\":\"1015\"}],\"center\":[{\"id\":\"1018\"},{\"id\":\"1022\"}],\"left\":[{\"id\":\"1019\"}],\"margin\":null,\"min_border_bottom\":10,\"min_border_left\":10,\"min_border_right\":10,\"min_border_top\":10,\"plot_height\":300,\"plot_width\":700,\"renderers\":[{\"id\":\"1042\"}],\"sizing_mode\":\"fixed\",\"title\":{\"id\":\"1007\"},\"toolbar\":{\"id\":\"1029\"},\"x_range\":{\"id\":\"1003\"},\"x_scale\":{\"id\":\"1011\"},\"y_range\":{\"id\":\"1004\"},\"y_scale\":{\"id\":\"1013\"}},\"id\":\"1006\",\"subtype\":\"Figure\",\"type\":\"Plot\"},{\"attributes\":{\"text\":\"Elbow Curve\",\"text_color\":{\"value\":\"black\"},\"text_font_size\":{\"value\":\"12pt\"}},\"id\":\"1007\",\"type\":\"Title\"},{\"attributes\":{},\"id\":\"1025\",\"type\":\"WheelZoomTool\"},{\"attributes\":{\"axis\":{\"id\":\"1015\"},\"grid_line_color\":null,\"ticker\":null},\"id\":\"1018\",\"type\":\"Grid\"},{\"attributes\":{},\"id\":\"1046\",\"type\":\"BasicTickFormatter\"},{\"attributes\":{},\"id\":\"1013\",\"type\":\"LinearScale\"},{\"attributes\":{\"bottom_units\":\"screen\",\"fill_alpha\":0.5,\"fill_color\":\"lightgrey\",\"left_units\":\"screen\",\"level\":\"overlay\",\"line_alpha\":1.0,\"line_color\":\"black\",\"line_dash\":[4,4],\"line_width\":2,\"right_units\":\"screen\",\"top_units\":\"screen\"},\"id\":\"1028\",\"type\":\"BoxAnnotation\"},{\"attributes\":{\"end\":10.0,\"reset_end\":10.0,\"reset_start\":1.0,\"start\":1.0,\"tags\":[[[\"k\",\"k\",null]]]},\"id\":\"1003\",\"type\":\"Range1d\"}],\"root_ids\":[\"1001\"]},\"title\":\"Bokeh Application\",\"version\":\"2.1.0\"}};\n  var render_items = [{\"docid\":\"999de057-c4c0-40e5-816b-42ceed6929ca\",\"root_ids\":[\"1001\"],\"roots\":{\"1001\":\"10a57df0-76ea-4237-ba13-b2aee84a7391\"}}];\n  root.Bokeh.embed.embed_items_notebook(docs_json, render_items);\n  }\nif (root.Bokeh !== undefined) {\n    embed_document(root);\n  } else {\n    var attempts = 0;\n    var timer = setInterval(function(root) {\n      if (root.Bokeh !== undefined) {\n        clearInterval(timer);\n        embed_document(root);\n      } else if (document.readyState == \"complete\") {\n        attempts++;\n        if (attempts > 100) {\n          clearInterval(timer);\n          console.log(\"Bokeh: ERROR: Unable to run BokehJS code because BokehJS library is missing\");\n        }\n      }\n    }, 10, root)\n  }\n})(window);</script>",
      "application/vnd.holoviews_exec.v0+json": "",
      "text/plain": ":Curve   [k]   (inertia)"
     },
     "metadata": {
      "application/vnd.holoviews_exec.v0+json": {
       "id": "1001"
      }
     },
     "execution_count": 11
    }
   ],
   "source": [
    "#find best value for K\n",
    "inertia = []\n",
    "k = list(range(1,11))\n",
    "\n",
    "#calc inertia for range of k values\n",
    "for i in k:\n",
    "    km = KMeans(n_clusters=i, random_state=0)\n",
    "    km.fit(irisPcaDf)\n",
    "    inertia.append(km.inertia_)\n",
    "#create elbow curve \n",
    "elbowData = {\"k\":k, \"inertia\":inertia}\n",
    "elbowDf = pd.DataFrame(elbowData)\n",
    "elbowDf.hvplot.line(x=\"k\", y=\"inertia\", xticks=k, title=\"Elbow Curve\")"
   ]
  },
  {
   "cell_type": "code",
   "execution_count": 12,
   "metadata": {},
   "outputs": [
    {
     "output_type": "execute_result",
     "data": {
      "text/plain": "   principal component 1  principal component 2  class\n0              -2.264542               0.505704      1\n1              -2.086426              -0.655405      1\n2              -2.367950              -0.318477      1\n3              -2.304197              -0.575368      1\n4              -2.388777               0.674767      1",
      "text/html": "<div>\n<style scoped>\n    .dataframe tbody tr th:only-of-type {\n        vertical-align: middle;\n    }\n\n    .dataframe tbody tr th {\n        vertical-align: top;\n    }\n\n    .dataframe thead th {\n        text-align: right;\n    }\n</style>\n<table border=\"1\" class=\"dataframe\">\n  <thead>\n    <tr style=\"text-align: right;\">\n      <th></th>\n      <th>principal component 1</th>\n      <th>principal component 2</th>\n      <th>class</th>\n    </tr>\n  </thead>\n  <tbody>\n    <tr>\n      <th>0</th>\n      <td>-2.264542</td>\n      <td>0.505704</td>\n      <td>1</td>\n    </tr>\n    <tr>\n      <th>1</th>\n      <td>-2.086426</td>\n      <td>-0.655405</td>\n      <td>1</td>\n    </tr>\n    <tr>\n      <th>2</th>\n      <td>-2.367950</td>\n      <td>-0.318477</td>\n      <td>1</td>\n    </tr>\n    <tr>\n      <th>3</th>\n      <td>-2.304197</td>\n      <td>-0.575368</td>\n      <td>1</td>\n    </tr>\n    <tr>\n      <th>4</th>\n      <td>-2.388777</td>\n      <td>0.674767</td>\n      <td>1</td>\n    </tr>\n  </tbody>\n</table>\n</div>"
     },
     "metadata": {},
     "execution_count": 12
    }
   ],
   "source": [
    "#initialize k-means model \n",
    "model = KMeans(n_clusters=3, random_state=0)\n",
    "model.fit(irisPcaDf)\n",
    "predictions = model.predict(irisPcaDf)\n",
    "\n",
    "#add predicted class columns\n",
    "irisPcaDf[\"class\"] = model.labels_\n",
    "irisPcaDf.head()"
   ]
  },
  {
   "cell_type": "code",
   "execution_count": 13,
   "metadata": {},
   "outputs": [
    {
     "output_type": "display_data",
     "data": {},
     "metadata": {}
    },
    {
     "output_type": "execute_result",
     "data": {
      "text/html": "<div id='1102'>\n\n\n\n\n\n  <div class=\"bk-root\" id=\"425f1957-6d70-401f-b3b7-61d7a84d3348\" data-root-id=\"1102\"></div>\n</div>\n<script type=\"application/javascript\">(function(root) {\n  function embed_document(root) {\n  var docs_json = {\"fee09900-0b16-4797-b49e-e87b22f885da\":{\"roots\":{\"references\":[{\"attributes\":{},\"id\":\"1162\",\"type\":\"Selection\"},{\"attributes\":{\"data_source\":{\"id\":\"1161\"},\"glyph\":{\"id\":\"1164\"},\"hover_glyph\":null,\"muted_glyph\":{\"id\":\"1166\"},\"nonselection_glyph\":{\"id\":\"1165\"},\"selection_glyph\":null,\"view\":{\"id\":\"1168\"}},\"id\":\"1167\",\"type\":\"GlyphRenderer\"},{\"attributes\":{\"axis\":{\"id\":\"1118\"},\"grid_line_color\":null,\"ticker\":null},\"id\":\"1121\",\"type\":\"Grid\"},{\"attributes\":{\"fill_color\":{\"value\":\"#ff7e0e\"},\"line_color\":{\"value\":\"#ff7e0e\"},\"size\":{\"units\":\"screen\",\"value\":5.477225575051661},\"x\":{\"field\":\"principal component 1\"},\"y\":{\"field\":\"principal component 2\"}},\"id\":\"1164\",\"type\":\"Scatter\"},{\"attributes\":{},\"id\":\"1156\",\"type\":\"UnionRenderers\"},{\"attributes\":{\"overlay\":{\"id\":\"1131\"}},\"id\":\"1129\",\"type\":\"BoxZoomTool\"},{\"attributes\":{\"click_policy\":\"mute\",\"items\":[{\"id\":\"1160\"},{\"id\":\"1179\"},{\"id\":\"1200\"}],\"location\":[0,0],\"title\":\"class\"},\"id\":\"1159\",\"type\":\"Legend\"},{\"attributes\":{\"fill_alpha\":{\"value\":0.1},\"fill_color\":{\"value\":\"#1f77b3\"},\"line_alpha\":{\"value\":0.1},\"line_color\":{\"value\":\"#1f77b3\"},\"size\":{\"units\":\"screen\",\"value\":5.477225575051661},\"x\":{\"field\":\"principal component 1\"},\"y\":{\"field\":\"principal component 2\"}},\"id\":\"1147\",\"type\":\"Scatter\"},{\"attributes\":{\"axis\":{\"id\":\"1122\"},\"dimension\":1,\"grid_line_color\":null,\"ticker\":null},\"id\":\"1125\",\"type\":\"Grid\"},{\"attributes\":{},\"id\":\"1197\",\"type\":\"UnionRenderers\"},{\"attributes\":{},\"id\":\"1128\",\"type\":\"WheelZoomTool\"},{\"attributes\":{\"axis_label\":\"principal component 2\",\"bounds\":\"auto\",\"formatter\":{\"id\":\"1142\"},\"major_label_orientation\":\"horizontal\",\"ticker\":{\"id\":\"1123\"}},\"id\":\"1122\",\"type\":\"LinearAxis\"},{\"attributes\":{\"children\":[{\"id\":\"1103\"},{\"id\":\"1109\"},{\"id\":\"1309\"}],\"margin\":[0,0,0,0],\"name\":\"Row01752\",\"tags\":[\"embedded\"]},\"id\":\"1102\",\"type\":\"Row\"},{\"attributes\":{\"bottom_units\":\"screen\",\"fill_alpha\":0.5,\"fill_color\":\"lightgrey\",\"left_units\":\"screen\",\"level\":\"overlay\",\"line_alpha\":1.0,\"line_color\":\"black\",\"line_dash\":[4,4],\"line_width\":2,\"right_units\":\"screen\",\"top_units\":\"screen\"},\"id\":\"1131\",\"type\":\"BoxAnnotation\"},{\"attributes\":{\"margin\":[5,5,5,5],\"name\":\"HSpacer01756\",\"sizing_mode\":\"stretch_width\"},\"id\":\"1103\",\"type\":\"Spacer\"},{\"attributes\":{\"data\":{\"class\":{\"__ndarray__\":\"AQAAAAEAAAABAAAAAQAAAAEAAAABAAAAAQAAAAEAAAABAAAAAQAAAAEAAAABAAAAAQAAAAEAAAABAAAAAQAAAAEAAAABAAAAAQAAAAEAAAABAAAAAQAAAAEAAAABAAAAAQAAAAEAAAABAAAAAQAAAAEAAAABAAAAAQAAAAEAAAABAAAAAQAAAAEAAAABAAAAAQAAAAEAAAABAAAAAQAAAAEAAAABAAAAAQAAAAEAAAABAAAAAQAAAAEAAAABAAAAAQAAAAEAAAA=\",\"dtype\":\"int32\",\"order\":\"little\",\"shape\":[50]},\"principal component 1\":{\"__ndarray__\":\"OhG/DcgdAsCdflXa/7AAwC0tSgGQ8QLAqnjV6/5uAsB8OOBfNxwDwLAJAJp1kADA6FhZG9GQA8C2vPx66N4BwLbvZ05UvALA4NUzb2iCAcDFACQK0k4BwH2PWzp4ngLAakHW4evKAcBuYBiPIx4FwN9kYiHQiQHA7MLFMQADAsDBicmkO58BwNHnRqd8hQHAELKL2CBO/r9tMd43N7gCwDUu6+IFov6/J3pNIB2jAcAhHszufzEGwHCyHOBnIP2/cG9EsmPTAcBkStBn+E//v+YJWiugagDAzhcE6nVYAcDy6Z27WB8BwCANM3l7JgLA3OURJwwoAcCvCNRTnk/9v3WUD3eZ3QTAxoxIYeyAA8Dg1TNvaIIBwATB4qBfsAHAqAtPDPdaAMDg1TNvaIIBwJvdMoLUfAPAUiP02UddAcA54QHLzkoCwFtzDEaD8v2/XPlj5HF2BMD1iQQfsG3/v/eHnMYlEQHAnu7lFFWaAMDQ+qMb0QwDwI5moB9/LwPAKposq3LQAcDajpZMy6UBwA==\",\"dtype\":\"float64\",\"order\":\"little\",\"shape\":[50]},\"principal component 2\":{\"__ndarray__\":\"XO9787ku4D/vF8lWE/nkv3HYpqjuYdS/DCSQjGlp4r/N0afLsZflP7W+IZP5S/g/NSSoGooWsz9ueXQ10LHPP8oIOjG4hfG/iE6pnFa23L9jMKXTKCHxPym/qP2XTMQ/oqo3kBix5r+DiXLvZwbuv9CryBtaPf4/jrWrfGrHBUBajF03Ujj4PzD+/04udeA/7Uk0V9Tl9j8kpZIPTofyP2DAlsG9jNs/1fKSxId67j87u+o4P1TfPw7WDBwFVLs/Su1BJITCxD+0YRod23Pjv2aqjuRgBtE/aIxIfx6q4T/TGaA2hIvVP1lBWpX4JtS/QgayRej43r8Clx54QH/cP7JxJTRvQf0/wLJwma57AUCITqmcVrbcvyLn16FhmMe/p+VDvSnr5T+ITqmcVrbcv3HEP1q7Ouy/bkSP1gm80j9OwmaGk/PdP3x/28YcnwLAne8l3FML3b9fssu+Q9XfP+reGJkvvvI/9owv2S8k5r9RqsG4/WjyP9GttwhpMde/c+6vZGBo8D+t7UmWeoGgPw==\",\"dtype\":\"float64\",\"order\":\"little\",\"shape\":[50]},\"principal_component_1\":{\"__ndarray__\":\"OhG/DcgdAsCdflXa/7AAwC0tSgGQ8QLAqnjV6/5uAsB8OOBfNxwDwLAJAJp1kADA6FhZG9GQA8C2vPx66N4BwLbvZ05UvALA4NUzb2iCAcDFACQK0k4BwH2PWzp4ngLAakHW4evKAcBuYBiPIx4FwN9kYiHQiQHA7MLFMQADAsDBicmkO58BwNHnRqd8hQHAELKL2CBO/r9tMd43N7gCwDUu6+IFov6/J3pNIB2jAcAhHszufzEGwHCyHOBnIP2/cG9EsmPTAcBkStBn+E//v+YJWiugagDAzhcE6nVYAcDy6Z27WB8BwCANM3l7JgLA3OURJwwoAcCvCNRTnk/9v3WUD3eZ3QTAxoxIYeyAA8Dg1TNvaIIBwATB4qBfsAHAqAtPDPdaAMDg1TNvaIIBwJvdMoLUfAPAUiP02UddAcA54QHLzkoCwFtzDEaD8v2/XPlj5HF2BMD1iQQfsG3/v/eHnMYlEQHAnu7lFFWaAMDQ+qMb0QwDwI5moB9/LwPAKposq3LQAcDajpZMy6UBwA==\",\"dtype\":\"float64\",\"order\":\"little\",\"shape\":[50]},\"principal_component_2\":{\"__ndarray__\":\"XO9787ku4D/vF8lWE/nkv3HYpqjuYdS/DCSQjGlp4r/N0afLsZflP7W+IZP5S/g/NSSoGooWsz9ueXQ10LHPP8oIOjG4hfG/iE6pnFa23L9jMKXTKCHxPym/qP2XTMQ/oqo3kBix5r+DiXLvZwbuv9CryBtaPf4/jrWrfGrHBUBajF03Ujj4PzD+/04udeA/7Uk0V9Tl9j8kpZIPTofyP2DAlsG9jNs/1fKSxId67j87u+o4P1TfPw7WDBwFVLs/Su1BJITCxD+0YRod23Pjv2aqjuRgBtE/aIxIfx6q4T/TGaA2hIvVP1lBWpX4JtS/QgayRej43r8Clx54QH/cP7JxJTRvQf0/wLJwma57AUCITqmcVrbcvyLn16FhmMe/p+VDvSnr5T+ITqmcVrbcv3HEP1q7Ouy/bkSP1gm80j9OwmaGk/PdP3x/28YcnwLAne8l3FML3b9fssu+Q9XfP+reGJkvvvI/9owv2S8k5r9RqsG4/WjyP9GttwhpMde/c+6vZGBo8D+t7UmWeoGgPw==\",\"dtype\":\"float64\",\"order\":\"little\",\"shape\":[50]}},\"selected\":{\"id\":\"1162\"},\"selection_policy\":{\"id\":\"1176\"}},\"id\":\"1161\",\"type\":\"ColumnDataSource\"},{\"attributes\":{},\"id\":\"1181\",\"type\":\"Selection\"},{\"attributes\":{\"margin\":[5,5,5,5],\"name\":\"HSpacer01757\",\"sizing_mode\":\"stretch_width\"},\"id\":\"1309\",\"type\":\"Spacer\"},{\"attributes\":{\"fill_color\":{\"value\":\"#2ba02b\"},\"line_color\":{\"value\":\"#2ba02b\"},\"size\":{\"units\":\"screen\",\"value\":5.477225575051661},\"x\":{\"field\":\"principal component 1\"},\"y\":{\"field\":\"principal component 2\"}},\"id\":\"1183\",\"type\":\"Scatter\"},{\"attributes\":{},\"id\":\"1119\",\"type\":\"BasicTicker\"},{\"attributes\":{},\"id\":\"1123\",\"type\":\"BasicTicker\"},{\"attributes\":{\"label\":{\"value\":\"2\"},\"renderers\":[{\"id\":\"1186\"}]},\"id\":\"1200\",\"type\":\"LegendItem\"},{\"attributes\":{},\"id\":\"1144\",\"type\":\"Selection\"},{\"attributes\":{\"align\":null,\"below\":[{\"id\":\"1118\"}],\"center\":[{\"id\":\"1121\"},{\"id\":\"1125\"}],\"left\":[{\"id\":\"1122\"}],\"margin\":null,\"min_border_bottom\":10,\"min_border_left\":10,\"min_border_right\":10,\"min_border_top\":10,\"plot_height\":300,\"plot_width\":700,\"renderers\":[{\"id\":\"1149\"},{\"id\":\"1167\"},{\"id\":\"1186\"}],\"right\":[{\"id\":\"1159\"}],\"sizing_mode\":\"fixed\",\"title\":{\"id\":\"1110\"},\"toolbar\":{\"id\":\"1132\"},\"x_range\":{\"id\":\"1104\"},\"x_scale\":{\"id\":\"1114\"},\"y_range\":{\"id\":\"1105\"},\"y_scale\":{\"id\":\"1116\"}},\"id\":\"1109\",\"subtype\":\"Figure\",\"type\":\"Plot\"},{\"attributes\":{\"source\":{\"id\":\"1180\"}},\"id\":\"1187\",\"type\":\"CDSView\"},{\"attributes\":{},\"id\":\"1140\",\"type\":\"BasicTickFormatter\"},{\"attributes\":{\"fill_alpha\":{\"value\":0.2},\"fill_color\":{\"value\":\"#1f77b3\"},\"line_alpha\":{\"value\":0.2},\"line_color\":{\"value\":\"#1f77b3\"},\"size\":{\"units\":\"screen\",\"value\":5.477225575051661},\"x\":{\"field\":\"principal component 1\"},\"y\":{\"field\":\"principal component 2\"}},\"id\":\"1148\",\"type\":\"Scatter\"},{\"attributes\":{},\"id\":\"1142\",\"type\":\"BasicTickFormatter\"},{\"attributes\":{\"fill_color\":{\"value\":\"#1f77b3\"},\"line_color\":{\"value\":\"#1f77b3\"},\"size\":{\"units\":\"screen\",\"value\":5.477225575051661},\"x\":{\"field\":\"principal component 1\"},\"y\":{\"field\":\"principal component 2\"}},\"id\":\"1146\",\"type\":\"Scatter\"},{\"attributes\":{\"end\":3.5698545102352734,\"reset_end\":3.5698545102352734,\"reset_start\":-3.0348831212643517,\"start\":-3.0348831212643517,\"tags\":[[[\"principal component 1\",\"principal component 1\",null]]]},\"id\":\"1104\",\"type\":\"Range1d\"},{\"attributes\":{\"active_drag\":\"auto\",\"active_inspect\":\"auto\",\"active_multi\":null,\"active_scroll\":\"auto\",\"active_tap\":\"auto\",\"tools\":[{\"id\":\"1106\"},{\"id\":\"1126\"},{\"id\":\"1127\"},{\"id\":\"1128\"},{\"id\":\"1129\"},{\"id\":\"1130\"}]},\"id\":\"1132\",\"type\":\"Toolbar\"},{\"attributes\":{\"fill_alpha\":{\"value\":0.1},\"fill_color\":{\"value\":\"#2ba02b\"},\"line_alpha\":{\"value\":0.1},\"line_color\":{\"value\":\"#2ba02b\"},\"size\":{\"units\":\"screen\",\"value\":5.477225575051661},\"x\":{\"field\":\"principal component 1\"},\"y\":{\"field\":\"principal component 2\"}},\"id\":\"1184\",\"type\":\"Scatter\"},{\"attributes\":{},\"id\":\"1116\",\"type\":\"LinearScale\"},{\"attributes\":{\"fill_alpha\":{\"value\":0.1},\"fill_color\":{\"value\":\"#ff7e0e\"},\"line_alpha\":{\"value\":0.1},\"line_color\":{\"value\":\"#ff7e0e\"},\"size\":{\"units\":\"screen\",\"value\":5.477225575051661},\"x\":{\"field\":\"principal component 1\"},\"y\":{\"field\":\"principal component 2\"}},\"id\":\"1165\",\"type\":\"Scatter\"},{\"attributes\":{\"source\":{\"id\":\"1161\"}},\"id\":\"1168\",\"type\":\"CDSView\"},{\"attributes\":{\"end\":3.2604144520280904,\"reset_end\":3.2604144520280904,\"reset_start\":-3.1961060534153822,\"start\":-3.1961060534153822,\"tags\":[[[\"principal component 2\",\"principal component 2\",null]]]},\"id\":\"1105\",\"type\":\"Range1d\"},{\"attributes\":{\"source\":{\"id\":\"1143\"}},\"id\":\"1150\",\"type\":\"CDSView\"},{\"attributes\":{\"text\":\"\",\"text_color\":{\"value\":\"black\"},\"text_font_size\":{\"value\":\"12pt\"}},\"id\":\"1110\",\"type\":\"Title\"},{\"attributes\":{\"data_source\":{\"id\":\"1143\"},\"glyph\":{\"id\":\"1146\"},\"hover_glyph\":null,\"muted_glyph\":{\"id\":\"1148\"},\"nonselection_glyph\":{\"id\":\"1147\"},\"selection_glyph\":null,\"view\":{\"id\":\"1150\"}},\"id\":\"1149\",\"type\":\"GlyphRenderer\"},{\"attributes\":{\"axis_label\":\"principal component 1\",\"bounds\":\"auto\",\"formatter\":{\"id\":\"1140\"},\"major_label_orientation\":\"horizontal\",\"ticker\":{\"id\":\"1119\"}},\"id\":\"1118\",\"type\":\"LinearAxis\"},{\"attributes\":{\"fill_alpha\":{\"value\":0.2},\"fill_color\":{\"value\":\"#ff7e0e\"},\"line_alpha\":{\"value\":0.2},\"line_color\":{\"value\":\"#ff7e0e\"},\"size\":{\"units\":\"screen\",\"value\":5.477225575051661},\"x\":{\"field\":\"principal component 1\"},\"y\":{\"field\":\"principal component 2\"}},\"id\":\"1166\",\"type\":\"Scatter\"},{\"attributes\":{\"data\":{\"class\":{\"__ndarray__\":\"AAAAAAAAAAAAAAAAAAAAAAAAAAAAAAAAAAAAAAAAAAAAAAAAAAAAAAAAAAAAAAAAAAAAAAAAAAAAAAAAAAAAAAAAAAAAAAAAAAAAAAAAAAAAAAAAAAAAAAAAAAAAAAAAAAAAAAAAAAAAAAAAAAAAAAAAAAAAAAAAAAAAAAAAAAAAAAAAAAAAAAAAAAAAAAAAAAAAAAAAAAAAAAAAAAAAAAAAAAAAAAAAAAAAAAAAAAAAAAAAAAAAAAAAAAA=\",\"dtype\":\"int32\",\"order\":\"little\",\"shape\":[47]},\"principal component 1\":{\"__ndarray__\":\"bZicP/Wp8T/kdLjqfHDnP0RUdjeu3/M/i32nUXn15z90t9eWSwfsPwTqCkTLn+c/XokX1wP06z/nYaNJSxH0PxFwyrRZu/U/XyqW1lWi2z+fboqoZcrwP2FoZCMRkP0/WqOtkJqmAUCtkwP82gT3P8Cof1zh4v0/bUK5SJgIBkDiZzhbjmwCQPIm68uNAwBAHk9oqvMjAkBqi3vYw9r1P6gQOb/Elfk/Na6UReUl/j8V0QQIDXj5P3cdkBhdivc/PfYnSsB/A0AthisDH3kKQJPn9rPvUgBAMi4taDwvB0A+qLnnkUT7P6EJnj3aUv8/HdLu7wVR8D+a2hYHfpP8P3kbVl0h1v0/hfhsDuZ7A0AttjE3VocCQGctB9QUxP0/iU42KVhoBkCx+a/eUEj5P+3OTXR+jfU/NwUQICao/T8MDMQGFyEAQLNqwqkqc/4/Nw5TGLJYAEC3eb2NdgMAQOrgNY2o7f0/9YJComFV+D8M9OTEsgX2Pw==\",\"dtype\":\"float64\",\"order\":\"little\",\"shape\":[47]},\"principal component 2\":{\"__ndarray__\":\"0nb2/Z2e6z8YPDfKBSjjP9TNPSGgrOM/sV+rWRnr6D9eOXqk51HgP5JBqiETwtk/WJ7yIJwL0D8ViLBClya1vz0teShkC9U/Dgg+Gkhd6z+7k6QJ17XgP4Isy2Xw5Os/B8TpFji+4T93lDOr+pqpv/NEGSLnotI/nAetLdY66T9MO0mDhTXaP6uQnq/nKee/u42XATu+/j8yoQKF0jTmP2N9L85taNu/aqdDi22E2j8xfGgVRqrlPzU3rDJONNA/fTlsMT10BEDPjaQTDFhjvz50hSJpCe0/YZKR42l12T+QWt+y8znwP5qAK36oDfA/dqj7cmzHsD/avEvBKb3Iv43kXX2vxeE/xl7ipF+Szz8h4TWwbAIFQISBO1NYo8e/RCs1XS0I6z+kj2oE2yjxPx38A+M9Bts/uaTAq3yE5T/X+zteX4jjP9t2Ilnq8+U/uSJfoH+r6z87eOdp3MbwP/ZDMiongNg/ettvjSkT0T8eLdG5BEPwPw==\",\"dtype\":\"float64\",\"order\":\"little\",\"shape\":[47]},\"principal_component_1\":{\"__ndarray__\":\"bZicP/Wp8T/kdLjqfHDnP0RUdjeu3/M/i32nUXn15z90t9eWSwfsPwTqCkTLn+c/XokX1wP06z/nYaNJSxH0PxFwyrRZu/U/XyqW1lWi2z+fboqoZcrwP2FoZCMRkP0/WqOtkJqmAUCtkwP82gT3P8Cof1zh4v0/bUK5SJgIBkDiZzhbjmwCQPIm68uNAwBAHk9oqvMjAkBqi3vYw9r1P6gQOb/Elfk/Na6UReUl/j8V0QQIDXj5P3cdkBhdivc/PfYnSsB/A0AthisDH3kKQJPn9rPvUgBAMi4taDwvB0A+qLnnkUT7P6EJnj3aUv8/HdLu7wVR8D+a2hYHfpP8P3kbVl0h1v0/hfhsDuZ7A0AttjE3VocCQGctB9QUxP0/iU42KVhoBkCx+a/eUEj5P+3OTXR+jfU/NwUQICao/T8MDMQGFyEAQLNqwqkqc/4/Nw5TGLJYAEC3eb2NdgMAQOrgNY2o7f0/9YJComFV+D8M9OTEsgX2Pw==\",\"dtype\":\"float64\",\"order\":\"little\",\"shape\":[47]},\"principal_component_2\":{\"__ndarray__\":\"0nb2/Z2e6z8YPDfKBSjjP9TNPSGgrOM/sV+rWRnr6D9eOXqk51HgP5JBqiETwtk/WJ7yIJwL0D8ViLBClya1vz0teShkC9U/Dgg+Gkhd6z+7k6QJ17XgP4Isy2Xw5Os/B8TpFji+4T93lDOr+pqpv/NEGSLnotI/nAetLdY66T9MO0mDhTXaP6uQnq/nKee/u42XATu+/j8yoQKF0jTmP2N9L85taNu/aqdDi22E2j8xfGgVRqrlPzU3rDJONNA/fTlsMT10BEDPjaQTDFhjvz50hSJpCe0/YZKR42l12T+QWt+y8znwP5qAK36oDfA/dqj7cmzHsD/avEvBKb3Iv43kXX2vxeE/xl7ipF+Szz8h4TWwbAIFQISBO1NYo8e/RCs1XS0I6z+kj2oE2yjxPx38A+M9Bts/uaTAq3yE5T/X+zteX4jjP9t2Ilnq8+U/uSJfoH+r6z87eOdp3MbwP/ZDMiongNg/ettvjSkT0T8eLdG5BEPwPw==\",\"dtype\":\"float64\",\"order\":\"little\",\"shape\":[47]}},\"selected\":{\"id\":\"1144\"},\"selection_policy\":{\"id\":\"1156\"}},\"id\":\"1143\",\"type\":\"ColumnDataSource\"},{\"attributes\":{\"data\":{\"class\":{\"__ndarray__\":\"AgAAAAIAAAACAAAAAgAAAAIAAAACAAAAAgAAAAIAAAACAAAAAgAAAAIAAAACAAAAAgAAAAIAAAACAAAAAgAAAAIAAAACAAAAAgAAAAIAAAACAAAAAgAAAAIAAAACAAAAAgAAAAIAAAACAAAAAgAAAAIAAAACAAAAAgAAAAIAAAACAAAAAgAAAAIAAAACAAAAAgAAAAIAAAACAAAAAgAAAAIAAAACAAAAAgAAAAIAAAACAAAAAgAAAAIAAAACAAAAAgAAAAIAAAACAAAAAgAAAAIAAAA=\",\"dtype\":\"int32\",\"order\":\"little\",\"shape\":[53]},\"principal component 1\":{\"__ndarray__\":\"fRWMhntt2T9FnJZFWCnxP2iBHlf2mtg/4/4dZv7c379pGywXnaPtP0DDkDZaWXQ/zN2FPizsv7+tz+h8JxTcP1JNsk78puE/NkUqJwTz5j+gz63ghxOjv5pu06S8RdY/3bIv7V2iwz9j6iTH4XHzPyzYZACmFsQ/Uq1SDE473j8OyjX41qXzP4gxy7fjI+Q/FtCK7kVq5j8chVUnIzDlP9cb1FJINai/Sz98rN0cvz9FkFg5BOqMPxff6GWaNc4/Dc1ZRTXo8D+ysJMoZVfMP8ybvwf1kvA/vV4TnFcrsT93NwN1kKDRP8l9yQ7wbdE/oo3+VwPx4z+x3kvRzh7VP7zEFNWD6de/1iTllsIb0j81X21EL8y2PwIkQhu5t8w/8ARG5kBd4j/ZjFDrsj/dv+CA0gDGJNA/3l8IKHdz8j8Aokp+m+/WP1r35HGkDPQ/GuKIxsts9z/6RPpdThD0P41itwdQKu8/8oqkmmBE9T9gfP3wHsDyP932a9zEx/E/JzazatUo8z+WvvFQw4ztP95fCCh3c/I/RdVbMZXv+D842SvtkrLuPw==\",\"dtype\":\"float64\",\"order\":\"little\",\"shape\":[53]},\"principal component 2\":{\"__ndarray__\":\"jc0hw3Uh/L+GAFcJ4hrLv+wVlNb76eK/XpSza/eU/b8KjGFUCw+fP+XLA01tePC/8YKEXbZDBcCk9gYTsCWuv0bNqHx+XPy/z3stxk+8x78qLLY26rLbvwG+JkVKZsi/kInUeJ9N6b9g5T6HOSL6v7pAi9CC2fS/swipiLWp2r9Cr8dW+Rvuv+HFU70Krdq/DjfCViNBsL9aGdg+X7fMv2YFEZBX6vC/aMJ8cXkE+b9p1i92nSz5vz6ekB1e1Oi/Ci0SzX5h5L90bj2aaPnRv7mLs++KR/a/gMdo/yc3y787ZwsN7Ub1vyMJ/oM76fG/98Ud1SI0nD9k68QlE6Xvv83C5Ku5JADAnks7dJBT67+ijkY+Z2PGv0j2R1TcWdi/fzq1mhitw7+y+86JpaH4v6J6HI5KEeO/RwhbdkNx5r85lg29Jfb4v48xaImirfK/pK9g7els3L9NKnQyOXv7vz/NWXwPR+K/QGwdsBUn37/B2YlbzWjUv/iTgLFv8dK/Rq/b9jwm6r+AAFtSILGTP0cIW3ZDcea/vFrVOlT47L8hCiw2mtGWvw==\",\"dtype\":\"float64\",\"order\":\"little\",\"shape\":[53]},\"principal_component_1\":{\"__ndarray__\":\"fRWMhntt2T9FnJZFWCnxP2iBHlf2mtg/4/4dZv7c379pGywXnaPtP0DDkDZaWXQ/zN2FPizsv7+tz+h8JxTcP1JNsk78puE/NkUqJwTz5j+gz63ghxOjv5pu06S8RdY/3bIv7V2iwz9j6iTH4XHzPyzYZACmFsQ/Uq1SDE473j8OyjX41qXzP4gxy7fjI+Q/FtCK7kVq5j8chVUnIzDlP9cb1FJINai/Sz98rN0cvz9FkFg5BOqMPxff6GWaNc4/Dc1ZRTXo8D+ysJMoZVfMP8ybvwf1kvA/vV4TnFcrsT93NwN1kKDRP8l9yQ7wbdE/oo3+VwPx4z+x3kvRzh7VP7zEFNWD6de/1iTllsIb0j81X21EL8y2PwIkQhu5t8w/8ARG5kBd4j/ZjFDrsj/dv+CA0gDGJNA/3l8IKHdz8j8Aokp+m+/WP1r35HGkDPQ/GuKIxsts9z/6RPpdThD0P41itwdQKu8/8oqkmmBE9T9gfP3wHsDyP932a9zEx/E/JzazatUo8z+WvvFQw4ztP95fCCh3c/I/RdVbMZXv+D842SvtkrLuPw==\",\"dtype\":\"float64\",\"order\":\"little\",\"shape\":[53]},\"principal_component_2\":{\"__ndarray__\":\"jc0hw3Uh/L+GAFcJ4hrLv+wVlNb76eK/XpSza/eU/b8KjGFUCw+fP+XLA01tePC/8YKEXbZDBcCk9gYTsCWuv0bNqHx+XPy/z3stxk+8x78qLLY26rLbvwG+JkVKZsi/kInUeJ9N6b9g5T6HOSL6v7pAi9CC2fS/swipiLWp2r9Cr8dW+Rvuv+HFU70Krdq/DjfCViNBsL9aGdg+X7fMv2YFEZBX6vC/aMJ8cXkE+b9p1i92nSz5vz6ekB1e1Oi/Ci0SzX5h5L90bj2aaPnRv7mLs++KR/a/gMdo/yc3y787ZwsN7Ub1vyMJ/oM76fG/98Ud1SI0nD9k68QlE6Xvv83C5Ku5JADAnks7dJBT67+ijkY+Z2PGv0j2R1TcWdi/fzq1mhitw7+y+86JpaH4v6J6HI5KEeO/RwhbdkNx5r85lg29Jfb4v48xaImirfK/pK9g7els3L9NKnQyOXv7vz/NWXwPR+K/QGwdsBUn37/B2YlbzWjUv/iTgLFv8dK/Rq/b9jwm6r+AAFtSILGTP0cIW3ZDcea/vFrVOlT47L8hCiw2mtGWvw==\",\"dtype\":\"float64\",\"order\":\"little\",\"shape\":[53]}},\"selected\":{\"id\":\"1181\"},\"selection_policy\":{\"id\":\"1197\"}},\"id\":\"1180\",\"type\":\"ColumnDataSource\"},{\"attributes\":{},\"id\":\"1126\",\"type\":\"SaveTool\"},{\"attributes\":{\"label\":{\"value\":\"1\"},\"renderers\":[{\"id\":\"1167\"}]},\"id\":\"1179\",\"type\":\"LegendItem\"},{\"attributes\":{},\"id\":\"1127\",\"type\":\"PanTool\"},{\"attributes\":{\"label\":{\"value\":\"0\"},\"renderers\":[{\"id\":\"1149\"}]},\"id\":\"1160\",\"type\":\"LegendItem\"},{\"attributes\":{},\"id\":\"1176\",\"type\":\"UnionRenderers\"},{\"attributes\":{},\"id\":\"1114\",\"type\":\"LinearScale\"},{\"attributes\":{\"callback\":null,\"renderers\":[{\"id\":\"1149\"},{\"id\":\"1167\"},{\"id\":\"1186\"}],\"tags\":[\"hv_created\"],\"tooltips\":[[\"class\",\"@{class}\"],[\"principal component 1\",\"@{principal_component_1}\"],[\"principal component 2\",\"@{principal_component_2}\"]]},\"id\":\"1106\",\"type\":\"HoverTool\"},{\"attributes\":{},\"id\":\"1130\",\"type\":\"ResetTool\"},{\"attributes\":{\"fill_alpha\":{\"value\":0.2},\"fill_color\":{\"value\":\"#2ba02b\"},\"line_alpha\":{\"value\":0.2},\"line_color\":{\"value\":\"#2ba02b\"},\"size\":{\"units\":\"screen\",\"value\":5.477225575051661},\"x\":{\"field\":\"principal component 1\"},\"y\":{\"field\":\"principal component 2\"}},\"id\":\"1185\",\"type\":\"Scatter\"},{\"attributes\":{\"data_source\":{\"id\":\"1180\"},\"glyph\":{\"id\":\"1183\"},\"hover_glyph\":null,\"muted_glyph\":{\"id\":\"1185\"},\"nonselection_glyph\":{\"id\":\"1184\"},\"selection_glyph\":null,\"view\":{\"id\":\"1187\"}},\"id\":\"1186\",\"type\":\"GlyphRenderer\"}],\"root_ids\":[\"1102\"]},\"title\":\"Bokeh Application\",\"version\":\"2.1.0\"}};\n  var render_items = [{\"docid\":\"fee09900-0b16-4797-b49e-e87b22f885da\",\"root_ids\":[\"1102\"],\"roots\":{\"1102\":\"425f1957-6d70-401f-b3b7-61d7a84d3348\"}}];\n  root.Bokeh.embed.embed_items_notebook(docs_json, render_items);\n  }\nif (root.Bokeh !== undefined) {\n    embed_document(root);\n  } else {\n    var attempts = 0;\n    var timer = setInterval(function(root) {\n      if (root.Bokeh !== undefined) {\n        clearInterval(timer);\n        embed_document(root);\n      } else if (document.readyState == \"complete\") {\n        attempts++;\n        if (attempts > 100) {\n          clearInterval(timer);\n          console.log(\"Bokeh: ERROR: Unable to run BokehJS code because BokehJS library is missing\");\n        }\n      }\n    }, 10, root)\n  }\n})(window);</script>",
      "application/vnd.holoviews_exec.v0+json": "",
      "text/plain": ":NdOverlay   [class]\n   :Scatter   [principal component 1]   (principal component 2,class)"
     },
     "metadata": {
      "application/vnd.holoviews_exec.v0+json": {
       "id": "1102"
      }
     },
     "execution_count": 13
    }
   ],
   "source": [
    "#plot the clusters\n",
    "irisPcaDf.hvplot.scatter(x=\"principal component 1\", y=\"principal component 2\", hover_cols=[\"class\"], by=\"class\")"
   ]
  },
  {
   "cell_type": "code",
   "execution_count": null,
   "metadata": {},
   "outputs": [],
   "source": []
  }
 ]
}